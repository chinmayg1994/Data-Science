{
  "nbformat": 4,
  "nbformat_minor": 0,
  "metadata": {
    "colab": {
      "name": "RL_1/Stochastic.ipynb",
      "provenance": [],
      "collapsed_sections": []
    },
    "kernelspec": {
      "name": "python3",
      "display_name": "Python 3"
    },
    "language_info": {
      "name": "python"
    }
  },
  "cells": [
    {
      "cell_type": "code",
      "metadata": {
        "colab": {
          "base_uri": "https://localhost:8080/"
        },
        "id": "OMm55_zX1aoO",
        "outputId": "d2d4d1e9-ab30-4aa1-a4ee-07dc2d29e2cf"
      },
      "source": [
        "\n",
        "#Importing gym environment\n",
        "! pip install gym"
      ],
      "execution_count": null,
      "outputs": [
        {
          "output_type": "stream",
          "name": "stdout",
          "text": [
            "Requirement already satisfied: gym in /usr/local/lib/python3.7/dist-packages (0.17.3)\n",
            "Requirement already satisfied: pyglet<=1.5.0,>=1.4.0 in /usr/local/lib/python3.7/dist-packages (from gym) (1.5.0)\n",
            "Requirement already satisfied: cloudpickle<1.7.0,>=1.2.0 in /usr/local/lib/python3.7/dist-packages (from gym) (1.3.0)\n",
            "Requirement already satisfied: scipy in /usr/local/lib/python3.7/dist-packages (from gym) (1.4.1)\n",
            "Requirement already satisfied: numpy>=1.10.4 in /usr/local/lib/python3.7/dist-packages (from gym) (1.19.5)\n",
            "Requirement already satisfied: future in /usr/local/lib/python3.7/dist-packages (from pyglet<=1.5.0,>=1.4.0->gym) (0.16.0)\n"
          ]
        }
      ]
    },
    {
      "cell_type": "code",
      "metadata": {
        "id": "uL8v8PyP1hPw"
      },
      "source": [
        "#Importing all the required libraries\n",
        "import numpy as np\n",
        "import matplotlib.pyplot as plt\n",
        "import gym\n",
        "from gym import spaces\n",
        "import time"
      ],
      "execution_count": null,
      "outputs": []
    },
    {
      "cell_type": "code",
      "metadata": {
        "colab": {
          "base_uri": "https://localhost:8080/",
          "height": 283
        },
        "id": "w4UK7AUz1i-V",
        "outputId": "96c35b6a-9c44-4c50-ccde-e2d33b948aea"
      },
      "source": [
        "#Defining grid and start & terminal positions\n",
        "grid  =  np.zeros((10,10))\n",
        "start_pos = [0,0]\n",
        "terminal_pos = [9, 9]\n",
        "grid[tuple(terminal_pos)] = 4\n",
        "grid[tuple(start_pos)] = 2\n",
        "agent_pos = [0,0]\n",
        "plt.imshow(grid)"
      ],
      "execution_count": null,
      "outputs": [
        {
          "output_type": "execute_result",
          "data": {
            "text/plain": [
              "<matplotlib.image.AxesImage at 0x7fb91b5e08d0>"
            ]
          },
          "metadata": {},
          "execution_count": 41
        },
        {
          "output_type": "display_data",
          "data": {
            "image/png": "[encoded data removed]",
            "text/plain": [
              "<Figure size 432x288 with 1 Axes>"
            ]
          },
          "metadata": {
            "needs_background": "light"
          }
        }
      ]
    },
    {
      "cell_type": "code",
      "metadata": {
        "id": "g82kG_dc1loT"
      },
      "source": [
        "#Creating class \n",
        "class Gridworld (gym.Env):\n",
        "  def __init__(self):\n",
        "    self.action_space = spaces.Discrete(4)\n",
        "    self.observation_space = spaces.Discrete(100)\n",
        "    self.max_timesteps = 100\n",
        "\n",
        "  def step(self, action):\n",
        "#Defining all the possible actions\n",
        "    if action == 0:\n",
        "      self.agent_pos[0] += 1\n",
        "    if action == 1:\n",
        "      self.agent_pos[0] -= 1\n",
        "    if action == 2:\n",
        "      self.agent_pos[1] += 1\n",
        "    if action == 3:\n",
        "      self.agent_pos[1] -= 1\n",
        "    if action == 4:\n",
        "      self.agent_pos[1] += 1 \n",
        "      self.agent_pos[0] += 1\n",
        "    self.agent_pos = np.clip(self.agent_pos, 0, 9) \n",
        "    self.state = np.zeros((10,10))\n",
        "#Defining the start and end positions for agent along with reward and penalty positions\n",
        "#Assigning colors to agent position, terminal position, rewards and penalties\n",
        "    self.state[tuple(self.agent_pos)] = 1\n",
        "    self.state[tuple(self.terminal_pos)] = 0.5 \n",
        "    self.state[tuple(self.reward_pos_1)] = 0.2\n",
        "    self.state[tuple(self.reward_pos_2)] = 0.3\n",
        "    self.state[tuple(self.reward_pos_3)] = 0.4\n",
        "    self.state[tuple(self.penalty_pos_1)] = 0.7\n",
        "    self.state[tuple(self.penalty_pos_2)] = 0.7\n",
        "    self.reward_pos_1 = [9,4]\n",
        "    self.reward_pos_2 = [4,4]\n",
        "    self.reward_pos_3 = [6,8]\n",
        "    self.penalty_pos_1 = [7,4]\n",
        "    self.penalty_pos_2 = [7,5]\n",
        "#Putting on the condition of number of time-steps on all the rewards and defining the reward values\n",
        "    if (self.agent_pos == [6,8]).all():\n",
        "      if (self.timesteps <= 35):\n",
        "        self.reward += 5\n",
        "    if (self.agent_pos == [9,4]).all():\n",
        "      if (self.timesteps <= 30):\n",
        "        self.reward += 5\n",
        "    if (self.agent_pos == [4,4]).all():\n",
        "      if (self.timesteps  <= 15):\n",
        "        self.reward += 2\n",
        "#Assigning the time-step penalty if penalty squares are visited\n",
        "    if (np.array(self.agent_pos) == np.array([7,4])).all() or (np.array(self.agent_pos) == np.array([7,5])).all():\n",
        "      while self.trap <= 10 :\n",
        "        self.trap += 10\n",
        "        self.timesteps +=10\n",
        "#Defining and assigning terminal state reward   \n",
        "    if (self.agent_pos == self.terminal_pos).all():\n",
        "      self.reward += 10\n",
        "    self.timesteps += 1\n",
        "    self.count += 1\n",
        "#Defined the logic for movement of criminals with 20% chance of moving\n",
        "    if (self.count % 3 == 0):\n",
        "      prob_move = np.random.uniform(0,1)\n",
        "      chance_move =  np.random.uniform(0,1)\n",
        "      if chance_move > 0.8 :\n",
        "        if prob_move > 0.5 :\n",
        "          self.reward_pos_1[1] -= 1\n",
        "        else :\n",
        "          self.reward_pos_1[1] += 1\n",
        "    if (self.count % 2 == 0):\n",
        "      prob_move = np.random.uniform(0,1)\n",
        "      chance_move =  np.random.uniform(0,1)\n",
        "      if chance_move > 0.8 :\n",
        "        if prob_move > 0.5 :\n",
        "          self.reward_pos_2[0] -= 1\n",
        "        else :\n",
        "          self.reward_pos_2[0] += 1\n",
        "\n",
        "\n",
        "\n",
        "    return self.reward,self.agent_pos,self.count\n",
        "\n",
        "  def render(self):\n",
        "    plt.imshow(self.state)\n",
        "  def reset(self):\n",
        "    self.timesteps = 0\n",
        "    self.agent_pos = [0, 0]\n",
        "    self.reward_pos_3 = [6,8]\n",
        "    self.reward_pos_1 = [9,4]\n",
        "    self.reward_pos_2 = [4,4]\n",
        "    self.penalty_pos_1 = [7,4]\n",
        "    self.penalty_pos_2 = [7,5]\n",
        "    self.terminal_pos = [9,9]\n",
        "    self.state = np.zeros((10,10))\n",
        "    self.state[tuple(self.agent_pos)] = 1\n",
        "    self.state[tuple(self.terminal_pos)] = 0.5 \n",
        "    self.state[tuple(self.reward_pos_1)] = 0.2\n",
        "    self.state[tuple(self.reward_pos_2)] = 0.3\n",
        "    self.state[tuple(self.reward_pos_3)] = 0.4\n",
        "    self.state[tuple(self.penalty_pos_1)] = 0.7\n",
        "    self.state[tuple(self.penalty_pos_2)] = 0.7\n",
        "    observation = self.state.flatten()\n",
        "    self.reward = 0\n",
        "    self.count = 0\n",
        "    self.trap = 0\n",
        "\n",
        "    return observation\n"
      ],
      "execution_count": null,
      "outputs": []
    },
    {
      "cell_type": "code",
      "metadata": {
        "colab": {
          "base_uri": "https://localhost:8080/",
          "height": 265
        },
        "id": "JryRLJ4aPuji",
        "outputId": "6a21530e-5020-4f3b-9ca1-0d3a01c7b812"
      },
      "source": [
        "env = Gridworld()\n",
        "obs = env.reset()\n",
        "env.render()\n"
      ],
      "execution_count": null,
      "outputs": [
        {
          "output_type": "display_data",
          "data": {
            "image/png": "[encoded data removed]",
            "text/plain": [
              "<Figure size 432x288 with 1 Axes>"
            ]
          },
          "metadata": {
            "needs_background": "light"
          }
        }
      ]
    },
    {
      "cell_type": "code",
      "metadata": {
        "colab": {
          "base_uri": "https://localhost:8080/",
          "height": 304
        },
        "id": "1aBxj5CsPya4",
        "outputId": "6afa023e-2cfa-4a54-8521-402d40a932c2"
      },
      "source": [
        "from google.colab import widgets\n",
        "output_grid = widgets.Grid(1,1)\n",
        "#Running the code for maximum time-steps\n",
        "for i in range(100):\n",
        "  action = np.random.randint(0,5)\n",
        "  grid = np.zeros((10,10))\n",
        "  reward,position,count  = env.step(action)\n",
        "  with output_grid.output_to(0,0):\n",
        "    output_grid.clear_cell()\n",
        "    env.render()\n",
        "  time.sleep(0.5)\n",
        "  if (position == terminal_pos).all():\n",
        "    break \n",
        "print(env.timesteps)\n",
        "print(reward)"
      ],
      "execution_count": null,
      "outputs": [
        {
          "output_type": "display_data",
          "data": {
            "text/html": [
              "<style>\n",
              "       table#id30, #id30 > tbody > tr > th, #id30 > tbody > tr > td {\n",
              "         border: 1px solid lightgray;\n",
              "         border-collapse:collapse;\n",
              "         \n",
              "        }</style>"
            ],
            "text/plain": [
              "<IPython.core.display.HTML object>"
            ]
          },
          "metadata": {}
        },
        {
          "output_type": "display_data",
          "data": {
            "text/html": [
              "<table id=id30><tr><td id=id30-0-0></td></tr></table>"
            ],
            "text/plain": [
              "<IPython.core.display.HTML object>"
            ]
          },
          "metadata": {}
        },
        {
          "output_type": "display_data",
          "data": {
            "application/javascript": [
              "window[\"823a123a-1981-11ec-b638-0242ac1c0002\"] = google.colab.output.getActiveOutputArea();\n",
              "//# sourceURL=js_2ac4cba633"
            ],
            "text/plain": [
              "<IPython.core.display.Javascript object>"
            ]
          },
          "metadata": {}
        },
        {
          "output_type": "display_data",
          "data": {
            "application/javascript": [
              "window[\"823a75c2-1981-11ec-b638-0242ac1c0002\"] = document.querySelector(\"#id30-0-0\");\n",
              "//# sourceURL=js_538b766e43"
            ],
            "text/plain": [
              "<IPython.core.display.Javascript object>"
            ]
          },
          "metadata": {}
        },
        {
          "output_type": "display_data",
          "data": {
            "application/javascript": [
              "window[\"823b2774-1981-11ec-b638-0242ac1c0002\"] = google.colab.output.setActiveOutputArea(window[\"823a75c2-1981-11ec-b638-0242ac1c0002\"]);\n",
              "//# sourceURL=js_cc4bac6bbf"
            ],
            "text/plain": [
              "<IPython.core.display.Javascript object>"
            ]
          },
          "metadata": {}
        },
        {
          "output_type": "display_data",
          "data": {
            "application/javascript": [
              "window[\"82574a62-1981-11ec-b638-0242ac1c0002\"] = google.colab.output.setActiveOutputArea(window[\"823a123a-1981-11ec-b638-0242ac1c0002\"]);\n",
              "//# sourceURL=js_486d791efd"
            ],
            "text/plain": [
              "<IPython.core.display.Javascript object>"
            ]
          },
          "metadata": {}
        },
        {
          "output_type": "display_data",
          "data": {
            "application/javascript": [
              "window[\"82a6466c-1981-11ec-b638-0242ac1c0002\"] = google.colab.output.getActiveOutputArea();\n",
              "//# sourceURL=js_a3508c1feb"
            ],
            "text/plain": [
              "<IPython.core.display.Javascript object>"
            ]
          },
          "metadata": {}
        },
        {
          "output_type": "display_data",
          "data": {
            "application/javascript": [
              "window[\"82a6b778-1981-11ec-b638-0242ac1c0002\"] = document.querySelector(\"#id30-0-0\");\n",
              "//# sourceURL=js_f039b84940"
            ],
            "text/plain": [
              "<IPython.core.display.Javascript object>"
            ]
          },
          "metadata": {}
        },
        {
          "output_type": "display_data",
          "data": {
            "application/javascript": [
              "window[\"82a71d3a-1981-11ec-b638-0242ac1c0002\"] = google.colab.output.setActiveOutputArea(window[\"82a6b778-1981-11ec-b638-0242ac1c0002\"]);\n",
              "//# sourceURL=js_d31003a2d4"
            ],
            "text/plain": [
              "<IPython.core.display.Javascript object>"
            ]
          },
          "metadata": {}
        },
        {
          "output_type": "display_data",
          "data": {
            "application/javascript": [
              "window[\"82c29a38-1981-11ec-b638-0242ac1c0002\"] = google.colab.output.setActiveOutputArea(window[\"82a6466c-1981-11ec-b638-0242ac1c0002\"]);\n",
              "//# sourceURL=js_6c153d541f"
            ],
            "text/plain": [
              "<IPython.core.display.Javascript object>"
            ]
          },
          "metadata": {}
        },
        {
          "output_type": "display_data",
          "data": {
            "application/javascript": [
              "window[\"83115fce-1981-11ec-b638-0242ac1c0002\"] = google.colab.output.getActiveOutputArea();\n",
              "//# sourceURL=js_936fe23fa4"
            ],
            "text/plain": [
              "<IPython.core.display.Javascript object>"
            ]
          },
          "metadata": {}
        },
        {
          "output_type": "display_data",
          "data": {
            "application/javascript": [
              "window[\"8311e192-1981-11ec-b638-0242ac1c0002\"] = document.querySelector(\"#id30-0-0\");\n",
              "//# sourceURL=js_e762d6df96"
            ],
            "text/plain": [
              "<IPython.core.display.Javascript object>"
            ]
          },
          "metadata": {}
        },
        {
          "output_type": "display_data",
          "data": {
            "application/javascript": [
              "window[\"83124998-1981-11ec-b638-0242ac1c0002\"] = google.colab.output.setActiveOutputArea(window[\"8311e192-1981-11ec-b638-0242ac1c0002\"]);\n",
              "//# sourceURL=js_4c62ef4847"
            ],
            "text/plain": [
              "<IPython.core.display.Javascript object>"
            ]
          },
          "metadata": {}
        },
        {
          "output_type": "display_data",
          "data": {
            "application/javascript": [
              "window[\"832e1b78-1981-11ec-b638-0242ac1c0002\"] = google.colab.output.setActiveOutputArea(window[\"83115fce-1981-11ec-b638-0242ac1c0002\"]);\n",
              "//# sourceURL=js_c8cb9933c7"
            ],
            "text/plain": [
              "<IPython.core.display.Javascript object>"
            ]
          },
          "metadata": {}
        },
        {
          "output_type": "display_data",
          "data": {
            "application/javascript": [
              "window[\"837cbd0a-1981-11ec-b638-0242ac1c0002\"] = google.colab.output.getActiveOutputArea();\n",
              "//# sourceURL=js_e8f45a2d11"
            ],
            "text/plain": [
              "<IPython.core.display.Javascript object>"
            ]
          },
          "metadata": {}
        },
        {
          "output_type": "display_data",
          "data": {
            "application/javascript": [
              "window[\"837d4766-1981-11ec-b638-0242ac1c0002\"] = document.querySelector(\"#id30-0-0\");\n",
              "//# sourceURL=js_777e80dca6"
            ],
            "text/plain": [
              "<IPython.core.display.Javascript object>"
            ]
          },
          "metadata": {}
        },
        {
          "output_type": "display_data",
          "data": {
            "application/javascript": [
              "window[\"837dc5ec-1981-11ec-b638-0242ac1c0002\"] = google.colab.output.setActiveOutputArea(window[\"837d4766-1981-11ec-b638-0242ac1c0002\"]);\n",
              "//# sourceURL=js_b0c0bee33c"
            ],
            "text/plain": [
              "<IPython.core.display.Javascript object>"
            ]
          },
          "metadata": {}
        },
        {
          "output_type": "display_data",
          "data": {
            "application/javascript": [
              "window[\"839700e8-1981-11ec-b638-0242ac1c0002\"] = google.colab.output.setActiveOutputArea(window[\"837cbd0a-1981-11ec-b638-0242ac1c0002\"]);\n",
              "//# sourceURL=js_709936e0c7"
            ],
            "text/plain": [
              "<IPython.core.display.Javascript object>"
            ]
          },
          "metadata": {}
        },
        {
          "output_type": "display_data",
          "data": {
            "application/javascript": [
              "window[\"83e5dccc-1981-11ec-b638-0242ac1c0002\"] = google.colab.output.getActiveOutputArea();\n",
              "//# sourceURL=js_e9e0d22848"
            ],
            "text/plain": [
              "<IPython.core.display.Javascript object>"
            ]
          },
          "metadata": {}
        },
        {
          "output_type": "display_data",
          "data": {
            "application/javascript": [
              "window[\"83e64e78-1981-11ec-b638-0242ac1c0002\"] = document.querySelector(\"#id30-0-0\");\n",
              "//# sourceURL=js_a1e500061b"
            ],
            "text/plain": [
              "<IPython.core.display.Javascript object>"
            ]
          },
          "metadata": {}
        },
        {
          "output_type": "display_data",
          "data": {
            "application/javascript": [
              "window[\"83e6b746-1981-11ec-b638-0242ac1c0002\"] = google.colab.output.setActiveOutputArea(window[\"83e64e78-1981-11ec-b638-0242ac1c0002\"]);\n",
              "//# sourceURL=js_0ab028ce8d"
            ],
            "text/plain": [
              "<IPython.core.display.Javascript object>"
            ]
          },
          "metadata": {}
        },
        {
          "output_type": "display_data",
          "data": {
            "application/javascript": [
              "window[\"83fdad52-1981-11ec-b638-0242ac1c0002\"] = google.colab.output.setActiveOutputArea(window[\"83e5dccc-1981-11ec-b638-0242ac1c0002\"]);\n",
              "//# sourceURL=js_a83db32cda"
            ],
            "text/plain": [
              "<IPython.core.display.Javascript object>"
            ]
          },
          "metadata": {}
        },
        {
          "output_type": "display_data",
          "data": {
            "application/javascript": [
              "window[\"844c196a-1981-11ec-b638-0242ac1c0002\"] = google.colab.output.getActiveOutputArea();\n",
              "//# sourceURL=js_ac340f1e66"
            ],
            "text/plain": [
              "<IPython.core.display.Javascript object>"
            ]
          },
          "metadata": {}
        },
        {
          "output_type": "display_data",
          "data": {
            "application/javascript": [
              "window[\"844c7bee-1981-11ec-b638-0242ac1c0002\"] = document.querySelector(\"#id30-0-0\");\n",
              "//# sourceURL=js_72a9ee27b7"
            ],
            "text/plain": [
              "<IPython.core.display.Javascript object>"
            ]
          },
          "metadata": {}
        },
        {
          "output_type": "display_data",
          "data": {
            "application/javascript": [
              "window[\"844d2e9a-1981-11ec-b638-0242ac1c0002\"] = google.colab.output.setActiveOutputArea(window[\"844c7bee-1981-11ec-b638-0242ac1c0002\"]);\n",
              "//# sourceURL=js_2c8500e9f9"
            ],
            "text/plain": [
              "<IPython.core.display.Javascript object>"
            ]
          },
          "metadata": {}
        },
        {
          "output_type": "display_data",
          "data": {
            "application/javascript": [
              "window[\"8463d438-1981-11ec-b638-0242ac1c0002\"] = google.colab.output.setActiveOutputArea(window[\"844c196a-1981-11ec-b638-0242ac1c0002\"]);\n",
              "//# sourceURL=js_e89e8b2531"
            ],
            "text/plain": [
              "<IPython.core.display.Javascript object>"
            ]
          },
          "metadata": {}
        },
        {
          "output_type": "display_data",
          "data": {
            "application/javascript": [
              "window[\"84b26b52-1981-11ec-b638-0242ac1c0002\"] = google.colab.output.getActiveOutputArea();\n",
              "//# sourceURL=js_c2008ea7fe"
            ],
            "text/plain": [
              "<IPython.core.display.Javascript object>"
            ]
          },
          "metadata": {}
        },
        {
          "output_type": "display_data",
          "data": {
            "application/javascript": [
              "window[\"84b45f7a-1981-11ec-b638-0242ac1c0002\"] = document.querySelector(\"#id30-0-0\");\n",
              "//# sourceURL=js_93c8790fc6"
            ],
            "text/plain": [
              "<IPython.core.display.Javascript object>"
            ]
          },
          "metadata": {}
        },
        {
          "output_type": "display_data",
          "data": {
            "application/javascript": [
              "window[\"84b50ea2-1981-11ec-b638-0242ac1c0002\"] = google.colab.output.setActiveOutputArea(window[\"84b45f7a-1981-11ec-b638-0242ac1c0002\"]);\n",
              "//# sourceURL=js_6b5a9cb497"
            ],
            "text/plain": [
              "<IPython.core.display.Javascript object>"
            ]
          },
          "metadata": {}
        },
        {
          "output_type": "display_data",
          "data": {
            "application/javascript": [
              "window[\"84d08614-1981-11ec-b638-0242ac1c0002\"] = google.colab.output.setActiveOutputArea(window[\"84b26b52-1981-11ec-b638-0242ac1c0002\"]);\n",
              "//# sourceURL=js_42d5a87b31"
            ],
            "text/plain": [
              "<IPython.core.display.Javascript object>"
            ]
          },
          "metadata": {}
        },
        {
          "output_type": "display_data",
          "data": {
            "application/javascript": [
              "window[\"851f7440-1981-11ec-b638-0242ac1c0002\"] = google.colab.output.getActiveOutputArea();\n",
              "//# sourceURL=js_5d7f6d43f3"
            ],
            "text/plain": [
              "<IPython.core.display.Javascript object>"
            ]
          },
          "metadata": {}
        },
        {
          "output_type": "display_data",
          "data": {
            "application/javascript": [
              "window[\"852032cc-1981-11ec-b638-0242ac1c0002\"] = document.querySelector(\"#id30-0-0\");\n",
              "//# sourceURL=js_708b4eb1ca"
            ],
            "text/plain": [
              "<IPython.core.display.Javascript object>"
            ]
          },
          "metadata": {}
        },
        {
          "output_type": "display_data",
          "data": {
            "application/javascript": [
              "window[\"8520e3b6-1981-11ec-b638-0242ac1c0002\"] = google.colab.output.setActiveOutputArea(window[\"852032cc-1981-11ec-b638-0242ac1c0002\"]);\n",
              "//# sourceURL=js_e65b90797b"
            ],
            "text/plain": [
              "<IPython.core.display.Javascript object>"
            ]
          },
          "metadata": {}
        },
        {
          "output_type": "display_data",
          "data": {
            "application/javascript": [
              "window[\"85396864-1981-11ec-b638-0242ac1c0002\"] = google.colab.output.setActiveOutputArea(window[\"851f7440-1981-11ec-b638-0242ac1c0002\"]);\n",
              "//# sourceURL=js_3d40c40e62"
            ],
            "text/plain": [
              "<IPython.core.display.Javascript object>"
            ]
          },
          "metadata": {}
        },
        {
          "output_type": "display_data",
          "data": {
            "application/javascript": [
              "window[\"85882f58-1981-11ec-b638-0242ac1c0002\"] = google.colab.output.getActiveOutputArea();\n",
              "//# sourceURL=js_c0f0b0149e"
            ],
            "text/plain": [
              "<IPython.core.display.Javascript object>"
            ]
          },
          "metadata": {}
        },
        {
          "output_type": "display_data",
          "data": {
            "application/javascript": [
              "window[\"8589a5d6-1981-11ec-b638-0242ac1c0002\"] = document.querySelector(\"#id30-0-0\");\n",
              "//# sourceURL=js_944c0e7262"
            ],
            "text/plain": [
              "<IPython.core.display.Javascript object>"
            ]
          },
          "metadata": {}
        },
        {
          "output_type": "display_data",
          "data": {
            "application/javascript": [
              "window[\"858a28c6-1981-11ec-b638-0242ac1c0002\"] = google.colab.output.setActiveOutputArea(window[\"8589a5d6-1981-11ec-b638-0242ac1c0002\"]);\n",
              "//# sourceURL=js_087d2c9fbf"
            ],
            "text/plain": [
              "<IPython.core.display.Javascript object>"
            ]
          },
          "metadata": {}
        },
        {
          "output_type": "display_data",
          "data": {
            "application/javascript": [
              "window[\"85a33d98-1981-11ec-b638-0242ac1c0002\"] = google.colab.output.setActiveOutputArea(window[\"85882f58-1981-11ec-b638-0242ac1c0002\"]);\n",
              "//# sourceURL=js_255cc34379"
            ],
            "text/plain": [
              "<IPython.core.display.Javascript object>"
            ]
          },
          "metadata": {}
        },
        {
          "output_type": "display_data",
          "data": {
            "application/javascript": [
              "window[\"85f4de28-1981-11ec-b638-0242ac1c0002\"] = google.colab.output.getActiveOutputArea();\n",
              "//# sourceURL=js_c48b927f78"
            ],
            "text/plain": [
              "<IPython.core.display.Javascript object>"
            ]
          },
          "metadata": {}
        },
        {
          "output_type": "display_data",
          "data": {
            "application/javascript": [
              "window[\"85f5c96e-1981-11ec-b638-0242ac1c0002\"] = document.querySelector(\"#id30-0-0\");\n",
              "//# sourceURL=js_ad0fc7cd16"
            ],
            "text/plain": [
              "<IPython.core.display.Javascript object>"
            ]
          },
          "metadata": {}
        },
        {
          "output_type": "display_data",
          "data": {
            "application/javascript": [
              "window[\"85f7162a-1981-11ec-b638-0242ac1c0002\"] = google.colab.output.setActiveOutputArea(window[\"85f5c96e-1981-11ec-b638-0242ac1c0002\"]);\n",
              "//# sourceURL=js_3e5dade0f6"
            ],
            "text/plain": [
              "<IPython.core.display.Javascript object>"
            ]
          },
          "metadata": {}
        },
        {
          "output_type": "display_data",
          "data": {
            "application/javascript": [
              "window[\"861286f8-1981-11ec-b638-0242ac1c0002\"] = google.colab.output.setActiveOutputArea(window[\"85f4de28-1981-11ec-b638-0242ac1c0002\"]);\n",
              "//# sourceURL=js_02fedc3b69"
            ],
            "text/plain": [
              "<IPython.core.display.Javascript object>"
            ]
          },
          "metadata": {}
        },
        {
          "output_type": "display_data",
          "data": {
            "application/javascript": [
              "window[\"86615bfc-1981-11ec-b638-0242ac1c0002\"] = google.colab.output.getActiveOutputArea();\n",
              "//# sourceURL=js_9d7651537d"
            ],
            "text/plain": [
              "<IPython.core.display.Javascript object>"
            ]
          },
          "metadata": {}
        },
        {
          "output_type": "display_data",
          "data": {
            "application/javascript": [
              "window[\"8661e61c-1981-11ec-b638-0242ac1c0002\"] = document.querySelector(\"#id30-0-0\");\n",
              "//# sourceURL=js_51713d9d24"
            ],
            "text/plain": [
              "<IPython.core.display.Javascript object>"
            ]
          },
          "metadata": {}
        },
        {
          "output_type": "display_data",
          "data": {
            "application/javascript": [
              "window[\"86625bec-1981-11ec-b638-0242ac1c0002\"] = google.colab.output.setActiveOutputArea(window[\"8661e61c-1981-11ec-b638-0242ac1c0002\"]);\n",
              "//# sourceURL=js_f4e838f1b2"
            ],
            "text/plain": [
              "<IPython.core.display.Javascript object>"
            ]
          },
          "metadata": {}
        },
        {
          "output_type": "display_data",
          "data": {
            "application/javascript": [
              "window[\"867a3320-1981-11ec-b638-0242ac1c0002\"] = google.colab.output.setActiveOutputArea(window[\"86615bfc-1981-11ec-b638-0242ac1c0002\"]);\n",
              "//# sourceURL=js_7aa78025f2"
            ],
            "text/plain": [
              "<IPython.core.display.Javascript object>"
            ]
          },
          "metadata": {}
        },
        {
          "output_type": "display_data",
          "data": {
            "application/javascript": [
              "window[\"86cb3cac-1981-11ec-b638-0242ac1c0002\"] = google.colab.output.getActiveOutputArea();\n",
              "//# sourceURL=js_56bbedbdf9"
            ],
            "text/plain": [
              "<IPython.core.display.Javascript object>"
            ]
          },
          "metadata": {}
        },
        {
          "output_type": "display_data",
          "data": {
            "application/javascript": [
              "window[\"86cbc780-1981-11ec-b638-0242ac1c0002\"] = document.querySelector(\"#id30-0-0\");\n",
              "//# sourceURL=js_e91e5f034d"
            ],
            "text/plain": [
              "<IPython.core.display.Javascript object>"
            ]
          },
          "metadata": {}
        },
        {
          "output_type": "display_data",
          "data": {
            "application/javascript": [
              "window[\"86cc9cdc-1981-11ec-b638-0242ac1c0002\"] = google.colab.output.setActiveOutputArea(window[\"86cbc780-1981-11ec-b638-0242ac1c0002\"]);\n",
              "//# sourceURL=js_93d98050d6"
            ],
            "text/plain": [
              "<IPython.core.display.Javascript object>"
            ]
          },
          "metadata": {}
        },
        {
          "output_type": "display_data",
          "data": {
            "application/javascript": [
              "window[\"86e55b5a-1981-11ec-b638-0242ac1c0002\"] = google.colab.output.setActiveOutputArea(window[\"86cb3cac-1981-11ec-b638-0242ac1c0002\"]);\n",
              "//# sourceURL=js_421a28530e"
            ],
            "text/plain": [
              "<IPython.core.display.Javascript object>"
            ]
          },
          "metadata": {}
        },
        {
          "output_type": "display_data",
          "data": {
            "application/javascript": [
              "window[\"8734044e-1981-11ec-b638-0242ac1c0002\"] = google.colab.output.getActiveOutputArea();\n",
              "//# sourceURL=js_27800f4571"
            ],
            "text/plain": [
              "<IPython.core.display.Javascript object>"
            ]
          },
          "metadata": {}
        },
        {
          "output_type": "display_data",
          "data": {
            "application/javascript": [
              "window[\"8734b024-1981-11ec-b638-0242ac1c0002\"] = document.querySelector(\"#id30-0-0\");\n",
              "//# sourceURL=js_10bd5216cf"
            ],
            "text/plain": [
              "<IPython.core.display.Javascript object>"
            ]
          },
          "metadata": {}
        },
        {
          "output_type": "display_data",
          "data": {
            "application/javascript": [
              "window[\"87351442-1981-11ec-b638-0242ac1c0002\"] = google.colab.output.setActiveOutputArea(window[\"8734b024-1981-11ec-b638-0242ac1c0002\"]);\n",
              "//# sourceURL=js_ef687b4f4f"
            ],
            "text/plain": [
              "<IPython.core.display.Javascript object>"
            ]
          },
          "metadata": {}
        },
        {
          "output_type": "display_data",
          "data": {
            "application/javascript": [
              "window[\"874d5020-1981-11ec-b638-0242ac1c0002\"] = google.colab.output.setActiveOutputArea(window[\"8734044e-1981-11ec-b638-0242ac1c0002\"]);\n",
              "//# sourceURL=js_95f035320a"
            ],
            "text/plain": [
              "<IPython.core.display.Javascript object>"
            ]
          },
          "metadata": {}
        },
        {
          "output_type": "display_data",
          "data": {
            "application/javascript": [
              "window[\"879c4cc0-1981-11ec-b638-0242ac1c0002\"] = google.colab.output.getActiveOutputArea();\n",
              "//# sourceURL=js_94a5d51148"
            ],
            "text/plain": [
              "<IPython.core.display.Javascript object>"
            ]
          },
          "metadata": {}
        },
        {
          "output_type": "display_data",
          "data": {
            "application/javascript": [
              "window[\"879cd99c-1981-11ec-b638-0242ac1c0002\"] = document.querySelector(\"#id30-0-0\");\n",
              "//# sourceURL=js_18c157f5eb"
            ],
            "text/plain": [
              "<IPython.core.display.Javascript object>"
            ]
          },
          "metadata": {}
        },
        {
          "output_type": "display_data",
          "data": {
            "application/javascript": [
              "window[\"879d6ce0-1981-11ec-b638-0242ac1c0002\"] = google.colab.output.setActiveOutputArea(window[\"879cd99c-1981-11ec-b638-0242ac1c0002\"]);\n",
              "//# sourceURL=js_036d6e3dd8"
            ],
            "text/plain": [
              "<IPython.core.display.Javascript object>"
            ]
          },
          "metadata": {}
        },
        {
          "output_type": "display_data",
          "data": {
            "application/javascript": [
              "window[\"87b657fa-1981-11ec-b638-0242ac1c0002\"] = google.colab.output.setActiveOutputArea(window[\"879c4cc0-1981-11ec-b638-0242ac1c0002\"]);\n",
              "//# sourceURL=js_78f8bb2774"
            ],
            "text/plain": [
              "<IPython.core.display.Javascript object>"
            ]
          },
          "metadata": {}
        },
        {
          "output_type": "display_data",
          "data": {
            "application/javascript": [
              "window[\"8807228e-1981-11ec-b638-0242ac1c0002\"] = google.colab.output.getActiveOutputArea();\n",
              "//# sourceURL=js_ba15363a27"
            ],
            "text/plain": [
              "<IPython.core.display.Javascript object>"
            ]
          },
          "metadata": {}
        },
        {
          "output_type": "display_data",
          "data": {
            "application/javascript": [
              "window[\"8807ae7a-1981-11ec-b638-0242ac1c0002\"] = document.querySelector(\"#id30-0-0\");\n",
              "//# sourceURL=js_e77427b9ae"
            ],
            "text/plain": [
              "<IPython.core.display.Javascript object>"
            ]
          },
          "metadata": {}
        },
        {
          "output_type": "display_data",
          "data": {
            "application/javascript": [
              "window[\"88086892-1981-11ec-b638-0242ac1c0002\"] = google.colab.output.setActiveOutputArea(window[\"8807ae7a-1981-11ec-b638-0242ac1c0002\"]);\n",
              "//# sourceURL=js_f60e6c2118"
            ],
            "text/plain": [
              "<IPython.core.display.Javascript object>"
            ]
          },
          "metadata": {}
        },
        {
          "output_type": "display_data",
          "data": {
            "application/javascript": [
              "window[\"883c812c-1981-11ec-b638-0242ac1c0002\"] = google.colab.output.setActiveOutputArea(window[\"8807228e-1981-11ec-b638-0242ac1c0002\"]);\n",
              "//# sourceURL=js_93b1ced044"
            ],
            "text/plain": [
              "<IPython.core.display.Javascript object>"
            ]
          },
          "metadata": {}
        },
        {
          "output_type": "display_data",
          "data": {
            "application/javascript": [
              "window[\"888e4f98-1981-11ec-b638-0242ac1c0002\"] = google.colab.output.getActiveOutputArea();\n",
              "//# sourceURL=js_77d07c2969"
            ],
            "text/plain": [
              "<IPython.core.display.Javascript object>"
            ]
          },
          "metadata": {}
        },
        {
          "output_type": "display_data",
          "data": {
            "application/javascript": [
              "window[\"888f47d6-1981-11ec-b638-0242ac1c0002\"] = document.querySelector(\"#id30-0-0\");\n",
              "//# sourceURL=js_896dca89c8"
            ],
            "text/plain": [
              "<IPython.core.display.Javascript object>"
            ]
          },
          "metadata": {}
        },
        {
          "output_type": "display_data",
          "data": {
            "application/javascript": [
              "window[\"88904564-1981-11ec-b638-0242ac1c0002\"] = google.colab.output.setActiveOutputArea(window[\"888f47d6-1981-11ec-b638-0242ac1c0002\"]);\n",
              "//# sourceURL=js_4e38020108"
            ],
            "text/plain": [
              "<IPython.core.display.Javascript object>"
            ]
          },
          "metadata": {}
        },
        {
          "output_type": "display_data",
          "data": {
            "application/javascript": [
              "window[\"88aa4e00-1981-11ec-b638-0242ac1c0002\"] = google.colab.output.setActiveOutputArea(window[\"888e4f98-1981-11ec-b638-0242ac1c0002\"]);\n",
              "//# sourceURL=js_23f8651f33"
            ],
            "text/plain": [
              "<IPython.core.display.Javascript object>"
            ]
          },
          "metadata": {}
        },
        {
          "output_type": "display_data",
          "data": {
            "application/javascript": [
              "window[\"88fc2bf8-1981-11ec-b638-0242ac1c0002\"] = google.colab.output.getActiveOutputArea();\n",
              "//# sourceURL=js_6982630598"
            ],
            "text/plain": [
              "<IPython.core.display.Javascript object>"
            ]
          },
          "metadata": {}
        },
        {
          "output_type": "display_data",
          "data": {
            "application/javascript": [
              "window[\"88fdc92c-1981-11ec-b638-0242ac1c0002\"] = document.querySelector(\"#id30-0-0\");\n",
              "//# sourceURL=js_1f8b9c2b31"
            ],
            "text/plain": [
              "<IPython.core.display.Javascript object>"
            ]
          },
          "metadata": {}
        },
        {
          "output_type": "display_data",
          "data": {
            "application/javascript": [
              "window[\"88fe3e0c-1981-11ec-b638-0242ac1c0002\"] = google.colab.output.setActiveOutputArea(window[\"88fdc92c-1981-11ec-b638-0242ac1c0002\"]);\n",
              "//# sourceURL=js_27504c9795"
            ],
            "text/plain": [
              "<IPython.core.display.Javascript object>"
            ]
          },
          "metadata": {}
        },
        {
          "output_type": "display_data",
          "data": {
            "application/javascript": [
              "window[\"8919109c-1981-11ec-b638-0242ac1c0002\"] = google.colab.output.setActiveOutputArea(window[\"88fc2bf8-1981-11ec-b638-0242ac1c0002\"]);\n",
              "//# sourceURL=js_2ea1fcce70"
            ],
            "text/plain": [
              "<IPython.core.display.Javascript object>"
            ]
          },
          "metadata": {}
        },
        {
          "output_type": "display_data",
          "data": {
            "application/javascript": [
              "window[\"896a7aea-1981-11ec-b638-0242ac1c0002\"] = google.colab.output.getActiveOutputArea();\n",
              "//# sourceURL=js_d657bfbbed"
            ],
            "text/plain": [
              "<IPython.core.display.Javascript object>"
            ]
          },
          "metadata": {}
        },
        {
          "output_type": "display_data",
          "data": {
            "application/javascript": [
              "window[\"896b8a84-1981-11ec-b638-0242ac1c0002\"] = document.querySelector(\"#id30-0-0\");\n",
              "//# sourceURL=js_ab92ffaac6"
            ],
            "text/plain": [
              "<IPython.core.display.Javascript object>"
            ]
          },
          "metadata": {}
        },
        {
          "output_type": "display_data",
          "data": {
            "application/javascript": [
              "window[\"896c653a-1981-11ec-b638-0242ac1c0002\"] = google.colab.output.setActiveOutputArea(window[\"896b8a84-1981-11ec-b638-0242ac1c0002\"]);\n",
              "//# sourceURL=js_c874c1e566"
            ],
            "text/plain": [
              "<IPython.core.display.Javascript object>"
            ]
          },
          "metadata": {}
        },
        {
          "output_type": "display_data",
          "data": {
            "application/javascript": [
              "window[\"898a1616-1981-11ec-b638-0242ac1c0002\"] = google.colab.output.setActiveOutputArea(window[\"896a7aea-1981-11ec-b638-0242ac1c0002\"]);\n",
              "//# sourceURL=js_e5811ff911"
            ],
            "text/plain": [
              "<IPython.core.display.Javascript object>"
            ]
          },
          "metadata": {}
        },
        {
          "output_type": "display_data",
          "data": {
            "application/javascript": [
              "window[\"89db2704-1981-11ec-b638-0242ac1c0002\"] = google.colab.output.getActiveOutputArea();\n",
              "//# sourceURL=js_77ced2d5ff"
            ],
            "text/plain": [
              "<IPython.core.display.Javascript object>"
            ]
          },
          "metadata": {}
        },
        {
          "output_type": "display_data",
          "data": {
            "application/javascript": [
              "window[\"89db8faa-1981-11ec-b638-0242ac1c0002\"] = document.querySelector(\"#id30-0-0\");\n",
              "//# sourceURL=js_057b3a7b0d"
            ],
            "text/plain": [
              "<IPython.core.display.Javascript object>"
            ]
          },
          "metadata": {}
        },
        {
          "output_type": "display_data",
          "data": {
            "application/javascript": [
              "window[\"89dc4198-1981-11ec-b638-0242ac1c0002\"] = google.colab.output.setActiveOutputArea(window[\"89db8faa-1981-11ec-b638-0242ac1c0002\"]);\n",
              "//# sourceURL=js_5a316d0a64"
            ],
            "text/plain": [
              "<IPython.core.display.Javascript object>"
            ]
          },
          "metadata": {}
        },
        {
          "output_type": "display_data",
          "data": {
            "application/javascript": [
              "window[\"89f6c3b0-1981-11ec-b638-0242ac1c0002\"] = google.colab.output.setActiveOutputArea(window[\"89db2704-1981-11ec-b638-0242ac1c0002\"]);\n",
              "//# sourceURL=js_398db6da2c"
            ],
            "text/plain": [
              "<IPython.core.display.Javascript object>"
            ]
          },
          "metadata": {}
        },
        {
          "output_type": "display_data",
          "data": {
            "application/javascript": [
              "window[\"8a45ffac-1981-11ec-b638-0242ac1c0002\"] = google.colab.output.getActiveOutputArea();\n",
              "//# sourceURL=js_30d141ea09"
            ],
            "text/plain": [
              "<IPython.core.display.Javascript object>"
            ]
          },
          "metadata": {}
        },
        {
          "output_type": "display_data",
          "data": {
            "application/javascript": [
              "window[\"8a46a402-1981-11ec-b638-0242ac1c0002\"] = document.querySelector(\"#id30-0-0\");\n",
              "//# sourceURL=js_f722f9d80c"
            ],
            "text/plain": [
              "<IPython.core.display.Javascript object>"
            ]
          },
          "metadata": {}
        },
        {
          "output_type": "display_data",
          "data": {
            "application/javascript": [
              "window[\"8a477206-1981-11ec-b638-0242ac1c0002\"] = google.colab.output.setActiveOutputArea(window[\"8a46a402-1981-11ec-b638-0242ac1c0002\"]);\n",
              "//# sourceURL=js_2d5fa2a207"
            ],
            "text/plain": [
              "<IPython.core.display.Javascript object>"
            ]
          },
          "metadata": {}
        },
        {
          "output_type": "display_data",
          "data": {
            "application/javascript": [
              "window[\"8a64254a-1981-11ec-b638-0242ac1c0002\"] = google.colab.output.setActiveOutputArea(window[\"8a45ffac-1981-11ec-b638-0242ac1c0002\"]);\n",
              "//# sourceURL=js_bd145d0b7e"
            ],
            "text/plain": [
              "<IPython.core.display.Javascript object>"
            ]
          },
          "metadata": {}
        },
        {
          "output_type": "display_data",
          "data": {
            "application/javascript": [
              "window[\"8ab344c2-1981-11ec-b638-0242ac1c0002\"] = google.colab.output.getActiveOutputArea();\n",
              "//# sourceURL=js_b7a6e89921"
            ],
            "text/plain": [
              "<IPython.core.display.Javascript object>"
            ]
          },
          "metadata": {}
        },
        {
          "output_type": "display_data",
          "data": {
            "application/javascript": [
              "window[\"8ab3ad5e-1981-11ec-b638-0242ac1c0002\"] = document.querySelector(\"#id30-0-0\");\n",
              "//# sourceURL=js_848607512b"
            ],
            "text/plain": [
              "<IPython.core.display.Javascript object>"
            ]
          },
          "metadata": {}
        },
        {
          "output_type": "display_data",
          "data": {
            "application/javascript": [
              "window[\"8ab43ea4-1981-11ec-b638-0242ac1c0002\"] = google.colab.output.setActiveOutputArea(window[\"8ab3ad5e-1981-11ec-b638-0242ac1c0002\"]);\n",
              "//# sourceURL=js_f17e2eb230"
            ],
            "text/plain": [
              "<IPython.core.display.Javascript object>"
            ]
          },
          "metadata": {}
        },
        {
          "output_type": "display_data",
          "data": {
            "application/javascript": [
              "window[\"8ad3af28-1981-11ec-b638-0242ac1c0002\"] = google.colab.output.setActiveOutputArea(window[\"8ab344c2-1981-11ec-b638-0242ac1c0002\"]);\n",
              "//# sourceURL=js_2c5f8a4e52"
            ],
            "text/plain": [
              "<IPython.core.display.Javascript object>"
            ]
          },
          "metadata": {}
        },
        {
          "output_type": "display_data",
          "data": {
            "application/javascript": [
              "window[\"8b239ea2-1981-11ec-b638-0242ac1c0002\"] = google.colab.output.getActiveOutputArea();\n",
              "//# sourceURL=js_bf51e8ab75"
            ],
            "text/plain": [
              "<IPython.core.display.Javascript object>"
            ]
          },
          "metadata": {}
        },
        {
          "output_type": "display_data",
          "data": {
            "application/javascript": [
              "window[\"8b245248-1981-11ec-b638-0242ac1c0002\"] = document.querySelector(\"#id30-0-0\");\n",
              "//# sourceURL=js_ab71d59cbe"
            ],
            "text/plain": [
              "<IPython.core.display.Javascript object>"
            ]
          },
          "metadata": {}
        },
        {
          "output_type": "display_data",
          "data": {
            "application/javascript": [
              "window[\"8b24c3e0-1981-11ec-b638-0242ac1c0002\"] = google.colab.output.setActiveOutputArea(window[\"8b245248-1981-11ec-b638-0242ac1c0002\"]);\n",
              "//# sourceURL=js_b2e623fa25"
            ],
            "text/plain": [
              "<IPython.core.display.Javascript object>"
            ]
          },
          "metadata": {}
        },
        {
          "output_type": "display_data",
          "data": {
            "application/javascript": [
              "window[\"8b3fcc6c-1981-11ec-b638-0242ac1c0002\"] = google.colab.output.setActiveOutputArea(window[\"8b239ea2-1981-11ec-b638-0242ac1c0002\"]);\n",
              "//# sourceURL=js_6d517eee26"
            ],
            "text/plain": [
              "<IPython.core.display.Javascript object>"
            ]
          },
          "metadata": {}
        },
        {
          "output_type": "display_data",
          "data": {
            "application/javascript": [
              "window[\"8b8e95cc-1981-11ec-b638-0242ac1c0002\"] = google.colab.output.getActiveOutputArea();\n",
              "//# sourceURL=js_8ae1c533f2"
            ],
            "text/plain": [
              "<IPython.core.display.Javascript object>"
            ]
          },
          "metadata": {}
        },
        {
          "output_type": "display_data",
          "data": {
            "application/javascript": [
              "window[\"8b8f0624-1981-11ec-b638-0242ac1c0002\"] = document.querySelector(\"#id30-0-0\");\n",
              "//# sourceURL=js_a79fd5080e"
            ],
            "text/plain": [
              "<IPython.core.display.Javascript object>"
            ]
          },
          "metadata": {}
        },
        {
          "output_type": "display_data",
          "data": {
            "application/javascript": [
              "window[\"8b8f760e-1981-11ec-b638-0242ac1c0002\"] = google.colab.output.setActiveOutputArea(window[\"8b8f0624-1981-11ec-b638-0242ac1c0002\"]);\n",
              "//# sourceURL=js_3c9a21a368"
            ],
            "text/plain": [
              "<IPython.core.display.Javascript object>"
            ]
          },
          "metadata": {}
        },
        {
          "output_type": "display_data",
          "data": {
            "application/javascript": [
              "window[\"8ba71b56-1981-11ec-b638-0242ac1c0002\"] = google.colab.output.setActiveOutputArea(window[\"8b8e95cc-1981-11ec-b638-0242ac1c0002\"]);\n",
              "//# sourceURL=js_c0b40d6c4f"
            ],
            "text/plain": [
              "<IPython.core.display.Javascript object>"
            ]
          },
          "metadata": {}
        },
        {
          "output_type": "display_data",
          "data": {
            "application/javascript": [
              "window[\"8bf57ed6-1981-11ec-b638-0242ac1c0002\"] = google.colab.output.getActiveOutputArea();\n",
              "//# sourceURL=js_7922cfeec6"
            ],
            "text/plain": [
              "<IPython.core.display.Javascript object>"
            ]
          },
          "metadata": {}
        },
        {
          "output_type": "display_data",
          "data": {
            "application/javascript": [
              "window[\"8bf5f7f8-1981-11ec-b638-0242ac1c0002\"] = document.querySelector(\"#id30-0-0\");\n",
              "//# sourceURL=js_610cda9d14"
            ],
            "text/plain": [
              "<IPython.core.display.Javascript object>"
            ]
          },
          "metadata": {}
        },
        {
          "output_type": "display_data",
          "data": {
            "application/javascript": [
              "window[\"8bf7a832-1981-11ec-b638-0242ac1c0002\"] = google.colab.output.setActiveOutputArea(window[\"8bf5f7f8-1981-11ec-b638-0242ac1c0002\"]);\n",
              "//# sourceURL=js_b13029f138"
            ],
            "text/plain": [
              "<IPython.core.display.Javascript object>"
            ]
          },
          "metadata": {}
        },
        {
          "output_type": "display_data",
          "data": {
            "application/javascript": [
              "window[\"8c146ab2-1981-11ec-b638-0242ac1c0002\"] = google.colab.output.setActiveOutputArea(window[\"8bf57ed6-1981-11ec-b638-0242ac1c0002\"]);\n",
              "//# sourceURL=js_b67152f56a"
            ],
            "text/plain": [
              "<IPython.core.display.Javascript object>"
            ]
          },
          "metadata": {}
        },
        {
          "output_type": "display_data",
          "data": {
            "application/javascript": [
              "window[\"8c64a892-1981-11ec-b638-0242ac1c0002\"] = google.colab.output.getActiveOutputArea();\n",
              "//# sourceURL=js_62d064bac8"
            ],
            "text/plain": [
              "<IPython.core.display.Javascript object>"
            ]
          },
          "metadata": {}
        },
        {
          "output_type": "display_data",
          "data": {
            "application/javascript": [
              "window[\"8c65abde-1981-11ec-b638-0242ac1c0002\"] = document.querySelector(\"#id30-0-0\");\n",
              "//# sourceURL=js_f10dfa00e7"
            ],
            "text/plain": [
              "<IPython.core.display.Javascript object>"
            ]
          },
          "metadata": {}
        },
        {
          "output_type": "display_data",
          "data": {
            "application/javascript": [
              "window[\"8c664792-1981-11ec-b638-0242ac1c0002\"] = google.colab.output.setActiveOutputArea(window[\"8c65abde-1981-11ec-b638-0242ac1c0002\"]);\n",
              "//# sourceURL=js_abf1dc261d"
            ],
            "text/plain": [
              "<IPython.core.display.Javascript object>"
            ]
          },
          "metadata": {}
        },
        {
          "output_type": "display_data",
          "data": {
            "application/javascript": [
              "window[\"8c835918-1981-11ec-b638-0242ac1c0002\"] = google.colab.output.setActiveOutputArea(window[\"8c64a892-1981-11ec-b638-0242ac1c0002\"]);\n",
              "//# sourceURL=js_90bd2fe9d7"
            ],
            "text/plain": [
              "<IPython.core.display.Javascript object>"
            ]
          },
          "metadata": {}
        },
        {
          "output_type": "display_data",
          "data": {
            "application/javascript": [
              "window[\"8cd29924-1981-11ec-b638-0242ac1c0002\"] = google.colab.output.getActiveOutputArea();\n",
              "//# sourceURL=js_5a3fe9c700"
            ],
            "text/plain": [
              "<IPython.core.display.Javascript object>"
            ]
          },
          "metadata": {}
        },
        {
          "output_type": "display_data",
          "data": {
            "application/javascript": [
              "window[\"8cd30c4c-1981-11ec-b638-0242ac1c0002\"] = document.querySelector(\"#id30-0-0\");\n",
              "//# sourceURL=js_ae60a8a53e"
            ],
            "text/plain": [
              "<IPython.core.display.Javascript object>"
            ]
          },
          "metadata": {}
        },
        {
          "output_type": "display_data",
          "data": {
            "application/javascript": [
              "window[\"8cd373e4-1981-11ec-b638-0242ac1c0002\"] = google.colab.output.setActiveOutputArea(window[\"8cd30c4c-1981-11ec-b638-0242ac1c0002\"]);\n",
              "//# sourceURL=js_4f3647d69d"
            ],
            "text/plain": [
              "<IPython.core.display.Javascript object>"
            ]
          },
          "metadata": {}
        },
        {
          "output_type": "display_data",
          "data": {
            "application/javascript": [
              "window[\"8cebb77e-1981-11ec-b638-0242ac1c0002\"] = google.colab.output.setActiveOutputArea(window[\"8cd29924-1981-11ec-b638-0242ac1c0002\"]);\n",
              "//# sourceURL=js_10b278edca"
            ],
            "text/plain": [
              "<IPython.core.display.Javascript object>"
            ]
          },
          "metadata": {}
        },
        {
          "output_type": "display_data",
          "data": {
            "application/javascript": [
              "window[\"8d3b723c-1981-11ec-b638-0242ac1c0002\"] = google.colab.output.getActiveOutputArea();\n",
              "//# sourceURL=js_12a52ca517"
            ],
            "text/plain": [
              "<IPython.core.display.Javascript object>"
            ]
          },
          "metadata": {}
        },
        {
          "output_type": "display_data",
          "data": {
            "application/javascript": [
              "window[\"8d3c05da-1981-11ec-b638-0242ac1c0002\"] = document.querySelector(\"#id30-0-0\");\n",
              "//# sourceURL=js_b144596ee0"
            ],
            "text/plain": [
              "<IPython.core.display.Javascript object>"
            ]
          },
          "metadata": {}
        },
        {
          "output_type": "display_data",
          "data": {
            "application/javascript": [
              "window[\"8d3cc5b0-1981-11ec-b638-0242ac1c0002\"] = google.colab.output.setActiveOutputArea(window[\"8d3c05da-1981-11ec-b638-0242ac1c0002\"]);\n",
              "//# sourceURL=js_d1d5418169"
            ],
            "text/plain": [
              "<IPython.core.display.Javascript object>"
            ]
          },
          "metadata": {}
        },
        {
          "output_type": "display_data",
          "data": {
            "application/javascript": [
              "window[\"8d583f16-1981-11ec-b638-0242ac1c0002\"] = google.colab.output.setActiveOutputArea(window[\"8d3b723c-1981-11ec-b638-0242ac1c0002\"]);\n",
              "//# sourceURL=js_db20353ce0"
            ],
            "text/plain": [
              "<IPython.core.display.Javascript object>"
            ]
          },
          "metadata": {}
        },
        {
          "output_type": "display_data",
          "data": {
            "application/javascript": [
              "window[\"8da73e22-1981-11ec-b638-0242ac1c0002\"] = google.colab.output.getActiveOutputArea();\n",
              "//# sourceURL=js_b73263dd90"
            ],
            "text/plain": [
              "<IPython.core.display.Javascript object>"
            ]
          },
          "metadata": {}
        },
        {
          "output_type": "display_data",
          "data": {
            "application/javascript": [
              "window[\"8da7a042-1981-11ec-b638-0242ac1c0002\"] = document.querySelector(\"#id30-0-0\");\n",
              "//# sourceURL=js_71104ee281"
            ],
            "text/plain": [
              "<IPython.core.display.Javascript object>"
            ]
          },
          "metadata": {}
        },
        {
          "output_type": "display_data",
          "data": {
            "application/javascript": [
              "window[\"8da80546-1981-11ec-b638-0242ac1c0002\"] = google.colab.output.setActiveOutputArea(window[\"8da7a042-1981-11ec-b638-0242ac1c0002\"]);\n",
              "//# sourceURL=js_d81e0ca13e"
            ],
            "text/plain": [
              "<IPython.core.display.Javascript object>"
            ]
          },
          "metadata": {}
        },
        {
          "output_type": "display_data",
          "data": {
            "application/javascript": [
              "window[\"8dc2d61e-1981-11ec-b638-0242ac1c0002\"] = google.colab.output.setActiveOutputArea(window[\"8da73e22-1981-11ec-b638-0242ac1c0002\"]);\n",
              "//# sourceURL=js_d22ed158f4"
            ],
            "text/plain": [
              "<IPython.core.display.Javascript object>"
            ]
          },
          "metadata": {}
        },
        {
          "output_type": "display_data",
          "data": {
            "application/javascript": [
              "window[\"8e11d85e-1981-11ec-b638-0242ac1c0002\"] = google.colab.output.getActiveOutputArea();\n",
              "//# sourceURL=js_97c7f2f12e"
            ],
            "text/plain": [
              "<IPython.core.display.Javascript object>"
            ]
          },
          "metadata": {}
        },
        {
          "output_type": "display_data",
          "data": {
            "application/javascript": [
              "window[\"8e12573e-1981-11ec-b638-0242ac1c0002\"] = document.querySelector(\"#id30-0-0\");\n",
              "//# sourceURL=js_f4e352494b"
            ],
            "text/plain": [
              "<IPython.core.display.Javascript object>"
            ]
          },
          "metadata": {}
        },
        {
          "output_type": "display_data",
          "data": {
            "application/javascript": [
              "window[\"8e133a78-1981-11ec-b638-0242ac1c0002\"] = google.colab.output.setActiveOutputArea(window[\"8e12573e-1981-11ec-b638-0242ac1c0002\"]);\n",
              "//# sourceURL=js_1063b9c304"
            ],
            "text/plain": [
              "<IPython.core.display.Javascript object>"
            ]
          },
          "metadata": {}
        },
        {
          "output_type": "display_data",
          "data": {
            "application/javascript": [
              "window[\"8e2fb388-1981-11ec-b638-0242ac1c0002\"] = google.colab.output.setActiveOutputArea(window[\"8e11d85e-1981-11ec-b638-0242ac1c0002\"]);\n",
              "//# sourceURL=js_8e3a142675"
            ],
            "text/plain": [
              "<IPython.core.display.Javascript object>"
            ]
          },
          "metadata": {}
        },
        {
          "output_type": "display_data",
          "data": {
            "application/javascript": [
              "window[\"8e7e4f34-1981-11ec-b638-0242ac1c0002\"] = google.colab.output.getActiveOutputArea();\n",
              "//# sourceURL=js_e90ee401de"
            ],
            "text/plain": [
              "<IPython.core.display.Javascript object>"
            ]
          },
          "metadata": {}
        },
        {
          "output_type": "display_data",
          "data": {
            "application/javascript": [
              "window[\"8e7eba50-1981-11ec-b638-0242ac1c0002\"] = document.querySelector(\"#id30-0-0\");\n",
              "//# sourceURL=js_7a0d6144ef"
            ],
            "text/plain": [
              "<IPython.core.display.Javascript object>"
            ]
          },
          "metadata": {}
        },
        {
          "output_type": "display_data",
          "data": {
            "application/javascript": [
              "window[\"8e7f8e44-1981-11ec-b638-0242ac1c0002\"] = google.colab.output.setActiveOutputArea(window[\"8e7eba50-1981-11ec-b638-0242ac1c0002\"]);\n",
              "//# sourceURL=js_ee461aea96"
            ],
            "text/plain": [
              "<IPython.core.display.Javascript object>"
            ]
          },
          "metadata": {}
        },
        {
          "output_type": "display_data",
          "data": {
            "application/javascript": [
              "window[\"8e980640-1981-11ec-b638-0242ac1c0002\"] = google.colab.output.setActiveOutputArea(window[\"8e7e4f34-1981-11ec-b638-0242ac1c0002\"]);\n",
              "//# sourceURL=js_e62ca78d09"
            ],
            "text/plain": [
              "<IPython.core.display.Javascript object>"
            ]
          },
          "metadata": {}
        },
        {
          "output_type": "display_data",
          "data": {
            "application/javascript": [
              "window[\"8ee69008-1981-11ec-b638-0242ac1c0002\"] = google.colab.output.getActiveOutputArea();\n",
              "//# sourceURL=js_4232d54695"
            ],
            "text/plain": [
              "<IPython.core.display.Javascript object>"
            ]
          },
          "metadata": {}
        },
        {
          "output_type": "display_data",
          "data": {
            "application/javascript": [
              "window[\"8ee709ac-1981-11ec-b638-0242ac1c0002\"] = document.querySelector(\"#id30-0-0\");\n",
              "//# sourceURL=js_d2e9b9db75"
            ],
            "text/plain": [
              "<IPython.core.display.Javascript object>"
            ]
          },
          "metadata": {}
        },
        {
          "output_type": "display_data",
          "data": {
            "application/javascript": [
              "window[\"8ee77f72-1981-11ec-b638-0242ac1c0002\"] = google.colab.output.setActiveOutputArea(window[\"8ee709ac-1981-11ec-b638-0242ac1c0002\"]);\n",
              "//# sourceURL=js_435115ac44"
            ],
            "text/plain": [
              "<IPython.core.display.Javascript object>"
            ]
          },
          "metadata": {}
        },
        {
          "output_type": "display_data",
          "data": {
            "application/javascript": [
              "window[\"8f0364c6-1981-11ec-b638-0242ac1c0002\"] = google.colab.output.setActiveOutputArea(window[\"8ee69008-1981-11ec-b638-0242ac1c0002\"]);\n",
              "//# sourceURL=js_749c8398a6"
            ],
            "text/plain": [
              "<IPython.core.display.Javascript object>"
            ]
          },
          "metadata": {}
        },
        {
          "output_type": "display_data",
          "data": {
            "application/javascript": [
              "window[\"8f524c26-1981-11ec-b638-0242ac1c0002\"] = google.colab.output.getActiveOutputArea();\n",
              "//# sourceURL=js_035d70127f"
            ],
            "text/plain": [
              "<IPython.core.display.Javascript object>"
            ]
          },
          "metadata": {}
        },
        {
          "output_type": "display_data",
          "data": {
            "application/javascript": [
              "window[\"8f52abd0-1981-11ec-b638-0242ac1c0002\"] = document.querySelector(\"#id30-0-0\");\n",
              "//# sourceURL=js_24d5487acc"
            ],
            "text/plain": [
              "<IPython.core.display.Javascript object>"
            ]
          },
          "metadata": {}
        },
        {
          "output_type": "display_data",
          "data": {
            "application/javascript": [
              "window[\"8f5361c4-1981-11ec-b638-0242ac1c0002\"] = google.colab.output.setActiveOutputArea(window[\"8f52abd0-1981-11ec-b638-0242ac1c0002\"]);\n",
              "//# sourceURL=js_07ebed8c59"
            ],
            "text/plain": [
              "<IPython.core.display.Javascript object>"
            ]
          },
          "metadata": {}
        },
        {
          "output_type": "display_data",
          "data": {
            "application/javascript": [
              "window[\"8f870ce0-1981-11ec-b638-0242ac1c0002\"] = google.colab.output.setActiveOutputArea(window[\"8f524c26-1981-11ec-b638-0242ac1c0002\"]);\n",
              "//# sourceURL=js_e9032249b6"
            ],
            "text/plain": [
              "<IPython.core.display.Javascript object>"
            ]
          },
          "metadata": {}
        },
        {
          "output_type": "display_data",
          "data": {
            "application/javascript": [
              "window[\"8fd69ee0-1981-11ec-b638-0242ac1c0002\"] = google.colab.output.getActiveOutputArea();\n",
              "//# sourceURL=js_eac461a2d9"
            ],
            "text/plain": [
              "<IPython.core.display.Javascript object>"
            ]
          },
          "metadata": {}
        },
        {
          "output_type": "display_data",
          "data": {
            "application/javascript": [
              "window[\"8fd713f2-1981-11ec-b638-0242ac1c0002\"] = document.querySelector(\"#id30-0-0\");\n",
              "//# sourceURL=js_fd470cfdc8"
            ],
            "text/plain": [
              "<IPython.core.display.Javascript object>"
            ]
          },
          "metadata": {}
        },
        {
          "output_type": "display_data",
          "data": {
            "application/javascript": [
              "window[\"8fd776bc-1981-11ec-b638-0242ac1c0002\"] = google.colab.output.setActiveOutputArea(window[\"8fd713f2-1981-11ec-b638-0242ac1c0002\"]);\n",
              "//# sourceURL=js_64a0c013db"
            ],
            "text/plain": [
              "<IPython.core.display.Javascript object>"
            ]
          },
          "metadata": {}
        },
        {
          "output_type": "display_data",
          "data": {
            "application/javascript": [
              "window[\"8fef8edc-1981-11ec-b638-0242ac1c0002\"] = google.colab.output.setActiveOutputArea(window[\"8fd69ee0-1981-11ec-b638-0242ac1c0002\"]);\n",
              "//# sourceURL=js_78286c90f5"
            ],
            "text/plain": [
              "<IPython.core.display.Javascript object>"
            ]
          },
          "metadata": {}
        },
        {
          "output_type": "display_data",
          "data": {
            "application/javascript": [
              "window[\"903e9f72-1981-11ec-b638-0242ac1c0002\"] = google.colab.output.getActiveOutputArea();\n",
              "//# sourceURL=js_b185809f1a"
            ],
            "text/plain": [
              "<IPython.core.display.Javascript object>"
            ]
          },
          "metadata": {}
        },
        {
          "output_type": "display_data",
          "data": {
            "application/javascript": [
              "window[\"903f08e0-1981-11ec-b638-0242ac1c0002\"] = document.querySelector(\"#id30-0-0\");\n",
              "//# sourceURL=js_d1a38a9060"
            ],
            "text/plain": [
              "<IPython.core.display.Javascript object>"
            ]
          },
          "metadata": {}
        },
        {
          "output_type": "display_data",
          "data": {
            "application/javascript": [
              "window[\"9041772e-1981-11ec-b638-0242ac1c0002\"] = google.colab.output.setActiveOutputArea(window[\"903f08e0-1981-11ec-b638-0242ac1c0002\"]);\n",
              "//# sourceURL=js_3b14c4d63a"
            ],
            "text/plain": [
              "<IPython.core.display.Javascript object>"
            ]
          },
          "metadata": {}
        },
        {
          "output_type": "display_data",
          "data": {
            "application/javascript": [
              "window[\"905938aa-1981-11ec-b638-0242ac1c0002\"] = google.colab.output.setActiveOutputArea(window[\"903e9f72-1981-11ec-b638-0242ac1c0002\"]);\n",
              "//# sourceURL=js_55f8abd53c"
            ],
            "text/plain": [
              "<IPython.core.display.Javascript object>"
            ]
          },
          "metadata": {}
        },
        {
          "output_type": "display_data",
          "data": {
            "application/javascript": [
              "window[\"90ab0cde-1981-11ec-b638-0242ac1c0002\"] = google.colab.output.getActiveOutputArea();\n",
              "//# sourceURL=js_7b260489e8"
            ],
            "text/plain": [
              "<IPython.core.display.Javascript object>"
            ]
          },
          "metadata": {}
        },
        {
          "output_type": "display_data",
          "data": {
            "application/javascript": [
              "window[\"90ab91f4-1981-11ec-b638-0242ac1c0002\"] = document.querySelector(\"#id30-0-0\");\n",
              "//# sourceURL=js_460a154801"
            ],
            "text/plain": [
              "<IPython.core.display.Javascript object>"
            ]
          },
          "metadata": {}
        },
        {
          "output_type": "display_data",
          "data": {
            "application/javascript": [
              "window[\"90acb732-1981-11ec-b638-0242ac1c0002\"] = google.colab.output.setActiveOutputArea(window[\"90ab91f4-1981-11ec-b638-0242ac1c0002\"]);\n",
              "//# sourceURL=js_9171aac250"
            ],
            "text/plain": [
              "<IPython.core.display.Javascript object>"
            ]
          },
          "metadata": {}
        },
        {
          "output_type": "display_data",
          "data": {
            "application/javascript": [
              "window[\"90cacd94-1981-11ec-b638-0242ac1c0002\"] = google.colab.output.setActiveOutputArea(window[\"90ab0cde-1981-11ec-b638-0242ac1c0002\"]);\n",
              "//# sourceURL=js_8d2b2c50e0"
            ],
            "text/plain": [
              "<IPython.core.display.Javascript object>"
            ]
          },
          "metadata": {}
        },
        {
          "output_type": "display_data",
          "data": {
            "application/javascript": [
              "window[\"9119554a-1981-11ec-b638-0242ac1c0002\"] = google.colab.output.getActiveOutputArea();\n",
              "//# sourceURL=js_7cd20b9869"
            ],
            "text/plain": [
              "<IPython.core.display.Javascript object>"
            ]
          },
          "metadata": {}
        },
        {
          "output_type": "display_data",
          "data": {
            "application/javascript": [
              "window[\"911a5be8-1981-11ec-b638-0242ac1c0002\"] = document.querySelector(\"#id30-0-0\");\n",
              "//# sourceURL=js_5c83c56647"
            ],
            "text/plain": [
              "<IPython.core.display.Javascript object>"
            ]
          },
          "metadata": {}
        },
        {
          "output_type": "display_data",
          "data": {
            "application/javascript": [
              "window[\"911af2a6-1981-11ec-b638-0242ac1c0002\"] = google.colab.output.setActiveOutputArea(window[\"911a5be8-1981-11ec-b638-0242ac1c0002\"]);\n",
              "//# sourceURL=js_c3d483dc70"
            ],
            "text/plain": [
              "<IPython.core.display.Javascript object>"
            ]
          },
          "metadata": {}
        },
        {
          "output_type": "display_data",
          "data": {
            "application/javascript": [
              "window[\"91370112-1981-11ec-b638-0242ac1c0002\"] = google.colab.output.setActiveOutputArea(window[\"9119554a-1981-11ec-b638-0242ac1c0002\"]);\n",
              "//# sourceURL=js_8f230ec2c9"
            ],
            "text/plain": [
              "<IPython.core.display.Javascript object>"
            ]
          },
          "metadata": {}
        },
        {
          "output_type": "display_data",
          "data": {
            "application/javascript": [
              "window[\"918810a2-1981-11ec-b638-0242ac1c0002\"] = google.colab.output.getActiveOutputArea();\n",
              "//# sourceURL=js_8a8193add1"
            ],
            "text/plain": [
              "<IPython.core.display.Javascript object>"
            ]
          },
          "metadata": {}
        },
        {
          "output_type": "display_data",
          "data": {
            "application/javascript": [
              "window[\"918946d4-1981-11ec-b638-0242ac1c0002\"] = document.querySelector(\"#id30-0-0\");\n",
              "//# sourceURL=js_9103715b2d"
            ],
            "text/plain": [
              "<IPython.core.display.Javascript object>"
            ]
          },
          "metadata": {}
        },
        {
          "output_type": "display_data",
          "data": {
            "application/javascript": [
              "window[\"9189b38a-1981-11ec-b638-0242ac1c0002\"] = google.colab.output.setActiveOutputArea(window[\"918946d4-1981-11ec-b638-0242ac1c0002\"]);\n",
              "//# sourceURL=js_b2306d2b46"
            ],
            "text/plain": [
              "<IPython.core.display.Javascript object>"
            ]
          },
          "metadata": {}
        },
        {
          "output_type": "display_data",
          "data": {
            "application/javascript": [
              "window[\"91a42350-1981-11ec-b638-0242ac1c0002\"] = google.colab.output.setActiveOutputArea(window[\"918810a2-1981-11ec-b638-0242ac1c0002\"]);\n",
              "//# sourceURL=js_9292aacd4c"
            ],
            "text/plain": [
              "<IPython.core.display.Javascript object>"
            ]
          },
          "metadata": {}
        },
        {
          "output_type": "display_data",
          "data": {
            "application/javascript": [
              "window[\"91f29e18-1981-11ec-b638-0242ac1c0002\"] = google.colab.output.getActiveOutputArea();\n",
              "//# sourceURL=js_f33d96272c"
            ],
            "text/plain": [
              "<IPython.core.display.Javascript object>"
            ]
          },
          "metadata": {}
        },
        {
          "output_type": "display_data",
          "data": {
            "application/javascript": [
              "window[\"91f2f71e-1981-11ec-b638-0242ac1c0002\"] = document.querySelector(\"#id30-0-0\");\n",
              "//# sourceURL=js_76fe25c451"
            ],
            "text/plain": [
              "<IPython.core.display.Javascript object>"
            ]
          },
          "metadata": {}
        },
        {
          "output_type": "display_data",
          "data": {
            "application/javascript": [
              "window[\"91f355d8-1981-11ec-b638-0242ac1c0002\"] = google.colab.output.setActiveOutputArea(window[\"91f2f71e-1981-11ec-b638-0242ac1c0002\"]);\n",
              "//# sourceURL=js_f22157d2ff"
            ],
            "text/plain": [
              "<IPython.core.display.Javascript object>"
            ]
          },
          "metadata": {}
        },
        {
          "output_type": "display_data",
          "data": {
            "application/javascript": [
              "window[\"92128e94-1981-11ec-b638-0242ac1c0002\"] = google.colab.output.setActiveOutputArea(window[\"91f29e18-1981-11ec-b638-0242ac1c0002\"]);\n",
              "//# sourceURL=js_2b3ed44eda"
            ],
            "text/plain": [
              "<IPython.core.display.Javascript object>"
            ]
          },
          "metadata": {}
        },
        {
          "output_type": "display_data",
          "data": {
            "application/javascript": [
              "window[\"9262da98-1981-11ec-b638-0242ac1c0002\"] = google.colab.output.getActiveOutputArea();\n",
              "//# sourceURL=js_499495f35e"
            ],
            "text/plain": [
              "<IPython.core.display.Javascript object>"
            ]
          },
          "metadata": {}
        },
        {
          "output_type": "display_data",
          "data": {
            "application/javascript": [
              "window[\"92635a7c-1981-11ec-b638-0242ac1c0002\"] = document.querySelector(\"#id30-0-0\");\n",
              "//# sourceURL=js_dd8e3e9d3b"
            ],
            "text/plain": [
              "<IPython.core.display.Javascript object>"
            ]
          },
          "metadata": {}
        },
        {
          "output_type": "display_data",
          "data": {
            "application/javascript": [
              "window[\"9263cb24-1981-11ec-b638-0242ac1c0002\"] = google.colab.output.setActiveOutputArea(window[\"92635a7c-1981-11ec-b638-0242ac1c0002\"]);\n",
              "//# sourceURL=js_2cdada83ef"
            ],
            "text/plain": [
              "<IPython.core.display.Javascript object>"
            ]
          },
          "metadata": {}
        },
        {
          "output_type": "display_data",
          "data": {
            "application/javascript": [
              "window[\"92801748-1981-11ec-b638-0242ac1c0002\"] = google.colab.output.setActiveOutputArea(window[\"9262da98-1981-11ec-b638-0242ac1c0002\"]);\n",
              "//# sourceURL=js_21c4b1ed1d"
            ],
            "text/plain": [
              "<IPython.core.display.Javascript object>"
            ]
          },
          "metadata": {}
        },
        {
          "output_type": "display_data",
          "data": {
            "application/javascript": [
              "window[\"92d261c4-1981-11ec-b638-0242ac1c0002\"] = google.colab.output.getActiveOutputArea();\n",
              "//# sourceURL=js_ad08eaeaf6"
            ],
            "text/plain": [
              "<IPython.core.display.Javascript object>"
            ]
          },
          "metadata": {}
        },
        {
          "output_type": "display_data",
          "data": {
            "application/javascript": [
              "window[\"92d302dc-1981-11ec-b638-0242ac1c0002\"] = document.querySelector(\"#id30-0-0\");\n",
              "//# sourceURL=js_c24a12e5c6"
            ],
            "text/plain": [
              "<IPython.core.display.Javascript object>"
            ]
          },
          "metadata": {}
        },
        {
          "output_type": "display_data",
          "data": {
            "application/javascript": [
              "window[\"92d436ca-1981-11ec-b638-0242ac1c0002\"] = google.colab.output.setActiveOutputArea(window[\"92d302dc-1981-11ec-b638-0242ac1c0002\"]);\n",
              "//# sourceURL=js_d25fae0c2f"
            ],
            "text/plain": [
              "<IPython.core.display.Javascript object>"
            ]
          },
          "metadata": {}
        },
        {
          "output_type": "display_data",
          "data": {
            "application/javascript": [
              "window[\"92f0d028-1981-11ec-b638-0242ac1c0002\"] = google.colab.output.setActiveOutputArea(window[\"92d261c4-1981-11ec-b638-0242ac1c0002\"]);\n",
              "//# sourceURL=js_fc5c85ad55"
            ],
            "text/plain": [
              "<IPython.core.display.Javascript object>"
            ]
          },
          "metadata": {}
        },
        {
          "output_type": "display_data",
          "data": {
            "application/javascript": [
              "window[\"93404a22-1981-11ec-b638-0242ac1c0002\"] = google.colab.output.getActiveOutputArea();\n",
              "//# sourceURL=js_6035bd1523"
            ],
            "text/plain": [
              "<IPython.core.display.Javascript object>"
            ]
          },
          "metadata": {}
        },
        {
          "output_type": "display_data",
          "data": {
            "application/javascript": [
              "window[\"93415e62-1981-11ec-b638-0242ac1c0002\"] = document.querySelector(\"#id30-0-0\");\n",
              "//# sourceURL=js_378e7376b5"
            ],
            "text/plain": [
              "<IPython.core.display.Javascript object>"
            ]
          },
          "metadata": {}
        },
        {
          "output_type": "display_data",
          "data": {
            "application/javascript": [
              "window[\"93424fd4-1981-11ec-b638-0242ac1c0002\"] = google.colab.output.setActiveOutputArea(window[\"93415e62-1981-11ec-b638-0242ac1c0002\"]);\n",
              "//# sourceURL=js_f31a748dd2"
            ],
            "text/plain": [
              "<IPython.core.display.Javascript object>"
            ]
          },
          "metadata": {}
        },
        {
          "output_type": "display_data",
          "data": {
            "application/javascript": [
              "window[\"935d5b08-1981-11ec-b638-0242ac1c0002\"] = google.colab.output.setActiveOutputArea(window[\"93404a22-1981-11ec-b638-0242ac1c0002\"]);\n",
              "//# sourceURL=js_b5d7c46c55"
            ],
            "text/plain": [
              "<IPython.core.display.Javascript object>"
            ]
          },
          "metadata": {}
        },
        {
          "output_type": "display_data",
          "data": {
            "application/javascript": [
              "window[\"93acee3e-1981-11ec-b638-0242ac1c0002\"] = google.colab.output.getActiveOutputArea();\n",
              "//# sourceURL=js_b12b6c55a6"
            ],
            "text/plain": [
              "<IPython.core.display.Javascript object>"
            ]
          },
          "metadata": {}
        },
        {
          "output_type": "display_data",
          "data": {
            "application/javascript": [
              "window[\"93ae08a0-1981-11ec-b638-0242ac1c0002\"] = document.querySelector(\"#id30-0-0\");\n",
              "//# sourceURL=js_27bb61ed62"
            ],
            "text/plain": [
              "<IPython.core.display.Javascript object>"
            ]
          },
          "metadata": {}
        },
        {
          "output_type": "display_data",
          "data": {
            "application/javascript": [
              "window[\"93af543a-1981-11ec-b638-0242ac1c0002\"] = google.colab.output.setActiveOutputArea(window[\"93ae08a0-1981-11ec-b638-0242ac1c0002\"]);\n",
              "//# sourceURL=js_a606f94b06"
            ],
            "text/plain": [
              "<IPython.core.display.Javascript object>"
            ]
          },
          "metadata": {}
        },
        {
          "output_type": "display_data",
          "data": {
            "application/javascript": [
              "window[\"93cb059a-1981-11ec-b638-0242ac1c0002\"] = google.colab.output.setActiveOutputArea(window[\"93acee3e-1981-11ec-b638-0242ac1c0002\"]);\n",
              "//# sourceURL=js_2aff59ac62"
            ],
            "text/plain": [
              "<IPython.core.display.Javascript object>"
            ]
          },
          "metadata": {}
        },
        {
          "output_type": "display_data",
          "data": {
            "application/javascript": [
              "window[\"9419bd34-1981-11ec-b638-0242ac1c0002\"] = google.colab.output.getActiveOutputArea();\n",
              "//# sourceURL=js_8683800229"
            ],
            "text/plain": [
              "<IPython.core.display.Javascript object>"
            ]
          },
          "metadata": {}
        },
        {
          "output_type": "display_data",
          "data": {
            "application/javascript": [
              "window[\"941a21c0-1981-11ec-b638-0242ac1c0002\"] = document.querySelector(\"#id30-0-0\");\n",
              "//# sourceURL=js_63297e8917"
            ],
            "text/plain": [
              "<IPython.core.display.Javascript object>"
            ]
          },
          "metadata": {}
        },
        {
          "output_type": "display_data",
          "data": {
            "application/javascript": [
              "window[\"941aa4e2-1981-11ec-b638-0242ac1c0002\"] = google.colab.output.setActiveOutputArea(window[\"941a21c0-1981-11ec-b638-0242ac1c0002\"]);\n",
              "//# sourceURL=js_00834c82d4"
            ],
            "text/plain": [
              "<IPython.core.display.Javascript object>"
            ]
          },
          "metadata": {}
        },
        {
          "output_type": "display_data",
          "data": {
            "application/javascript": [
              "window[\"94341d8c-1981-11ec-b638-0242ac1c0002\"] = google.colab.output.setActiveOutputArea(window[\"9419bd34-1981-11ec-b638-0242ac1c0002\"]);\n",
              "//# sourceURL=js_d0ec43818c"
            ],
            "text/plain": [
              "<IPython.core.display.Javascript object>"
            ]
          },
          "metadata": {}
        },
        {
          "output_type": "display_data",
          "data": {
            "application/javascript": [
              "window[\"9485577e-1981-11ec-b638-0242ac1c0002\"] = google.colab.output.getActiveOutputArea();\n",
              "//# sourceURL=js_4b2a6ccdec"
            ],
            "text/plain": [
              "<IPython.core.display.Javascript object>"
            ]
          },
          "metadata": {}
        },
        {
          "output_type": "display_data",
          "data": {
            "application/javascript": [
              "window[\"9485c8bc-1981-11ec-b638-0242ac1c0002\"] = document.querySelector(\"#id30-0-0\");\n",
              "//# sourceURL=js_ecc3a568c1"
            ],
            "text/plain": [
              "<IPython.core.display.Javascript object>"
            ]
          },
          "metadata": {}
        },
        {
          "output_type": "display_data",
          "data": {
            "application/javascript": [
              "window[\"9487decc-1981-11ec-b638-0242ac1c0002\"] = google.colab.output.setActiveOutputArea(window[\"9485c8bc-1981-11ec-b638-0242ac1c0002\"]);\n",
              "//# sourceURL=js_52d3b3f0ca"
            ],
            "text/plain": [
              "<IPython.core.display.Javascript object>"
            ]
          },
          "metadata": {}
        },
        {
          "output_type": "display_data",
          "data": {
            "application/javascript": [
              "window[\"94a13764-1981-11ec-b638-0242ac1c0002\"] = google.colab.output.setActiveOutputArea(window[\"9485577e-1981-11ec-b638-0242ac1c0002\"]);\n",
              "//# sourceURL=js_e8f3ff2346"
            ],
            "text/plain": [
              "<IPython.core.display.Javascript object>"
            ]
          },
          "metadata": {}
        },
        {
          "output_type": "display_data",
          "data": {
            "application/javascript": [
              "window[\"94efdfd6-1981-11ec-b638-0242ac1c0002\"] = google.colab.output.getActiveOutputArea();\n",
              "//# sourceURL=js_de7f7f2bc4"
            ],
            "text/plain": [
              "<IPython.core.display.Javascript object>"
            ]
          },
          "metadata": {}
        },
        {
          "output_type": "display_data",
          "data": {
            "application/javascript": [
              "window[\"94f041e2-1981-11ec-b638-0242ac1c0002\"] = document.querySelector(\"#id30-0-0\");\n",
              "//# sourceURL=js_bdbfc4bae7"
            ],
            "text/plain": [
              "<IPython.core.display.Javascript object>"
            ]
          },
          "metadata": {}
        },
        {
          "output_type": "display_data",
          "data": {
            "application/javascript": [
              "window[\"94f110c2-1981-11ec-b638-0242ac1c0002\"] = google.colab.output.setActiveOutputArea(window[\"94f041e2-1981-11ec-b638-0242ac1c0002\"]);\n",
              "//# sourceURL=js_a10caa2fd0"
            ],
            "text/plain": [
              "<IPython.core.display.Javascript object>"
            ]
          },
          "metadata": {}
        },
        {
          "output_type": "display_data",
          "data": {
            "application/javascript": [
              "window[\"950cefb8-1981-11ec-b638-0242ac1c0002\"] = google.colab.output.setActiveOutputArea(window[\"94efdfd6-1981-11ec-b638-0242ac1c0002\"]);\n",
              "//# sourceURL=js_4c78bc0c79"
            ],
            "text/plain": [
              "<IPython.core.display.Javascript object>"
            ]
          },
          "metadata": {}
        },
        {
          "output_type": "display_data",
          "data": {
            "application/javascript": [
              "window[\"955bc822-1981-11ec-b638-0242ac1c0002\"] = google.colab.output.getActiveOutputArea();\n",
              "//# sourceURL=js_bb20de4d08"
            ],
            "text/plain": [
              "<IPython.core.display.Javascript object>"
            ]
          },
          "metadata": {}
        },
        {
          "output_type": "display_data",
          "data": {
            "application/javascript": [
              "window[\"955c5f08-1981-11ec-b638-0242ac1c0002\"] = document.querySelector(\"#id30-0-0\");\n",
              "//# sourceURL=js_1246cd8060"
            ],
            "text/plain": [
              "<IPython.core.display.Javascript object>"
            ]
          },
          "metadata": {}
        },
        {
          "output_type": "display_data",
          "data": {
            "application/javascript": [
              "window[\"955ced56-1981-11ec-b638-0242ac1c0002\"] = google.colab.output.setActiveOutputArea(window[\"955c5f08-1981-11ec-b638-0242ac1c0002\"]);\n",
              "//# sourceURL=js_03f67a6020"
            ],
            "text/plain": [
              "<IPython.core.display.Javascript object>"
            ]
          },
          "metadata": {}
        },
        {
          "output_type": "display_data",
          "data": {
            "application/javascript": [
              "window[\"957a95f4-1981-11ec-b638-0242ac1c0002\"] = google.colab.output.setActiveOutputArea(window[\"955bc822-1981-11ec-b638-0242ac1c0002\"]);\n",
              "//# sourceURL=js_30603639d4"
            ],
            "text/plain": [
              "<IPython.core.display.Javascript object>"
            ]
          },
          "metadata": {}
        },
        {
          "output_type": "display_data",
          "data": {
            "application/javascript": [
              "window[\"95c9863c-1981-11ec-b638-0242ac1c0002\"] = google.colab.output.getActiveOutputArea();\n",
              "//# sourceURL=js_09b145090a"
            ],
            "text/plain": [
              "<IPython.core.display.Javascript object>"
            ]
          },
          "metadata": {}
        },
        {
          "output_type": "display_data",
          "data": {
            "application/javascript": [
              "window[\"95c9f108-1981-11ec-b638-0242ac1c0002\"] = document.querySelector(\"#id30-0-0\");\n",
              "//# sourceURL=js_00bfa579d0"
            ],
            "text/plain": [
              "<IPython.core.display.Javascript object>"
            ]
          },
          "metadata": {}
        },
        {
          "output_type": "display_data",
          "data": {
            "application/javascript": [
              "window[\"95cb6ef2-1981-11ec-b638-0242ac1c0002\"] = google.colab.output.setActiveOutputArea(window[\"95c9f108-1981-11ec-b638-0242ac1c0002\"]);\n",
              "//# sourceURL=js_b163fc2152"
            ],
            "text/plain": [
              "<IPython.core.display.Javascript object>"
            ]
          },
          "metadata": {}
        },
        {
          "output_type": "display_data",
          "data": {
            "application/javascript": [
              "window[\"95ebd26e-1981-11ec-b638-0242ac1c0002\"] = google.colab.output.setActiveOutputArea(window[\"95c9863c-1981-11ec-b638-0242ac1c0002\"]);\n",
              "//# sourceURL=js_fbdf27e72d"
            ],
            "text/plain": [
              "<IPython.core.display.Javascript object>"
            ]
          },
          "metadata": {}
        },
        {
          "output_type": "display_data",
          "data": {
            "application/javascript": [
              "window[\"963b2b52-1981-11ec-b638-0242ac1c0002\"] = google.colab.output.getActiveOutputArea();\n",
              "//# sourceURL=js_f57f93e850"
            ],
            "text/plain": [
              "<IPython.core.display.Javascript object>"
            ]
          },
          "metadata": {}
        },
        {
          "output_type": "display_data",
          "data": {
            "application/javascript": [
              "window[\"963ba816-1981-11ec-b638-0242ac1c0002\"] = document.querySelector(\"#id30-0-0\");\n",
              "//# sourceURL=js_078b996db7"
            ],
            "text/plain": [
              "<IPython.core.display.Javascript object>"
            ]
          },
          "metadata": {}
        },
        {
          "output_type": "display_data",
          "data": {
            "application/javascript": [
              "window[\"963c3fe2-1981-11ec-b638-0242ac1c0002\"] = google.colab.output.setActiveOutputArea(window[\"963ba816-1981-11ec-b638-0242ac1c0002\"]);\n",
              "//# sourceURL=js_4595de75e9"
            ],
            "text/plain": [
              "<IPython.core.display.Javascript object>"
            ]
          },
          "metadata": {}
        },
        {
          "output_type": "display_data",
          "data": {
            "application/javascript": [
              "window[\"96579ab2-1981-11ec-b638-0242ac1c0002\"] = google.colab.output.setActiveOutputArea(window[\"963b2b52-1981-11ec-b638-0242ac1c0002\"]);\n",
              "//# sourceURL=js_f55271c0a0"
            ],
            "text/plain": [
              "<IPython.core.display.Javascript object>"
            ]
          },
          "metadata": {}
        },
        {
          "output_type": "display_data",
          "data": {
            "application/javascript": [
              "window[\"96a76574-1981-11ec-b638-0242ac1c0002\"] = google.colab.output.getActiveOutputArea();\n",
              "//# sourceURL=js_bf326ccd0f"
            ],
            "text/plain": [
              "<IPython.core.display.Javascript object>"
            ]
          },
          "metadata": {}
        },
        {
          "output_type": "display_data",
          "data": {
            "application/javascript": [
              "window[\"96a8b2f8-1981-11ec-b638-0242ac1c0002\"] = document.querySelector(\"#id30-0-0\");\n",
              "//# sourceURL=js_02e2cd6e0b"
            ],
            "text/plain": [
              "<IPython.core.display.Javascript object>"
            ]
          },
          "metadata": {}
        },
        {
          "output_type": "display_data",
          "data": {
            "application/javascript": [
              "window[\"96aa0c3e-1981-11ec-b638-0242ac1c0002\"] = google.colab.output.setActiveOutputArea(window[\"96a8b2f8-1981-11ec-b638-0242ac1c0002\"]);\n",
              "//# sourceURL=js_7ecbee8fd8"
            ],
            "text/plain": [
              "<IPython.core.display.Javascript object>"
            ]
          },
          "metadata": {}
        },
        {
          "output_type": "display_data",
          "data": {
            "application/javascript": [
              "window[\"96d9e2c4-1981-11ec-b638-0242ac1c0002\"] = google.colab.output.setActiveOutputArea(window[\"96a76574-1981-11ec-b638-0242ac1c0002\"]);\n",
              "//# sourceURL=js_c6a0e6b426"
            ],
            "text/plain": [
              "<IPython.core.display.Javascript object>"
            ]
          },
          "metadata": {}
        },
        {
          "output_type": "display_data",
          "data": {
            "application/javascript": [
              "window[\"97288578-1981-11ec-b638-0242ac1c0002\"] = google.colab.output.getActiveOutputArea();\n",
              "//# sourceURL=js_97d9987491"
            ],
            "text/plain": [
              "<IPython.core.display.Javascript object>"
            ]
          },
          "metadata": {}
        },
        {
          "output_type": "display_data",
          "data": {
            "application/javascript": [
              "window[\"9728e4e6-1981-11ec-b638-0242ac1c0002\"] = document.querySelector(\"#id30-0-0\");\n",
              "//# sourceURL=js_f95d2c5cfb"
            ],
            "text/plain": [
              "<IPython.core.display.Javascript object>"
            ]
          },
          "metadata": {}
        },
        {
          "output_type": "display_data",
          "data": {
            "application/javascript": [
              "window[\"972946d4-1981-11ec-b638-0242ac1c0002\"] = google.colab.output.setActiveOutputArea(window[\"9728e4e6-1981-11ec-b638-0242ac1c0002\"]);\n",
              "//# sourceURL=js_a5bacf329e"
            ],
            "text/plain": [
              "<IPython.core.display.Javascript object>"
            ]
          },
          "metadata": {}
        },
        {
          "output_type": "display_data",
          "data": {
            "application/javascript": [
              "window[\"9743d314-1981-11ec-b638-0242ac1c0002\"] = google.colab.output.setActiveOutputArea(window[\"97288578-1981-11ec-b638-0242ac1c0002\"]);\n",
              "//# sourceURL=js_e68c440f68"
            ],
            "text/plain": [
              "<IPython.core.display.Javascript object>"
            ]
          },
          "metadata": {}
        },
        {
          "output_type": "display_data",
          "data": {
            "application/javascript": [
              "window[\"979299f4-1981-11ec-b638-0242ac1c0002\"] = google.colab.output.getActiveOutputArea();\n",
              "//# sourceURL=js_e10dc6d4ed"
            ],
            "text/plain": [
              "<IPython.core.display.Javascript object>"
            ]
          },
          "metadata": {}
        },
        {
          "output_type": "display_data",
          "data": {
            "application/javascript": [
              "window[\"9792fcfa-1981-11ec-b638-0242ac1c0002\"] = document.querySelector(\"#id30-0-0\");\n",
              "//# sourceURL=js_0e1522ccda"
            ],
            "text/plain": [
              "<IPython.core.display.Javascript object>"
            ]
          },
          "metadata": {}
        },
        {
          "output_type": "display_data",
          "data": {
            "application/javascript": [
              "window[\"97935df8-1981-11ec-b638-0242ac1c0002\"] = google.colab.output.setActiveOutputArea(window[\"9792fcfa-1981-11ec-b638-0242ac1c0002\"]);\n",
              "//# sourceURL=js_dc9e227289"
            ],
            "text/plain": [
              "<IPython.core.display.Javascript object>"
            ]
          },
          "metadata": {}
        },
        {
          "output_type": "display_data",
          "data": {
            "application/javascript": [
              "window[\"97b0280c-1981-11ec-b638-0242ac1c0002\"] = google.colab.output.setActiveOutputArea(window[\"979299f4-1981-11ec-b638-0242ac1c0002\"]);\n",
              "//# sourceURL=js_8dc9979f6b"
            ],
            "text/plain": [
              "<IPython.core.display.Javascript object>"
            ]
          },
          "metadata": {}
        },
        {
          "output_type": "display_data",
          "data": {
            "application/javascript": [
              "window[\"9802b4f0-1981-11ec-b638-0242ac1c0002\"] = google.colab.output.getActiveOutputArea();\n",
              "//# sourceURL=js_032545035e"
            ],
            "text/plain": [
              "<IPython.core.display.Javascript object>"
            ]
          },
          "metadata": {}
        },
        {
          "output_type": "display_data",
          "data": {
            "application/javascript": [
              "window[\"9803ebae-1981-11ec-b638-0242ac1c0002\"] = document.querySelector(\"#id30-0-0\");\n",
              "//# sourceURL=js_29d1a460fc"
            ],
            "text/plain": [
              "<IPython.core.display.Javascript object>"
            ]
          },
          "metadata": {}
        },
        {
          "output_type": "display_data",
          "data": {
            "application/javascript": [
              "window[\"98044c8e-1981-11ec-b638-0242ac1c0002\"] = google.colab.output.setActiveOutputArea(window[\"9803ebae-1981-11ec-b638-0242ac1c0002\"]);\n",
              "//# sourceURL=js_11129f8ade"
            ],
            "text/plain": [
              "<IPython.core.display.Javascript object>"
            ]
          },
          "metadata": {}
        },
        {
          "output_type": "display_data",
          "data": {
            "application/javascript": [
              "window[\"98214226-1981-11ec-b638-0242ac1c0002\"] = google.colab.output.setActiveOutputArea(window[\"9802b4f0-1981-11ec-b638-0242ac1c0002\"]);\n",
              "//# sourceURL=js_206ae86f41"
            ],
            "text/plain": [
              "<IPython.core.display.Javascript object>"
            ]
          },
          "metadata": {}
        },
        {
          "output_type": "display_data",
          "data": {
            "application/javascript": [
              "window[\"98748512-1981-11ec-b638-0242ac1c0002\"] = google.colab.output.getActiveOutputArea();\n",
              "//# sourceURL=js_fec87c49d7"
            ],
            "text/plain": [
              "<IPython.core.display.Javascript object>"
            ]
          },
          "metadata": {}
        },
        {
          "output_type": "display_data",
          "data": {
            "application/javascript": [
              "window[\"98760536-1981-11ec-b638-0242ac1c0002\"] = document.querySelector(\"#id30-0-0\");\n",
              "//# sourceURL=js_1d03c61088"
            ],
            "text/plain": [
              "<IPython.core.display.Javascript object>"
            ]
          },
          "metadata": {}
        },
        {
          "output_type": "display_data",
          "data": {
            "application/javascript": [
              "window[\"98776606-1981-11ec-b638-0242ac1c0002\"] = google.colab.output.setActiveOutputArea(window[\"98760536-1981-11ec-b638-0242ac1c0002\"]);\n",
              "//# sourceURL=js_4b57e7954f"
            ],
            "text/plain": [
              "<IPython.core.display.Javascript object>"
            ]
          },
          "metadata": {}
        },
        {
          "output_type": "display_data",
          "data": {
            "application/javascript": [
              "window[\"9892c4e6-1981-11ec-b638-0242ac1c0002\"] = google.colab.output.setActiveOutputArea(window[\"98748512-1981-11ec-b638-0242ac1c0002\"]);\n",
              "//# sourceURL=js_9f2ddf28ab"
            ],
            "text/plain": [
              "<IPython.core.display.Javascript object>"
            ]
          },
          "metadata": {}
        },
        {
          "output_type": "display_data",
          "data": {
            "application/javascript": [
              "window[\"98e1a732-1981-11ec-b638-0242ac1c0002\"] = google.colab.output.getActiveOutputArea();\n",
              "//# sourceURL=js_55a7b4f1ef"
            ],
            "text/plain": [
              "<IPython.core.display.Javascript object>"
            ]
          },
          "metadata": {}
        },
        {
          "output_type": "display_data",
          "data": {
            "application/javascript": [
              "window[\"98e211f4-1981-11ec-b638-0242ac1c0002\"] = document.querySelector(\"#id30-0-0\");\n",
              "//# sourceURL=js_4262462096"
            ],
            "text/plain": [
              "<IPython.core.display.Javascript object>"
            ]
          },
          "metadata": {}
        },
        {
          "output_type": "display_data",
          "data": {
            "application/javascript": [
              "window[\"98e274fa-1981-11ec-b638-0242ac1c0002\"] = google.colab.output.setActiveOutputArea(window[\"98e211f4-1981-11ec-b638-0242ac1c0002\"]);\n",
              "//# sourceURL=js_fdaed283c2"
            ],
            "text/plain": [
              "<IPython.core.display.Javascript object>"
            ]
          },
          "metadata": {}
        },
        {
          "output_type": "display_data",
          "data": {
            "application/javascript": [
              "window[\"98fd9294-1981-11ec-b638-0242ac1c0002\"] = google.colab.output.setActiveOutputArea(window[\"98e1a732-1981-11ec-b638-0242ac1c0002\"]);\n",
              "//# sourceURL=js_464cd1748f"
            ],
            "text/plain": [
              "<IPython.core.display.Javascript object>"
            ]
          },
          "metadata": {}
        },
        {
          "output_type": "display_data",
          "data": {
            "application/javascript": [
              "window[\"994c1388-1981-11ec-b638-0242ac1c0002\"] = google.colab.output.getActiveOutputArea();\n",
              "//# sourceURL=js_8d95d9fa9b"
            ],
            "text/plain": [
              "<IPython.core.display.Javascript object>"
            ]
          },
          "metadata": {}
        },
        {
          "output_type": "display_data",
          "data": {
            "application/javascript": [
              "window[\"994d7674-1981-11ec-b638-0242ac1c0002\"] = document.querySelector(\"#id30-0-0\");\n",
              "//# sourceURL=js_e4f143779f"
            ],
            "text/plain": [
              "<IPython.core.display.Javascript object>"
            ]
          },
          "metadata": {}
        },
        {
          "output_type": "display_data",
          "data": {
            "application/javascript": [
              "window[\"994e5fbc-1981-11ec-b638-0242ac1c0002\"] = google.colab.output.setActiveOutputArea(window[\"994d7674-1981-11ec-b638-0242ac1c0002\"]);\n",
              "//# sourceURL=js_8c85b864f2"
            ],
            "text/plain": [
              "<IPython.core.display.Javascript object>"
            ]
          },
          "metadata": {}
        },
        {
          "output_type": "display_data",
          "data": {
            "application/javascript": [
              "window[\"9968ead0-1981-11ec-b638-0242ac1c0002\"] = google.colab.output.setActiveOutputArea(window[\"994c1388-1981-11ec-b638-0242ac1c0002\"]);\n",
              "//# sourceURL=js_849f90fa96"
            ],
            "text/plain": [
              "<IPython.core.display.Javascript object>"
            ]
          },
          "metadata": {}
        },
        {
          "output_type": "display_data",
          "data": {
            "application/javascript": [
              "window[\"99bac2b0-1981-11ec-b638-0242ac1c0002\"] = google.colab.output.getActiveOutputArea();\n",
              "//# sourceURL=js_ba725c7005"
            ],
            "text/plain": [
              "<IPython.core.display.Javascript object>"
            ]
          },
          "metadata": {}
        },
        {
          "output_type": "display_data",
          "data": {
            "application/javascript": [
              "window[\"99bb3ad8-1981-11ec-b638-0242ac1c0002\"] = document.querySelector(\"#id30-0-0\");\n",
              "//# sourceURL=js_bfae7e3cc6"
            ],
            "text/plain": [
              "<IPython.core.display.Javascript object>"
            ]
          },
          "metadata": {}
        },
        {
          "output_type": "display_data",
          "data": {
            "application/javascript": [
              "window[\"99bbee38-1981-11ec-b638-0242ac1c0002\"] = google.colab.output.setActiveOutputArea(window[\"99bb3ad8-1981-11ec-b638-0242ac1c0002\"]);\n",
              "//# sourceURL=js_e3bac51708"
            ],
            "text/plain": [
              "<IPython.core.display.Javascript object>"
            ]
          },
          "metadata": {}
        },
        {
          "output_type": "display_data",
          "data": {
            "application/javascript": [
              "window[\"99d6035e-1981-11ec-b638-0242ac1c0002\"] = google.colab.output.setActiveOutputArea(window[\"99bac2b0-1981-11ec-b638-0242ac1c0002\"]);\n",
              "//# sourceURL=js_07f1c7ef8e"
            ],
            "text/plain": [
              "<IPython.core.display.Javascript object>"
            ]
          },
          "metadata": {}
        },
        {
          "output_type": "display_data",
          "data": {
            "application/javascript": [
              "window[\"9a2502a6-1981-11ec-b638-0242ac1c0002\"] = google.colab.output.getActiveOutputArea();\n",
              "//# sourceURL=js_3652219713"
            ],
            "text/plain": [
              "<IPython.core.display.Javascript object>"
            ]
          },
          "metadata": {}
        },
        {
          "output_type": "display_data",
          "data": {
            "application/javascript": [
              "window[\"9a257150-1981-11ec-b638-0242ac1c0002\"] = document.querySelector(\"#id30-0-0\");\n",
              "//# sourceURL=js_5cb9e85a71"
            ],
            "text/plain": [
              "<IPython.core.display.Javascript object>"
            ]
          },
          "metadata": {}
        },
        {
          "output_type": "display_data",
          "data": {
            "application/javascript": [
              "window[\"9a25dc94-1981-11ec-b638-0242ac1c0002\"] = google.colab.output.setActiveOutputArea(window[\"9a257150-1981-11ec-b638-0242ac1c0002\"]);\n",
              "//# sourceURL=js_6138ca1c7b"
            ],
            "text/plain": [
              "<IPython.core.display.Javascript object>"
            ]
          },
          "metadata": {}
        },
        {
          "output_type": "display_data",
          "data": {
            "application/javascript": [
              "window[\"9a412a6c-1981-11ec-b638-0242ac1c0002\"] = google.colab.output.setActiveOutputArea(window[\"9a2502a6-1981-11ec-b638-0242ac1c0002\"]);\n",
              "//# sourceURL=js_65a20244e2"
            ],
            "text/plain": [
              "<IPython.core.display.Javascript object>"
            ]
          },
          "metadata": {}
        },
        {
          "output_type": "display_data",
          "data": {
            "application/javascript": [
              "window[\"9a8ffd40-1981-11ec-b638-0242ac1c0002\"] = google.colab.output.getActiveOutputArea();\n",
              "//# sourceURL=js_c454302f37"
            ],
            "text/plain": [
              "<IPython.core.display.Javascript object>"
            ]
          },
          "metadata": {}
        },
        {
          "output_type": "display_data",
          "data": {
            "application/javascript": [
              "window[\"9a907360-1981-11ec-b638-0242ac1c0002\"] = document.querySelector(\"#id30-0-0\");\n",
              "//# sourceURL=js_4d82177203"
            ],
            "text/plain": [
              "<IPython.core.display.Javascript object>"
            ]
          },
          "metadata": {}
        },
        {
          "output_type": "display_data",
          "data": {
            "application/javascript": [
              "window[\"9a90ec6e-1981-11ec-b638-0242ac1c0002\"] = google.colab.output.setActiveOutputArea(window[\"9a907360-1981-11ec-b638-0242ac1c0002\"]);\n",
              "//# sourceURL=js_d4e87ae66c"
            ],
            "text/plain": [
              "<IPython.core.display.Javascript object>"
            ]
          },
          "metadata": {}
        },
        {
          "output_type": "display_data",
          "data": {
            "application/javascript": [
              "window[\"9aad40e4-1981-11ec-b638-0242ac1c0002\"] = google.colab.output.setActiveOutputArea(window[\"9a8ffd40-1981-11ec-b638-0242ac1c0002\"]);\n",
              "//# sourceURL=js_e0dd86e314"
            ],
            "text/plain": [
              "<IPython.core.display.Javascript object>"
            ]
          },
          "metadata": {}
        },
        {
          "output_type": "display_data",
          "data": {
            "application/javascript": [
              "window[\"9afc3f8c-1981-11ec-b638-0242ac1c0002\"] = google.colab.output.getActiveOutputArea();\n",
              "//# sourceURL=js_22af8d17c3"
            ],
            "text/plain": [
              "<IPython.core.display.Javascript object>"
            ]
          },
          "metadata": {}
        },
        {
          "output_type": "display_data",
          "data": {
            "application/javascript": [
              "window[\"9afcb91c-1981-11ec-b638-0242ac1c0002\"] = document.querySelector(\"#id30-0-0\");\n",
              "//# sourceURL=js_9ad329eab3"
            ],
            "text/plain": [
              "<IPython.core.display.Javascript object>"
            ]
          },
          "metadata": {}
        },
        {
          "output_type": "display_data",
          "data": {
            "application/javascript": [
              "window[\"9afd2ece-1981-11ec-b638-0242ac1c0002\"] = google.colab.output.setActiveOutputArea(window[\"9afcb91c-1981-11ec-b638-0242ac1c0002\"]);\n",
              "//# sourceURL=js_954d221240"
            ],
            "text/plain": [
              "<IPython.core.display.Javascript object>"
            ]
          },
          "metadata": {}
        },
        {
          "output_type": "display_data",
          "data": {
            "application/javascript": [
              "window[\"9b16d7d4-1981-11ec-b638-0242ac1c0002\"] = google.colab.output.setActiveOutputArea(window[\"9afc3f8c-1981-11ec-b638-0242ac1c0002\"]);\n",
              "//# sourceURL=js_22c1089520"
            ],
            "text/plain": [
              "<IPython.core.display.Javascript object>"
            ]
          },
          "metadata": {}
        },
        {
          "output_type": "display_data",
          "data": {
            "application/javascript": [
              "window[\"9b6665c4-1981-11ec-b638-0242ac1c0002\"] = google.colab.output.getActiveOutputArea();\n",
              "//# sourceURL=js_e6afc78d70"
            ],
            "text/plain": [
              "<IPython.core.display.Javascript object>"
            ]
          },
          "metadata": {}
        },
        {
          "output_type": "display_data",
          "data": {
            "application/javascript": [
              "window[\"9b66bdd0-1981-11ec-b638-0242ac1c0002\"] = document.querySelector(\"#id30-0-0\");\n",
              "//# sourceURL=js_dbf35e10c9"
            ],
            "text/plain": [
              "<IPython.core.display.Javascript object>"
            ]
          },
          "metadata": {}
        },
        {
          "output_type": "display_data",
          "data": {
            "application/javascript": [
              "window[\"9b68995c-1981-11ec-b638-0242ac1c0002\"] = google.colab.output.setActiveOutputArea(window[\"9b66bdd0-1981-11ec-b638-0242ac1c0002\"]);\n",
              "//# sourceURL=js_ce85194af6"
            ],
            "text/plain": [
              "<IPython.core.display.Javascript object>"
            ]
          },
          "metadata": {}
        },
        {
          "output_type": "display_data",
          "data": {
            "application/javascript": [
              "window[\"9b84ec9c-1981-11ec-b638-0242ac1c0002\"] = google.colab.output.setActiveOutputArea(window[\"9b6665c4-1981-11ec-b638-0242ac1c0002\"]);\n",
              "//# sourceURL=js_bbf0e25b13"
            ],
            "text/plain": [
              "<IPython.core.display.Javascript object>"
            ]
          },
          "metadata": {}
        },
        {
          "output_type": "display_data",
          "data": {
            "application/javascript": [
              "window[\"9bd4e35a-1981-11ec-b638-0242ac1c0002\"] = google.colab.output.getActiveOutputArea();\n",
              "//# sourceURL=js_ffb88341be"
            ],
            "text/plain": [
              "<IPython.core.display.Javascript object>"
            ]
          },
          "metadata": {}
        },
        {
          "output_type": "display_data",
          "data": {
            "application/javascript": [
              "window[\"9bd570e0-1981-11ec-b638-0242ac1c0002\"] = document.querySelector(\"#id30-0-0\");\n",
              "//# sourceURL=js_70d2c14d7f"
            ],
            "text/plain": [
              "<IPython.core.display.Javascript object>"
            ]
          },
          "metadata": {}
        },
        {
          "output_type": "display_data",
          "data": {
            "application/javascript": [
              "window[\"9bd5d7e2-1981-11ec-b638-0242ac1c0002\"] = google.colab.output.setActiveOutputArea(window[\"9bd570e0-1981-11ec-b638-0242ac1c0002\"]);\n",
              "//# sourceURL=js_909b8375c6"
            ],
            "text/plain": [
              "<IPython.core.display.Javascript object>"
            ]
          },
          "metadata": {}
        },
        {
          "output_type": "display_data",
          "data": {
            "application/javascript": [
              "window[\"9bf58a10-1981-11ec-b638-0242ac1c0002\"] = google.colab.output.setActiveOutputArea(window[\"9bd4e35a-1981-11ec-b638-0242ac1c0002\"]);\n",
              "//# sourceURL=js_37d08d2695"
            ],
            "text/plain": [
              "<IPython.core.display.Javascript object>"
            ]
          },
          "metadata": {}
        },
        {
          "output_type": "display_data",
          "data": {
            "application/javascript": [
              "window[\"9c47ce9c-1981-11ec-b638-0242ac1c0002\"] = google.colab.output.getActiveOutputArea();\n",
              "//# sourceURL=js_4bd994be43"
            ],
            "text/plain": [
              "<IPython.core.display.Javascript object>"
            ]
          },
          "metadata": {}
        },
        {
          "output_type": "display_data",
          "data": {
            "application/javascript": [
              "window[\"9c4919b4-1981-11ec-b638-0242ac1c0002\"] = document.querySelector(\"#id30-0-0\");\n",
              "//# sourceURL=js_d0663288b1"
            ],
            "text/plain": [
              "<IPython.core.display.Javascript object>"
            ]
          },
          "metadata": {}
        },
        {
          "output_type": "display_data",
          "data": {
            "application/javascript": [
              "window[\"9c4a31aa-1981-11ec-b638-0242ac1c0002\"] = google.colab.output.setActiveOutputArea(window[\"9c4919b4-1981-11ec-b638-0242ac1c0002\"]);\n",
              "//# sourceURL=js_905fe00d9f"
            ],
            "text/plain": [
              "<IPython.core.display.Javascript object>"
            ]
          },
          "metadata": {}
        },
        {
          "output_type": "display_data",
          "data": {
            "application/javascript": [
              "window[\"9c69a6f2-1981-11ec-b638-0242ac1c0002\"] = google.colab.output.setActiveOutputArea(window[\"9c47ce9c-1981-11ec-b638-0242ac1c0002\"]);\n",
              "//# sourceURL=js_83df672fb0"
            ],
            "text/plain": [
              "<IPython.core.display.Javascript object>"
            ]
          },
          "metadata": {}
        },
        {
          "output_type": "display_data",
          "data": {
            "application/javascript": [
              "window[\"9cb819c2-1981-11ec-b638-0242ac1c0002\"] = google.colab.output.getActiveOutputArea();\n",
              "//# sourceURL=js_b65747b6b4"
            ],
            "text/plain": [
              "<IPython.core.display.Javascript object>"
            ]
          },
          "metadata": {}
        },
        {
          "output_type": "display_data",
          "data": {
            "application/javascript": [
              "window[\"9cb87ec6-1981-11ec-b638-0242ac1c0002\"] = document.querySelector(\"#id30-0-0\");\n",
              "//# sourceURL=js_e0c4c81118"
            ],
            "text/plain": [
              "<IPython.core.display.Javascript object>"
            ]
          },
          "metadata": {}
        },
        {
          "output_type": "display_data",
          "data": {
            "application/javascript": [
              "window[\"9cb8e064-1981-11ec-b638-0242ac1c0002\"] = google.colab.output.setActiveOutputArea(window[\"9cb87ec6-1981-11ec-b638-0242ac1c0002\"]);\n",
              "//# sourceURL=js_cba140f757"
            ],
            "text/plain": [
              "<IPython.core.display.Javascript object>"
            ]
          },
          "metadata": {}
        },
        {
          "output_type": "display_data",
          "data": {
            "application/javascript": [
              "window[\"9cd5c38c-1981-11ec-b638-0242ac1c0002\"] = google.colab.output.setActiveOutputArea(window[\"9cb819c2-1981-11ec-b638-0242ac1c0002\"]);\n",
              "//# sourceURL=js_d1df71d129"
            ],
            "text/plain": [
              "<IPython.core.display.Javascript object>"
            ]
          },
          "metadata": {}
        },
        {
          "output_type": "display_data",
          "data": {
            "application/javascript": [
              "window[\"9d246596-1981-11ec-b638-0242ac1c0002\"] = google.colab.output.getActiveOutputArea();\n",
              "//# sourceURL=js_bdbb38f994"
            ],
            "text/plain": [
              "<IPython.core.display.Javascript object>"
            ]
          },
          "metadata": {}
        },
        {
          "output_type": "display_data",
          "data": {
            "application/javascript": [
              "window[\"9d24c5fe-1981-11ec-b638-0242ac1c0002\"] = document.querySelector(\"#id30-0-0\");\n",
              "//# sourceURL=js_523da4b6c6"
            ],
            "text/plain": [
              "<IPython.core.display.Javascript object>"
            ]
          },
          "metadata": {}
        },
        {
          "output_type": "display_data",
          "data": {
            "application/javascript": [
              "window[\"9d25235a-1981-11ec-b638-0242ac1c0002\"] = google.colab.output.setActiveOutputArea(window[\"9d24c5fe-1981-11ec-b638-0242ac1c0002\"]);\n",
              "//# sourceURL=js_83a07a224e"
            ],
            "text/plain": [
              "<IPython.core.display.Javascript object>"
            ]
          },
          "metadata": {}
        },
        {
          "output_type": "display_data",
          "data": {
            "application/javascript": [
              "window[\"9d42b76c-1981-11ec-b638-0242ac1c0002\"] = google.colab.output.setActiveOutputArea(window[\"9d246596-1981-11ec-b638-0242ac1c0002\"]);\n",
              "//# sourceURL=js_5254f9ea0c"
            ],
            "text/plain": [
              "<IPython.core.display.Javascript object>"
            ]
          },
          "metadata": {}
        },
        {
          "output_type": "display_data",
          "data": {
            "application/javascript": [
              "window[\"9d91f6ec-1981-11ec-b638-0242ac1c0002\"] = google.colab.output.getActiveOutputArea();\n",
              "//# sourceURL=js_43f759e478"
            ],
            "text/plain": [
              "<IPython.core.display.Javascript object>"
            ]
          },
          "metadata": {}
        },
        {
          "output_type": "display_data",
          "data": {
            "application/javascript": [
              "window[\"9d92a506-1981-11ec-b638-0242ac1c0002\"] = document.querySelector(\"#id30-0-0\");\n",
              "//# sourceURL=js_b492c11ede"
            ],
            "text/plain": [
              "<IPython.core.display.Javascript object>"
            ]
          },
          "metadata": {}
        },
        {
          "output_type": "display_data",
          "data": {
            "application/javascript": [
              "window[\"9d93350c-1981-11ec-b638-0242ac1c0002\"] = google.colab.output.setActiveOutputArea(window[\"9d92a506-1981-11ec-b638-0242ac1c0002\"]);\n",
              "//# sourceURL=js_1631d2a89e"
            ],
            "text/plain": [
              "<IPython.core.display.Javascript object>"
            ]
          },
          "metadata": {}
        },
        {
          "output_type": "display_data",
          "data": {
            "application/javascript": [
              "window[\"9db17936-1981-11ec-b638-0242ac1c0002\"] = google.colab.output.setActiveOutputArea(window[\"9d91f6ec-1981-11ec-b638-0242ac1c0002\"]);\n",
              "//# sourceURL=js_f0d37a3d78"
            ],
            "text/plain": [
              "<IPython.core.display.Javascript object>"
            ]
          },
          "metadata": {}
        },
        {
          "output_type": "display_data",
          "data": {
            "application/javascript": [
              "window[\"9e000826-1981-11ec-b638-0242ac1c0002\"] = google.colab.output.getActiveOutputArea();\n",
              "//# sourceURL=js_7cd4871c45"
            ],
            "text/plain": [
              "<IPython.core.display.Javascript object>"
            ]
          },
          "metadata": {}
        },
        {
          "output_type": "display_data",
          "data": {
            "application/javascript": [
              "window[\"9e0086d4-1981-11ec-b638-0242ac1c0002\"] = document.querySelector(\"#id30-0-0\");\n",
              "//# sourceURL=js_72fb355802"
            ],
            "text/plain": [
              "<IPython.core.display.Javascript object>"
            ]
          },
          "metadata": {}
        },
        {
          "output_type": "display_data",
          "data": {
            "application/javascript": [
              "window[\"9e00f8da-1981-11ec-b638-0242ac1c0002\"] = google.colab.output.setActiveOutputArea(window[\"9e0086d4-1981-11ec-b638-0242ac1c0002\"]);\n",
              "//# sourceURL=js_ca038206e1"
            ],
            "text/plain": [
              "<IPython.core.display.Javascript object>"
            ]
          },
          "metadata": {}
        },
        {
          "output_type": "display_data",
          "data": {
            "application/javascript": [
              "window[\"9e3429e4-1981-11ec-b638-0242ac1c0002\"] = google.colab.output.setActiveOutputArea(window[\"9e000826-1981-11ec-b638-0242ac1c0002\"]);\n",
              "//# sourceURL=js_7a412e8122"
            ],
            "text/plain": [
              "<IPython.core.display.Javascript object>"
            ]
          },
          "metadata": {}
        },
        {
          "output_type": "display_data",
          "data": {
            "application/javascript": [
              "window[\"9e836f7c-1981-11ec-b638-0242ac1c0002\"] = google.colab.output.getActiveOutputArea();\n",
              "//# sourceURL=js_f37d1819ac"
            ],
            "text/plain": [
              "<IPython.core.display.Javascript object>"
            ]
          },
          "metadata": {}
        },
        {
          "output_type": "display_data",
          "data": {
            "application/javascript": [
              "window[\"9e842872-1981-11ec-b638-0242ac1c0002\"] = document.querySelector(\"#id30-0-0\");\n",
              "//# sourceURL=js_cc749cfc5c"
            ],
            "text/plain": [
              "<IPython.core.display.Javascript object>"
            ]
          },
          "metadata": {}
        },
        {
          "output_type": "display_data",
          "data": {
            "application/javascript": [
              "window[\"9e8526f0-1981-11ec-b638-0242ac1c0002\"] = google.colab.output.setActiveOutputArea(window[\"9e842872-1981-11ec-b638-0242ac1c0002\"]);\n",
              "//# sourceURL=js_4e7d4067a2"
            ],
            "text/plain": [
              "<IPython.core.display.Javascript object>"
            ]
          },
          "metadata": {}
        },
        {
          "output_type": "display_data",
          "data": {
            "application/javascript": [
              "window[\"9ea187d2-1981-11ec-b638-0242ac1c0002\"] = google.colab.output.setActiveOutputArea(window[\"9e836f7c-1981-11ec-b638-0242ac1c0002\"]);\n",
              "//# sourceURL=js_bfa05fb033"
            ],
            "text/plain": [
              "<IPython.core.display.Javascript object>"
            ]
          },
          "metadata": {}
        },
        {
          "output_type": "display_data",
          "data": {
            "application/javascript": [
              "window[\"9ef0b398-1981-11ec-b638-0242ac1c0002\"] = google.colab.output.getActiveOutputArea();\n",
              "//# sourceURL=js_0d4ff27bfa"
            ],
            "text/plain": [
              "<IPython.core.display.Javascript object>"
            ]
          },
          "metadata": {}
        },
        {
          "output_type": "display_data",
          "data": {
            "application/javascript": [
              "window[\"9ef19f56-1981-11ec-b638-0242ac1c0002\"] = document.querySelector(\"#id30-0-0\");\n",
              "//# sourceURL=js_8cef18a91f"
            ],
            "text/plain": [
              "<IPython.core.display.Javascript object>"
            ]
          },
          "metadata": {}
        },
        {
          "output_type": "display_data",
          "data": {
            "application/javascript": [
              "window[\"9ef25162-1981-11ec-b638-0242ac1c0002\"] = google.colab.output.setActiveOutputArea(window[\"9ef19f56-1981-11ec-b638-0242ac1c0002\"]);\n",
              "//# sourceURL=js_89baf6afe0"
            ],
            "text/plain": [
              "<IPython.core.display.Javascript object>"
            ]
          },
          "metadata": {}
        },
        {
          "output_type": "display_data",
          "data": {
            "application/javascript": [
              "window[\"9f104618-1981-11ec-b638-0242ac1c0002\"] = google.colab.output.setActiveOutputArea(window[\"9ef0b398-1981-11ec-b638-0242ac1c0002\"]);\n",
              "//# sourceURL=js_7ba787903a"
            ],
            "text/plain": [
              "<IPython.core.display.Javascript object>"
            ]
          },
          "metadata": {}
        },
        {
          "output_type": "display_data",
          "data": {
            "application/javascript": [
              "window[\"9f5ee796-1981-11ec-b638-0242ac1c0002\"] = google.colab.output.getActiveOutputArea();\n",
              "//# sourceURL=js_c3b5957396"
            ],
            "text/plain": [
              "<IPython.core.display.Javascript object>"
            ]
          },
          "metadata": {}
        },
        {
          "output_type": "display_data",
          "data": {
            "application/javascript": [
              "window[\"9f5f6978-1981-11ec-b638-0242ac1c0002\"] = document.querySelector(\"#id30-0-0\");\n",
              "//# sourceURL=js_5c0e7ab791"
            ],
            "text/plain": [
              "<IPython.core.display.Javascript object>"
            ]
          },
          "metadata": {}
        },
        {
          "output_type": "display_data",
          "data": {
            "application/javascript": [
              "window[\"9f5fef24-1981-11ec-b638-0242ac1c0002\"] = google.colab.output.setActiveOutputArea(window[\"9f5f6978-1981-11ec-b638-0242ac1c0002\"]);\n",
              "//# sourceURL=js_faeaa1f333"
            ],
            "text/plain": [
              "<IPython.core.display.Javascript object>"
            ]
          },
          "metadata": {}
        },
        {
          "output_type": "display_data",
          "data": {
            "application/javascript": [
              "window[\"9f7ba1a6-1981-11ec-b638-0242ac1c0002\"] = google.colab.output.setActiveOutputArea(window[\"9f5ee796-1981-11ec-b638-0242ac1c0002\"]);\n",
              "//# sourceURL=js_80c08165d1"
            ],
            "text/plain": [
              "<IPython.core.display.Javascript object>"
            ]
          },
          "metadata": {}
        },
        {
          "output_type": "display_data",
          "data": {
            "application/javascript": [
              "window[\"9fcaefa4-1981-11ec-b638-0242ac1c0002\"] = google.colab.output.getActiveOutputArea();\n",
              "//# sourceURL=js_ecb366ebe5"
            ],
            "text/plain": [
              "<IPython.core.display.Javascript object>"
            ]
          },
          "metadata": {}
        },
        {
          "output_type": "display_data",
          "data": {
            "application/javascript": [
              "window[\"9fcb5dae-1981-11ec-b638-0242ac1c0002\"] = document.querySelector(\"#id30-0-0\");\n",
              "//# sourceURL=js_4f08b34409"
            ],
            "text/plain": [
              "<IPython.core.display.Javascript object>"
            ]
          },
          "metadata": {}
        },
        {
          "output_type": "display_data",
          "data": {
            "application/javascript": [
              "window[\"9fcc0efc-1981-11ec-b638-0242ac1c0002\"] = google.colab.output.setActiveOutputArea(window[\"9fcb5dae-1981-11ec-b638-0242ac1c0002\"]);\n",
              "//# sourceURL=js_9e2caa6e74"
            ],
            "text/plain": [
              "<IPython.core.display.Javascript object>"
            ]
          },
          "metadata": {}
        },
        {
          "output_type": "display_data",
          "data": {
            "application/javascript": [
              "window[\"9fe92f0a-1981-11ec-b638-0242ac1c0002\"] = google.colab.output.setActiveOutputArea(window[\"9fcaefa4-1981-11ec-b638-0242ac1c0002\"]);\n",
              "//# sourceURL=js_a807861589"
            ],
            "text/plain": [
              "<IPython.core.display.Javascript object>"
            ]
          },
          "metadata": {}
        },
        {
          "output_type": "display_data",
          "data": {
            "application/javascript": [
              "window[\"a037f040-1981-11ec-b638-0242ac1c0002\"] = google.colab.output.getActiveOutputArea();\n",
              "//# sourceURL=js_98a1756d80"
            ],
            "text/plain": [
              "<IPython.core.display.Javascript object>"
            ]
          },
          "metadata": {}
        },
        {
          "output_type": "display_data",
          "data": {
            "application/javascript": [
              "window[\"a038830c-1981-11ec-b638-0242ac1c0002\"] = document.querySelector(\"#id30-0-0\");\n",
              "//# sourceURL=js_2a3f41b128"
            ],
            "text/plain": [
              "<IPython.core.display.Javascript object>"
            ]
          },
          "metadata": {}
        },
        {
          "output_type": "display_data",
          "data": {
            "application/javascript": [
              "window[\"a0392a0a-1981-11ec-b638-0242ac1c0002\"] = google.colab.output.setActiveOutputArea(window[\"a038830c-1981-11ec-b638-0242ac1c0002\"]);\n",
              "//# sourceURL=js_a83522d166"
            ],
            "text/plain": [
              "<IPython.core.display.Javascript object>"
            ]
          },
          "metadata": {}
        },
        {
          "output_type": "display_data",
          "data": {
            "application/javascript": [
              "window[\"a055e8d4-1981-11ec-b638-0242ac1c0002\"] = google.colab.output.setActiveOutputArea(window[\"a037f040-1981-11ec-b638-0242ac1c0002\"]);\n",
              "//# sourceURL=js_3cf61f9519"
            ],
            "text/plain": [
              "<IPython.core.display.Javascript object>"
            ]
          },
          "metadata": {}
        },
        {
          "output_type": "display_data",
          "data": {
            "application/javascript": [
              "window[\"a0a92dc8-1981-11ec-b638-0242ac1c0002\"] = google.colab.output.getActiveOutputArea();\n",
              "//# sourceURL=js_59698aa406"
            ],
            "text/plain": [
              "<IPython.core.display.Javascript object>"
            ]
          },
          "metadata": {}
        },
        {
          "output_type": "display_data",
          "data": {
            "application/javascript": [
              "window[\"a0aaea32-1981-11ec-b638-0242ac1c0002\"] = document.querySelector(\"#id30-0-0\");\n",
              "//# sourceURL=js_1a49602dd9"
            ],
            "text/plain": [
              "<IPython.core.display.Javascript object>"
            ]
          },
          "metadata": {}
        },
        {
          "output_type": "display_data",
          "data": {
            "application/javascript": [
              "window[\"a0abc59c-1981-11ec-b638-0242ac1c0002\"] = google.colab.output.setActiveOutputArea(window[\"a0aaea32-1981-11ec-b638-0242ac1c0002\"]);\n",
              "//# sourceURL=js_e224fbe326"
            ],
            "text/plain": [
              "<IPython.core.display.Javascript object>"
            ]
          },
          "metadata": {}
        },
        {
          "output_type": "display_data",
          "data": {
            "application/javascript": [
              "window[\"a0c7f578-1981-11ec-b638-0242ac1c0002\"] = google.colab.output.setActiveOutputArea(window[\"a0a92dc8-1981-11ec-b638-0242ac1c0002\"]);\n",
              "//# sourceURL=js_b5933f37a3"
            ],
            "text/plain": [
              "<IPython.core.display.Javascript object>"
            ]
          },
          "metadata": {}
        },
        {
          "output_type": "display_data",
          "data": {
            "application/javascript": [
              "window[\"a116dd32-1981-11ec-b638-0242ac1c0002\"] = google.colab.output.getActiveOutputArea();\n",
              "//# sourceURL=js_da9eafa161"
            ],
            "text/plain": [
              "<IPython.core.display.Javascript object>"
            ]
          },
          "metadata": {}
        },
        {
          "output_type": "display_data",
          "data": {
            "application/javascript": [
              "window[\"a11760b8-1981-11ec-b638-0242ac1c0002\"] = document.querySelector(\"#id30-0-0\");\n",
              "//# sourceURL=js_49b6326659"
            ],
            "text/plain": [
              "<IPython.core.display.Javascript object>"
            ]
          },
          "metadata": {}
        },
        {
          "output_type": "display_data",
          "data": {
            "application/javascript": [
              "window[\"a117c5c6-1981-11ec-b638-0242ac1c0002\"] = google.colab.output.setActiveOutputArea(window[\"a11760b8-1981-11ec-b638-0242ac1c0002\"]);\n",
              "//# sourceURL=js_387ccf28f6"
            ],
            "text/plain": [
              "<IPython.core.display.Javascript object>"
            ]
          },
          "metadata": {}
        },
        {
          "output_type": "display_data",
          "data": {
            "application/javascript": [
              "window[\"a136d06a-1981-11ec-b638-0242ac1c0002\"] = google.colab.output.setActiveOutputArea(window[\"a116dd32-1981-11ec-b638-0242ac1c0002\"]);\n",
              "//# sourceURL=js_278582a0a6"
            ],
            "text/plain": [
              "<IPython.core.display.Javascript object>"
            ]
          },
          "metadata": {}
        },
        {
          "output_type": "display_data",
          "data": {
            "application/javascript": [
              "window[\"a185afb4-1981-11ec-b638-0242ac1c0002\"] = google.colab.output.getActiveOutputArea();\n",
              "//# sourceURL=js_12ab3ba9f1"
            ],
            "text/plain": [
              "<IPython.core.display.Javascript object>"
            ]
          },
          "metadata": {}
        },
        {
          "output_type": "display_data",
          "data": {
            "application/javascript": [
              "window[\"a18665d0-1981-11ec-b638-0242ac1c0002\"] = document.querySelector(\"#id30-0-0\");\n",
              "//# sourceURL=js_b741d1c917"
            ],
            "text/plain": [
              "<IPython.core.display.Javascript object>"
            ]
          },
          "metadata": {}
        },
        {
          "output_type": "display_data",
          "data": {
            "application/javascript": [
              "window[\"a1875dbe-1981-11ec-b638-0242ac1c0002\"] = google.colab.output.setActiveOutputArea(window[\"a18665d0-1981-11ec-b638-0242ac1c0002\"]);\n",
              "//# sourceURL=js_929e97ec9f"
            ],
            "text/plain": [
              "<IPython.core.display.Javascript object>"
            ]
          },
          "metadata": {}
        },
        {
          "output_type": "display_data",
          "data": {
            "application/javascript": [
              "window[\"a1a3eb8c-1981-11ec-b638-0242ac1c0002\"] = google.colab.output.setActiveOutputArea(window[\"a185afb4-1981-11ec-b638-0242ac1c0002\"]);\n",
              "//# sourceURL=js_5fd13ad76a"
            ],
            "text/plain": [
              "<IPython.core.display.Javascript object>"
            ]
          },
          "metadata": {}
        },
        {
          "output_type": "display_data",
          "data": {
            "application/javascript": [
              "window[\"a1f25b78-1981-11ec-b638-0242ac1c0002\"] = google.colab.output.getActiveOutputArea();\n",
              "//# sourceURL=js_30c9b37503"
            ],
            "text/plain": [
              "<IPython.core.display.Javascript object>"
            ]
          },
          "metadata": {}
        },
        {
          "output_type": "display_data",
          "data": {
            "application/javascript": [
              "window[\"a1f2be88-1981-11ec-b638-0242ac1c0002\"] = document.querySelector(\"#id30-0-0\");\n",
              "//# sourceURL=js_f5686b4537"
            ],
            "text/plain": [
              "<IPython.core.display.Javascript object>"
            ]
          },
          "metadata": {}
        },
        {
          "output_type": "display_data",
          "data": {
            "application/javascript": [
              "window[\"a1f316a8-1981-11ec-b638-0242ac1c0002\"] = google.colab.output.setActiveOutputArea(window[\"a1f2be88-1981-11ec-b638-0242ac1c0002\"]);\n",
              "//# sourceURL=js_639bc818dc"
            ],
            "text/plain": [
              "<IPython.core.display.Javascript object>"
            ]
          },
          "metadata": {}
        },
        {
          "output_type": "display_data",
          "data": {
            "application/javascript": [
              "window[\"a2101e24-1981-11ec-b638-0242ac1c0002\"] = google.colab.output.setActiveOutputArea(window[\"a1f25b78-1981-11ec-b638-0242ac1c0002\"]);\n",
              "//# sourceURL=js_d69d7ce1ad"
            ],
            "text/plain": [
              "<IPython.core.display.Javascript object>"
            ]
          },
          "metadata": {}
        },
        {
          "output_type": "display_data",
          "data": {
            "application/javascript": [
              "window[\"a25e7196-1981-11ec-b638-0242ac1c0002\"] = google.colab.output.getActiveOutputArea();\n",
              "//# sourceURL=js_08f3a83683"
            ],
            "text/plain": [
              "<IPython.core.display.Javascript object>"
            ]
          },
          "metadata": {}
        },
        {
          "output_type": "display_data",
          "data": {
            "application/javascript": [
              "window[\"a25ec68c-1981-11ec-b638-0242ac1c0002\"] = document.querySelector(\"#id30-0-0\");\n",
              "//# sourceURL=js_199a468c44"
            ],
            "text/plain": [
              "<IPython.core.display.Javascript object>"
            ]
          },
          "metadata": {}
        },
        {
          "output_type": "display_data",
          "data": {
            "application/javascript": [
              "window[\"a25f2d48-1981-11ec-b638-0242ac1c0002\"] = google.colab.output.setActiveOutputArea(window[\"a25ec68c-1981-11ec-b638-0242ac1c0002\"]);\n",
              "//# sourceURL=js_a57a9d0b63"
            ],
            "text/plain": [
              "<IPython.core.display.Javascript object>"
            ]
          },
          "metadata": {}
        },
        {
          "output_type": "display_data",
          "data": {
            "application/javascript": [
              "window[\"a27cd87a-1981-11ec-b638-0242ac1c0002\"] = google.colab.output.setActiveOutputArea(window[\"a25e7196-1981-11ec-b638-0242ac1c0002\"]);\n",
              "//# sourceURL=js_ff42d6b153"
            ],
            "text/plain": [
              "<IPython.core.display.Javascript object>"
            ]
          },
          "metadata": {}
        },
        {
          "output_type": "display_data",
          "data": {
            "application/javascript": [
              "window[\"a2cd53a4-1981-11ec-b638-0242ac1c0002\"] = google.colab.output.getActiveOutputArea();\n",
              "//# sourceURL=js_d7829120e7"
            ],
            "text/plain": [
              "<IPython.core.display.Javascript object>"
            ]
          },
          "metadata": {}
        },
        {
          "output_type": "display_data",
          "data": {
            "application/javascript": [
              "window[\"a2cddd7e-1981-11ec-b638-0242ac1c0002\"] = document.querySelector(\"#id30-0-0\");\n",
              "//# sourceURL=js_c8f795cb75"
            ],
            "text/plain": [
              "<IPython.core.display.Javascript object>"
            ]
          },
          "metadata": {}
        },
        {
          "output_type": "display_data",
          "data": {
            "application/javascript": [
              "window[\"a2ce5eac-1981-11ec-b638-0242ac1c0002\"] = google.colab.output.setActiveOutputArea(window[\"a2cddd7e-1981-11ec-b638-0242ac1c0002\"]);\n",
              "//# sourceURL=js_ea87ed12d6"
            ],
            "text/plain": [
              "<IPython.core.display.Javascript object>"
            ]
          },
          "metadata": {}
        },
        {
          "output_type": "display_data",
          "data": {
            "application/javascript": [
              "window[\"a2eaf15c-1981-11ec-b638-0242ac1c0002\"] = google.colab.output.setActiveOutputArea(window[\"a2cd53a4-1981-11ec-b638-0242ac1c0002\"]);\n",
              "//# sourceURL=js_9117ffa98b"
            ],
            "text/plain": [
              "<IPython.core.display.Javascript object>"
            ]
          },
          "metadata": {}
        },
        {
          "output_type": "display_data",
          "data": {
            "application/javascript": [
              "window[\"a33b9a30-1981-11ec-b638-0242ac1c0002\"] = google.colab.output.getActiveOutputArea();\n",
              "//# sourceURL=js_999e821388"
            ],
            "text/plain": [
              "<IPython.core.display.Javascript object>"
            ]
          },
          "metadata": {}
        },
        {
          "output_type": "display_data",
          "data": {
            "application/javascript": [
              "window[\"a33ceeee-1981-11ec-b638-0242ac1c0002\"] = document.querySelector(\"#id30-0-0\");\n",
              "//# sourceURL=js_92e34b961a"
            ],
            "text/plain": [
              "<IPython.core.display.Javascript object>"
            ]
          },
          "metadata": {}
        },
        {
          "output_type": "display_data",
          "data": {
            "application/javascript": [
              "window[\"a33e5086-1981-11ec-b638-0242ac1c0002\"] = google.colab.output.setActiveOutputArea(window[\"a33ceeee-1981-11ec-b638-0242ac1c0002\"]);\n",
              "//# sourceURL=js_0ff4468f73"
            ],
            "text/plain": [
              "<IPython.core.display.Javascript object>"
            ]
          },
          "metadata": {}
        },
        {
          "output_type": "display_data",
          "data": {
            "application/javascript": [
              "window[\"a35a3e90-1981-11ec-b638-0242ac1c0002\"] = google.colab.output.setActiveOutputArea(window[\"a33b9a30-1981-11ec-b638-0242ac1c0002\"]);\n",
              "//# sourceURL=js_2ba581842c"
            ],
            "text/plain": [
              "<IPython.core.display.Javascript object>"
            ]
          },
          "metadata": {}
        },
        {
          "output_type": "display_data",
          "data": {
            "application/javascript": [
              "window[\"a3a8a508-1981-11ec-b638-0242ac1c0002\"] = google.colab.output.getActiveOutputArea();\n",
              "//# sourceURL=js_9546d03bf2"
            ],
            "text/plain": [
              "<IPython.core.display.Javascript object>"
            ]
          },
          "metadata": {}
        },
        {
          "output_type": "display_data",
          "data": {
            "application/javascript": [
              "window[\"a3a91c0e-1981-11ec-b638-0242ac1c0002\"] = document.querySelector(\"#id30-0-0\");\n",
              "//# sourceURL=js_dd1b956f31"
            ],
            "text/plain": [
              "<IPython.core.display.Javascript object>"
            ]
          },
          "metadata": {}
        },
        {
          "output_type": "display_data",
          "data": {
            "application/javascript": [
              "window[\"a3a98b08-1981-11ec-b638-0242ac1c0002\"] = google.colab.output.setActiveOutputArea(window[\"a3a91c0e-1981-11ec-b638-0242ac1c0002\"]);\n",
              "//# sourceURL=js_5d06650099"
            ],
            "text/plain": [
              "<IPython.core.display.Javascript object>"
            ]
          },
          "metadata": {}
        },
        {
          "output_type": "display_data",
          "data": {
            "application/javascript": [
              "window[\"a3c6d2d0-1981-11ec-b638-0242ac1c0002\"] = google.colab.output.setActiveOutputArea(window[\"a3a8a508-1981-11ec-b638-0242ac1c0002\"]);\n",
              "//# sourceURL=js_556d16c6f6"
            ],
            "text/plain": [
              "<IPython.core.display.Javascript object>"
            ]
          },
          "metadata": {}
        },
        {
          "output_type": "display_data",
          "data": {
            "application/javascript": [
              "window[\"a415807e-1981-11ec-b638-0242ac1c0002\"] = google.colab.output.getActiveOutputArea();\n",
              "//# sourceURL=js_0f49c0791b"
            ],
            "text/plain": [
              "<IPython.core.display.Javascript object>"
            ]
          },
          "metadata": {}
        },
        {
          "output_type": "display_data",
          "data": {
            "application/javascript": [
              "window[\"a415efd2-1981-11ec-b638-0242ac1c0002\"] = document.querySelector(\"#id30-0-0\");\n",
              "//# sourceURL=js_27e9676996"
            ],
            "text/plain": [
              "<IPython.core.display.Javascript object>"
            ]
          },
          "metadata": {}
        },
        {
          "output_type": "display_data",
          "data": {
            "application/javascript": [
              "window[\"a4169540-1981-11ec-b638-0242ac1c0002\"] = google.colab.output.setActiveOutputArea(window[\"a415efd2-1981-11ec-b638-0242ac1c0002\"]);\n",
              "//# sourceURL=js_6ecb510bf3"
            ],
            "text/plain": [
              "<IPython.core.display.Javascript object>"
            ]
          },
          "metadata": {}
        },
        {
          "output_type": "display_data",
          "data": {
            "application/javascript": [
              "window[\"a4355e3a-1981-11ec-b638-0242ac1c0002\"] = google.colab.output.setActiveOutputArea(window[\"a415807e-1981-11ec-b638-0242ac1c0002\"]);\n",
              "//# sourceURL=js_2435c0466c"
            ],
            "text/plain": [
              "<IPython.core.display.Javascript object>"
            ]
          },
          "metadata": {}
        },
        {
          "output_type": "display_data",
          "data": {
            "application/javascript": [
              "window[\"a483b742-1981-11ec-b638-0242ac1c0002\"] = google.colab.output.getActiveOutputArea();\n",
              "//# sourceURL=js_6b1436e454"
            ],
            "text/plain": [
              "<IPython.core.display.Javascript object>"
            ]
          },
          "metadata": {}
        },
        {
          "output_type": "display_data",
          "data": {
            "application/javascript": [
              "window[\"a484333e-1981-11ec-b638-0242ac1c0002\"] = document.querySelector(\"#id30-0-0\");\n",
              "//# sourceURL=js_bbdfea6d68"
            ],
            "text/plain": [
              "<IPython.core.display.Javascript object>"
            ]
          },
          "metadata": {}
        },
        {
          "output_type": "display_data",
          "data": {
            "application/javascript": [
              "window[\"a484aeae-1981-11ec-b638-0242ac1c0002\"] = google.colab.output.setActiveOutputArea(window[\"a484333e-1981-11ec-b638-0242ac1c0002\"]);\n",
              "//# sourceURL=js_d8c6a3814c"
            ],
            "text/plain": [
              "<IPython.core.display.Javascript object>"
            ]
          },
          "metadata": {}
        },
        {
          "output_type": "display_data",
          "data": {
            "application/javascript": [
              "window[\"a4a22a88-1981-11ec-b638-0242ac1c0002\"] = google.colab.output.setActiveOutputArea(window[\"a483b742-1981-11ec-b638-0242ac1c0002\"]);\n",
              "//# sourceURL=js_8b5be1ecc0"
            ],
            "text/plain": [
              "<IPython.core.display.Javascript object>"
            ]
          },
          "metadata": {}
        },
        {
          "output_type": "display_data",
          "data": {
            "application/javascript": [
              "window[\"a4f1c872-1981-11ec-b638-0242ac1c0002\"] = google.colab.output.getActiveOutputArea();\n",
              "//# sourceURL=js_04cc71e208"
            ],
            "text/plain": [
              "<IPython.core.display.Javascript object>"
            ]
          },
          "metadata": {}
        },
        {
          "output_type": "display_data",
          "data": {
            "application/javascript": [
              "window[\"a4f24b8a-1981-11ec-b638-0242ac1c0002\"] = document.querySelector(\"#id30-0-0\");\n",
              "//# sourceURL=js_e10db9e747"
            ],
            "text/plain": [
              "<IPython.core.display.Javascript object>"
            ]
          },
          "metadata": {}
        },
        {
          "output_type": "display_data",
          "data": {
            "application/javascript": [
              "window[\"a4f327ee-1981-11ec-b638-0242ac1c0002\"] = google.colab.output.setActiveOutputArea(window[\"a4f24b8a-1981-11ec-b638-0242ac1c0002\"]);\n",
              "//# sourceURL=js_f1b1bb276f"
            ],
            "text/plain": [
              "<IPython.core.display.Javascript object>"
            ]
          },
          "metadata": {}
        },
        {
          "output_type": "display_data",
          "data": {
            "application/javascript": [
              "window[\"a50fe622-1981-11ec-b638-0242ac1c0002\"] = google.colab.output.setActiveOutputArea(window[\"a4f1c872-1981-11ec-b638-0242ac1c0002\"]);\n",
              "//# sourceURL=js_03ae0db788"
            ],
            "text/plain": [
              "<IPython.core.display.Javascript object>"
            ]
          },
          "metadata": {}
        },
        {
          "output_type": "display_data",
          "data": {
            "application/javascript": [
              "window[\"a55e7fb2-1981-11ec-b638-0242ac1c0002\"] = google.colab.output.getActiveOutputArea();\n",
              "//# sourceURL=js_1207d56865"
            ],
            "text/plain": [
              "<IPython.core.display.Javascript object>"
            ]
          },
          "metadata": {}
        },
        {
          "output_type": "display_data",
          "data": {
            "application/javascript": [
              "window[\"a55f5450-1981-11ec-b638-0242ac1c0002\"] = document.querySelector(\"#id30-0-0\");\n",
              "//# sourceURL=js_0de37a2b57"
            ],
            "text/plain": [
              "<IPython.core.display.Javascript object>"
            ]
          },
          "metadata": {}
        },
        {
          "output_type": "display_data",
          "data": {
            "application/javascript": [
              "window[\"a55fbce2-1981-11ec-b638-0242ac1c0002\"] = google.colab.output.setActiveOutputArea(window[\"a55f5450-1981-11ec-b638-0242ac1c0002\"]);\n",
              "//# sourceURL=js_3b44d3c8bf"
            ],
            "text/plain": [
              "<IPython.core.display.Javascript object>"
            ]
          },
          "metadata": {}
        },
        {
          "output_type": "display_data",
          "data": {
            "application/javascript": [
              "window[\"a5938bb2-1981-11ec-b638-0242ac1c0002\"] = google.colab.output.setActiveOutputArea(window[\"a55e7fb2-1981-11ec-b638-0242ac1c0002\"]);\n",
              "//# sourceURL=js_742578ea06"
            ],
            "text/plain": [
              "<IPython.core.display.Javascript object>"
            ]
          },
          "metadata": {}
        },
        {
          "output_type": "display_data",
          "data": {
            "application/javascript": [
              "window[\"a5e2323a-1981-11ec-b638-0242ac1c0002\"] = google.colab.output.getActiveOutputArea();\n",
              "//# sourceURL=js_f332bc9e69"
            ],
            "text/plain": [
              "<IPython.core.display.Javascript object>"
            ]
          },
          "metadata": {}
        },
        {
          "output_type": "display_data",
          "data": {
            "application/javascript": [
              "window[\"a5e2b368-1981-11ec-b638-0242ac1c0002\"] = document.querySelector(\"#id30-0-0\");\n",
              "//# sourceURL=js_7ade8e1189"
            ],
            "text/plain": [
              "<IPython.core.display.Javascript object>"
            ]
          },
          "metadata": {}
        },
        {
          "output_type": "display_data",
          "data": {
            "application/javascript": [
              "window[\"a5e331da-1981-11ec-b638-0242ac1c0002\"] = google.colab.output.setActiveOutputArea(window[\"a5e2b368-1981-11ec-b638-0242ac1c0002\"]);\n",
              "//# sourceURL=js_63c41a5572"
            ],
            "text/plain": [
              "<IPython.core.display.Javascript object>"
            ]
          },
          "metadata": {}
        },
        {
          "output_type": "display_data",
          "data": {
            "application/javascript": [
              "window[\"a601f9a8-1981-11ec-b638-0242ac1c0002\"] = google.colab.output.setActiveOutputArea(window[\"a5e2323a-1981-11ec-b638-0242ac1c0002\"]);\n",
              "//# sourceURL=js_fc6f9b7a0d"
            ],
            "text/plain": [
              "<IPython.core.display.Javascript object>"
            ]
          },
          "metadata": {}
        },
        {
          "output_type": "display_data",
          "data": {
            "application/javascript": [
              "window[\"a650bb9c-1981-11ec-b638-0242ac1c0002\"] = google.colab.output.getActiveOutputArea();\n",
              "//# sourceURL=js_2dbb2ef4d9"
            ],
            "text/plain": [
              "<IPython.core.display.Javascript object>"
            ]
          },
          "metadata": {}
        },
        {
          "output_type": "display_data",
          "data": {
            "application/javascript": [
              "window[\"a6513f5e-1981-11ec-b638-0242ac1c0002\"] = document.querySelector(\"#id30-0-0\");\n",
              "//# sourceURL=js_423d3f53cd"
            ],
            "text/plain": [
              "<IPython.core.display.Javascript object>"
            ]
          },
          "metadata": {}
        },
        {
          "output_type": "display_data",
          "data": {
            "application/javascript": [
              "window[\"a651b8e4-1981-11ec-b638-0242ac1c0002\"] = google.colab.output.setActiveOutputArea(window[\"a6513f5e-1981-11ec-b638-0242ac1c0002\"]);\n",
              "//# sourceURL=js_67c68851bc"
            ],
            "text/plain": [
              "<IPython.core.display.Javascript object>"
            ]
          },
          "metadata": {}
        },
        {
          "output_type": "display_data",
          "data": {
            "application/javascript": [
              "window[\"a66cc0a8-1981-11ec-b638-0242ac1c0002\"] = google.colab.output.setActiveOutputArea(window[\"a650bb9c-1981-11ec-b638-0242ac1c0002\"]);\n",
              "//# sourceURL=js_0fd6618931"
            ],
            "text/plain": [
              "<IPython.core.display.Javascript object>"
            ]
          },
          "metadata": {}
        },
        {
          "output_type": "display_data",
          "data": {
            "application/javascript": [
              "window[\"a6bb3b20-1981-11ec-b638-0242ac1c0002\"] = google.colab.output.getActiveOutputArea();\n",
              "//# sourceURL=js_b28c60707b"
            ],
            "text/plain": [
              "<IPython.core.display.Javascript object>"
            ]
          },
          "metadata": {}
        },
        {
          "output_type": "display_data",
          "data": {
            "application/javascript": [
              "window[\"a6bb9c28-1981-11ec-b638-0242ac1c0002\"] = document.querySelector(\"#id30-0-0\");\n",
              "//# sourceURL=js_df9e7afcde"
            ],
            "text/plain": [
              "<IPython.core.display.Javascript object>"
            ]
          },
          "metadata": {}
        },
        {
          "output_type": "display_data",
          "data": {
            "application/javascript": [
              "window[\"a6bc2850-1981-11ec-b638-0242ac1c0002\"] = google.colab.output.setActiveOutputArea(window[\"a6bb9c28-1981-11ec-b638-0242ac1c0002\"]);\n",
              "//# sourceURL=js_ec1c2b92ce"
            ],
            "text/plain": [
              "<IPython.core.display.Javascript object>"
            ]
          },
          "metadata": {}
        },
        {
          "output_type": "display_data",
          "data": {
            "application/javascript": [
              "window[\"a6db07e8-1981-11ec-b638-0242ac1c0002\"] = google.colab.output.setActiveOutputArea(window[\"a6bb3b20-1981-11ec-b638-0242ac1c0002\"]);\n",
              "//# sourceURL=js_8825ba4e85"
            ],
            "text/plain": [
              "<IPython.core.display.Javascript object>"
            ]
          },
          "metadata": {}
        },
        {
          "output_type": "display_data",
          "data": {
            "application/javascript": [
              "window[\"a72a3494-1981-11ec-b638-0242ac1c0002\"] = google.colab.output.getActiveOutputArea();\n",
              "//# sourceURL=js_391dd8b924"
            ],
            "text/plain": [
              "<IPython.core.display.Javascript object>"
            ]
          },
          "metadata": {}
        },
        {
          "output_type": "display_data",
          "data": {
            "application/javascript": [
              "window[\"a72acb34-1981-11ec-b638-0242ac1c0002\"] = document.querySelector(\"#id30-0-0\");\n",
              "//# sourceURL=js_41f0a14fd7"
            ],
            "text/plain": [
              "<IPython.core.display.Javascript object>"
            ]
          },
          "metadata": {}
        },
        {
          "output_type": "display_data",
          "data": {
            "application/javascript": [
              "window[\"a72b3a6a-1981-11ec-b638-0242ac1c0002\"] = google.colab.output.setActiveOutputArea(window[\"a72acb34-1981-11ec-b638-0242ac1c0002\"]);\n",
              "//# sourceURL=js_9fbc10384a"
            ],
            "text/plain": [
              "<IPython.core.display.Javascript object>"
            ]
          },
          "metadata": {}
        },
        {
          "output_type": "display_data",
          "data": {
            "application/javascript": [
              "window[\"a74a8d66-1981-11ec-b638-0242ac1c0002\"] = google.colab.output.setActiveOutputArea(window[\"a72a3494-1981-11ec-b638-0242ac1c0002\"]);\n",
              "//# sourceURL=js_aa5f47ccfc"
            ],
            "text/plain": [
              "<IPython.core.display.Javascript object>"
            ]
          },
          "metadata": {}
        },
        {
          "output_type": "display_data",
          "data": {
            "application/javascript": [
              "window[\"a799464a-1981-11ec-b638-0242ac1c0002\"] = google.colab.output.getActiveOutputArea();\n",
              "//# sourceURL=js_bc9c839389"
            ],
            "text/plain": [
              "<IPython.core.display.Javascript object>"
            ]
          },
          "metadata": {}
        },
        {
          "output_type": "display_data",
          "data": {
            "application/javascript": [
              "window[\"a799f824-1981-11ec-b638-0242ac1c0002\"] = document.querySelector(\"#id30-0-0\");\n",
              "//# sourceURL=js_0225a23e76"
            ],
            "text/plain": [
              "<IPython.core.display.Javascript object>"
            ]
          },
          "metadata": {}
        },
        {
          "output_type": "display_data",
          "data": {
            "application/javascript": [
              "window[\"a79a8e2e-1981-11ec-b638-0242ac1c0002\"] = google.colab.output.setActiveOutputArea(window[\"a799f824-1981-11ec-b638-0242ac1c0002\"]);\n",
              "//# sourceURL=js_dba9e5166e"
            ],
            "text/plain": [
              "<IPython.core.display.Javascript object>"
            ]
          },
          "metadata": {}
        },
        {
          "output_type": "display_data",
          "data": {
            "application/javascript": [
              "window[\"a7b9ec74-1981-11ec-b638-0242ac1c0002\"] = google.colab.output.setActiveOutputArea(window[\"a799464a-1981-11ec-b638-0242ac1c0002\"]);\n",
              "//# sourceURL=js_4d2ca13db4"
            ],
            "text/plain": [
              "<IPython.core.display.Javascript object>"
            ]
          },
          "metadata": {}
        },
        {
          "output_type": "display_data",
          "data": {
            "application/javascript": [
              "window[\"a808ba8e-1981-11ec-b638-0242ac1c0002\"] = google.colab.output.getActiveOutputArea();\n",
              "//# sourceURL=js_6889338c09"
            ],
            "text/plain": [
              "<IPython.core.display.Javascript object>"
            ]
          },
          "metadata": {}
        },
        {
          "output_type": "display_data",
          "data": {
            "application/javascript": [
              "window[\"a8090ab6-1981-11ec-b638-0242ac1c0002\"] = document.querySelector(\"#id30-0-0\");\n",
              "//# sourceURL=js_4c0dc7cf97"
            ],
            "text/plain": [
              "<IPython.core.display.Javascript object>"
            ]
          },
          "metadata": {}
        },
        {
          "output_type": "display_data",
          "data": {
            "application/javascript": [
              "window[\"a80a3b48-1981-11ec-b638-0242ac1c0002\"] = google.colab.output.setActiveOutputArea(window[\"a8090ab6-1981-11ec-b638-0242ac1c0002\"]);\n",
              "//# sourceURL=js_7e2d2ea4cc"
            ],
            "text/plain": [
              "<IPython.core.display.Javascript object>"
            ]
          },
          "metadata": {}
        },
        {
          "output_type": "display_data",
          "data": {
            "application/javascript": [
              "window[\"a826081e-1981-11ec-b638-0242ac1c0002\"] = google.colab.output.setActiveOutputArea(window[\"a808ba8e-1981-11ec-b638-0242ac1c0002\"]);\n",
              "//# sourceURL=js_e518b5a961"
            ],
            "text/plain": [
              "<IPython.core.display.Javascript object>"
            ]
          },
          "metadata": {}
        },
        {
          "output_type": "display_data",
          "data": {
            "application/javascript": [
              "window[\"a8767466-1981-11ec-b638-0242ac1c0002\"] = google.colab.output.getActiveOutputArea();\n",
              "//# sourceURL=js_58863153aa"
            ],
            "text/plain": [
              "<IPython.core.display.Javascript object>"
            ]
          },
          "metadata": {}
        },
        {
          "output_type": "display_data",
          "data": {
            "application/javascript": [
              "window[\"a87865a0-1981-11ec-b638-0242ac1c0002\"] = document.querySelector(\"#id30-0-0\");\n",
              "//# sourceURL=js_e896df02fb"
            ],
            "text/plain": [
              "<IPython.core.display.Javascript object>"
            ]
          },
          "metadata": {}
        },
        {
          "output_type": "display_data",
          "data": {
            "application/javascript": [
              "window[\"a8792418-1981-11ec-b638-0242ac1c0002\"] = google.colab.output.setActiveOutputArea(window[\"a87865a0-1981-11ec-b638-0242ac1c0002\"]);\n",
              "//# sourceURL=js_08ba045820"
            ],
            "text/plain": [
              "<IPython.core.display.Javascript object>"
            ]
          },
          "metadata": {}
        },
        {
          "output_type": "display_data",
          "data": {
            "application/javascript": [
              "window[\"a89abdda-1981-11ec-b638-0242ac1c0002\"] = google.colab.output.setActiveOutputArea(window[\"a8767466-1981-11ec-b638-0242ac1c0002\"]);\n",
              "//# sourceURL=js_0f4ed9b49c"
            ],
            "text/plain": [
              "<IPython.core.display.Javascript object>"
            ]
          },
          "metadata": {}
        },
        {
          "output_type": "display_data",
          "data": {
            "application/javascript": [
              "window[\"a8ea01e2-1981-11ec-b638-0242ac1c0002\"] = google.colab.output.getActiveOutputArea();\n",
              "//# sourceURL=js_fda79d7fda"
            ],
            "text/plain": [
              "<IPython.core.display.Javascript object>"
            ]
          },
          "metadata": {}
        },
        {
          "output_type": "display_data",
          "data": {
            "application/javascript": [
              "window[\"a8ea8de2-1981-11ec-b638-0242ac1c0002\"] = document.querySelector(\"#id30-0-0\");\n",
              "//# sourceURL=js_eeaf5f9a8a"
            ],
            "text/plain": [
              "<IPython.core.display.Javascript object>"
            ]
          },
          "metadata": {}
        },
        {
          "output_type": "display_data",
          "data": {
            "application/javascript": [
              "window[\"a8eb098e-1981-11ec-b638-0242ac1c0002\"] = google.colab.output.setActiveOutputArea(window[\"a8ea8de2-1981-11ec-b638-0242ac1c0002\"]);\n",
              "//# sourceURL=js_e98e36dfa9"
            ],
            "text/plain": [
              "<IPython.core.display.Javascript object>"
            ]
          },
          "metadata": {}
        },
        {
          "output_type": "display_data",
          "data": {
            "application/javascript": [
              "window[\"a90c7bdc-1981-11ec-b638-0242ac1c0002\"] = google.colab.output.setActiveOutputArea(window[\"a8ea01e2-1981-11ec-b638-0242ac1c0002\"]);\n",
              "//# sourceURL=js_d247a021b0"
            ],
            "text/plain": [
              "<IPython.core.display.Javascript object>"
            ]
          },
          "metadata": {}
        },
        {
          "output_type": "display_data",
          "data": {
            "application/javascript": [
              "window[\"a95d7082-1981-11ec-b638-0242ac1c0002\"] = google.colab.output.getActiveOutputArea();\n",
              "//# sourceURL=js_d17ef0fbbc"
            ],
            "text/plain": [
              "<IPython.core.display.Javascript object>"
            ]
          },
          "metadata": {}
        },
        {
          "output_type": "display_data",
          "data": {
            "application/javascript": [
              "window[\"a95f2b16-1981-11ec-b638-0242ac1c0002\"] = document.querySelector(\"#id30-0-0\");\n",
              "//# sourceURL=js_5db5d71060"
            ],
            "text/plain": [
              "<IPython.core.display.Javascript object>"
            ]
          },
          "metadata": {}
        },
        {
          "output_type": "display_data",
          "data": {
            "application/javascript": [
              "window[\"a95fc206-1981-11ec-b638-0242ac1c0002\"] = google.colab.output.setActiveOutputArea(window[\"a95f2b16-1981-11ec-b638-0242ac1c0002\"]);\n",
              "//# sourceURL=js_dcc565d57d"
            ],
            "text/plain": [
              "<IPython.core.display.Javascript object>"
            ]
          },
          "metadata": {}
        },
        {
          "output_type": "display_data",
          "data": {
            "application/javascript": [
              "window[\"a97bc910-1981-11ec-b638-0242ac1c0002\"] = google.colab.output.setActiveOutputArea(window[\"a95d7082-1981-11ec-b638-0242ac1c0002\"]);\n",
              "//# sourceURL=js_a8024ea2a0"
            ],
            "text/plain": [
              "<IPython.core.display.Javascript object>"
            ]
          },
          "metadata": {}
        },
        {
          "output_type": "display_data",
          "data": {
            "application/javascript": [
              "window[\"a9ccd288-1981-11ec-b638-0242ac1c0002\"] = google.colab.output.getActiveOutputArea();\n",
              "//# sourceURL=js_13f944e2dc"
            ],
            "text/plain": [
              "<IPython.core.display.Javascript object>"
            ]
          },
          "metadata": {}
        },
        {
          "output_type": "display_data",
          "data": {
            "application/javascript": [
              "window[\"a9cd4c36-1981-11ec-b638-0242ac1c0002\"] = document.querySelector(\"#id30-0-0\");\n",
              "//# sourceURL=js_f03c215de6"
            ],
            "text/plain": [
              "<IPython.core.display.Javascript object>"
            ]
          },
          "metadata": {}
        },
        {
          "output_type": "display_data",
          "data": {
            "application/javascript": [
              "window[\"a9cda6cc-1981-11ec-b638-0242ac1c0002\"] = google.colab.output.setActiveOutputArea(window[\"a9cd4c36-1981-11ec-b638-0242ac1c0002\"]);\n",
              "//# sourceURL=js_ceb50d2f03"
            ],
            "text/plain": [
              "<IPython.core.display.Javascript object>"
            ]
          },
          "metadata": {}
        },
        {
          "output_type": "display_data",
          "data": {
            "application/javascript": [
              "window[\"a9ec859c-1981-11ec-b638-0242ac1c0002\"] = google.colab.output.setActiveOutputArea(window[\"a9ccd288-1981-11ec-b638-0242ac1c0002\"]);\n",
              "//# sourceURL=js_72e8dd77d0"
            ],
            "text/plain": [
              "<IPython.core.display.Javascript object>"
            ]
          },
          "metadata": {}
        },
        {
          "output_type": "display_data",
          "data": {
            "application/javascript": [
              "window[\"aa3adf12-1981-11ec-b638-0242ac1c0002\"] = google.colab.output.getActiveOutputArea();\n",
              "//# sourceURL=js_5478534568"
            ],
            "text/plain": [
              "<IPython.core.display.Javascript object>"
            ]
          },
          "metadata": {}
        },
        {
          "output_type": "display_data",
          "data": {
            "application/javascript": [
              "window[\"aa3b64c8-1981-11ec-b638-0242ac1c0002\"] = document.querySelector(\"#id30-0-0\");\n",
              "//# sourceURL=js_c87285b299"
            ],
            "text/plain": [
              "<IPython.core.display.Javascript object>"
            ]
          },
          "metadata": {}
        },
        {
          "output_type": "display_data",
          "data": {
            "application/javascript": [
              "window[\"aa3bd61a-1981-11ec-b638-0242ac1c0002\"] = google.colab.output.setActiveOutputArea(window[\"aa3b64c8-1981-11ec-b638-0242ac1c0002\"]);\n",
              "//# sourceURL=js_177d0a55ec"
            ],
            "text/plain": [
              "<IPython.core.display.Javascript object>"
            ]
          },
          "metadata": {}
        },
        {
          "output_type": "display_data",
          "data": {
            "application/javascript": [
              "window[\"aa5d6a6e-1981-11ec-b638-0242ac1c0002\"] = google.colab.output.setActiveOutputArea(window[\"aa3adf12-1981-11ec-b638-0242ac1c0002\"]);\n",
              "//# sourceURL=js_cbfcfe3f9d"
            ],
            "text/plain": [
              "<IPython.core.display.Javascript object>"
            ]
          },
          "metadata": {}
        },
        {
          "output_type": "display_data",
          "data": {
            "application/javascript": [
              "window[\"aaac2ce4-1981-11ec-b638-0242ac1c0002\"] = google.colab.output.getActiveOutputArea();\n",
              "//# sourceURL=js_8d519309c1"
            ],
            "text/plain": [
              "<IPython.core.display.Javascript object>"
            ]
          },
          "metadata": {}
        },
        {
          "output_type": "display_data",
          "data": {
            "application/javascript": [
              "window[\"aaacc7bc-1981-11ec-b638-0242ac1c0002\"] = document.querySelector(\"#id30-0-0\");\n",
              "//# sourceURL=js_8c06a082de"
            ],
            "text/plain": [
              "<IPython.core.display.Javascript object>"
            ]
          },
          "metadata": {}
        },
        {
          "output_type": "display_data",
          "data": {
            "application/javascript": [
              "window[\"aaad4e08-1981-11ec-b638-0242ac1c0002\"] = google.colab.output.setActiveOutputArea(window[\"aaacc7bc-1981-11ec-b638-0242ac1c0002\"]);\n",
              "//# sourceURL=js_ee43df131e"
            ],
            "text/plain": [
              "<IPython.core.display.Javascript object>"
            ]
          },
          "metadata": {}
        },
        {
          "output_type": "display_data",
          "data": {
            "application/javascript": [
              "window[\"aac84f00-1981-11ec-b638-0242ac1c0002\"] = google.colab.output.setActiveOutputArea(window[\"aaac2ce4-1981-11ec-b638-0242ac1c0002\"]);\n",
              "//# sourceURL=js_3a9c213551"
            ],
            "text/plain": [
              "<IPython.core.display.Javascript object>"
            ]
          },
          "metadata": {}
        },
        {
          "output_type": "display_data",
          "data": {
            "application/javascript": [
              "window[\"ab16e2be-1981-11ec-b638-0242ac1c0002\"] = google.colab.output.getActiveOutputArea();\n",
              "//# sourceURL=js_f9415032d3"
            ],
            "text/plain": [
              "<IPython.core.display.Javascript object>"
            ]
          },
          "metadata": {}
        },
        {
          "output_type": "display_data",
          "data": {
            "application/javascript": [
              "window[\"ab179cd6-1981-11ec-b638-0242ac1c0002\"] = document.querySelector(\"#id30-0-0\");\n",
              "//# sourceURL=js_99a108975c"
            ],
            "text/plain": [
              "<IPython.core.display.Javascript object>"
            ]
          },
          "metadata": {}
        },
        {
          "output_type": "display_data",
          "data": {
            "application/javascript": [
              "window[\"ab1955a8-1981-11ec-b638-0242ac1c0002\"] = google.colab.output.setActiveOutputArea(window[\"ab179cd6-1981-11ec-b638-0242ac1c0002\"]);\n",
              "//# sourceURL=js_1b2f769818"
            ],
            "text/plain": [
              "<IPython.core.display.Javascript object>"
            ]
          },
          "metadata": {}
        },
        {
          "output_type": "display_data",
          "data": {
            "application/javascript": [
              "window[\"ab36604e-1981-11ec-b638-0242ac1c0002\"] = google.colab.output.setActiveOutputArea(window[\"ab16e2be-1981-11ec-b638-0242ac1c0002\"]);\n",
              "//# sourceURL=js_05f49425bd"
            ],
            "text/plain": [
              "<IPython.core.display.Javascript object>"
            ]
          },
          "metadata": {}
        },
        {
          "output_type": "display_data",
          "data": {
            "application/javascript": [
              "window[\"ab85344e-1981-11ec-b638-0242ac1c0002\"] = google.colab.output.getActiveOutputArea();\n",
              "//# sourceURL=js_ba260cbec2"
            ],
            "text/plain": [
              "<IPython.core.display.Javascript object>"
            ]
          },
          "metadata": {}
        },
        {
          "output_type": "display_data",
          "data": {
            "application/javascript": [
              "window[\"ab858cb4-1981-11ec-b638-0242ac1c0002\"] = document.querySelector(\"#id30-0-0\");\n",
              "//# sourceURL=js_0af10b9db2"
            ],
            "text/plain": [
              "<IPython.core.display.Javascript object>"
            ]
          },
          "metadata": {}
        },
        {
          "output_type": "display_data",
          "data": {
            "application/javascript": [
              "window[\"ab860900-1981-11ec-b638-0242ac1c0002\"] = google.colab.output.setActiveOutputArea(window[\"ab858cb4-1981-11ec-b638-0242ac1c0002\"]);\n",
              "//# sourceURL=js_d2105e84c3"
            ],
            "text/plain": [
              "<IPython.core.display.Javascript object>"
            ]
          },
          "metadata": {}
        },
        {
          "output_type": "display_data",
          "data": {
            "application/javascript": [
              "window[\"aba518c2-1981-11ec-b638-0242ac1c0002\"] = google.colab.output.setActiveOutputArea(window[\"ab85344e-1981-11ec-b638-0242ac1c0002\"]);\n",
              "//# sourceURL=js_b92bd4fe74"
            ],
            "text/plain": [
              "<IPython.core.display.Javascript object>"
            ]
          },
          "metadata": {}
        },
        {
          "output_type": "display_data",
          "data": {
            "application/javascript": [
              "window[\"abf361c6-1981-11ec-b638-0242ac1c0002\"] = google.colab.output.getActiveOutputArea();\n",
              "//# sourceURL=js_9d71388281"
            ],
            "text/plain": [
              "<IPython.core.display.Javascript object>"
            ]
          },
          "metadata": {}
        },
        {
          "output_type": "display_data",
          "data": {
            "application/javascript": [
              "window[\"abf646e8-1981-11ec-b638-0242ac1c0002\"] = document.querySelector(\"#id30-0-0\");\n",
              "//# sourceURL=js_e9bf944a25"
            ],
            "text/plain": [
              "<IPython.core.display.Javascript object>"
            ]
          },
          "metadata": {}
        },
        {
          "output_type": "display_data",
          "data": {
            "application/javascript": [
              "window[\"abf7cd06-1981-11ec-b638-0242ac1c0002\"] = google.colab.output.setActiveOutputArea(window[\"abf646e8-1981-11ec-b638-0242ac1c0002\"]);\n",
              "//# sourceURL=js_0a0c6b56bf"
            ],
            "text/plain": [
              "<IPython.core.display.Javascript object>"
            ]
          },
          "metadata": {}
        },
        {
          "output_type": "display_data",
          "data": {
            "application/javascript": [
              "window[\"ac149526-1981-11ec-b638-0242ac1c0002\"] = google.colab.output.setActiveOutputArea(window[\"abf361c6-1981-11ec-b638-0242ac1c0002\"]);\n",
              "//# sourceURL=js_9545073581"
            ],
            "text/plain": [
              "<IPython.core.display.Javascript object>"
            ]
          },
          "metadata": {}
        },
        {
          "output_type": "display_data",
          "data": {
            "application/javascript": [
              "window[\"ac656c62-1981-11ec-b638-0242ac1c0002\"] = google.colab.output.getActiveOutputArea();\n",
              "//# sourceURL=js_616f44c5f0"
            ],
            "text/plain": [
              "<IPython.core.display.Javascript object>"
            ]
          },
          "metadata": {}
        },
        {
          "output_type": "display_data",
          "data": {
            "application/javascript": [
              "window[\"ac66113a-1981-11ec-b638-0242ac1c0002\"] = document.querySelector(\"#id30-0-0\");\n",
              "//# sourceURL=js_ebb88acebc"
            ],
            "text/plain": [
              "<IPython.core.display.Javascript object>"
            ]
          },
          "metadata": {}
        },
        {
          "output_type": "display_data",
          "data": {
            "application/javascript": [
              "window[\"ac668638-1981-11ec-b638-0242ac1c0002\"] = google.colab.output.setActiveOutputArea(window[\"ac66113a-1981-11ec-b638-0242ac1c0002\"]);\n",
              "//# sourceURL=js_8cce03211d"
            ],
            "text/plain": [
              "<IPython.core.display.Javascript object>"
            ]
          },
          "metadata": {}
        },
        {
          "output_type": "display_data",
          "data": {
            "application/javascript": [
              "window[\"ac819d88-1981-11ec-b638-0242ac1c0002\"] = google.colab.output.setActiveOutputArea(window[\"ac656c62-1981-11ec-b638-0242ac1c0002\"]);\n",
              "//# sourceURL=js_f08c47b556"
            ],
            "text/plain": [
              "<IPython.core.display.Javascript object>"
            ]
          },
          "metadata": {}
        },
        {
          "output_type": "display_data",
          "data": {
            "application/javascript": [
              "window[\"acd07b60-1981-11ec-b638-0242ac1c0002\"] = google.colab.output.getActiveOutputArea();\n",
              "//# sourceURL=js_880611a226"
            ],
            "text/plain": [
              "<IPython.core.display.Javascript object>"
            ]
          },
          "metadata": {}
        },
        {
          "output_type": "display_data",
          "data": {
            "application/javascript": [
              "window[\"acd0e4ba-1981-11ec-b638-0242ac1c0002\"] = document.querySelector(\"#id30-0-0\");\n",
              "//# sourceURL=js_1232856a69"
            ],
            "text/plain": [
              "<IPython.core.display.Javascript object>"
            ]
          },
          "metadata": {}
        },
        {
          "output_type": "display_data",
          "data": {
            "application/javascript": [
              "window[\"acd14892-1981-11ec-b638-0242ac1c0002\"] = google.colab.output.setActiveOutputArea(window[\"acd0e4ba-1981-11ec-b638-0242ac1c0002\"]);\n",
              "//# sourceURL=js_77280873d8"
            ],
            "text/plain": [
              "<IPython.core.display.Javascript object>"
            ]
          },
          "metadata": {}
        },
        {
          "output_type": "display_data",
          "data": {
            "image/png": "[encoded data removed]",
            "text/plain": [
              "<Figure size 432x288 with 1 Axes>"
            ]
          },
          "metadata": {
            "needs_background": "light"
          }
        },
        {
          "output_type": "display_data",
          "data": {
            "application/javascript": [
              "window[\"ad01a7ee-1981-11ec-b638-0242ac1c0002\"] = google.colab.output.setActiveOutputArea(window[\"acd07b60-1981-11ec-b638-0242ac1c0002\"]);\n",
              "//# sourceURL=js_efdaf5ef7b"
            ],
            "text/plain": [
              "<IPython.core.display.Javascript object>"
            ]
          },
          "metadata": {}
        },
        {
          "output_type": "stream",
          "name": "stdout",
          "text": [
            "111\n",
            "5\n"
          ]
        }
      ]
    },
    {
      "cell_type": "code",
      "metadata": {
        "id": "cg9DGkKcRJDH"
      },
      "source": [
        ""
      ],
      "execution_count": null,
      "outputs": []
    }
  ]
}