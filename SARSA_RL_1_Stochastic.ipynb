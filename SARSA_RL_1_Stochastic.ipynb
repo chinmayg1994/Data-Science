{
  "nbformat": 4,
  "nbformat_minor": 0,
  "metadata": {
    "colab": {
      "name": "SARSA_RL_1/Stochastic.ipynb",
      "provenance": [],
      "collapsed_sections": []
    },
    "kernelspec": {
      "name": "python3",
      "display_name": "Python 3"
    },
    "language_info": {
      "name": "python"
    }
  },
  "cells": [
    {
      "cell_type": "code",
      "metadata": {
        "colab": {
          "base_uri": "https://localhost:8080/"
        },
        "id": "OMm55_zX1aoO",
        "outputId": "a19c14db-640e-42d0-ad1c-0af35e4d9029"
      },
      "source": [
        "#Importing gym environment\n",
        "! pip install gym"
      ],
      "execution_count": 1,
      "outputs": [
        {
          "output_type": "stream",
          "name": "stdout",
          "text": [
            "Requirement already satisfied: gym in /usr/local/lib/python3.7/dist-packages (0.17.3)\n",
            "Requirement already satisfied: numpy>=1.10.4 in /usr/local/lib/python3.7/dist-packages (from gym) (1.19.5)\n",
            "Requirement already satisfied: scipy in /usr/local/lib/python3.7/dist-packages (from gym) (1.4.1)\n",
            "Requirement already satisfied: cloudpickle<1.7.0,>=1.2.0 in /usr/local/lib/python3.7/dist-packages (from gym) (1.3.0)\n",
            "Requirement already satisfied: pyglet<=1.5.0,>=1.4.0 in /usr/local/lib/python3.7/dist-packages (from gym) (1.5.0)\n",
            "Requirement already satisfied: future in /usr/local/lib/python3.7/dist-packages (from pyglet<=1.5.0,>=1.4.0->gym) (0.16.0)\n"
          ]
        }
      ]
    },
    {
      "cell_type": "code",
      "metadata": {
        "id": "uL8v8PyP1hPw"
      },
      "source": [
        "#Importing all the required libraries\n",
        "import numpy as np\n",
        "import matplotlib.pyplot as plt\n",
        "import gym\n",
        "from gym import spaces\n",
        "import time"
      ],
      "execution_count": 2,
      "outputs": []
    },
    {
      "cell_type": "code",
      "metadata": {
        "colab": {
          "base_uri": "https://localhost:8080/",
          "height": 283
        },
        "id": "w4UK7AUz1i-V",
        "outputId": "bb60aec1-0839-40d1-b123-5c079847f701"
      },
      "source": [
        "#Defining grid and start & terminal positions\n",
        "grid  =  np.zeros((6,6))\n",
        "start_pos = [0,0]\n",
        "terminal_pos = [5, 5]\n",
        "grid[tuple(terminal_pos)] = 4\n",
        "grid[tuple(start_pos)] = 2\n",
        "agent_pos = [0,0]\n",
        "plt.imshow(grid)"
      ],
      "execution_count": 77,
      "outputs": [
        {
          "output_type": "execute_result",
          "data": {
            "text/plain": [
              "<matplotlib.image.AxesImage at 0x7f8f269d5390>"
            ]
          },
          "metadata": {},
          "execution_count": 77
        },
        {
          "output_type": "display_data",
          "data": {
            "image/png": "[encoded data removed]",
            "text/plain": [
              "<Figure size 432x288 with 1 Axes>"
            ]
          },
          "metadata": {
            "needs_background": "light"
          }
        }
      ]
    },
    {
      "cell_type": "code",
      "metadata": {
        "id": "g82kG_dc1loT"
      },
      "source": [
        "#Creating class \n",
        "class Gridworld (gym.Env):\n",
        "  def __init__(self):\n",
        "    self.action_space = spaces.Discrete(4)\n",
        "    self.observation_space = spaces.Discrete(25)\n",
        "    self.max_timesteps = 25\n",
        "    self.agent_pos = [0,0]\n",
        "    self.start_pos = [0,0]\n",
        "    self.terminal_pos = [5, 5]\n",
        "    self.reward_pos_1 = [5,4]\n",
        "    self.reward_pos_2 = [3,3]\n",
        "    self.reward_pos_3 = [2,2]\n",
        "    \n",
        "\n",
        "  def step(self, action):\n",
        "#Defining all the possible actions\n",
        "    if action == 0:\n",
        "      self.agent_pos[0] += 1\n",
        "    if action == 1:\n",
        "      self.agent_pos[0] -= 1\n",
        "    if action == 2:\n",
        "      self.agent_pos[1] += 1\n",
        "    if action == 3:\n",
        "      self.agent_pos[1] -= 1\n",
        "    if action == 4:\n",
        "      self.agent_pos[1] += 1 \n",
        "      self.agent_pos[0] += 1\n",
        "    self.agent_pos = np.clip(self.agent_pos, 0, 5) \n",
        "    self.state = np.zeros((6,6))\n",
        "#Defining the start and end positions for agent along with reward and penalty positions\n",
        "#Assigning colors to agent position, terminal position, rewards and penalties\n",
        "    self.state[tuple(self.agent_pos)] = 1\n",
        "    self.state[tuple(self.terminal_pos)] = 0.5 \n",
        "    self.state[tuple(self.reward_pos_1)] = 0.2\n",
        "    self.state[tuple(self.reward_pos_2)] = 0.3\n",
        "    self.state[tuple(self.reward_pos_3)] = 0.4\n",
        "    self.state[tuple(self.reward_pos_4)] = 0.7\n",
        "    self.reward_pos_1 = [5,4]\n",
        "    self.reward_pos_2 = [3,3]\n",
        "    self.reward_pos_3 = [2,2]\n",
        "    self.reward_pos_3 = [2,5]\n",
        "#Putting on the condition of number of time-steps on all the rewards and defining the reward values\n",
        "    if (self.agent_pos == [5,4]).all():\n",
        "      if (self.timesteps <= 15):\n",
        "        self.reward = 15\n",
        "    if (self.agent_pos == [3,3]).all():\n",
        "      if (self.timesteps <= 15):\n",
        "        self.reward = 35\n",
        "    if (self.agent_pos == [2,2]).all():\n",
        "      if (self.timesteps  <= 15):\n",
        "        self.reward = 25\n",
        "    if (self.agent_pos == [2,5]).all():\n",
        "      if (self.timesteps  <= 15):\n",
        "        self.reward = 10\n",
        "#Defining and assigning terminal state reward   \n",
        "    if (self.agent_pos == self.terminal_pos).all():\n",
        "      if (self.timesteps  <= 20):\n",
        "        self.reward = 45\n",
        "      self.count += 1\n",
        "#Defined the logic for movement of criminals with 30% chance of moving\n",
        "    if (self.count % 3 == 0):\n",
        "      prob_move = np.random.uniform(0,1)\n",
        "      chance_move =  np.random.uniform(0,1)\n",
        "      if chance_move > 0.7 :\n",
        "        if prob_move > 0.5 :\n",
        "          self.reward_pos_1[0] -= 1\n",
        "        else :\n",
        "          self.reward_pos_1[1] -= 1\n",
        "    if (self.count % 2 == 0):\n",
        "      prob_move = np.random.uniform(0,1)\n",
        "      chance_move =  np.random.uniform(0,1)\n",
        "      if chance_move > 0.7 :\n",
        "        if prob_move > 0.5 :\n",
        "          self.reward_pos_2[0] -= 1\n",
        "        else :\n",
        "          self.reward_pos_2[0] += 1\n",
        "    return self.reward,self.agent_pos,self.count\n",
        "\n",
        "  def render(self):\n",
        "    plt.imshow(self.state)\n",
        "  def reset(self):\n",
        "    self.timesteps = 0\n",
        "    self.agent_pos = [0, 0]\n",
        "    self.reward_pos_1 = [5,4]\n",
        "    self.reward_pos_2 = [3,3]\n",
        "    self.reward_pos_3 = [2,5]\n",
        "    self.reward_pos_4 = [2,2]\n",
        "    self.terminal_pos = [5,5]\n",
        "    self.state = np.zeros((6,6))\n",
        "    self.state[tuple(self.agent_pos)] = 1\n",
        "    self.state[tuple(self.terminal_pos)] = 0.5 \n",
        "    self.state[tuple(self.reward_pos_1)] = 0.2\n",
        "    self.state[tuple(self.reward_pos_2)] = 0.3\n",
        "    self.state[tuple(self.reward_pos_3)] = 0.4\n",
        "    self.state[tuple(self.reward_pos_4)] = 0.7\n",
        "    observation = self.state.flatten()\n",
        "    self.reward = 0\n",
        "    self.count = 0\n",
        "    self.trap = 0\n",
        "\n",
        "    return observation\n",
        "\n",
        "\n"
      ],
      "execution_count": 78,
      "outputs": []
    },
    {
      "cell_type": "code",
      "metadata": {
        "colab": {
          "base_uri": "https://localhost:8080/"
        },
        "id": "lt7Fqs_-mJNy",
        "outputId": "e0af7d15-168d-4e17-a853-0138a878f104"
      },
      "source": [
        "env = Gridworld()\n",
        "obs = env.reset()\n",
        "def Episodes_Q():\n",
        "  env.reset()\n",
        "  episode = {}\n",
        "  episode[0] = [([0,0],0)]\n",
        "  start_pos = [0,0]\n",
        "  for i in range(1):   \n",
        "     x = (start_pos == env.terminal_pos)\n",
        "     while x == False :\n",
        "        env.reward = 0\n",
        "        action = np.random.randint(0,5)\n",
        "        reward,position,c  = env.step(action)\n",
        "        position = np.clip(position, 0, 5)\n",
        "        episode[0].append((position,reward))\n",
        "        if (position == env.terminal_pos).all():\n",
        "          x = True\n",
        "          break\n",
        "  return episode\n",
        "def Possible_Actions(current_s):\n",
        "    next_states = []\n",
        "    org_value = list(current_s)\n",
        "    org_value[0] += 1\n",
        "    org_value = np.clip(org_value, 0, 5) \n",
        "    next_states.append(list(org_value))\n",
        "    org_value = list(current_s)\n",
        "    org_value[0] -= 1\n",
        "    org_value = np.clip(org_value, 0, 5) \n",
        "    next_states.append(list(org_value))\n",
        "    org_value = list(current_s)\n",
        "    org_value[1] += 1\n",
        "    org_value = np.clip(org_value, 0, 5) \n",
        "    next_states.append(list(org_value))\n",
        "    org_value = list(current_s)\n",
        "    org_value[1] -= 1\n",
        "    org_value = np.clip(org_value, 0, 5) \n",
        "    next_states.append(list(org_value))\n",
        "    org_value = list(current_s)\n",
        "    org_value[0] += 1\n",
        "    org_value[1] += 1\n",
        "    org_value = np.clip(org_value, 0, 5) \n",
        "    next_states.append(list(org_value))\n",
        "    return next_states\n",
        "def start_q_values():\n",
        "      final_q_table = {}\n",
        "      for i in range(6):\n",
        "          for j in range(6):\n",
        "              final_q_table[(i,j)] = np.zeros(5)\n",
        "      return final_q_table\n",
        "def get_my_qvalue(q_table,given_state,r,e):\n",
        "    if r > e:\n",
        "        value = max(q_table.get(tuple(given_state[0])))\n",
        "    else:\n",
        "        rand_action = np.random.randint(0,5)\n",
        "        value = q_table.get(tuple(given_state[0]))[rand_action]\n",
        "    return value\n",
        "    \n",
        "def SARSA_learning():\n",
        "  q_store = start_q_values()\n",
        "  e = 0.6\n",
        "  plot_reward = []\n",
        "  epsilon = []\n",
        "  for i in range(2000):\n",
        "      for_graph = 0\n",
        "      episode = Episodes_Q()\n",
        "      e = e * 0.999\n",
        "      for i in range(len(episode[0])-1):\n",
        "       # if np.array(episode[0][index])  != np.array([0,0]):\n",
        "            threshold = np.random.uniform(0,1)\n",
        "            #print(episode[0][i])          \n",
        "            if  (list(episode[0][i][0]) != env.terminal_pos):\n",
        "                old_value_q = get_my_qvalue(q_store,episode[0][i],threshold,e)\n",
        "                action = q_store.get(tuple(episode[0][i][0])).tolist().index(old_value_q)\n",
        "            else:\n",
        "                old_value_q = 0\n",
        "                action = 0\n",
        "            #old_value_q = q_store.get((tuple(episode[0][i][0])))[action]\n",
        "            threshold = np.random.uniform(0,1)\n",
        "            if (episode[0][i+1][0] != env.terminal_pos).all():\n",
        "                q_new = get_my_qvalue(q_store,episode[0][i+1],threshold,e)\n",
        "            else:\n",
        "                q_new = 0\n",
        "            latest_reward = episode[0][i+1][1]\n",
        "            for_graph += latest_reward\n",
        "            alpha = 0.2\n",
        "            gamma = 0.7\n",
        "            new_value_q = old_value_q + alpha*(latest_reward + gamma*(q_new) - old_value_q )\n",
        "            q_store[tuple(episode[0][i][0])][action] = new_value_q\n",
        "      plot_reward.append(for_graph)\n",
        "      epsilon.append(e)\n",
        "     \n",
        "  return q_store, plot_reward, epsilon\n",
        "        \n",
        "finaltable, reward_graph, decay = SARSA_learning()\n",
        "optimal = finaltable.values()\n",
        "def get_max():\n",
        "   action = []\n",
        "   state = []\n",
        "   for item in finaltable.items():\n",
        "       action.append(tuple(item[1]).index(max(tuple(item[1]))))\n",
        "   return action\n",
        "\n",
        "optimal_action = get_max()\n",
        "print(optimal_action)\n",
        "\n",
        "\n",
        "\n"
      ],
      "execution_count": 81,
      "outputs": [
        {
          "output_type": "stream",
          "name": "stdout",
          "text": [
            "[0, 4, 2, 0, 1, 0, 4, 4, 4, 4, 3, 1, 3, 0, 4, 1, 0, 4, 3, 0, 3, 3, 3, 4, 0, 2, 4, 1, 2, 3, 3, 2, 1, 4, 1, 0]\n"
          ]
        }
      ]
    },
    {
      "cell_type": "code",
      "metadata": {
        "colab": {
          "base_uri": "https://localhost:8080/",
          "height": 304
        },
        "id": "1aBxj5CsPya4",
        "outputId": "dbf8aee4-be8e-4214-a530-21ffc15aa366"
      },
      "source": [
        "env = Gridworld()\n",
        "obs = env.reset()\n",
        "cumulative = 0\n",
        "from google.colab import widgets\n",
        "output_grid = widgets.Grid(1,1)\n",
        "for i in range(len(optimal_action)):\n",
        "  action = optimal_action[i]\n",
        "  grid = np.zeros((6,6))\n",
        "  reward,position,count  = env.step(action)\n",
        "  cumulative += reward\n",
        "  env.timesteps += 1\n",
        "  with output_grid.output_to(0,0):\n",
        "    output_grid.clear_cell()\n",
        "    env.render()\n",
        "  time.sleep(0.5)\n",
        "  if (position == terminal_pos).all():\n",
        "    break \n",
        "print(env.timesteps)\n",
        "print(reward)"
      ],
      "execution_count": 83,
      "outputs": [
        {
          "output_type": "display_data",
          "data": {
            "text/html": [
              "<style>\n",
              "       table#id52, #id52 > tbody > tr > th, #id52 > tbody > tr > td {\n",
              "         border: 1px solid lightgray;\n",
              "         border-collapse:collapse;\n",
              "         \n",
              "        }</style>"
            ],
            "text/plain": [
              "<IPython.core.display.HTML object>"
            ]
          },
          "metadata": {}
        },
        {
          "output_type": "display_data",
          "data": {
            "text/html": [
              "<table id=id52><tr><td id=id52-0-0></td></tr></table>"
            ],
            "text/plain": [
              "<IPython.core.display.HTML object>"
            ]
          },
          "metadata": {}
        },
        {
          "output_type": "display_data",
          "data": {
            "application/javascript": [
              "window[\"6014a670-24bc-11ec-b06a-0242ac1c0002\"] = google.colab.output.getActiveOutputArea();\n",
              "//# sourceURL=js_b9601d91b7"
            ],
            "text/plain": [
              "<IPython.core.display.Javascript object>"
            ]
          },
          "metadata": {}
        },
        {
          "output_type": "display_data",
          "data": {
            "application/javascript": [
              "window[\"60150a84-24bc-11ec-b06a-0242ac1c0002\"] = document.querySelector(\"#id52-0-0\");\n",
              "//# sourceURL=js_27bd036f81"
            ],
            "text/plain": [
              "<IPython.core.display.Javascript object>"
            ]
          },
          "metadata": {}
        },
        {
          "output_type": "display_data",
          "data": {
            "application/javascript": [
              "window[\"60156b64-24bc-11ec-b06a-0242ac1c0002\"] = google.colab.output.setActiveOutputArea(window[\"60150a84-24bc-11ec-b06a-0242ac1c0002\"]);\n",
              "//# sourceURL=js_e86dd2fa28"
            ],
            "text/plain": [
              "<IPython.core.display.Javascript object>"
            ]
          },
          "metadata": {}
        },
        {
          "output_type": "display_data",
          "data": {
            "application/javascript": [
              "window[\"60314cd0-24bc-11ec-b06a-0242ac1c0002\"] = google.colab.output.setActiveOutputArea(window[\"6014a670-24bc-11ec-b06a-0242ac1c0002\"]);\n",
              "//# sourceURL=js_c56f3e537b"
            ],
            "text/plain": [
              "<IPython.core.display.Javascript object>"
            ]
          },
          "metadata": {}
        },
        {
          "output_type": "display_data",
          "data": {
            "application/javascript": [
              "window[\"60805a64-24bc-11ec-b06a-0242ac1c0002\"] = google.colab.output.getActiveOutputArea();\n",
              "//# sourceURL=js_eaf7ba5803"
            ],
            "text/plain": [
              "<IPython.core.display.Javascript object>"
            ]
          },
          "metadata": {}
        },
        {
          "output_type": "display_data",
          "data": {
            "application/javascript": [
              "window[\"6080d840-24bc-11ec-b06a-0242ac1c0002\"] = document.querySelector(\"#id52-0-0\");\n",
              "//# sourceURL=js_a00964a76b"
            ],
            "text/plain": [
              "<IPython.core.display.Javascript object>"
            ]
          },
          "metadata": {}
        },
        {
          "output_type": "display_data",
          "data": {
            "application/javascript": [
              "window[\"60815fea-24bc-11ec-b06a-0242ac1c0002\"] = google.colab.output.setActiveOutputArea(window[\"6080d840-24bc-11ec-b06a-0242ac1c0002\"]);\n",
              "//# sourceURL=js_32576ac68d"
            ],
            "text/plain": [
              "<IPython.core.display.Javascript object>"
            ]
          },
          "metadata": {}
        },
        {
          "output_type": "display_data",
          "data": {
            "application/javascript": [
              "window[\"60a0699e-24bc-11ec-b06a-0242ac1c0002\"] = google.colab.output.setActiveOutputArea(window[\"60805a64-24bc-11ec-b06a-0242ac1c0002\"]);\n",
              "//# sourceURL=js_64ca879c9c"
            ],
            "text/plain": [
              "<IPython.core.display.Javascript object>"
            ]
          },
          "metadata": {}
        },
        {
          "output_type": "display_data",
          "data": {
            "application/javascript": [
              "window[\"60ef3416-24bc-11ec-b06a-0242ac1c0002\"] = google.colab.output.getActiveOutputArea();\n",
              "//# sourceURL=js_1959482425"
            ],
            "text/plain": [
              "<IPython.core.display.Javascript object>"
            ]
          },
          "metadata": {}
        },
        {
          "output_type": "display_data",
          "data": {
            "application/javascript": [
              "window[\"60ef9d2a-24bc-11ec-b06a-0242ac1c0002\"] = document.querySelector(\"#id52-0-0\");\n",
              "//# sourceURL=js_bed318dc53"
            ],
            "text/plain": [
              "<IPython.core.display.Javascript object>"
            ]
          },
          "metadata": {}
        },
        {
          "output_type": "display_data",
          "data": {
            "application/javascript": [
              "window[\"60efff54-24bc-11ec-b06a-0242ac1c0002\"] = google.colab.output.setActiveOutputArea(window[\"60ef9d2a-24bc-11ec-b06a-0242ac1c0002\"]);\n",
              "//# sourceURL=js_c19328914f"
            ],
            "text/plain": [
              "<IPython.core.display.Javascript object>"
            ]
          },
          "metadata": {}
        },
        {
          "output_type": "display_data",
          "data": {
            "application/javascript": [
              "window[\"610dbb20-24bc-11ec-b06a-0242ac1c0002\"] = google.colab.output.setActiveOutputArea(window[\"60ef3416-24bc-11ec-b06a-0242ac1c0002\"]);\n",
              "//# sourceURL=js_3ffa122d8b"
            ],
            "text/plain": [
              "<IPython.core.display.Javascript object>"
            ]
          },
          "metadata": {}
        },
        {
          "output_type": "display_data",
          "data": {
            "application/javascript": [
              "window[\"615f1600-24bc-11ec-b06a-0242ac1c0002\"] = google.colab.output.getActiveOutputArea();\n",
              "//# sourceURL=js_54e329fdc1"
            ],
            "text/plain": [
              "<IPython.core.display.Javascript object>"
            ]
          },
          "metadata": {}
        },
        {
          "output_type": "display_data",
          "data": {
            "application/javascript": [
              "window[\"615ffe08-24bc-11ec-b06a-0242ac1c0002\"] = document.querySelector(\"#id52-0-0\");\n",
              "//# sourceURL=js_da8b96f467"
            ],
            "text/plain": [
              "<IPython.core.display.Javascript object>"
            ]
          },
          "metadata": {}
        },
        {
          "output_type": "display_data",
          "data": {
            "application/javascript": [
              "window[\"6160dba2-24bc-11ec-b06a-0242ac1c0002\"] = google.colab.output.setActiveOutputArea(window[\"615ffe08-24bc-11ec-b06a-0242ac1c0002\"]);\n",
              "//# sourceURL=js_b30fb51240"
            ],
            "text/plain": [
              "<IPython.core.display.Javascript object>"
            ]
          },
          "metadata": {}
        },
        {
          "output_type": "display_data",
          "data": {
            "application/javascript": [
              "window[\"617ec946-24bc-11ec-b06a-0242ac1c0002\"] = google.colab.output.setActiveOutputArea(window[\"615f1600-24bc-11ec-b06a-0242ac1c0002\"]);\n",
              "//# sourceURL=js_e59de23b95"
            ],
            "text/plain": [
              "<IPython.core.display.Javascript object>"
            ]
          },
          "metadata": {}
        },
        {
          "output_type": "display_data",
          "data": {
            "application/javascript": [
              "window[\"61d02ed0-24bc-11ec-b06a-0242ac1c0002\"] = google.colab.output.getActiveOutputArea();\n",
              "//# sourceURL=js_b73c3279e3"
            ],
            "text/plain": [
              "<IPython.core.display.Javascript object>"
            ]
          },
          "metadata": {}
        },
        {
          "output_type": "display_data",
          "data": {
            "application/javascript": [
              "window[\"61d105e4-24bc-11ec-b06a-0242ac1c0002\"] = document.querySelector(\"#id52-0-0\");\n",
              "//# sourceURL=js_042cb956b5"
            ],
            "text/plain": [
              "<IPython.core.display.Javascript object>"
            ]
          },
          "metadata": {}
        },
        {
          "output_type": "display_data",
          "data": {
            "application/javascript": [
              "window[\"61d1d046-24bc-11ec-b06a-0242ac1c0002\"] = google.colab.output.setActiveOutputArea(window[\"61d105e4-24bc-11ec-b06a-0242ac1c0002\"]);\n",
              "//# sourceURL=js_7de00a1057"
            ],
            "text/plain": [
              "<IPython.core.display.Javascript object>"
            ]
          },
          "metadata": {}
        },
        {
          "output_type": "display_data",
          "data": {
            "application/javascript": [
              "window[\"61ee5f18-24bc-11ec-b06a-0242ac1c0002\"] = google.colab.output.setActiveOutputArea(window[\"61d02ed0-24bc-11ec-b06a-0242ac1c0002\"]);\n",
              "//# sourceURL=js_a078273d4c"
            ],
            "text/plain": [
              "<IPython.core.display.Javascript object>"
            ]
          },
          "metadata": {}
        },
        {
          "output_type": "display_data",
          "data": {
            "application/javascript": [
              "window[\"623f56de-24bc-11ec-b06a-0242ac1c0002\"] = google.colab.output.getActiveOutputArea();\n",
              "//# sourceURL=js_8fdd77c519"
            ],
            "text/plain": [
              "<IPython.core.display.Javascript object>"
            ]
          },
          "metadata": {}
        },
        {
          "output_type": "display_data",
          "data": {
            "application/javascript": [
              "window[\"62402f8c-24bc-11ec-b06a-0242ac1c0002\"] = document.querySelector(\"#id52-0-0\");\n",
              "//# sourceURL=js_87201da19e"
            ],
            "text/plain": [
              "<IPython.core.display.Javascript object>"
            ]
          },
          "metadata": {}
        },
        {
          "output_type": "display_data",
          "data": {
            "application/javascript": [
              "window[\"6240f6ce-24bc-11ec-b06a-0242ac1c0002\"] = google.colab.output.setActiveOutputArea(window[\"62402f8c-24bc-11ec-b06a-0242ac1c0002\"]);\n",
              "//# sourceURL=js_70973712ea"
            ],
            "text/plain": [
              "<IPython.core.display.Javascript object>"
            ]
          },
          "metadata": {}
        },
        {
          "output_type": "display_data",
          "data": {
            "application/javascript": [
              "window[\"625d9d56-24bc-11ec-b06a-0242ac1c0002\"] = google.colab.output.setActiveOutputArea(window[\"623f56de-24bc-11ec-b06a-0242ac1c0002\"]);\n",
              "//# sourceURL=js_73d3337a4f"
            ],
            "text/plain": [
              "<IPython.core.display.Javascript object>"
            ]
          },
          "metadata": {}
        },
        {
          "output_type": "display_data",
          "data": {
            "application/javascript": [
              "window[\"62ad5b2a-24bc-11ec-b06a-0242ac1c0002\"] = google.colab.output.getActiveOutputArea();\n",
              "//# sourceURL=js_c5716ddce9"
            ],
            "text/plain": [
              "<IPython.core.display.Javascript object>"
            ]
          },
          "metadata": {}
        },
        {
          "output_type": "display_data",
          "data": {
            "application/javascript": [
              "window[\"62ade0cc-24bc-11ec-b06a-0242ac1c0002\"] = document.querySelector(\"#id52-0-0\");\n",
              "//# sourceURL=js_a49697f3e1"
            ],
            "text/plain": [
              "<IPython.core.display.Javascript object>"
            ]
          },
          "metadata": {}
        },
        {
          "output_type": "display_data",
          "data": {
            "application/javascript": [
              "window[\"62ae721c-24bc-11ec-b06a-0242ac1c0002\"] = google.colab.output.setActiveOutputArea(window[\"62ade0cc-24bc-11ec-b06a-0242ac1c0002\"]);\n",
              "//# sourceURL=js_7abbbd2cd9"
            ],
            "text/plain": [
              "<IPython.core.display.Javascript object>"
            ]
          },
          "metadata": {}
        },
        {
          "output_type": "display_data",
          "data": {
            "application/javascript": [
              "window[\"62d55f26-24bc-11ec-b06a-0242ac1c0002\"] = google.colab.output.setActiveOutputArea(window[\"62ad5b2a-24bc-11ec-b06a-0242ac1c0002\"]);\n",
              "//# sourceURL=js_78250ef075"
            ],
            "text/plain": [
              "<IPython.core.display.Javascript object>"
            ]
          },
          "metadata": {}
        },
        {
          "output_type": "display_data",
          "data": {
            "application/javascript": [
              "window[\"632474bc-24bc-11ec-b06a-0242ac1c0002\"] = google.colab.output.getActiveOutputArea();\n",
              "//# sourceURL=js_1e29213513"
            ],
            "text/plain": [
              "<IPython.core.display.Javascript object>"
            ]
          },
          "metadata": {}
        },
        {
          "output_type": "display_data",
          "data": {
            "application/javascript": [
              "window[\"63250198-24bc-11ec-b06a-0242ac1c0002\"] = document.querySelector(\"#id52-0-0\");\n",
              "//# sourceURL=js_bfc5fe45ee"
            ],
            "text/plain": [
              "<IPython.core.display.Javascript object>"
            ]
          },
          "metadata": {}
        },
        {
          "output_type": "display_data",
          "data": {
            "application/javascript": [
              "window[\"63257b50-24bc-11ec-b06a-0242ac1c0002\"] = google.colab.output.setActiveOutputArea(window[\"63250198-24bc-11ec-b06a-0242ac1c0002\"]);\n",
              "//# sourceURL=js_8cf5617aaa"
            ],
            "text/plain": [
              "<IPython.core.display.Javascript object>"
            ]
          },
          "metadata": {}
        },
        {
          "output_type": "display_data",
          "data": {
            "application/javascript": [
              "window[\"634041ec-24bc-11ec-b06a-0242ac1c0002\"] = google.colab.output.setActiveOutputArea(window[\"632474bc-24bc-11ec-b06a-0242ac1c0002\"]);\n",
              "//# sourceURL=js_a64d727983"
            ],
            "text/plain": [
              "<IPython.core.display.Javascript object>"
            ]
          },
          "metadata": {}
        },
        {
          "output_type": "display_data",
          "data": {
            "application/javascript": [
              "window[\"638f6a38-24bc-11ec-b06a-0242ac1c0002\"] = google.colab.output.getActiveOutputArea();\n",
              "//# sourceURL=js_5d12843101"
            ],
            "text/plain": [
              "<IPython.core.display.Javascript object>"
            ]
          },
          "metadata": {}
        },
        {
          "output_type": "display_data",
          "data": {
            "application/javascript": [
              "window[\"638ffcd2-24bc-11ec-b06a-0242ac1c0002\"] = document.querySelector(\"#id52-0-0\");\n",
              "//# sourceURL=js_984cd478a8"
            ],
            "text/plain": [
              "<IPython.core.display.Javascript object>"
            ]
          },
          "metadata": {}
        },
        {
          "output_type": "display_data",
          "data": {
            "application/javascript": [
              "window[\"639079c8-24bc-11ec-b06a-0242ac1c0002\"] = google.colab.output.setActiveOutputArea(window[\"638ffcd2-24bc-11ec-b06a-0242ac1c0002\"]);\n",
              "//# sourceURL=js_04a93a844a"
            ],
            "text/plain": [
              "<IPython.core.display.Javascript object>"
            ]
          },
          "metadata": {}
        },
        {
          "output_type": "display_data",
          "data": {
            "image/png": "[encoded data removed]",
            "text/plain": [
              "<Figure size 432x288 with 1 Axes>"
            ]
          },
          "metadata": {
            "needs_background": "light"
          }
        },
        {
          "output_type": "display_data",
          "data": {
            "application/javascript": [
              "window[\"63aeba32-24bc-11ec-b06a-0242ac1c0002\"] = google.colab.output.setActiveOutputArea(window[\"638f6a38-24bc-11ec-b06a-0242ac1c0002\"]);\n",
              "//# sourceURL=js_5eb353603c"
            ],
            "text/plain": [
              "<IPython.core.display.Javascript object>"
            ]
          },
          "metadata": {}
        },
        {
          "output_type": "stream",
          "name": "stdout",
          "text": [
            "9\n",
            "45\n"
          ]
        }
      ]
    },
    {
      "cell_type": "code",
      "metadata": {
        "id": "cg9DGkKcRJDH",
        "colab": {
          "base_uri": "https://localhost:8080/",
          "height": 307
        },
        "outputId": "f1da8885-960b-4ced-a7c0-86311efff5a4"
      },
      "source": [
        "import numpy as np\n",
        "import matplotlib.pyplot as plt\n",
        "plt.plot(range(2000), reward_graph)\n",
        "print(reward_graph)\n",
        "\n"
      ],
      "execution_count": 85,
      "outputs": [
        {
          "output_type": "stream",
          "name": "stdout",
          "text": [
            "[125, 80, 230, 115, 160, 115, 140, 110, 135, 70, 70, 135, 55, 135, 135, 175, 235, 120, 135, 155, 215, 100, 95, 135, 80, 55, 65, 60, 140, 55, 60, 115, 55, 45, 110, 60, 60, 95, 120, 60, 185, 90, 85, 225, 175, 190, 55, 115, 75, 165, 115, 95, 130, 85, 250, 265, 195, 110, 160, 95, 260, 120, 105, 85, 55, 195, 125, 330, 140, 210, 75, 90, 135, 95, 105, 270, 120, 120, 105, 55, 105, 75, 65, 60, 145, 235, 170, 80, 100, 265, 120, 180, 120, 105, 130, 145, 120, 110, 70, 125, 160, 45, 85, 130, 100, 170, 260, 160, 75, 60, 120, 95, 225, 60, 125, 90, 55, 190, 65, 95, 140, 145, 110, 45, 45, 240, 85, 105, 130, 155, 185, 75, 125, 70, 75, 180, 55, 160, 135, 45, 120, 75, 115, 115, 95, 70, 115, 85, 165, 215, 120, 135, 60, 110, 120, 90, 260, 105, 210, 75, 60, 115, 90, 90, 120, 145, 150, 130, 85, 80, 135, 65, 60, 45, 150, 135, 105, 180, 135, 90, 110, 105, 85, 75, 80, 85, 120, 250, 45, 75, 65, 60, 45, 105, 150, 255, 140, 85, 75, 170, 120, 45, 60, 165, 105, 85, 70, 80, 155, 60, 45, 150, 110, 70, 105, 245, 420, 75, 105, 80, 135, 170, 100, 115, 45, 105, 195, 145, 155, 205, 100, 70, 95, 180, 45, 55, 130, 60, 90, 60, 125, 240, 155, 185, 155, 45, 60, 60, 70, 95, 85, 105, 105, 230, 105, 105, 190, 75, 95, 85, 75, 95, 85, 45, 45, 55, 115, 120, 190, 90, 75, 130, 130, 105, 225, 120, 95, 90, 145, 120, 170, 55, 45, 115, 85, 75, 95, 140, 60, 60, 235, 215, 85, 80, 45, 105, 125, 145, 145, 155, 230, 85, 120, 200, 75, 60, 70, 155, 120, 65, 130, 60, 105, 60, 155, 115, 80, 155, 195, 120, 105, 105, 105, 105, 110, 65, 105, 105, 180, 85, 130, 225, 115, 95, 145, 265, 110, 80, 125, 200, 130, 100, 310, 70, 155, 400, 90, 115, 105, 60, 65, 140, 165, 95, 140, 100, 45, 60, 175, 185, 55, 100, 65, 230, 60, 55, 70, 200, 315, 125, 65, 120, 75, 215, 60, 45, 125, 55, 115, 265, 45, 125, 105, 45, 115, 160, 210, 115, 205, 45, 140, 75, 60, 105, 75, 110, 100, 105, 160, 75, 105, 140, 170, 60, 130, 80, 115, 90, 105, 130, 245, 110, 245, 125, 80, 150, 70, 155, 105, 80, 60, 105, 75, 95, 120, 225, 155, 155, 115, 240, 100, 260, 45, 110, 265, 190, 120, 145, 80, 75, 130, 85, 130, 140, 110, 185, 85, 60, 45, 245, 205, 110, 145, 45, 110, 510, 355, 175, 135, 255, 120, 70, 175, 110, 60, 120, 120, 105, 145, 90, 190, 140, 60, 105, 150, 225, 120, 110, 150, 45, 165, 75, 100, 75, 110, 45, 160, 140, 155, 155, 100, 95, 115, 105, 95, 100, 290, 315, 175, 100, 90, 80, 70, 95, 75, 125, 125, 125, 75, 65, 210, 70, 110, 120, 225, 55, 225, 95, 85, 60, 170, 140, 95, 75, 75, 65, 95, 105, 95, 75, 60, 110, 80, 170, 345, 75, 195, 60, 95, 245, 145, 90, 70, 230, 100, 85, 105, 285, 215, 90, 155, 175, 45, 330, 45, 105, 130, 115, 105, 60, 70, 145, 295, 315, 120, 150, 95, 85, 165, 175, 305, 75, 55, 345, 120, 100, 135, 180, 120, 80, 105, 80, 125, 45, 105, 325, 70, 170, 120, 105, 150, 210, 85, 90, 230, 70, 90, 100, 115, 175, 60, 85, 95, 165, 275, 60, 85, 65, 105, 160, 120, 55, 70, 45, 155, 325, 135, 95, 105, 90, 75, 60, 80, 120, 125, 65, 75, 120, 135, 105, 255, 100, 145, 60, 190, 360, 80, 140, 130, 65, 185, 80, 90, 130, 140, 230, 85, 190, 200, 125, 60, 190, 45, 130, 220, 120, 145, 155, 45, 80, 105, 190, 235, 130, 180, 55, 240, 140, 165, 130, 130, 145, 105, 100, 95, 60, 140, 55, 100, 85, 75, 130, 110, 80, 105, 140, 80, 295, 180, 55, 95, 105, 205, 160, 110, 115, 70, 135, 85, 75, 105, 310, 75, 95, 105, 80, 70, 130, 115, 60, 200, 115, 165, 60, 75, 145, 185, 60, 80, 75, 185, 110, 75, 55, 165, 120, 110, 150, 140, 165, 80, 145, 215, 55, 60, 60, 115, 130, 110, 670, 155, 300, 105, 245, 140, 140, 55, 245, 85, 140, 70, 60, 225, 135, 325, 155, 60, 45, 160, 180, 80, 60, 150, 60, 145, 115, 115, 95, 100, 290, 95, 200, 170, 55, 150, 80, 70, 60, 150, 85, 145, 130, 155, 150, 85, 45, 80, 105, 105, 110, 165, 130, 75, 120, 100, 75, 220, 90, 175, 65, 130, 135, 75, 240, 140, 105, 155, 95, 60, 120, 80, 105, 180, 75, 120, 45, 60, 135, 80, 120, 45, 155, 45, 200, 70, 175, 55, 60, 110, 105, 60, 80, 440, 145, 75, 125, 330, 60, 130, 130, 60, 100, 145, 150, 105, 180, 80, 215, 120, 55, 80, 95, 250, 125, 70, 95, 150, 55, 95, 125, 45, 60, 90, 135, 135, 150, 105, 60, 60, 105, 570, 160, 75, 90, 45, 240, 320, 160, 205, 130, 150, 130, 75, 65, 530, 130, 80, 210, 125, 145, 120, 120, 100, 105, 120, 340, 85, 100, 70, 135, 130, 95, 310, 60, 100, 105, 215, 130, 95, 105, 45, 205, 120, 60, 140, 180, 190, 65, 60, 120, 155, 70, 80, 130, 140, 60, 100, 45, 180, 155, 150, 395, 55, 225, 45, 105, 140, 80, 320, 180, 130, 135, 110, 95, 105, 135, 170, 60, 175, 60, 75, 165, 155, 130, 130, 190, 155, 135, 60, 170, 135, 105, 145, 125, 315, 80, 185, 125, 85, 145, 160, 60, 130, 130, 60, 75, 170, 105, 165, 120, 80, 60, 45, 120, 100, 125, 45, 130, 60, 110, 85, 185, 55, 85, 85, 140, 90, 60, 170, 120, 160, 105, 285, 100, 80, 120, 85, 145, 45, 135, 75, 45, 150, 80, 290, 170, 160, 230, 185, 255, 185, 95, 260, 75, 110, 120, 110, 220, 95, 110, 155, 125, 60, 105, 70, 80, 75, 105, 120, 170, 65, 60, 165, 60, 300, 80, 60, 155, 90, 70, 90, 135, 65, 110, 70, 145, 135, 160, 60, 75, 75, 215, 230, 155, 85, 180, 155, 80, 260, 105, 145, 95, 110, 130, 155, 45, 105, 140, 105, 180, 70, 115, 80, 45, 85, 230, 85, 110, 165, 45, 130, 115, 155, 175, 140, 120, 170, 225, 70, 155, 190, 455, 60, 55, 85, 45, 135, 185, 145, 125, 190, 135, 105, 120, 45, 95, 200, 70, 230, 110, 85, 165, 120, 150, 105, 210, 90, 75, 140, 105, 75, 250, 130, 100, 120, 100, 105, 80, 130, 65, 150, 95, 115, 85, 110, 60, 85, 90, 120, 140, 105, 130, 75, 140, 235, 200, 150, 200, 125, 150, 120, 115, 70, 85, 85, 130, 145, 160, 130, 70, 60, 85, 130, 110, 145, 60, 230, 105, 45, 120, 155, 160, 115, 60, 195, 60, 370, 115, 85, 80, 80, 120, 110, 120, 130, 100, 130, 120, 65, 135, 160, 180, 60, 165, 155, 130, 250, 45, 120, 120, 145, 165, 100, 145, 135, 85, 80, 80, 75, 155, 85, 190, 200, 150, 115, 95, 75, 175, 55, 215, 250, 165, 140, 70, 295, 220, 105, 115, 220, 70, 65, 55, 140, 185, 165, 45, 140, 65, 185, 205, 295, 140, 295, 120, 55, 130, 60, 105, 110, 305, 45, 180, 75, 115, 105, 70, 110, 105, 90, 85, 105, 220, 100, 155, 85, 125, 145, 105, 235, 140, 45, 75, 130, 210, 195, 120, 75, 60, 170, 125, 125, 180, 150, 150, 120, 140, 185, 140, 110, 105, 85, 45, 185, 120, 85, 150, 135, 135, 130, 105, 65, 115, 145, 140, 45, 100, 140, 390, 180, 170, 125, 80, 110, 105, 105, 85, 90, 120, 100, 55, 60, 60, 45, 135, 145, 355, 85, 110, 130, 180, 135, 115, 155, 75, 155, 85, 80, 60, 275, 85, 80, 320, 80, 105, 95, 120, 145, 165, 120, 190, 120, 165, 135, 170, 225, 165, 165, 130, 60, 45, 70, 145, 130, 235, 90, 230, 270, 55, 55, 125, 85, 145, 60, 55, 45, 80, 105, 95, 55, 45, 60, 85, 150, 285, 135, 55, 150, 80, 175, 55, 110, 115, 105, 235, 105, 85, 120, 140, 105, 60, 55, 115, 125, 90, 75, 170, 95, 60, 125, 105, 55, 55, 155, 100, 225, 85, 325, 75, 170, 120, 225, 60, 65, 110, 105, 170, 230, 45, 135, 165, 135, 115, 105, 155, 80, 85, 100, 295, 75, 290, 45, 60, 230, 80, 425, 55, 215, 70, 130, 135, 235, 75, 85, 125, 145, 145, 120, 130, 130, 135, 55, 125, 120, 145, 110, 410, 60, 180, 60, 135, 90, 95, 125, 70, 80, 75, 60, 95, 180, 370, 45, 95, 60, 60, 165, 105, 180, 260, 160, 135, 255, 170, 215, 165, 45, 120, 60, 150, 245, 60, 110, 55, 285, 110, 95, 175, 90, 140, 115, 65, 105, 190, 105, 175, 105, 45, 70, 45, 150, 105, 60, 140, 130, 90, 115, 175, 90, 95, 160, 195, 110, 85, 105, 110, 120, 185, 45, 75, 120, 110, 120, 390, 175, 85, 235, 100, 310, 130, 115, 105, 175, 70, 135, 95, 80, 60, 55, 60, 55, 130, 195, 245, 60, 125, 415, 85, 140, 105, 155, 65, 120, 80, 120, 60, 155, 115, 90, 90, 140, 155, 90, 45, 120, 100, 55, 125, 65, 70, 80, 130, 200, 155, 95, 95, 205, 185, 160, 145, 155, 190, 70, 205, 95, 60, 55, 90, 85, 155, 135, 115, 85, 140, 170, 165, 160, 160, 95, 95, 120, 60, 160, 60, 105, 240, 155, 100, 75, 45, 65, 160, 95, 110, 110, 135, 55, 115, 250, 190, 85, 80, 110, 60, 45, 60, 130, 85, 60, 125, 60, 80, 70, 130, 60, 115, 85, 55, 60, 100, 85, 145, 85, 95, 135, 140, 100, 105, 130, 195, 110, 165, 45, 60, 90, 245, 115, 60, 75, 115, 160, 60, 90, 65, 160, 165, 55, 130, 145, 215, 90, 155, 175, 140, 145, 55, 100, 80, 120, 130, 215, 60, 55, 225, 120, 95, 70, 80, 65, 85, 115, 105, 75, 165, 100, 120, 85, 105, 135, 85, 135, 100, 105, 85, 55, 120, 320, 55, 120, 75, 75, 70, 70, 85, 100, 140, 80, 115, 45, 95, 85, 60, 165, 55, 60, 45, 125, 110, 280, 90, 120, 195, 160, 60, 105, 130, 55, 130, 55, 215, 60, 55, 160, 155, 120, 80, 145, 85, 140, 75, 45, 80, 180, 70, 170, 105, 190, 85, 90, 85, 55, 75, 105, 135, 140, 65, 70, 70, 90, 120, 85, 45, 60, 120, 65, 195, 130, 145, 180, 105, 140, 75, 145, 125, 235, 70, 105, 60, 240, 75, 55, 110, 120, 125, 155, 230, 80, 45, 105, 70, 120, 80, 190, 220, 80, 80, 130, 315, 125, 170, 45, 275, 95, 105, 80, 155, 45, 115, 220, 45, 255, 60, 60, 120, 120, 100, 120, 290, 100, 65, 90, 145, 105, 55, 70, 80, 55, 85, 120, 105, 145, 70, 45, 120, 65, 60, 60, 140, 45, 210, 125, 75, 110, 45, 170, 150, 105, 90, 45, 155, 130, 80, 290, 60, 60, 200, 60, 45, 45, 45, 100, 70, 65, 140, 140, 165, 120, 110, 55, 125, 105, 60, 115, 45, 135, 110, 135, 135, 155, 90, 90, 95, 155, 130, 145, 70, 170, 85, 75, 140, 215, 200, 160, 45, 60, 130, 100, 105, 95, 110, 200, 80, 120, 80, 105, 115, 85, 75, 265, 115, 105, 135, 70, 110, 55, 120, 120, 180, 55, 75, 220, 85, 205, 115, 90, 120, 150, 85, 95, 200, 120, 120, 420, 75, 175, 120, 75, 90, 255, 295, 150, 165, 55, 60, 45, 120, 60, 60, 195, 85, 190, 110, 275, 190, 60, 60, 100, 170, 110, 45, 135, 120]\n"
          ]
        },
        {
          "output_type": "display_data",
          "data": {
            "image/png": "[encoded data removed]",
            "text/plain": [
              "<Figure size 432x288 with 1 Axes>"
            ]
          },
          "metadata": {
            "needs_background": "light"
          }
        }
      ]
    },
    {
      "cell_type": "code",
      "metadata": {
        "id": "T6WhE-tylAaV",
        "colab": {
          "base_uri": "https://localhost:8080/",
          "height": 303
        },
        "outputId": "790f8e30-0328-4128-8b66-84c90f8b003e"
      },
      "source": [
        "plt.plot(range(2000), decay)\n",
        "print(decay)"
      ],
      "execution_count": 74,
      "outputs": [
        {
          "output_type": "stream",
          "name": "stdout",
          "text": [
            "[0.29969999999999997, 0.29940029999999995, 0.2991008997, 0.2988017988003, 0.2985029970014997, 0.29820449400449817, 0.2979062895104937, 0.2976083832209832, 0.29731077483776225, 0.2970134640629245, 0.2967164505988616, 0.2964197341482627, 0.29612331441411444, 0.29582719109970035, 0.29553136390860063, 0.29523583254469205, 0.29494059671214734, 0.2946456561154352, 0.2943510104593198, 0.29405665944886045, 0.2937626027894116, 0.29346884018662217, 0.29317537134643556, 0.29288219597508913, 0.29258931377911407, 0.29229672446533495, 0.2920044277408696, 0.29171242331312874, 0.29142071088981564, 0.2911292901789258, 0.29083816088874687, 0.2905473227278581, 0.29025677540513023, 0.2899665186297251, 0.2896765521110954, 0.2893868755589843, 0.28909748868342533, 0.2888083911947419, 0.28851958280354717, 0.2882310632207436, 0.28794283215752287, 0.2876548893253653, 0.28736723443603995, 0.2870798672016039, 0.2867927873344023, 0.2865059945470679, 0.28621948855252083, 0.2859332690639683, 0.28564733579490437, 0.2853616884591095, 0.28507632677065037, 0.2847912504438797, 0.2845064591934358, 0.2842219527342424, 0.28393773078150814, 0.28365379305072663, 0.2833701392576759, 0.28308676911841824, 0.2828036823492998, 0.2825208786669505, 0.2822383577882836, 0.2819561194304953, 0.2816741633110648, 0.2813924891477538, 0.281111096658606, 0.2808299855619474, 0.28054915557638543, 0.28026860642080903, 0.2799883378143882, 0.2797083494765738, 0.27942864112709725, 0.27914921248597013, 0.2788700632734842, 0.2785911932102107, 0.2783126020170005, 0.2780342894149835, 0.2777562551255685, 0.27747849887044296, 0.2772010203715725, 0.2769238193512009, 0.27664689553184973, 0.2763702486363179, 0.27609387838768157, 0.2758177845092939, 0.2755419667247846, 0.2752664247580598, 0.27499115833330173, 0.27471616717496844, 0.2744414510077935, 0.2741670095567857, 0.2738928425472289, 0.27361894970468165, 0.27334533075497697, 0.273071985424222, 0.2727989134387978, 0.272526114525359, 0.27225358841083364, 0.2719813348224228, 0.2717093534876004, 0.2714376441341128, 0.2711662064899787, 0.2708950402834887, 0.2706241452432052, 0.270353521097962, 0.27008316757686407, 0.2698130844092872, 0.26954327132487793, 0.26927372805355304, 0.26900445432549946, 0.268735449871174, 0.2684667144213028, 0.2681982477068815, 0.2679300494591746, 0.2676621194097154, 0.2673944572903057, 0.2671270628330154, 0.2668599357701824, 0.2665930758344122, 0.2663264827585778, 0.2660601562758192, 0.26579409611954335, 0.2655283020234238, 0.2652627737214004, 0.264997510947679, 0.2647325134367313, 0.2644677809232946, 0.2642033131423713, 0.2639391098292289, 0.26367517071939967, 0.26341149554868026, 0.26314808405313156, 0.2628849359690784, 0.2626220510331093, 0.2623594289820762, 0.26209706955309414, 0.26183497248354104, 0.2615731375110575, 0.2613115643735464, 0.2610502528091729, 0.26078920255636373, 0.2605284133538074, 0.26026788494045355, 0.2600076170555131, 0.2597476094384576, 0.2594878618290191, 0.2592283739671901, 0.2589691455932229, 0.2587101764476297, 0.2584514662711821, 0.2581930148049109, 0.257934821790106, 0.2576768869683159, 0.2574192100813476, 0.2571617908712663, 0.256904629080395, 0.2566477244513146, 0.2563910767268633, 0.2561346856501364, 0.2558785509644863, 0.2556226724135218, 0.2553670497411083, 0.2551116826913672, 0.2548565710086758, 0.25460171443766716, 0.2543471127232295, 0.2540927656105063, 0.2538386728448958, 0.2535848341720509, 0.25333124933787887, 0.253077918088541, 0.2528248401704525, 0.252572015330282, 0.2523194433149517, 0.25206712387163677, 0.2518150567477651, 0.25156324169101735, 0.25131167844932634, 0.251060366770877, 0.25080930640410615, 0.25055849709770206, 0.25030793860060435, 0.25005763066200376, 0.24980757303134177, 0.24955776545831043, 0.2493082076928521, 0.24905889948515927, 0.24880984058567412, 0.24856103074508845, 0.24831246971434337, 0.24806415724462902, 0.2478160930873844, 0.247568276994297, 0.24732070871730272, 0.24707338800858542, 0.24682631462057683, 0.24657948830595625, 0.2463329088176503, 0.24608657590883265, 0.24584048933292382, 0.2455946488435909, 0.2453490541947473, 0.24510370514055257, 0.24485860143541202, 0.2446137428339766, 0.24436912909114264, 0.2441247599620515, 0.24388063520208944, 0.24363675456688735, 0.24339311781232045, 0.24314972469450813, 0.24290657496981363, 0.24266366839484382, 0.24242100472644898, 0.24217858372172252, 0.2419364051380008, 0.2416944687328628, 0.24145277426412992, 0.2412113214898658, 0.24097011016837594, 0.24072914005820756, 0.24048841091814935, 0.2402479225072312, 0.24000767458472397, 0.23976766691013923, 0.2395278992432291, 0.23928837134398587, 0.23904908297264188, 0.23881003388966923, 0.23857122385577956, 0.23833265263192377, 0.23809431997929184, 0.23785622565931255, 0.23761836943365325, 0.2373807510642196, 0.23714337031315538, 0.23690622694284222, 0.23666932071589938, 0.2364326513951835, 0.2361962187437883, 0.2359600225250445, 0.23572406250251945, 0.23548833844001693, 0.23525285010157693, 0.23501759725147536, 0.2347825796542239, 0.23454779707456966, 0.23431324927749508, 0.23407893602821758, 0.23384485709218936, 0.23361101223509717, 0.23337740122286207, 0.2331440238216392, 0.23291087979781758, 0.23267796891801976, 0.23244529094910174, 0.23221284565815264, 0.23198063281249448, 0.231748652179682, 0.23151690352750232, 0.23128538662397483, 0.23105410123735085, 0.23082304713611349, 0.23059222408897737, 0.2303616318648884, 0.23013127023302352, 0.2299011389627905, 0.2296712378238277, 0.22944156658600387, 0.22921212501941787, 0.22898291289439845, 0.22875392998150407, 0.22852517605152256, 0.22829665087547105, 0.22806835422459557, 0.22784028587037097, 0.2276124455845006, 0.2273848331389161, 0.2271574483057772, 0.2269302908574714, 0.22670336056661394, 0.22647665720604732, 0.22625018054884127, 0.22602393036829244, 0.22579790643792413, 0.2255721085314862, 0.2253465364229547, 0.22512118988653176, 0.22489606869664522, 0.22467117262794858, 0.22444650145532064, 0.22422205495386532, 0.22399783289891145, 0.22377383506601253, 0.22355006123094653, 0.22332651116971558, 0.22310318465854587, 0.22288008147388733, 0.22265720139241343, 0.22243454419102102, 0.22221210964683, 0.22198989753718318, 0.221767907639646, 0.22154613973200635, 0.22132459359227435, 0.22110326899868207, 0.2208821657296834, 0.2206612835639537, 0.22044062228038974, 0.22022018165810936, 0.21999996147645126, 0.2197799615149748, 0.21956018155345983, 0.21934062137190638, 0.21912128075053447, 0.21890215946978395, 0.21868325731031416, 0.21846457405300385, 0.21824610947895084, 0.21802786336947189, 0.21780983550610242, 0.21759202567059632, 0.21737443364492573, 0.2171570592112808, 0.21693990215206954, 0.21672296224991747, 0.21650623928766755, 0.21628973304837987, 0.2160734433153315, 0.21585736987201615, 0.21564151250214414, 0.215425870989642, 0.21521044511865237, 0.2149952346735337, 0.21478023943886018, 0.21456545919942133, 0.2143508937402219, 0.21413654284648168, 0.21392240630363518, 0.21370848389733155, 0.21349477541343423, 0.2132812806380208, 0.21306799935738277, 0.21285493135802538, 0.21264207642666735, 0.2124294343502407, 0.21221700491589046, 0.21200478791097457, 0.2117927831230636, 0.21158099033994054, 0.2113694093496006, 0.211158039940251, 0.21094688190031075, 0.21073593501841043, 0.210525199083392, 0.2103146738843086, 0.2101043592104243, 0.20989425485121388, 0.20968436059636267, 0.2094746762357663, 0.20926520155953052, 0.20905593635797098, 0.208846880421613, 0.2086380335411914, 0.20842939550765022, 0.20822096611214258, 0.20801274514603044, 0.2078047324008844, 0.2075969276684835, 0.20738933074081503, 0.2071819414100742, 0.20697475946866414, 0.2067677847091955, 0.2065610169244863, 0.20635445590756182, 0.20614810145165427, 0.20594195335020263, 0.20573601139685244, 0.2055302753854556, 0.20532474511007015, 0.2051194203649601, 0.20491430094459512, 0.20470938664365051, 0.20450467725700686, 0.20430017257974986, 0.20409587240717011, 0.20389177653476295, 0.2036878847582282, 0.20348419687346997, 0.2032807126765965, 0.20307743196391992, 0.20287435453195599, 0.20267148017742403, 0.20246880869724662, 0.20226633988854936, 0.20206407354866082, 0.20186200947511215, 0.20166014746563704, 0.2014584873181714, 0.20125702883085322, 0.20105577180202236, 0.20085471603022034, 0.20065386131419014, 0.20045320745287595, 0.20025275424542308, 0.20005250149117765, 0.19985244898968646, 0.19965259654069678, 0.19945294394415608, 0.19925349100021192, 0.1990542375092117, 0.19885518327170248, 0.19865632808843078, 0.19845767176034235, 0.198259214088582, 0.1980609548744934, 0.19786289391961892, 0.1976650310256993, 0.1974673659946736, 0.1972698986286789, 0.19707262873005024, 0.19687555610132018, 0.19667868054521886, 0.19648200186467366, 0.19628551986280898, 0.19608923434294617, 0.19589314510860323, 0.19569725196349463, 0.19550155471153113, 0.1953060531568196, 0.19511074710366277, 0.19491563635655912, 0.19472072072020255, 0.19452599999948234, 0.19433147399948286, 0.1941371425254834, 0.19394300538295792, 0.19374906237757497, 0.1935553133151974, 0.1933617580018822, 0.19316839624388032, 0.19297522784763643, 0.1927822526197888, 0.192589470367169, 0.19239688089680182, 0.192204484015905, 0.1920122795318891, 0.1918202672523572, 0.19162844698510484, 0.19143681853811972, 0.1912453817195816, 0.19105413633786203, 0.19086308220152418, 0.19067221911932264, 0.1904815469002033, 0.1902910653533031, 0.19010077428794978, 0.18991067351366184, 0.1897207628401482, 0.18953104207730803, 0.18934151103523073, 0.1891521695241955, 0.1889630173546713, 0.18877405433731664, 0.18858528028297933, 0.18839669500269635, 0.18820829830769364, 0.18802009000938594, 0.18783206991937654, 0.18764423784945716, 0.1874565936116077, 0.1872691370179961, 0.1870818678809781, 0.18689478601309714, 0.18670789122708403, 0.18652118333585696, 0.1863346621525211, 0.18614832749036858, 0.18596217916287822, 0.18577621698371533, 0.18559044076673162, 0.18540485032596488, 0.1852194454756389, 0.18503422603016326, 0.1848491918041331, 0.18466434261232895, 0.18447967826971662, 0.1842951985914469, 0.18411090339285546, 0.18392679248946261, 0.18374286569697315, 0.18355912283127618, 0.1833755637084449, 0.18319218814473645, 0.1830089959565917, 0.18282598696063512, 0.1826431609736745, 0.18246051781270084, 0.18227805729488814, 0.18209577923759324, 0.18191368345835565, 0.1817317697748973, 0.1815500380051224, 0.18136848796711727, 0.18118711947915014, 0.181005932359671, 0.18082492642731132, 0.180644101500884, 0.18046345739938313, 0.18028299394198374, 0.18010271094804176, 0.17992260823709372, 0.17974268562885662, 0.17956294294322775, 0.17938338000028453, 0.17920399662028424, 0.17902479262366397, 0.1788457678310403, 0.17866692206320928, 0.17848825514114608, 0.17830976688600494, 0.17813145711911893, 0.1779533256619998, 0.1777753723363378, 0.17759759696400146, 0.17741999936703745, 0.1772425793676704, 0.17706533678830275, 0.17688827145151445, 0.17671138318006294, 0.17653467179688287, 0.176358137125086, 0.17618177898796092, 0.17600559720897296, 0.17582959161176398, 0.1756537620201522, 0.17547810825813207, 0.17530263014987393, 0.17512732751972407, 0.17495220019220434, 0.17477724799201214, 0.17460247074402013, 0.1744278682732761, 0.17425344040500285, 0.17407918696459784, 0.17390510777763324, 0.17373120266985562, 0.17355747146718575, 0.17338391399571856, 0.17321053008172285, 0.17303731955164112, 0.17286428223208947, 0.17269141794985737, 0.17251872653190753, 0.17234620780537563, 0.17217386159757025, 0.17200168773597269, 0.1718296860482367, 0.17165785636218847, 0.17148619850582628, 0.17131471230732045, 0.17114339759501312, 0.1709722541974181, 0.1708012819432207, 0.17063048066127748, 0.1704598501806162, 0.1702893903304356, 0.17011910094010518, 0.16994898183916507, 0.1697790328573259, 0.16960925382446856, 0.1694396445706441, 0.16927020492607345, 0.16910093472114737, 0.16893183378642623, 0.1687629019526398, 0.16859413905068715, 0.16842554491163647, 0.16825711936672483, 0.1680888622473581, 0.16792077338511074, 0.16775285261172562, 0.1675850997591139, 0.16741751465935478, 0.16725009714469544, 0.16708284704755075, 0.1669157642005032, 0.1667488484363027, 0.16658209958786638, 0.1664155174882785, 0.16624910197079024, 0.16608285286881944, 0.16591677001595062, 0.16575085324593467, 0.16558510239268873, 0.16541951729029603, 0.16525409777300573, 0.16508884367523272, 0.1649237548315575, 0.16475883107672593, 0.1645940722456492, 0.16442947817340356, 0.16426504869523015, 0.1641007836465349, 0.16393668286288837, 0.1637727461800255, 0.16360897343384548, 0.16344536446041164, 0.16328191909595122, 0.16311863717685526, 0.1629555185396784, 0.16279256302113873, 0.16262977045811758, 0.16246714068765947, 0.1623046735469718, 0.16214236887342484, 0.1619802265045514, 0.16181824627804686, 0.16165642803176883, 0.16149477160373707, 0.16133327683213333, 0.1611719435553012, 0.1610107716117459, 0.16084976084013416, 0.16068891107929403, 0.16052822216821475, 0.16036769394604652, 0.1602073262521005, 0.1600471189258484, 0.15988707180692255, 0.15972718473511563, 0.15956745755038051, 0.15940789009283013, 0.1592484822027373, 0.15908923372053455, 0.158930144486814, 0.1587712143423272, 0.15861244312798486, 0.15845383068485688, 0.15829537685417203, 0.15813708147731786, 0.15797894439584054, 0.1578209654514447, 0.15766314448599325, 0.15750548134150727, 0.15734797586016577, 0.1571906278843056, 0.1570334372564213, 0.15687640381916487, 0.1567195274153457, 0.15656280788793037, 0.15640624508004244, 0.1562498388349624, 0.15609358899612744, 0.1559374954071313, 0.15578155791172418, 0.15562577635381247, 0.15547015057745867, 0.1553146804268812, 0.15515936574645434, 0.1550042063807079, 0.15484920217432718, 0.15469435297215287, 0.1545396586191807, 0.15438511896056153, 0.15423073384160096, 0.15407650310775936, 0.1539224266046516, 0.15376850417804697, 0.1536147356738689, 0.15346112093819503, 0.15330765981725683, 0.15315435215743958, 0.15300119780528215, 0.15284819660747687, 0.1526953484108694, 0.15254265306245854, 0.15239011040939607, 0.15223772029898666, 0.15208548257868768, 0.15193339709610898, 0.15178146369901288, 0.15162968223531387, 0.15147805255307856, 0.15132657450052547, 0.15117524792602494, 0.15102407267809892, 0.15087304860542083, 0.1507221755568154, 0.1505714533812586, 0.15042088192787734, 0.15027046104594946, 0.1501201905849035, 0.1499700703943186, 0.14982010032392426, 0.14967028022360035, 0.14952060994337674, 0.14937108933343335, 0.1492217182440999, 0.1490724965258558, 0.14892342402932995, 0.14877450060530062, 0.14862572610469532, 0.14847710037859063, 0.14832862327821203, 0.14818029465493382, 0.14803211436027888, 0.1478840822459186, 0.14773619816367267, 0.147588461965509, 0.1474408735035435, 0.14729343263003997, 0.14714613919740993, 0.1469989930582125, 0.1468519940651543, 0.14670514207108915, 0.14655843692901804, 0.14641187849208903, 0.14626546661359693, 0.14611920114698335, 0.14597308194583636, 0.14582710886389053, 0.14568128175502665, 0.14553560047327163, 0.14539006487279835, 0.14524467480792555, 0.14509943013311763, 0.14495433070298452, 0.14480937637228153, 0.14466456699590924, 0.14451990242891333, 0.1443753825264844, 0.14423100714395792, 0.14408677613681398, 0.14394268936067717, 0.14379874667131648, 0.14365494792464517, 0.14351129297672052, 0.1433677816837438, 0.14322441390206006, 0.143081189488158, 0.14293810829866985, 0.1427951701903712, 0.14265237502018083, 0.14250972264516065, 0.1423672129225155, 0.14222484570959298, 0.1420826208638834, 0.14194053824301953, 0.1417985977047765, 0.14165679910707174, 0.14151514230796466, 0.1413736271656567, 0.14123225353849106, 0.14109102128495257, 0.14094993026366762, 0.14080898033340394, 0.14066817135307053, 0.14052750318171744, 0.14038697567853572, 0.1402465887028572, 0.14010634211415435, 0.1399662357720402, 0.13982626953626817, 0.1396864432667319, 0.13954675682346518, 0.13940721006664172, 0.13926780285657508, 0.1391285350537185, 0.1389894065186648, 0.13885041711214613, 0.13871156669503398, 0.13857285512833895, 0.1384342822732106, 0.13829584799093741, 0.13815755214294648, 0.13801939459080353, 0.13788137519621274, 0.13774349382101653, 0.13760575032719552, 0.13746814457686832, 0.13733067643229144, 0.13719334575585915, 0.1370561524101033, 0.1369190962576932, 0.1367821771614355, 0.13664539498427408, 0.1365087495892898, 0.1363722408397005, 0.1362358685988608, 0.13609963273026193, 0.13596353309753167, 0.13582756956443415, 0.13569174199486972, 0.13555605025287484, 0.13542049420262198, 0.13528507370841936, 0.13514978863471094, 0.13501463884607623, 0.13487962420723015, 0.13474474458302294, 0.1346099998384399, 0.13447538983860147, 0.13434091444876287, 0.13420657353431412, 0.13407236696077982, 0.13393829459381904, 0.1338043562992252, 0.13367055194292599, 0.13353688139098305, 0.13340334450959207, 0.13326994116508248, 0.1331366712239174, 0.13300353455269348, 0.13287053101814078, 0.13273766048712263, 0.1326049228266355, 0.13247231790380887, 0.13233984558590506, 0.13220750574031914, 0.13207529823457884, 0.13194322293634425, 0.13181127971340792, 0.13167946843369452, 0.13154778896526081, 0.13141624117629555, 0.13128482493511925, 0.13115354011018412, 0.13102238657007395, 0.1308913641835039, 0.13076047281932038, 0.13062971234650106, 0.13049908263415455, 0.1303685835515204, 0.13023821496796886, 0.1301079767530009, 0.1299778687762479, 0.12984789090747165, 0.12971804301656417, 0.1295883249735476, 0.12945873664857407, 0.1293292779119255, 0.12919994863401357, 0.12907074868537957, 0.1289416779366942, 0.1288127362587575, 0.12868392352249874, 0.12855523959897625, 0.12842668435937726, 0.12829825767501787, 0.12816995941734285, 0.12804178945792552, 0.12791374766846758, 0.12778583392079912, 0.1276580480868783, 0.12753039003879144, 0.12740285964875264, 0.1272754567891039, 0.12714818133231479, 0.12702103315098248, 0.1268940121178315, 0.12676711810571367, 0.12664035098760795, 0.12651371063662034, 0.1263871969259837, 0.12626080972905773, 0.12613454891932868, 0.12600841437040936, 0.12588240595603895, 0.1257565235500829, 0.1256307670265328, 0.12550513625950627, 0.12537963112324677, 0.12525425149212352, 0.1251289972406314, 0.12500386824339077, 0.12487886437514738, 0.12475398551077223, 0.12462923152526145, 0.1245046022937362, 0.12438009769144245, 0.12425571759375101, 0.12413146187615726, 0.1240073304142811, 0.12388332308386682, 0.12375943976078295, 0.12363568032102216, 0.12351204464070115, 0.12338853259606045, 0.12326514406346438, 0.12314187891940091, 0.12301873704048151, 0.12289571830344102, 0.12277282258513758, 0.12265004976255245, 0.12252739971278989, 0.1224048723130771, 0.12228246744076403, 0.12216018497332326, 0.12203802478834994, 0.12191598676356158, 0.12179407077679802, 0.12167227670602122, 0.1215506044293152, 0.12142905382488589, 0.12130762477106101, 0.12118631714628995, 0.12106513082914366, 0.12094406569831452, 0.1208231216326162, 0.12070229851098359, 0.12058159621247261, 0.12046101461626013, 0.12034055360164388, 0.12022021304804223, 0.12009999283499419, 0.1199798928421592, 0.11985991294931704, 0.11974005303636773, 0.11962031298333135, 0.11950069267034802, 0.11938119197767767, 0.1192618107857, 0.1191425489749143, 0.1190234064259394, 0.11890438301951345, 0.11878547863649394, 0.11866669315785745, 0.1185480264646996, 0.1184294784382349, 0.11831104895979666, 0.11819273791083687, 0.11807454517292604, 0.11795647062775311, 0.11783851415712536, 0.11772067564296823, 0.11760295496732526, 0.11748535201235794, 0.11736786666034557, 0.11725049879368522, 0.11713324829489154, 0.11701611504659665, 0.11689909893155005, 0.1167821998326185, 0.11666541763278589, 0.1165487522151531, 0.11643220346293794, 0.116315771259475, 0.11619945548821552, 0.1160832560327273, 0.11596717277669458, 0.11585120560391789, 0.11573535439831396, 0.11561961904391566, 0.11550399942487174, 0.11538849542544688, 0.11527310693002144, 0.11515783382309142, 0.11504267598926833, 0.11492763331327906, 0.11481270567996578, 0.11469789297428581, 0.11458319508131153, 0.11446861188623021, 0.11435414327434398, 0.11423978913106964, 0.11412554934193857, 0.11401142379259663, 0.11389741236880403, 0.11378351495643522, 0.1136697314414788, 0.11355606171003732, 0.11344250564832728, 0.11332906314267895, 0.11321573407953626, 0.11310251834545673, 0.11298941582711128, 0.11287642641128416, 0.11276354998487288, 0.112650786434888, 0.11253813564845312, 0.11242559751280466, 0.11231317191529186, 0.11220085874337657, 0.1120886578846332, 0.11197656922674856, 0.11186459265752181, 0.11175272806486429, 0.11164097533679943, 0.11152933436146263, 0.11141780502710116, 0.11130638722207406, 0.11119508083485198, 0.11108388575401713, 0.11097280186826311, 0.11086182906639484, 0.11075096723732845, 0.11064021627009113, 0.11052957605382104, 0.11041904647776721, 0.11030862743128944, 0.11019831880385815, 0.11008812048505429, 0.10997803236456923, 0.10986805433220466, 0.10975818627787245, 0.10964842809159459, 0.10953877966350299, 0.10942924088383948, 0.10931981164295565, 0.10921049183131269, 0.10910128133948138, 0.1089921800581419, 0.10888318787808376, 0.10877430469020569, 0.10866553038551548, 0.10855686485512996, 0.10844830799027483, 0.10833985968228456, 0.10823151982260228, 0.10812328830277967, 0.10801516501447689, 0.10790714984946241, 0.10779924269961295, 0.10769144345691334, 0.10758375201345642, 0.10747616826144296, 0.10736869209318152, 0.10726132340108833, 0.10715406207768724, 0.10704690801560955, 0.10693986110759394, 0.10683292124648636, 0.10672608832523987, 0.10661936223691464, 0.10651274287467773, 0.10640623013180305, 0.10629982390167124, 0.10619352407776957, 0.1060873305536918, 0.10598124322313811, 0.10587526197991497, 0.10576938671793505, 0.10566361733121711, 0.10555795371388589, 0.105452395760172, 0.10534694336441183, 0.10524159642104743, 0.10513635482462638, 0.10503121846980176, 0.10492618725133196, 0.10482126106408063, 0.10471643980301655, 0.10461172336321353, 0.10450711163985033, 0.10440260452821047, 0.10429820192368226, 0.10419390372175857, 0.10408970981803682, 0.10398562010821878, 0.10388163448811057, 0.10377775285362245, 0.10367397510076883, 0.10357030112566806, 0.1034667308245424, 0.10336326409371786, 0.10325990082962415, 0.10315664092879452, 0.10305348428786573, 0.10295043080357787, 0.10284748037277429, 0.10274463289240152, 0.10264188825950911, 0.1025392463712496, 0.10243670712487835, 0.10233427041775346, 0.10223193614733571, 0.10212970421118837, 0.10202757450697719, 0.10192554693247022, 0.10182362138553774, 0.1017217977641522, 0.10162007596638806, 0.10151845589042167, 0.10141693743453126, 0.10131552049709673, 0.10121420497659964, 0.10111299077162304, 0.10101187778085143, 0.10091086590307058, 0.10080995503716751, 0.10070914508213034, 0.10060843593704821, 0.10050782750111116, 0.10040731967361005, 0.10030691235393645, 0.10020660544158251, 0.10010639883614093, 0.10000629243730479, 0.09990628614486748, 0.09980637985872261, 0.09970657347886389, 0.09960686690538502, 0.09950726003847964, 0.09940775277844116, 0.09930834502566271, 0.09920903668063705, 0.09910982764395641, 0.09901071781631246, 0.09891170709849614, 0.09881279539139765, 0.09871398259600625, 0.09861526861341025, 0.09851665334479684, 0.09841813669145204, 0.09831971855476059, 0.09822139883620583, 0.09812317743736962, 0.09802505425993224, 0.09792702920567231, 0.09782910217646663, 0.09773127307429016, 0.09763354180121588, 0.09753590825941466, 0.09743837235115525, 0.0973409339788041, 0.0972435930448253, 0.09714634945178047, 0.09704920310232869, 0.09695215389922636, 0.09685520174532714, 0.09675834654358181, 0.09666158819703823, 0.09656492660884118, 0.09646836168223234, 0.09637189332055011, 0.09627552142722956, 0.09617924590580233, 0.09608306665989653, 0.09598698359323664, 0.0958909966096434, 0.09579510561303375, 0.09569931050742073, 0.09560361119691331, 0.0955080075857164, 0.09541249957813068, 0.09531708707855255, 0.095221769991474, 0.09512654822148252, 0.09503142167326104, 0.09493639025158777, 0.09484145386133619, 0.09474661240747485, 0.09465186579506737, 0.09455721392927231, 0.09446265671534304, 0.0943681940586277, 0.09427382586456907, 0.09417955203870451, 0.0940853724866658, 0.09399128711417915, 0.09389729582706496, 0.0938033985312379, 0.09370959513270666, 0.09361588553757395, 0.09352226965203637, 0.09342874738238434, 0.09333531863500195, 0.09324198331636695, 0.09314874133305058, 0.09305559259171753, 0.09296253699912581, 0.09286957446212668, 0.09277670488766455, 0.09268392818277689, 0.09259124425459411, 0.09249865301033952, 0.09240615435732918, 0.09231374820297185, 0.09222143445476888, 0.09212921302031411, 0.09203708380729379, 0.0919450467234865, 0.09185310167676301, 0.09176124857508625, 0.09166948732651116, 0.09157781783918464, 0.09148624002134546, 0.09139475378132411, 0.09130335902754279, 0.09121205566851524, 0.09112084361284672, 0.09102972276923388, 0.09093869304646464, 0.09084775435341817, 0.09075690659906475, 0.09066614969246568, 0.09057548354277321, 0.09048490805923044, 0.09039442315117122, 0.09030402872802004, 0.09021372469929202, 0.09012351097459273, 0.09003338746361814, 0.08994335407615452, 0.08985341072207836, 0.08976355731135628, 0.08967379375404493, 0.08958411996029088, 0.08949453584033058, 0.08940504130449026, 0.08931563626318577, 0.08922632062692258, 0.08913709430629566, 0.08904795721198935, 0.08895890925477737, 0.08886995034552259, 0.08878108039517707, 0.0886922993147819, 0.08860360701546711, 0.08851500340845164, 0.08842648840504319, 0.08833806191663815, 0.08824972385472152, 0.0881614741308668, 0.08807331265673593, 0.08798523934407919, 0.0878972541047351, 0.08780935685063036, 0.08772154749377974, 0.08763382594628595, 0.08754619212033966, 0.08745864592821932, 0.0873711872822911, 0.0872838160950088, 0.0871965322789138, 0.08710933574663489, 0.08702222641088825, 0.08693520418447737, 0.0868482689802929, 0.0867614207113126, 0.08667465929060128, 0.08658798463131068, 0.08650139664667937, 0.0864148952500327, 0.08632848035478266, 0.08624215187442788, 0.08615590972255345, 0.0860697538128309, 0.08598368405901807, 0.08589770037495906, 0.0858118026745841, 0.08572599087190952, 0.08564026488103761, 0.08555462461615658, 0.08546906999154043, 0.08538360092154888, 0.08529821732062734, 0.08521291910330671, 0.0851277061842034, 0.0850425784780192, 0.08495753589954118, 0.08487257836364163, 0.08478770578527799, 0.0847029180794927, 0.08461821516141321, 0.0845335969462518, 0.08444906334930555, 0.08436461428595624, 0.08428024967167028, 0.08419596942199861, 0.08411177345257662, 0.08402766167912404, 0.08394363401744491, 0.08385969038342747, 0.08377583069304405, 0.083692054862351, 0.08360836280748865, 0.08352475444468116, 0.08344122969023648, 0.08335778846054624, 0.08327443067208569, 0.0831911562414136, 0.08310796508517218, 0.083024857120087, 0.08294183226296692, 0.08285889043070395, 0.08277603154027324, 0.08269325550873297, 0.08261056225322423, 0.082527951690971, 0.08244542373928003, 0.08236297831554075, 0.08228061533722521, 0.08219833472188798, 0.08211613638716608, 0.08203402025077891, 0.08195198623052813, 0.0818700342442976, 0.0817881642100533, 0.08170637604584326, 0.08162466966979741, 0.08154304500012761, 0.08146150195512748, 0.08138004045317236, 0.08129866041271919, 0.08121736175230647, 0.08113614439055417, 0.08105500824616362, 0.08097395323791745, 0.08089297928467953, 0.08081208630539485, 0.08073127421908946, 0.08065054294487037, 0.0805698924019255, 0.08048932250952358, 0.08040883318701406, 0.08032842435382705, 0.08024809592947323, 0.08016784783354375, 0.0800876799857102, 0.08000759230572449, 0.07992758471341876, 0.07984765712870534, 0.07976780947157663, 0.07968804166210505, 0.07960835362044295, 0.0795287452668225, 0.07944921652155569, 0.07936976730503413, 0.0792903975377291, 0.07921110714019136, 0.07913189603305117, 0.07905276413701812, 0.0789737113728811, 0.07889473766150822, 0.0788158429238467, 0.07873702708092285, 0.07865829005384194, 0.0785796317637881, 0.07850105213202431, 0.07842255107989228, 0.07834412852881238, 0.07826578440028358, 0.07818751861588329, 0.0781093310972674, 0.07803122176617014, 0.07795319054440397, 0.07787523735385957, 0.0777973621165057, 0.0777195647543892, 0.07764184518963481, 0.07756420334444518, 0.07748663914110074, 0.07740915250195964, 0.07733174334945768, 0.07725441160610823, 0.07717715719450212, 0.07709998003730761, 0.0770228800572703, 0.07694585717721303, 0.07686891132003582, 0.07679204240871577, 0.07671525036630705, 0.07663853511594075, 0.07656189658082481, 0.07648533468424398, 0.07640884934955974, 0.07633244050021018, 0.07625610805970998, 0.07617985195165027, 0.07610367209969862, 0.07602756842759892, 0.07595154085917132, 0.07587558931831215, 0.07579971372899384, 0.07572391401526485, 0.07564819010124958, 0.07557254191114833, 0.07549696936923718, 0.07542147239986795, 0.07534605092746809, 0.07527070487654061, 0.07519543417166408, 0.0751202387374924, 0.07504511849875492, 0.07497007338025617, 0.07489510330687592, 0.07482020820356904, 0.07474538799536547, 0.07467064260737011, 0.07459597196476274, 0.07452137599279797, 0.07444685461680517, 0.07437240776218837, 0.07429803535442618, 0.07422373731907175, 0.07414951358175269, 0.07407536406817093, 0.07400128870410276, 0.07392728741539865, 0.07385336012798326, 0.07377950676785527, 0.07370572726108741, 0.07363202153382632, 0.0735583895122925, 0.0734848311227802, 0.07341134629165742, 0.07333793494536577, 0.0732645970104204, 0.07319133241340998, 0.07311814108099657, 0.07304502293991558, 0.07297197791697566, 0.07289900593905868, 0.07282610693311962, 0.07275328082618651, 0.07268052754536032, 0.07260784701781496, 0.07253523917079714, 0.07246270393162635, 0.07239024122769472, 0.07231785098646702, 0.07224553313548056, 0.07217328760234508, 0.07210111431474274, 0.072029013200428, 0.07195698418722757, 0.07188502720304034, 0.0718131421758373, 0.07174132903366147, 0.07166958770462781, 0.07159791811692318, 0.07152632019880625, 0.07145479387860745, 0.07138333908472884, 0.07131195574564411, 0.07124064378989847, 0.07116940314610858, 0.07109823374296247, 0.0710271355092195, 0.07095610837371029, 0.07088515226533658, 0.07081426711307125, 0.07074345284595818, 0.07067270939311222, 0.07060203668371912, 0.0705314346470354, 0.07046090321238836, 0.07039044230917597, 0.0703200518668668, 0.07024973181499992, 0.07017948208318492, 0.07010930260110174, 0.07003919329850064, 0.06996915410520214, 0.06989918495109694, 0.06982928576614585, 0.0697594564803797, 0.06968969702389932, 0.06962000732687543, 0.06955038731954855, 0.06948083693222899, 0.06941135609529676, 0.06934194473920147, 0.06927260279446226, 0.0692033301916678, 0.06913412686147613, 0.06906499273461465, 0.06899592774188004, 0.06892693181413816, 0.06885800488232402, 0.0687891468774417, 0.06872035773056426, 0.0686516373728337, 0.06858298573546086, 0.0685144027497254, 0.06844588834697567, 0.06837744245862869, 0.06830906501617005, 0.06824075595115388, 0.06817251519520272, 0.06810434268000752, 0.06803623833732751, 0.06796820209899018, 0.06790023389689119, 0.06783233366299429, 0.0677645013293313, 0.06769673682800197, 0.06762904009117396, 0.06756141105108278, 0.06749384964003169, 0.06742635579039166, 0.06735892943460127, 0.06729157050516667, 0.0672242789346615, 0.06715705465572684, 0.06708989760107112, 0.06702280770347005, 0.06695578489576658, 0.06688882911087081, 0.06682194028175995, 0.06675511834147818, 0.0666883632231367, 0.06662167485991356, 0.06655505318505366, 0.0664884981318686, 0.06642200963373673, 0.066355587624103, 0.06628923203647889, 0.06622294280444241, 0.06615671986163797, 0.06609056314177633, 0.06602447257863456, 0.06595844810605592, 0.06589248965794986, 0.06582659716829191, 0.06576077057112362, 0.0656950098005525, 0.06562931479075194, 0.0655636854759612, 0.06549812179048524, 0.06543262366869475, 0.06536719104502606, 0.06530182385398103, 0.06523652203012706, 0.06517128550809693, 0.06510611422258884, 0.06504100810836626, 0.0649759671002579, 0.06491099113315764, 0.06484608014202448, 0.06478123406188245, 0.06471645282782057, 0.06465173637499275, 0.06458708463861776, 0.06452249755397914, 0.06445797505642516, 0.06439351708136873, 0.06432912356428735, 0.06426479444072307, 0.06420052964628234, 0.06413632911663605, 0.06407219278751941, 0.06400812059473189, 0.06394411247413716, 0.06388016836166302, 0.06381628819330136, 0.06375247190510806, 0.06368871943320295, 0.06362503071376975, 0.06356140568305597, 0.06349784427737291, 0.06343434643309553, 0.06337091208666244, 0.06330754117457578, 0.0632442336334012, 0.06318098939976781, 0.06311780841036804, 0.06305469060195767, 0.06299163591135572, 0.06292864427544437, 0.06286571563116893, 0.06280284991553775, 0.06274004706562221, 0.06267730701855659, 0.06261462971153803, 0.06255201508182649, 0.06248946306674467, 0.062426973603677924, 0.06236454663007424, 0.062302182083444166, 0.06223987990136072, 0.06217764002145936, 0.062115462381437905, 0.062053346919056465, 0.06199129357213741, 0.061929302278565274, 0.06186737297628671, 0.06180550560331042, 0.06174370009770711, 0.06168195639760941, 0.0616202744412118, 0.06155865416677059, 0.061497095512603815, 0.06143559841709121, 0.06137416281867412, 0.061312788655855446, 0.06125147586719959, 0.06119022439133239, 0.06112903416694106, 0.06106790513277412, 0.061006837227641345, 0.0609458303904137, 0.060884884560023285, 0.06082399967546326, 0.060763175675787796, 0.06070241250011201, 0.0606417100876119, 0.060581068377524284, 0.06052048730914676, 0.060459966821837616, 0.06039950685501578, 0.06033910734816076, 0.0602787682408126, 0.06021848947257179, 0.06015827098309921, 0.06009811271211611, 0.06003801459940399, 0.05997797658480459, 0.05991799860821979, 0.05985808060961157, 0.05979822252900196, 0.059738424306472956, 0.05967868588216648, 0.05961900719628432, 0.059559388189088035, 0.05949982880089895, 0.05944032897209805, 0.05938088864312595, 0.05932150775448282, 0.059262186246728334, 0.0592029240604816, 0.05914372113642112, 0.0590845774152847, 0.05902549283786942, 0.05896646734503155, 0.058907500877686515, 0.05884859337680883, 0.058789744783432026, 0.05873095503864859, 0.05867222408360995, 0.05861355185952634, 0.05855493830766681, 0.05849638336935914, 0.05843788698598978, 0.058379449099003784, 0.05832106964990478, 0.058262748580254875, 0.05820448583167462, 0.058146281345842946, 0.0580881350644971, 0.0580300469294326, 0.05797201688250317, 0.05791404486562066, 0.057856130820755046, 0.057798274689934294, 0.05774047641524436, 0.05768273593882912, 0.05762505320289029, 0.0575674281496874, 0.05750986072153771, 0.05745235086081617, 0.05739489850995535, 0.05733750361144539, 0.057280166107833944, 0.05722288594172611, 0.05716566305578438, 0.0571084973927286, 0.05705138889533587, 0.056994337506440534, 0.0569373431689341, 0.056880405825765167, 0.0568235254199394, 0.05676670189451946, 0.05670993519262494, 0.05665322525743231, 0.05659657203217488, 0.0565399754601427, 0.056483435484682556, 0.05642695204919787, 0.056370525097148676, 0.05631415457205153, 0.05625784041747948, 0.056201582577061995, 0.056145380994484934, 0.05608923561349045, 0.05603314637787696, 0.05597711323149908, 0.05592113611826758, 0.05586521498214931, 0.05580934976716716, 0.05575354041739999, 0.05569778687698259, 0.05564208909010561, 0.055586447001015504, 0.05553086055401449, 0.05547532969346047, 0.055419854363767014, 0.055364434509403246, 0.05530907007489384, 0.05525376100481895, 0.05519850724381413, 0.055143308736570314, 0.05508816542783374, 0.05503307726240591, 0.0549780441851435, 0.054923066140958356, 0.054868143074817396, 0.05481327493174258, 0.054758461656810836, 0.054703703195154024, 0.05464899949195887, 0.054594350492466914, 0.05453975614197445, 0.05448521638583247, 0.05443073116944664, 0.054376300438277195, 0.054321924137838914, 0.054267602213701076, 0.05421333461148738, 0.05415912127687589, 0.05410496215559901, 0.054050857193443415, 0.053996806336249974, 0.053942809529913725, 0.05388886672038381, 0.053834977853663424, 0.05378114287580976, 0.05372736173293395, 0.05367363437120102, 0.05361996073682982, 0.05356634077609299, 0.0535127744353169, 0.05345926166088158, 0.0534058023992207, 0.05335239659682148, 0.05329904420022465, 0.05324574515602443, 0.0531924994108684, 0.05313930691145753, 0.053086167604546076, 0.05303308143694153, 0.052980048355504586, 0.052927068307149085, 0.05287414123884194, 0.0528212670976031, 0.052768445830505495, 0.05271567738467499, 0.05266296170729031, 0.05261029874558302, 0.05255768844683743, 0.0525051307583906, 0.052452625627632206, 0.05240017300200457, 0.05234777282900257, 0.052295425056173565, 0.052243129631117394, 0.052190886501486275, 0.05213869561498479, 0.05208655691936981, 0.05203447036245044, 0.05198243589208799, 0.0519304534561959, 0.05187852300273971, 0.05182664447973697, 0.05177481783525723, 0.05172304301742198, 0.05167131997440456, 0.05161964865443015, 0.05156802900577572, 0.05151646097676994, 0.05146494451579317, 0.05141347957127738, 0.0513620660917061, 0.05131070402561439, 0.05125939332158878, 0.05120813392826719, 0.05115692579433892, 0.05110576886854458, 0.05105466309967603, 0.05100360843657636, 0.05095260482813978, 0.05090165222331164, 0.05085075057108833, 0.05079989982051724, 0.050749099920696726, 0.05069835082077603, 0.05064765246995525, 0.050597004817485296, 0.05054640781266781, 0.05049586140485514, 0.050445365543450284, 0.05039492017790683, 0.05034452525772892, 0.050294180732471196, 0.050243886551738726, 0.050193642665186985, 0.0501434490225218, 0.050093305573499274, 0.050043212267925775, 0.04999316905565785, 0.049943175886602194, 0.04989323271071559, 0.04984333947800488, 0.04979349613852688, 0.04974370264238835, 0.049693958939745965, 0.04964426498080622, 0.04959462071582541, 0.049545026095109586, 0.049495481069014476, 0.04944598558794546, 0.049396539602357514, 0.04934714306275516, 0.049297795919692404, 0.04924849812377271, 0.049199249625648936, 0.04915005037602329, 0.04910090032564727, 0.04905179942532162, 0.0490027476258963, 0.0489537448782704, 0.048904791133392134, 0.04885588634225874, 0.048807030455916486, 0.04875822342546057, 0.04870946520203511, 0.048660755736833074, 0.04861209498109624, 0.048563482886115145, 0.04851491940322903, 0.0484664044838258, 0.04841793807934198, 0.04836952014126263, 0.04832115062112137, 0.048272829470500246, 0.048224556641029745, 0.048176332084388714, 0.04812815575230432, 0.04808002759655202, 0.04803194756895547, 0.047983915621386514, 0.04793593170576513, 0.04788799577405936, 0.047840107778285304, 0.04779226767050702, 0.04774447540283651, 0.04769673092743367, 0.047649034196506235, 0.04760138516230973, 0.04755378377714742, 0.04750622999337027, 0.047458723763376905, 0.04741126503961353, 0.047363853774573916, 0.04731648992079934, 0.047269173430878546, 0.04722190425744767, 0.04717468235319022, 0.04712750767083703, 0.047080380163166194, 0.04703329978300303, 0.046986266483220025, 0.0469392802167368, 0.04689234093652007, 0.046845448595583546, 0.046798603146987965, 0.04675180454384097, 0.046705052739297134, 0.046658347686557834, 0.046611689338871276, 0.0465650776495324, 0.04651851257188287, 0.04647199405931099, 0.046425522065251676, 0.04637909654318642, 0.04633271744664323, 0.04628638472919659, 0.04624009834446739, 0.046193858246122925, 0.046147664387876805, 0.04610151672348893, 0.04605541520676544, 0.04600935979155867, 0.045963350431767115, 0.045917387081335345, 0.045871469694254006, 0.045825598224559755, 0.045779772626335195, 0.04573399285370886, 0.045688258860855153, 0.045642570601994295, 0.0455969280313923, 0.04555133110336091, 0.04550577977225755, 0.0454602739924853, 0.04541481371849281, 0.045369398904774316, 0.04532402950586954, 0.04527870547636367, 0.04523342677088731, 0.045188193344116424, 0.04514300515077231, 0.04509786214562154, 0.04505276428347592, 0.045007711519192445, 0.044962703807673254, 0.04491774110386558, 0.044872823362761716, 0.044827950539398954, 0.04478312258885955, 0.04473833946627069, 0.04469360112680442, 0.044648907525677614, 0.04460425861815193, 0.04455965435953378, 0.04451509470517425, 0.044470579610469074, 0.044426109030858606, 0.044381682921827745, 0.04433730123890592, 0.04429296393766701, 0.044248670973729344, 0.04420442230275561, 0.04416021788045286, 0.04411605766257241, 0.044071941604909834, 0.04402786966330492, 0.04398384179364162, 0.04393985795184798, 0.04389591809389613, 0.04385202217580224, 0.04380817015362644, 0.04376436198347281, 0.04372059762148934, 0.04367687702386785, 0.04363320014684398, 0.043589566946697134, 0.04354597737975044, 0.043502431402370687, 0.043458928970968314, 0.04341547004199735, 0.04337205457195535, 0.04332868251738339, 0.04328535383486601, 0.04324206848103114, 0.04319882641255011, 0.04315562758613756, 0.04311247195855142, 0.043069359486592865, 0.04302629012710627, 0.04298326383697917, 0.04294028057314219, 0.04289734029256905, 0.04285444295227648, 0.042811588509324205, 0.042768776920814884, 0.042726008143894066, 0.04268328213575017, 0.042640598853614424, 0.04259795825476081, 0.04255536029650605, 0.04251280493620954, 0.04247029213127333, 0.04242782183914206, 0.042385394017302916, 0.04234300862328561, 0.04230066561466233, 0.042258364949047666, 0.04221610658409862, 0.04217389047751452, 0.042131716587037, 0.04208958487044997, 0.042047495285579516, 0.042005447790293936, 0.04196344234250364, 0.04192147890016114, 0.041879557421260975, 0.04183767786383971, 0.041795840185975874, 0.0417540443457899, 0.04171229030144411, 0.04167057801114267, 0.04162890743313153, 0.0415872785256984, 0.0415456912471727, 0.04150414555592553, 0.0414626414103696, 0.04142117876895923, 0.041379757590190275, 0.04133837783260008, 0.04129703945476748, 0.04125574241531271, 0.0412144866728974, 0.041173272186224505, 0.04113209891403828, 0.041090966815124245, 0.041049875848309124, 0.04100882597246081, 0.04096781714648835, 0.04092684932934187, 0.04088592248001253, 0.040845036557532514, 0.04080419152097498, 0.040763387329454004, 0.04072262394212455, 0.040681901318182424, 0.040641219416864244, 0.040600578197447376, 0.040559977619249926]\n"
          ]
        },
        {
          "output_type": "display_data",
          "data": {
            "image/png": "[encoded data removed]",
            "text/plain": [
              "<Figure size 432x288 with 1 Axes>"
            ]
          },
          "metadata": {
            "needs_background": "light"
          }
        }
      ]
    },
    {
      "cell_type": "code",
      "metadata": {
        "id": "zg_efvyykjR9"
      },
      "source": [
        ""
      ],
      "execution_count": null,
      "outputs": []
    },
    {
      "cell_type": "code",
      "metadata": {
        "id": "OPxMG0B_ze9K"
      },
      "source": [
        ""
      ],
      "execution_count": null,
      "outputs": []
    },
    {
      "cell_type": "code",
      "metadata": {
        "id": "JzOXebYGxLUI"
      },
      "source": [
        ""
      ],
      "execution_count": null,
      "outputs": []
    },
    {
      "cell_type": "code",
      "metadata": {
        "id": "oV-DAa0bs7dU"
      },
      "source": [
        " "
      ],
      "execution_count": null,
      "outputs": []
    },
    {
      "cell_type": "code",
      "metadata": {
        "id": "sWOHM4J3pceX"
      },
      "source": [
        ""
      ],
      "execution_count": null,
      "outputs": []
    },
    {
      "cell_type": "code",
      "metadata": {
        "id": "8laqG4y1x4ch"
      },
      "source": [
        ""
      ],
      "execution_count": null,
      "outputs": []
    },
    {
      "cell_type": "code",
      "metadata": {
        "id": "tIBZkJzEVYVw"
      },
      "source": [
        ""
      ],
      "execution_count": null,
      "outputs": []
    },
    {
      "cell_type": "code",
      "metadata": {
        "id": "EbDsfl7QVoAv"
      },
      "source": [
        ""
      ],
      "execution_count": null,
      "outputs": []
    },
    {
      "cell_type": "code",
      "metadata": {
        "id": "Bn8RjFbFzBvi"
      },
      "source": [
        "\n"
      ],
      "execution_count": null,
      "outputs": []
    },
    {
      "cell_type": "code",
      "metadata": {
        "id": "IVJgKgrX0BiF"
      },
      "source": [
        ""
      ],
      "execution_count": null,
      "outputs": []
    }
  ]
}