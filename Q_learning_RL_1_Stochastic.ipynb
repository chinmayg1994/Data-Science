{
  "nbformat": 4,
  "nbformat_minor": 0,
  "metadata": {
    "colab": {
      "name": "Q-learning_RL_1/Stochastic.ipynb",
      "provenance": [],
      "collapsed_sections": []
    },
    "kernelspec": {
      "name": "python3",
      "display_name": "Python 3"
    },
    "language_info": {
      "name": "python"
    }
  },
  "cells": [
    {
      "cell_type": "code",
      "metadata": {
        "colab": {
          "base_uri": "https://localhost:8080/"
        },
        "id": "OMm55_zX1aoO",
        "outputId": "acb2d620-4051-4e09-e105-a948d531954f"
      },
      "source": [
        "#Importing gym environment\n",
        "! pip install gym"
      ],
      "execution_count": 1,
      "outputs": [
        {
          "output_type": "stream",
          "name": "stdout",
          "text": [
            "Requirement already satisfied: gym in /usr/local/lib/python3.7/dist-packages (0.17.3)\n",
            "Requirement already satisfied: cloudpickle<1.7.0,>=1.2.0 in /usr/local/lib/python3.7/dist-packages (from gym) (1.3.0)\n",
            "Requirement already satisfied: scipy in /usr/local/lib/python3.7/dist-packages (from gym) (1.4.1)\n",
            "Requirement already satisfied: pyglet<=1.5.0,>=1.4.0 in /usr/local/lib/python3.7/dist-packages (from gym) (1.5.0)\n",
            "Requirement already satisfied: numpy>=1.10.4 in /usr/local/lib/python3.7/dist-packages (from gym) (1.19.5)\n",
            "Requirement already satisfied: future in /usr/local/lib/python3.7/dist-packages (from pyglet<=1.5.0,>=1.4.0->gym) (0.16.0)\n"
          ]
        }
      ]
    },
    {
      "cell_type": "code",
      "metadata": {
        "id": "uL8v8PyP1hPw"
      },
      "source": [
        "#Importing all the required libraries\n",
        "import numpy as np\n",
        "import matplotlib.pyplot as plt\n",
        "import gym\n",
        "from gym import spaces\n",
        "import time"
      ],
      "execution_count": 69,
      "outputs": []
    },
    {
      "cell_type": "code",
      "metadata": {
        "colab": {
          "base_uri": "https://localhost:8080/",
          "height": 283
        },
        "id": "w4UK7AUz1i-V",
        "outputId": "22ae352e-d34d-4b23-a02b-37f8fb375605"
      },
      "source": [
        "#Defining grid and start & terminal positions\n",
        "grid  =  np.zeros((6,6))\n",
        "start_pos = [0,0]\n",
        "terminal_pos = [5, 5]\n",
        "grid[tuple(terminal_pos)] = 4\n",
        "grid[tuple(start_pos)] = 2\n",
        "agent_pos = [0,0]\n",
        "reward_pos_1 = [5,4]\n",
        "reward_pos_2 = [3,3]\n",
        "reward_pos_3 = [2,5]\n",
        "reward_pos_4 = [2,2]\n",
        "grid[tuple(reward_pos_1)] = 1\n",
        "grid[tuple(reward_pos_2)] = 3\n",
        "grid[tuple(reward_pos_3)] = 5\n",
        "grid[tuple(reward_pos_4)] = 7\n",
        "plt.imshow(grid)"
      ],
      "execution_count": 124,
      "outputs": [
        {
          "output_type": "execute_result",
          "data": {
            "text/plain": [
              "<matplotlib.image.AxesImage at 0x7fb96c9521d0>"
            ]
          },
          "metadata": {},
          "execution_count": 124
        },
        {
          "output_type": "display_data",
          "data": {
            "image/png": "[encoded data removed]",
            "text/plain": [
              "<Figure size 432x288 with 1 Axes>"
            ]
          },
          "metadata": {
            "needs_background": "light"
          }
        }
      ]
    },
    {
      "cell_type": "code",
      "metadata": {
        "id": "g82kG_dc1loT"
      },
      "source": [
        "#Creating class \n",
        "class Gridworld (gym.Env):\n",
        "  def __init__(self):\n",
        "    self.action_space = spaces.Discrete(4)\n",
        "    self.observation_space = spaces.Discrete(36)\n",
        "    self.max_timesteps = 50\n",
        "    self.agent_pos = [0,0]\n",
        "    self.start_pos = [0,0]\n",
        "    self.terminal_pos = [5,5]\n",
        "    self.reward_pos_1 = [5,4]\n",
        "    self.reward_pos_2 = [3,3]\n",
        "    self.reward_pos_3 = [2,5]\n",
        "    self.reward_pos_4 = [2,2]\n",
        "    self.reward = 0\n",
        "\n",
        "  def step(self, action):\n",
        "#Defining all the possible actions\n",
        "    self.reward = 0\n",
        "    if action == 0:\n",
        "      self.agent_pos[0] += 1\n",
        "    if action == 1:\n",
        "      self.agent_pos[0] -= 1\n",
        "    if action == 2:\n",
        "      self.agent_pos[1] += 1\n",
        "    if action == 3:\n",
        "      self.agent_pos[1] -= 1\n",
        "    if action == 4:\n",
        "      self.agent_pos[1] += 1 \n",
        "      self.agent_pos[0] += 1\n",
        "    self.agent_pos = np.clip(self.agent_pos, 0, 5) \n",
        "    self.state = np.zeros((6,6))\n",
        "#Defining the start and end positions for agent along with reward and penalty positions\n",
        "#Assigning colors to agent position, terminal position, rewards and penalties\n",
        "    self.state[tuple(self.agent_pos)] = 1\n",
        "    self.state[tuple(self.terminal_pos)] = 0.5 \n",
        "    self.state[tuple(self.reward_pos_1)] = 0.2\n",
        "    self.state[tuple(self.reward_pos_2)] = 0.3\n",
        "    self.state[tuple(self.reward_pos_3)] = 0.4\n",
        "    self.state[tuple(self.reward_pos_4)] = 0.7\n",
        "    self.terminal_pos = [5,5]\n",
        "    self.reward_pos_1 = [5,4]\n",
        "    self.reward_pos_2 = [3,3]\n",
        "    self.reward_pos_3 = [2,5]\n",
        "    self.reward_pos_4 = [2,2]\n",
        "#Putting on the condition of number of time-steps on all the rewards and defining the reward values\n",
        "    if (self.agent_pos == [2,2]).all():\n",
        "      if (self.timesteps <= 15):\n",
        "        self.reward = 25\n",
        "    if (self.agent_pos == [5,4]).all():\n",
        "      if (self.timesteps <= 15):\n",
        "        self.reward = 15\n",
        "    if (self.agent_pos == [3,3]).all():\n",
        "      if (self.timesteps  <= 15):\n",
        "        self.reward = 35\n",
        "    if (self.agent_pos == np.array([2,5])).all():\n",
        "      if (self.timesteps <= 15):\n",
        "        self.reward = 10\n",
        "#Defining and assigning terminal state reward   \n",
        "    if (self.agent_pos == self.terminal_pos).all():\n",
        "      if (self.timesteps  <= 20):\n",
        "        self.reward = 45\n",
        "      self.count += 1\n",
        "#Defined the logic for movement of criminals with 20% chance of moving\n",
        "    if (self.count % 3 == 0):\n",
        "      prob_move = np.random.uniform(0,1)\n",
        "      chance_move =  np.random.uniform(0,1)\n",
        "      if chance_move > 0.7 :\n",
        "        if prob_move > 0.5 :\n",
        "          self.reward_pos_1[0] -= 1\n",
        "        else :\n",
        "          self.reward_pos_1[1] -= 1\n",
        "    if (self.count % 2 == 0):\n",
        "      prob_move = np.random.uniform(0,1)\n",
        "      chance_move =  np.random.uniform(0,1)\n",
        "      if chance_move > 0.7 :\n",
        "        if prob_move > 0.5 :\n",
        "          self.reward_pos_2[0] -= 1\n",
        "        else :\n",
        "          self.reward_pos_2[0] += 1\n",
        "    return self.reward,self.agent_pos,self.count\n",
        "\n",
        "  def render(self):\n",
        "    plt.imshow(self.state)\n",
        "  def reset(self):\n",
        "    self.timesteps = 0\n",
        "    self.agent_pos = [0, 0]\n",
        "    self.terminal_pos = [5,5]\n",
        "    self.reward_pos_1 = [5,4]\n",
        "    self.reward_pos_2 = [3,3]\n",
        "    self.reward_pos_3 = [2,5]\n",
        "    self.reward_pos_4 = [2,2]\n",
        "    self.state = np.zeros((6,6))\n",
        "    self.state[tuple(self.agent_pos)] = 1\n",
        "    self.state[tuple(self.terminal_pos)] = 0.5 \n",
        "    self.state[tuple(self.reward_pos_1)] = 0.2\n",
        "    self.state[tuple(self.reward_pos_2)] = 0.3\n",
        "    self.state[tuple(self.reward_pos_3)] = 0.4\n",
        "    self.state[tuple(self.reward_pos_4)] = 0.7\n",
        "    observation = self.state.flatten()\n",
        "    self.reward = 0\n",
        "    self.count = 0\n",
        "    self.trap = 0\n",
        "\n",
        "    return observation\n",
        "\n",
        "\n"
      ],
      "execution_count": 125,
      "outputs": []
    },
    {
      "cell_type": "code",
      "metadata": {
        "colab": {
          "base_uri": "https://localhost:8080/"
        },
        "id": "lt7Fqs_-mJNy",
        "outputId": "1dcbf803-a0f2-481f-f15c-91acb5ab2488"
      },
      "source": [
        "np.random.seed(100)\n",
        "def Episodes_Q():\n",
        "  env = Gridworld()\n",
        "  obs = env.reset()\n",
        "  episode = {}\n",
        "  episode[0] = [([0,0],0)]\n",
        "  start_pos = [0,0]\n",
        "  for i in range(1):   \n",
        "     x = (start_pos == env.terminal_pos)\n",
        "     while x == False :\n",
        "        env.reward  = 0\n",
        "        action = np.random.randint(0,5)\n",
        "        reward,position,c  = env.step(action)\n",
        "        position = np.clip(position, 0, 5)\n",
        "        episode[0].append((position,reward))\n",
        "        if (position == env.terminal_pos).all():\n",
        "          x = True\n",
        "          break\n",
        "        \n",
        "  return episode\n",
        "def Possible_Actions(current_s):\n",
        "    next_states = []\n",
        "    org_value = list(current_s)\n",
        "    org_value[0] += 1\n",
        "    org_value = np.clip(org_value, 0, 5) \n",
        "    next_states.append(list(org_value))\n",
        "    org_value = list(current_s)\n",
        "    org_value[0] -= 1\n",
        "    org_value = np.clip(org_value, 0, 5) \n",
        "    next_states.append(list(org_value))\n",
        "    org_value = list(current_s)\n",
        "    org_value[1] += 1\n",
        "    org_value = np.clip(org_value, 0, 5) \n",
        "    next_states.append(list(org_value))\n",
        "    org_value = list(current_s)\n",
        "    org_value[1] -= 1\n",
        "    org_value = np.clip(org_value, 0, 5) \n",
        "    next_states.append(list(org_value))\n",
        "    org_value = list(current_s)\n",
        "    org_value[0] += 1\n",
        "    org_value[1] += 1\n",
        "    org_value = np.clip(org_value, 0, 5) \n",
        "    next_states.append(list(org_value))\n",
        "    return next_states\n",
        "def start_q_values():\n",
        "      final_q_table = {}\n",
        "      for i in range(6):\n",
        "          for j in range(6):\n",
        "              final_q_table[(i,j)] = np.zeros(5)\n",
        "      return final_q_table\n",
        "\n",
        "\n",
        "def Q_learning():\n",
        "  plot_reward = []\n",
        "  epsilon = []\n",
        "  e = 0.2\n",
        "  q_store = start_q_values()\n",
        "  for i in range(2000):\n",
        "      for_graph = 0\n",
        "      episode = Episodes_Q()\n",
        "      e = e * 0.999\n",
        "      for i in range(len(episode[0])-1):\n",
        "            threshold = np.random.uniform(0,1)\n",
        "            expected_transitions = Possible_Actions(list(episode[0][i][0]))\n",
        "            action = expected_transitions.index(list(episode[0][i+1][0]))\n",
        "            old_value_q = q_store.get((tuple(episode[0][i][0])))[action]\n",
        "            if threshold > e:\n",
        "                maximum_of_q_new = max(q_store.get(tuple(episode[0][i+1][0])))\n",
        "            else:\n",
        "                maximum_of_q_new = np.random.choice(q_store.get(tuple(episode[0][i+1][0])))\n",
        "            latest_reward = episode[0][i+1][1]\n",
        "            for_graph += latest_reward\n",
        "            alpha = 0.15\n",
        "            gamma = 0.7\n",
        "            new_value_q = old_value_q + alpha*(latest_reward + gamma*(maximum_of_q_new) - old_value_q )\n",
        "            q_store[tuple(episode[0][i][0])][action] = new_value_q\n",
        "      plot_reward.append(for_graph)\n",
        "      epsilon.append(e)\n",
        "  return q_store, plot_reward, epsilon\n",
        "        \n",
        "finaltable, reward_graph, decay = Q_learning()   \n",
        "optimal = finaltable.values()\n",
        "def get_max():\n",
        "   action = []\n",
        "   state = []\n",
        "   for item in finaltable.items():\n",
        "       action.append(tuple(item[1]).index(max(tuple(item[1]))))\n",
        "   return action\n",
        "\n",
        "optimal_action = get_max()\n",
        "print(optimal_action)\n",
        "\n",
        "\n",
        "\n"
      ],
      "execution_count": 130,
      "outputs": [
        {
          "output_type": "stream",
          "name": "stdout",
          "text": [
            "[4, 0, 0, 0, 0, 0, 2, 4, 0, 0, 3, 0, 2, 2, 4, 3, 3, 3, 2, 1, 1, 1, 3, 3, 2, 1, 2, 1, 1, 0, 2, 1, 2, 1, 0, 0]\n"
          ]
        }
      ]
    },
    {
      "cell_type": "code",
      "metadata": {
        "colab": {
          "base_uri": "https://localhost:8080/",
          "height": 304
        },
        "id": "1aBxj5CsPya4",
        "outputId": "1fca9e30-cc69-4b3f-8ea9-535ee79eb5cb"
      },
      "source": [
        "env = Gridworld()\n",
        "obs = env.reset()\n",
        "cumulative = 0\n",
        "from google.colab import widgets\n",
        "output_grid = widgets.Grid(1,1)\n",
        "for i in range(len(optimal_action)):\n",
        "  action = optimal_action[i]\n",
        "  grid = np.zeros((6,6))\n",
        "  reward_optimal,position,count  = env.step(action)\n",
        "  cumulative += reward_optimal\n",
        "  env.timesteps += 1\n",
        "  with output_grid.output_to(0,0):\n",
        "    output_grid.clear_cell()\n",
        "    env.render()\n",
        "  time.sleep(0.5)\n",
        "  if (position == terminal_pos).all():\n",
        "    break \n",
        "print(env.timesteps)\n",
        "print(cumulative)"
      ],
      "execution_count": 131,
      "outputs": [
        {
          "output_type": "display_data",
          "data": {
            "text/html": [
              "<style>\n",
              "       table#id68, #id68 > tbody > tr > th, #id68 > tbody > tr > td {\n",
              "         border: 1px solid lightgray;\n",
              "         border-collapse:collapse;\n",
              "         \n",
              "        }</style>"
            ],
            "text/plain": [
              "<IPython.core.display.HTML object>"
            ]
          },
          "metadata": {}
        },
        {
          "output_type": "display_data",
          "data": {
            "text/html": [
              "<table id=id68><tr><td id=id68-0-0></td></tr></table>"
            ],
            "text/plain": [
              "<IPython.core.display.HTML object>"
            ]
          },
          "metadata": {}
        },
        {
          "output_type": "display_data",
          "data": {
            "application/javascript": [
              "window[\"bc8c66c2-24bc-11ec-8fc3-0242ac1c0002\"] = google.colab.output.getActiveOutputArea();\n",
              "//# sourceURL=js_a5df3fccb9"
            ],
            "text/plain": [
              "<IPython.core.display.Javascript object>"
            ]
          },
          "metadata": {}
        },
        {
          "output_type": "display_data",
          "data": {
            "application/javascript": [
              "window[\"bc8cc45a-24bc-11ec-8fc3-0242ac1c0002\"] = document.querySelector(\"#id68-0-0\");\n",
              "//# sourceURL=js_5549c0a30d"
            ],
            "text/plain": [
              "<IPython.core.display.Javascript object>"
            ]
          },
          "metadata": {}
        },
        {
          "output_type": "display_data",
          "data": {
            "application/javascript": [
              "window[\"bc8d4858-24bc-11ec-8fc3-0242ac1c0002\"] = google.colab.output.setActiveOutputArea(window[\"bc8cc45a-24bc-11ec-8fc3-0242ac1c0002\"]);\n",
              "//# sourceURL=js_23a7886436"
            ],
            "text/plain": [
              "<IPython.core.display.Javascript object>"
            ]
          },
          "metadata": {}
        },
        {
          "output_type": "display_data",
          "data": {
            "application/javascript": [
              "window[\"bca551f0-24bc-11ec-8fc3-0242ac1c0002\"] = google.colab.output.setActiveOutputArea(window[\"bc8c66c2-24bc-11ec-8fc3-0242ac1c0002\"]);\n",
              "//# sourceURL=js_3f8e680e0b"
            ],
            "text/plain": [
              "<IPython.core.display.Javascript object>"
            ]
          },
          "metadata": {}
        },
        {
          "output_type": "display_data",
          "data": {
            "application/javascript": [
              "window[\"bcf60866-24bc-11ec-8fc3-0242ac1c0002\"] = google.colab.output.getActiveOutputArea();\n",
              "//# sourceURL=js_90b46d5ef8"
            ],
            "text/plain": [
              "<IPython.core.display.Javascript object>"
            ]
          },
          "metadata": {}
        },
        {
          "output_type": "display_data",
          "data": {
            "application/javascript": [
              "window[\"bcf6b892-24bc-11ec-8fc3-0242ac1c0002\"] = document.querySelector(\"#id68-0-0\");\n",
              "//# sourceURL=js_c21ed6ae8c"
            ],
            "text/plain": [
              "<IPython.core.display.Javascript object>"
            ]
          },
          "metadata": {}
        },
        {
          "output_type": "display_data",
          "data": {
            "application/javascript": [
              "window[\"bcf763e6-24bc-11ec-8fc3-0242ac1c0002\"] = google.colab.output.setActiveOutputArea(window[\"bcf6b892-24bc-11ec-8fc3-0242ac1c0002\"]);\n",
              "//# sourceURL=js_e42bf7e9cb"
            ],
            "text/plain": [
              "<IPython.core.display.Javascript object>"
            ]
          },
          "metadata": {}
        },
        {
          "output_type": "display_data",
          "data": {
            "application/javascript": [
              "window[\"bd0f591a-24bc-11ec-8fc3-0242ac1c0002\"] = google.colab.output.setActiveOutputArea(window[\"bcf60866-24bc-11ec-8fc3-0242ac1c0002\"]);\n",
              "//# sourceURL=js_8c6814ef6d"
            ],
            "text/plain": [
              "<IPython.core.display.Javascript object>"
            ]
          },
          "metadata": {}
        },
        {
          "output_type": "display_data",
          "data": {
            "application/javascript": [
              "window[\"bd600928-24bc-11ec-8fc3-0242ac1c0002\"] = google.colab.output.getActiveOutputArea();\n",
              "//# sourceURL=js_d9dd33f5a5"
            ],
            "text/plain": [
              "<IPython.core.display.Javascript object>"
            ]
          },
          "metadata": {}
        },
        {
          "output_type": "display_data",
          "data": {
            "application/javascript": [
              "window[\"bd60ac8e-24bc-11ec-8fc3-0242ac1c0002\"] = document.querySelector(\"#id68-0-0\");\n",
              "//# sourceURL=js_39c6b5d1b7"
            ],
            "text/plain": [
              "<IPython.core.display.Javascript object>"
            ]
          },
          "metadata": {}
        },
        {
          "output_type": "display_data",
          "data": {
            "application/javascript": [
              "window[\"bd6149e6-24bc-11ec-8fc3-0242ac1c0002\"] = google.colab.output.setActiveOutputArea(window[\"bd60ac8e-24bc-11ec-8fc3-0242ac1c0002\"]);\n",
              "//# sourceURL=js_57d4a53f7d"
            ],
            "text/plain": [
              "<IPython.core.display.Javascript object>"
            ]
          },
          "metadata": {}
        },
        {
          "output_type": "display_data",
          "data": {
            "application/javascript": [
              "window[\"bd78ccb0-24bc-11ec-8fc3-0242ac1c0002\"] = google.colab.output.setActiveOutputArea(window[\"bd600928-24bc-11ec-8fc3-0242ac1c0002\"]);\n",
              "//# sourceURL=js_95598283ef"
            ],
            "text/plain": [
              "<IPython.core.display.Javascript object>"
            ]
          },
          "metadata": {}
        },
        {
          "output_type": "display_data",
          "data": {
            "application/javascript": [
              "window[\"bdc702e0-24bc-11ec-8fc3-0242ac1c0002\"] = google.colab.output.getActiveOutputArea();\n",
              "//# sourceURL=js_5694d2b587"
            ],
            "text/plain": [
              "<IPython.core.display.Javascript object>"
            ]
          },
          "metadata": {}
        },
        {
          "output_type": "display_data",
          "data": {
            "application/javascript": [
              "window[\"bdc74b10-24bc-11ec-8fc3-0242ac1c0002\"] = document.querySelector(\"#id68-0-0\");\n",
              "//# sourceURL=js_9f2a3b8130"
            ],
            "text/plain": [
              "<IPython.core.display.Javascript object>"
            ]
          },
          "metadata": {}
        },
        {
          "output_type": "display_data",
          "data": {
            "application/javascript": [
              "window[\"bdc796a6-24bc-11ec-8fc3-0242ac1c0002\"] = google.colab.output.setActiveOutputArea(window[\"bdc74b10-24bc-11ec-8fc3-0242ac1c0002\"]);\n",
              "//# sourceURL=js_009826fecd"
            ],
            "text/plain": [
              "<IPython.core.display.Javascript object>"
            ]
          },
          "metadata": {}
        },
        {
          "output_type": "display_data",
          "data": {
            "application/javascript": [
              "window[\"bded42fc-24bc-11ec-8fc3-0242ac1c0002\"] = google.colab.output.setActiveOutputArea(window[\"bdc702e0-24bc-11ec-8fc3-0242ac1c0002\"]);\n",
              "//# sourceURL=js_ece0af8bc7"
            ],
            "text/plain": [
              "<IPython.core.display.Javascript object>"
            ]
          },
          "metadata": {}
        },
        {
          "output_type": "display_data",
          "data": {
            "application/javascript": [
              "window[\"be3dcf38-24bc-11ec-8fc3-0242ac1c0002\"] = google.colab.output.getActiveOutputArea();\n",
              "//# sourceURL=js_3d129ab884"
            ],
            "text/plain": [
              "<IPython.core.display.Javascript object>"
            ]
          },
          "metadata": {}
        },
        {
          "output_type": "display_data",
          "data": {
            "application/javascript": [
              "window[\"be3e85ae-24bc-11ec-8fc3-0242ac1c0002\"] = document.querySelector(\"#id68-0-0\");\n",
              "//# sourceURL=js_bb573b3ed1"
            ],
            "text/plain": [
              "<IPython.core.display.Javascript object>"
            ]
          },
          "metadata": {}
        },
        {
          "output_type": "display_data",
          "data": {
            "application/javascript": [
              "window[\"be3f32d8-24bc-11ec-8fc3-0242ac1c0002\"] = google.colab.output.setActiveOutputArea(window[\"be3e85ae-24bc-11ec-8fc3-0242ac1c0002\"]);\n",
              "//# sourceURL=js_e100f0e8fb"
            ],
            "text/plain": [
              "<IPython.core.display.Javascript object>"
            ]
          },
          "metadata": {}
        },
        {
          "output_type": "display_data",
          "data": {
            "application/javascript": [
              "window[\"be58b0b4-24bc-11ec-8fc3-0242ac1c0002\"] = google.colab.output.setActiveOutputArea(window[\"be3dcf38-24bc-11ec-8fc3-0242ac1c0002\"]);\n",
              "//# sourceURL=js_a9e7059c0d"
            ],
            "text/plain": [
              "<IPython.core.display.Javascript object>"
            ]
          },
          "metadata": {}
        },
        {
          "output_type": "display_data",
          "data": {
            "application/javascript": [
              "window[\"bea77c4e-24bc-11ec-8fc3-0242ac1c0002\"] = google.colab.output.getActiveOutputArea();\n",
              "//# sourceURL=js_1a554e97ab"
            ],
            "text/plain": [
              "<IPython.core.display.Javascript object>"
            ]
          },
          "metadata": {}
        },
        {
          "output_type": "display_data",
          "data": {
            "application/javascript": [
              "window[\"bea7d48c-24bc-11ec-8fc3-0242ac1c0002\"] = document.querySelector(\"#id68-0-0\");\n",
              "//# sourceURL=js_b1aa79ebc6"
            ],
            "text/plain": [
              "<IPython.core.display.Javascript object>"
            ]
          },
          "metadata": {}
        },
        {
          "output_type": "display_data",
          "data": {
            "application/javascript": [
              "window[\"bea82f9a-24bc-11ec-8fc3-0242ac1c0002\"] = google.colab.output.setActiveOutputArea(window[\"bea7d48c-24bc-11ec-8fc3-0242ac1c0002\"]);\n",
              "//# sourceURL=js_8cb9cdc186"
            ],
            "text/plain": [
              "<IPython.core.display.Javascript object>"
            ]
          },
          "metadata": {}
        },
        {
          "output_type": "display_data",
          "data": {
            "application/javascript": [
              "window[\"bec06f74-24bc-11ec-8fc3-0242ac1c0002\"] = google.colab.output.setActiveOutputArea(window[\"bea77c4e-24bc-11ec-8fc3-0242ac1c0002\"]);\n",
              "//# sourceURL=js_e0a5d3103f"
            ],
            "text/plain": [
              "<IPython.core.display.Javascript object>"
            ]
          },
          "metadata": {}
        },
        {
          "output_type": "display_data",
          "data": {
            "application/javascript": [
              "window[\"bf1073fc-24bc-11ec-8fc3-0242ac1c0002\"] = google.colab.output.getActiveOutputArea();\n",
              "//# sourceURL=js_f9a91371d5"
            ],
            "text/plain": [
              "<IPython.core.display.Javascript object>"
            ]
          },
          "metadata": {}
        },
        {
          "output_type": "display_data",
          "data": {
            "application/javascript": [
              "window[\"bf10d324-24bc-11ec-8fc3-0242ac1c0002\"] = document.querySelector(\"#id68-0-0\");\n",
              "//# sourceURL=js_6e24006902"
            ],
            "text/plain": [
              "<IPython.core.display.Javascript object>"
            ]
          },
          "metadata": {}
        },
        {
          "output_type": "display_data",
          "data": {
            "application/javascript": [
              "window[\"bf1130f8-24bc-11ec-8fc3-0242ac1c0002\"] = google.colab.output.setActiveOutputArea(window[\"bf10d324-24bc-11ec-8fc3-0242ac1c0002\"]);\n",
              "//# sourceURL=js_f153bc6879"
            ],
            "text/plain": [
              "<IPython.core.display.Javascript object>"
            ]
          },
          "metadata": {}
        },
        {
          "output_type": "display_data",
          "data": {
            "application/javascript": [
              "window[\"bf27bdfa-24bc-11ec-8fc3-0242ac1c0002\"] = google.colab.output.setActiveOutputArea(window[\"bf1073fc-24bc-11ec-8fc3-0242ac1c0002\"]);\n",
              "//# sourceURL=js_95f7d6b7c0"
            ],
            "text/plain": [
              "<IPython.core.display.Javascript object>"
            ]
          },
          "metadata": {}
        },
        {
          "output_type": "display_data",
          "data": {
            "application/javascript": [
              "window[\"bf763c78-24bc-11ec-8fc3-0242ac1c0002\"] = google.colab.output.getActiveOutputArea();\n",
              "//# sourceURL=js_3aa872c252"
            ],
            "text/plain": [
              "<IPython.core.display.Javascript object>"
            ]
          },
          "metadata": {}
        },
        {
          "output_type": "display_data",
          "data": {
            "application/javascript": [
              "window[\"bf76cca6-24bc-11ec-8fc3-0242ac1c0002\"] = document.querySelector(\"#id68-0-0\");\n",
              "//# sourceURL=js_2ba994a567"
            ],
            "text/plain": [
              "<IPython.core.display.Javascript object>"
            ]
          },
          "metadata": {}
        },
        {
          "output_type": "display_data",
          "data": {
            "application/javascript": [
              "window[\"bf774a14-24bc-11ec-8fc3-0242ac1c0002\"] = google.colab.output.setActiveOutputArea(window[\"bf76cca6-24bc-11ec-8fc3-0242ac1c0002\"]);\n",
              "//# sourceURL=js_37ce49b7bc"
            ],
            "text/plain": [
              "<IPython.core.display.Javascript object>"
            ]
          },
          "metadata": {}
        },
        {
          "output_type": "display_data",
          "data": {
            "application/javascript": [
              "window[\"bf8f7f80-24bc-11ec-8fc3-0242ac1c0002\"] = google.colab.output.setActiveOutputArea(window[\"bf763c78-24bc-11ec-8fc3-0242ac1c0002\"]);\n",
              "//# sourceURL=js_ef96bc0f13"
            ],
            "text/plain": [
              "<IPython.core.display.Javascript object>"
            ]
          },
          "metadata": {}
        },
        {
          "output_type": "display_data",
          "data": {
            "application/javascript": [
              "window[\"bfde0ba0-24bc-11ec-8fc3-0242ac1c0002\"] = google.colab.output.getActiveOutputArea();\n",
              "//# sourceURL=js_a9104708ac"
            ],
            "text/plain": [
              "<IPython.core.display.Javascript object>"
            ]
          },
          "metadata": {}
        },
        {
          "output_type": "display_data",
          "data": {
            "application/javascript": [
              "window[\"bfde601e-24bc-11ec-8fc3-0242ac1c0002\"] = document.querySelector(\"#id68-0-0\");\n",
              "//# sourceURL=js_51e8741164"
            ],
            "text/plain": [
              "<IPython.core.display.Javascript object>"
            ]
          },
          "metadata": {}
        },
        {
          "output_type": "display_data",
          "data": {
            "application/javascript": [
              "window[\"bfdf017c-24bc-11ec-8fc3-0242ac1c0002\"] = google.colab.output.setActiveOutputArea(window[\"bfde601e-24bc-11ec-8fc3-0242ac1c0002\"]);\n",
              "//# sourceURL=js_a8756163d1"
            ],
            "text/plain": [
              "<IPython.core.display.Javascript object>"
            ]
          },
          "metadata": {}
        },
        {
          "output_type": "display_data",
          "data": {
            "application/javascript": [
              "window[\"bff52ee8-24bc-11ec-8fc3-0242ac1c0002\"] = google.colab.output.setActiveOutputArea(window[\"bfde0ba0-24bc-11ec-8fc3-0242ac1c0002\"]);\n",
              "//# sourceURL=js_3f89c96ee3"
            ],
            "text/plain": [
              "<IPython.core.display.Javascript object>"
            ]
          },
          "metadata": {}
        },
        {
          "output_type": "display_data",
          "data": {
            "application/javascript": [
              "window[\"c043af32-24bc-11ec-8fc3-0242ac1c0002\"] = google.colab.output.getActiveOutputArea();\n",
              "//# sourceURL=js_aaa27d9b7e"
            ],
            "text/plain": [
              "<IPython.core.display.Javascript object>"
            ]
          },
          "metadata": {}
        },
        {
          "output_type": "display_data",
          "data": {
            "application/javascript": [
              "window[\"c04435d8-24bc-11ec-8fc3-0242ac1c0002\"] = document.querySelector(\"#id68-0-0\");\n",
              "//# sourceURL=js_42634c61d0"
            ],
            "text/plain": [
              "<IPython.core.display.Javascript object>"
            ]
          },
          "metadata": {}
        },
        {
          "output_type": "display_data",
          "data": {
            "application/javascript": [
              "window[\"c0448e0c-24bc-11ec-8fc3-0242ac1c0002\"] = google.colab.output.setActiveOutputArea(window[\"c04435d8-24bc-11ec-8fc3-0242ac1c0002\"]);\n",
              "//# sourceURL=js_6a325106ce"
            ],
            "text/plain": [
              "<IPython.core.display.Javascript object>"
            ]
          },
          "metadata": {}
        },
        {
          "output_type": "display_data",
          "data": {
            "application/javascript": [
              "window[\"c05b46ba-24bc-11ec-8fc3-0242ac1c0002\"] = google.colab.output.setActiveOutputArea(window[\"c043af32-24bc-11ec-8fc3-0242ac1c0002\"]);\n",
              "//# sourceURL=js_072ea7dd24"
            ],
            "text/plain": [
              "<IPython.core.display.Javascript object>"
            ]
          },
          "metadata": {}
        },
        {
          "output_type": "display_data",
          "data": {
            "application/javascript": [
              "window[\"c0abbad2-24bc-11ec-8fc3-0242ac1c0002\"] = google.colab.output.getActiveOutputArea();\n",
              "//# sourceURL=js_bc4eeae9d1"
            ],
            "text/plain": [
              "<IPython.core.display.Javascript object>"
            ]
          },
          "metadata": {}
        },
        {
          "output_type": "display_data",
          "data": {
            "application/javascript": [
              "window[\"c0ac7134-24bc-11ec-8fc3-0242ac1c0002\"] = document.querySelector(\"#id68-0-0\");\n",
              "//# sourceURL=js_a696b08148"
            ],
            "text/plain": [
              "<IPython.core.display.Javascript object>"
            ]
          },
          "metadata": {}
        },
        {
          "output_type": "display_data",
          "data": {
            "application/javascript": [
              "window[\"c0ad04e6-24bc-11ec-8fc3-0242ac1c0002\"] = google.colab.output.setActiveOutputArea(window[\"c0ac7134-24bc-11ec-8fc3-0242ac1c0002\"]);\n",
              "//# sourceURL=js_adaaa7f567"
            ],
            "text/plain": [
              "<IPython.core.display.Javascript object>"
            ]
          },
          "metadata": {}
        },
        {
          "output_type": "display_data",
          "data": {
            "application/javascript": [
              "window[\"c0c624f8-24bc-11ec-8fc3-0242ac1c0002\"] = google.colab.output.setActiveOutputArea(window[\"c0abbad2-24bc-11ec-8fc3-0242ac1c0002\"]);\n",
              "//# sourceURL=js_6594177bf7"
            ],
            "text/plain": [
              "<IPython.core.display.Javascript object>"
            ]
          },
          "metadata": {}
        },
        {
          "output_type": "display_data",
          "data": {
            "application/javascript": [
              "window[\"c114de90-24bc-11ec-8fc3-0242ac1c0002\"] = google.colab.output.getActiveOutputArea();\n",
              "//# sourceURL=js_11ee2658c5"
            ],
            "text/plain": [
              "<IPython.core.display.Javascript object>"
            ]
          },
          "metadata": {}
        },
        {
          "output_type": "display_data",
          "data": {
            "application/javascript": [
              "window[\"c11599ac-24bc-11ec-8fc3-0242ac1c0002\"] = document.querySelector(\"#id68-0-0\");\n",
              "//# sourceURL=js_692abe785f"
            ],
            "text/plain": [
              "<IPython.core.display.Javascript object>"
            ]
          },
          "metadata": {}
        },
        {
          "output_type": "display_data",
          "data": {
            "application/javascript": [
              "window[\"c116c4f8-24bc-11ec-8fc3-0242ac1c0002\"] = google.colab.output.setActiveOutputArea(window[\"c11599ac-24bc-11ec-8fc3-0242ac1c0002\"]);\n",
              "//# sourceURL=js_35ae4c1efe"
            ],
            "text/plain": [
              "<IPython.core.display.Javascript object>"
            ]
          },
          "metadata": {}
        },
        {
          "output_type": "display_data",
          "data": {
            "application/javascript": [
              "window[\"c1315ea8-24bc-11ec-8fc3-0242ac1c0002\"] = google.colab.output.setActiveOutputArea(window[\"c114de90-24bc-11ec-8fc3-0242ac1c0002\"]);\n",
              "//# sourceURL=js_f4e5fefa1a"
            ],
            "text/plain": [
              "<IPython.core.display.Javascript object>"
            ]
          },
          "metadata": {}
        },
        {
          "output_type": "display_data",
          "data": {
            "application/javascript": [
              "window[\"c1800f4e-24bc-11ec-8fc3-0242ac1c0002\"] = google.colab.output.getActiveOutputArea();\n",
              "//# sourceURL=js_4ff02ee3db"
            ],
            "text/plain": [
              "<IPython.core.display.Javascript object>"
            ]
          },
          "metadata": {}
        },
        {
          "output_type": "display_data",
          "data": {
            "application/javascript": [
              "window[\"c180d10e-24bc-11ec-8fc3-0242ac1c0002\"] = document.querySelector(\"#id68-0-0\");\n",
              "//# sourceURL=js_ae31ba0ce4"
            ],
            "text/plain": [
              "<IPython.core.display.Javascript object>"
            ]
          },
          "metadata": {}
        },
        {
          "output_type": "display_data",
          "data": {
            "application/javascript": [
              "window[\"c18135ea-24bc-11ec-8fc3-0242ac1c0002\"] = google.colab.output.setActiveOutputArea(window[\"c180d10e-24bc-11ec-8fc3-0242ac1c0002\"]);\n",
              "//# sourceURL=js_22a7bc74f1"
            ],
            "text/plain": [
              "<IPython.core.display.Javascript object>"
            ]
          },
          "metadata": {}
        },
        {
          "output_type": "display_data",
          "data": {
            "application/javascript": [
              "window[\"c1970050-24bc-11ec-8fc3-0242ac1c0002\"] = google.colab.output.setActiveOutputArea(window[\"c1800f4e-24bc-11ec-8fc3-0242ac1c0002\"]);\n",
              "//# sourceURL=js_f78a4e2faa"
            ],
            "text/plain": [
              "<IPython.core.display.Javascript object>"
            ]
          },
          "metadata": {}
        },
        {
          "output_type": "display_data",
          "data": {
            "application/javascript": [
              "window[\"c1e58806-24bc-11ec-8fc3-0242ac1c0002\"] = google.colab.output.getActiveOutputArea();\n",
              "//# sourceURL=js_b7dbb50471"
            ],
            "text/plain": [
              "<IPython.core.display.Javascript object>"
            ]
          },
          "metadata": {}
        },
        {
          "output_type": "display_data",
          "data": {
            "application/javascript": [
              "window[\"c1e631de-24bc-11ec-8fc3-0242ac1c0002\"] = document.querySelector(\"#id68-0-0\");\n",
              "//# sourceURL=js_bf51aa8716"
            ],
            "text/plain": [
              "<IPython.core.display.Javascript object>"
            ]
          },
          "metadata": {}
        },
        {
          "output_type": "display_data",
          "data": {
            "application/javascript": [
              "window[\"c1e694e4-24bc-11ec-8fc3-0242ac1c0002\"] = google.colab.output.setActiveOutputArea(window[\"c1e631de-24bc-11ec-8fc3-0242ac1c0002\"]);\n",
              "//# sourceURL=js_c1c4e3faa9"
            ],
            "text/plain": [
              "<IPython.core.display.Javascript object>"
            ]
          },
          "metadata": {}
        },
        {
          "output_type": "display_data",
          "data": {
            "application/javascript": [
              "window[\"c1ffbaf0-24bc-11ec-8fc3-0242ac1c0002\"] = google.colab.output.setActiveOutputArea(window[\"c1e58806-24bc-11ec-8fc3-0242ac1c0002\"]);\n",
              "//# sourceURL=js_5633550dad"
            ],
            "text/plain": [
              "<IPython.core.display.Javascript object>"
            ]
          },
          "metadata": {}
        },
        {
          "output_type": "display_data",
          "data": {
            "application/javascript": [
              "window[\"c24e63ee-24bc-11ec-8fc3-0242ac1c0002\"] = google.colab.output.getActiveOutputArea();\n",
              "//# sourceURL=js_b06cbb7304"
            ],
            "text/plain": [
              "<IPython.core.display.Javascript object>"
            ]
          },
          "metadata": {}
        },
        {
          "output_type": "display_data",
          "data": {
            "application/javascript": [
              "window[\"c24f0376-24bc-11ec-8fc3-0242ac1c0002\"] = document.querySelector(\"#id68-0-0\");\n",
              "//# sourceURL=js_ab0cb06452"
            ],
            "text/plain": [
              "<IPython.core.display.Javascript object>"
            ]
          },
          "metadata": {}
        },
        {
          "output_type": "display_data",
          "data": {
            "application/javascript": [
              "window[\"c24f748c-24bc-11ec-8fc3-0242ac1c0002\"] = google.colab.output.setActiveOutputArea(window[\"c24f0376-24bc-11ec-8fc3-0242ac1c0002\"]);\n",
              "//# sourceURL=js_fbce8803bc"
            ],
            "text/plain": [
              "<IPython.core.display.Javascript object>"
            ]
          },
          "metadata": {}
        },
        {
          "output_type": "display_data",
          "data": {
            "image/png": "[encoded data removed]",
            "text/plain": [
              "<Figure size 432x288 with 1 Axes>"
            ]
          },
          "metadata": {
            "needs_background": "light"
          }
        },
        {
          "output_type": "display_data",
          "data": {
            "application/javascript": [
              "window[\"c2677d2a-24bc-11ec-8fc3-0242ac1c0002\"] = google.colab.output.setActiveOutputArea(window[\"c24e63ee-24bc-11ec-8fc3-0242ac1c0002\"]);\n",
              "//# sourceURL=js_2e43ef0d62"
            ],
            "text/plain": [
              "<IPython.core.display.Javascript object>"
            ]
          },
          "metadata": {}
        },
        {
          "output_type": "stream",
          "name": "stdout",
          "text": [
            "15\n",
            "60\n"
          ]
        }
      ]
    },
    {
      "cell_type": "code",
      "metadata": {
        "id": "cg9DGkKcRJDH",
        "colab": {
          "base_uri": "https://localhost:8080/",
          "height": 307
        },
        "outputId": "4dbf8d3f-b28c-4261-dc66-8547d4c0de3f"
      },
      "source": [
        "import numpy as np\n",
        "import matplotlib.pyplot as plt\n",
        "plt.plot(range(2000), reward_graph)\n",
        "print(reward_graph)\n"
      ],
      "execution_count": 132,
      "outputs": [
        {
          "output_type": "stream",
          "name": "stdout",
          "text": [
            "[75, 130, 85, 105, 45, 100, 75, 295, 70, 225, 90, 80, 155, 230, 180, 80, 115, 175, 45, 45, 95, 70, 60, 65, 105, 90, 65, 125, 60, 70, 170, 155, 150, 60, 75, 140, 150, 95, 95, 195, 75, 250, 265, 215, 250, 75, 170, 55, 165, 145, 60, 115, 55, 195, 70, 85, 105, 135, 205, 80, 150, 45, 245, 80, 120, 110, 100, 170, 130, 60, 75, 110, 60, 265, 75, 110, 180, 75, 75, 175, 125, 170, 160, 90, 165, 110, 135, 260, 45, 155, 370, 205, 80, 60, 115, 100, 55, 70, 85, 80, 105, 100, 105, 105, 115, 60, 120, 80, 140, 45, 100, 75, 145, 105, 155, 115, 75, 170, 90, 160, 110, 90, 85, 225, 45, 130, 135, 125, 105, 115, 80, 165, 160, 150, 115, 95, 60, 190, 90, 185, 125, 115, 185, 220, 60, 80, 160, 45, 170, 45, 170, 345, 215, 135, 145, 155, 45, 275, 75, 105, 45, 130, 80, 125, 120, 60, 105, 55, 60, 235, 195, 95, 170, 285, 60, 55, 300, 115, 65, 110, 90, 220, 105, 120, 70, 180, 135, 100, 160, 90, 125, 115, 75, 90, 90, 80, 95, 45, 120, 160, 95, 85, 255, 60, 165, 195, 55, 125, 130, 295, 45, 80, 55, 80, 140, 55, 140, 120, 105, 70, 60, 65, 240, 120, 145, 55, 175, 130, 125, 255, 75, 115, 95, 95, 105, 235, 160, 155, 140, 200, 95, 100, 140, 175, 115, 90, 75, 120, 195, 135, 175, 60, 80, 125, 105, 135, 135, 105, 60, 260, 75, 170, 105, 75, 95, 175, 135, 260, 75, 135, 105, 360, 190, 110, 130, 140, 105, 90, 45, 45, 85, 230, 80, 60, 150, 60, 105, 120, 85, 100, 150, 115, 80, 95, 75, 285, 65, 115, 210, 120, 130, 45, 90, 80, 245, 80, 135, 135, 85, 85, 60, 80, 160, 355, 125, 45, 45, 60, 80, 370, 45, 70, 80, 70, 430, 70, 100, 105, 120, 105, 200, 75, 125, 140, 160, 120, 145, 115, 85, 115, 165, 105, 180, 120, 60, 60, 45, 85, 145, 65, 60, 215, 80, 115, 200, 130, 70, 155, 250, 160, 70, 160, 55, 140, 110, 60, 160, 85, 60, 70, 55, 200, 180, 205, 360, 190, 80, 190, 140, 90, 200, 105, 140, 100, 150, 70, 110, 155, 45, 120, 140, 140, 160, 190, 95, 60, 150, 145, 55, 110, 150, 85, 80, 80, 95, 135, 75, 115, 85, 105, 125, 115, 130, 75, 120, 70, 100, 165, 105, 245, 125, 260, 115, 75, 180, 80, 150, 165, 265, 85, 200, 90, 135, 95, 80, 115, 230, 130, 105, 125, 55, 85, 160, 175, 90, 205, 175, 105, 225, 115, 180, 65, 190, 160, 75, 45, 65, 160, 130, 195, 45, 110, 105, 120, 140, 190, 60, 70, 75, 105, 215, 105, 60, 135, 200, 105, 75, 45, 60, 60, 45, 200, 105, 105, 45, 115, 230, 90, 145, 90, 225, 155, 80, 130, 190, 165, 125, 155, 60, 250, 155, 60, 105, 125, 115, 115, 175, 115, 85, 245, 45, 110, 210, 70, 175, 130, 120, 65, 85, 45, 55, 80, 100, 160, 130, 45, 85, 135, 530, 45, 90, 60, 280, 75, 75, 55, 300, 80, 85, 140, 80, 95, 55, 80, 90, 670, 120, 80, 65, 60, 90, 45, 100, 340, 70, 60, 165, 250, 60, 80, 140, 185, 230, 60, 155, 80, 165, 105, 145, 65, 205, 95, 135, 100, 280, 95, 140, 75, 175, 290, 110, 95, 125, 60, 90, 235, 265, 190, 100, 235, 255, 90, 145, 135, 280, 120, 85, 120, 205, 160, 100, 285, 85, 185, 160, 175, 105, 90, 110, 85, 60, 155, 145, 60, 60, 80, 165, 75, 135, 65, 185, 110, 75, 60, 105, 105, 105, 45, 205, 115, 355, 105, 45, 325, 60, 180, 85, 55, 115, 135, 215, 95, 75, 60, 175, 100, 225, 80, 75, 85, 65, 45, 180, 120, 175, 220, 120, 70, 60, 115, 195, 60, 60, 80, 95, 90, 80, 45, 130, 60, 120, 65, 125, 300, 75, 75, 60, 300, 95, 215, 155, 110, 120, 165, 100, 70, 45, 70, 95, 235, 75, 190, 105, 65, 145, 95, 140, 150, 305, 165, 240, 65, 105, 90, 490, 65, 155, 75, 140, 80, 140, 95, 140, 140, 75, 395, 60, 55, 105, 80, 105, 155, 115, 115, 150, 155, 240, 225, 180, 95, 75, 105, 240, 170, 80, 45, 95, 130, 180, 105, 130, 155, 100, 105, 120, 140, 60, 60, 60, 140, 180, 110, 135, 155, 80, 130, 125, 85, 45, 200, 80, 85, 105, 120, 60, 85, 205, 155, 105, 85, 110, 220, 130, 85, 85, 75, 55, 60, 115, 105, 45, 165, 215, 85, 165, 180, 55, 165, 80, 140, 60, 75, 135, 60, 100, 105, 100, 260, 80, 80, 55, 105, 155, 45, 175, 205, 65, 185, 120, 225, 105, 130, 80, 60, 60, 135, 115, 115, 215, 85, 180, 60, 135, 75, 245, 160, 70, 45, 60, 85, 110, 240, 90, 145, 80, 45, 145, 210, 135, 185, 285, 80, 45, 105, 220, 55, 120, 80, 85, 95, 120, 100, 410, 160, 60, 190, 45, 235, 110, 105, 85, 60, 75, 65, 120, 175, 75, 95, 160, 55, 45, 125, 60, 75, 70, 150, 70, 145, 45, 135, 65, 75, 95, 290, 100, 110, 105, 125, 195, 95, 205, 120, 70, 105, 115, 200, 90, 150, 105, 110, 60, 105, 135, 55, 85, 185, 75, 170, 235, 70, 60, 140, 105, 180, 80, 195, 110, 165, 335, 115, 75, 170, 205, 115, 105, 45, 165, 150, 65, 105, 60, 155, 55, 155, 145, 45, 65, 70, 180, 60, 150, 55, 45, 70, 75, 100, 95, 80, 275, 45, 175, 70, 145, 115, 170, 270, 205, 85, 60, 130, 80, 85, 45, 215, 60, 400, 120, 90, 95, 95, 100, 135, 105, 95, 85, 130, 85, 105, 80, 105, 115, 195, 95, 120, 150, 215, 80, 345, 215, 120, 75, 130, 145, 135, 55, 70, 45, 90, 130, 220, 105, 190, 195, 70, 150, 120, 140, 60, 130, 165, 130, 65, 110, 105, 130, 155, 80, 60, 85, 160, 220, 45, 70, 80, 150, 60, 120, 115, 65, 105, 70, 100, 55, 95, 135, 160, 165, 140, 65, 95, 55, 115, 125, 110, 150, 70, 65, 135, 185, 95, 200, 200, 125, 180, 130, 165, 60, 85, 125, 120, 110, 65, 85, 60, 130, 110, 65, 110, 130, 115, 125, 90, 125, 185, 235, 165, 45, 225, 115, 190, 45, 60, 90, 70, 150, 80, 100, 75, 135, 140, 130, 60, 130, 100, 240, 65, 130, 95, 110, 45, 100, 165, 45, 120, 95, 80, 170, 105, 45, 120, 75, 115, 175, 105, 135, 170, 185, 330, 385, 60, 225, 130, 370, 170, 60, 90, 140, 75, 150, 370, 145, 220, 90, 165, 320, 155, 70, 60, 75, 105, 150, 135, 75, 140, 130, 125, 70, 200, 95, 100, 105, 80, 100, 175, 55, 70, 45, 135, 120, 115, 160, 85, 190, 175, 115, 100, 235, 115, 80, 45, 60, 95, 75, 60, 130, 45, 95, 170, 85, 115, 60, 165, 95, 80, 115, 125, 125, 160, 205, 110, 135, 115, 130, 230, 85, 235, 205, 210, 100, 75, 120, 105, 110, 120, 55, 305, 80, 45, 85, 80, 230, 100, 115, 130, 95, 100, 285, 295, 140, 130, 125, 75, 230, 120, 55, 55, 185, 95, 120, 55, 85, 120, 90, 85, 305, 95, 70, 115, 170, 60, 135, 170, 75, 120, 115, 265, 75, 245, 130, 85, 75, 145, 125, 145, 310, 160, 60, 105, 150, 160, 75, 85, 120, 55, 85, 95, 75, 75, 85, 185, 170, 55, 225, 60, 105, 130, 170, 250, 170, 145, 270, 145, 45, 115, 155, 120, 65, 105, 145, 75, 230, 70, 135, 80, 150, 60, 65, 180, 60, 300, 155, 215, 105, 120, 210, 215, 160, 665, 160, 105, 90, 135, 65, 250, 115, 75, 100, 80, 100, 105, 140, 110, 45, 150, 60, 60, 75, 105, 80, 145, 70, 165, 115, 75, 60, 210, 80, 245, 75, 235, 210, 165, 45, 160, 80, 60, 85, 85, 205, 65, 165, 90, 345, 130, 75, 70, 75, 95, 130, 295, 215, 85, 135, 150, 145, 95, 120, 140, 165, 65, 195, 75, 45, 115, 155, 60, 45, 60, 95, 105, 85, 320, 75, 60, 205, 145, 85, 55, 80, 70, 150, 215, 180, 85, 85, 175, 80, 205, 60, 235, 120, 120, 85, 335, 160, 170, 140, 90, 90, 100, 65, 80, 65, 265, 70, 90, 150, 200, 140, 90, 230, 120, 105, 250, 45, 45, 75, 75, 85, 170, 160, 80, 170, 70, 115, 145, 180, 220, 85, 105, 135, 170, 70, 110, 100, 210, 115, 100, 135, 220, 225, 100, 55, 115, 105, 60, 155, 215, 55, 225, 240, 175, 80, 45, 90, 80, 125, 140, 90, 140, 100, 150, 105, 75, 95, 150, 105, 90, 90, 165, 80, 105, 155, 150, 200, 105, 90, 95, 55, 120, 130, 230, 240, 235, 215, 55, 65, 85, 225, 140, 95, 125, 260, 75, 165, 215, 70, 100, 45, 115, 90, 55, 75, 85, 45, 60, 60, 235, 170, 160, 100, 105, 125, 165, 170, 105, 80, 80, 105, 105, 115, 130, 230, 215, 140, 150, 280, 215, 70, 45, 140, 140, 150, 95, 495, 135, 60, 90, 285, 130, 110, 220, 45, 90, 185, 60, 115, 90, 90, 115, 60, 170, 60, 110, 90, 120, 260, 100, 80, 120, 75, 105, 55, 215, 110, 75, 65, 60, 175, 110, 195, 85, 60, 45, 115, 130, 105, 70, 90, 85, 70, 90, 145, 105, 165, 270, 205, 170, 65, 60, 230, 60, 125, 245, 135, 130, 60, 65, 125, 265, 230, 70, 65, 45, 195, 75, 120, 95, 340, 110, 55, 105, 115, 105, 75, 105, 100, 195, 75, 110, 65, 150, 120, 140, 60, 105, 95, 90, 150, 130, 105, 115, 70, 65, 80, 105, 120, 80, 105, 130, 60, 100, 75, 65, 45, 165, 285, 115, 155, 110, 375, 120, 400, 175, 135, 75, 55, 130, 105, 150, 105, 140, 140, 140, 265, 95, 110, 60, 70, 75, 100, 85, 80, 135, 100, 60, 45, 145, 160, 85, 115, 95, 140, 295, 60, 140, 95, 155, 135, 185, 55, 75, 140, 195, 60, 80, 95, 105, 150, 105, 180, 85, 135, 105, 75, 100, 80, 80, 80, 55, 85, 185, 105, 105, 185, 185, 115, 115, 85, 205, 95, 60, 45, 75, 95, 75, 215, 75, 85, 100, 120, 75, 310, 120, 155, 270, 60, 45, 70, 60, 65, 95, 80, 95, 180, 75, 55, 150, 60, 85, 175, 130, 120, 115, 75, 145, 105, 155, 80, 125, 45, 135, 70, 135, 120, 90, 60, 270, 105, 90, 80, 155, 80, 130, 105, 85, 120, 55, 155, 90, 70, 145, 110, 105, 55, 80, 200, 105, 60, 105, 165, 80, 75, 60, 115, 135, 85, 150, 115, 120, 105, 140, 120, 105, 80, 165, 120, 165, 115, 105, 75, 95, 160, 95, 120, 85, 115, 55, 45, 100, 60, 145, 45, 135, 85, 65, 315, 110, 60, 80, 155, 185, 60, 180, 135, 110, 60, 225, 75, 155, 115, 60, 60, 60, 60, 85, 75, 60, 55, 75, 95, 45, 80, 135, 140, 100, 60, 85, 115, 355, 120, 90, 120, 45, 145, 115, 60, 225, 90, 45, 55, 140, 80, 115, 95, 150, 190, 85, 90, 105, 145, 150, 110, 45, 120, 90, 120, 80, 75, 135, 95, 110, 110, 65, 60, 165, 110, 200, 120, 60, 55, 60, 120, 90, 115, 125, 240, 120, 105, 160, 105, 230, 85, 45, 205, 395, 155, 85, 60, 100, 115, 115, 90, 85, 165, 100, 125, 145, 75, 120, 105, 85, 95, 200, 230, 60, 95, 75, 60, 135, 45, 225, 275, 215, 85, 225, 260, 90, 75, 115, 125, 80, 45, 220, 190, 105, 225, 65, 105, 95, 205, 250, 310, 105, 170, 190, 130, 215, 195, 150, 85, 105, 160, 245, 125, 170, 110, 110, 150, 45, 65, 45, 60, 95, 95, 115, 95, 85, 185, 105]\n"
          ]
        },
        {
          "output_type": "display_data",
          "data": {
            "image/png": "[encoded data removed]",
            "text/plain": [
              "<Figure size 432x288 with 1 Axes>"
            ]
          },
          "metadata": {
            "needs_background": "light"
          }
        }
      ]
    },
    {
      "cell_type": "code",
      "metadata": {
        "id": "T6WhE-tylAaV",
        "colab": {
          "base_uri": "https://localhost:8080/",
          "height": 303
        },
        "outputId": "15fc3373-cda8-4bfe-ce10-978c4d23048a"
      },
      "source": [
        "plt.plot(range(2000), decay)\n",
        "print(decay)"
      ],
      "execution_count": 133,
      "outputs": [
        {
          "output_type": "stream",
          "name": "stdout",
          "text": [
            "[0.1998, 0.1996002, 0.1994005998, 0.1992011992002, 0.1990019980009998, 0.1988029960029988, 0.1986041930069958, 0.19840558881398881, 0.19820718322517483, 0.19800897604194967, 0.19781096706590773, 0.1976131560988418, 0.19741554294274297, 0.1972181273998002, 0.1970209092724004, 0.196823888363128, 0.19662706447476488, 0.19643043741029012, 0.19623400697287982, 0.19603777296590694, 0.19584173519294104, 0.1956458934577481, 0.19545024756429036, 0.19525479731672607, 0.19505954251940935, 0.19486448297688994, 0.19466961849391304, 0.19447494887541913, 0.1942804739265437, 0.19408619345261716, 0.19389210725916453, 0.19369821515190536, 0.19350451693675344, 0.19331101241981669, 0.19311770140739687, 0.19292458370598947, 0.1927316591222835, 0.1925389274631612, 0.19234638853569805, 0.19215404214716236, 0.1919618881050152, 0.19176992621691016, 0.19157815629069325, 0.19138657813440255, 0.19119519155626816, 0.19100399636471188, 0.19081299236834717, 0.19062217937597883, 0.19043155719660285, 0.19024112563940623, 0.19005088451376684, 0.18986083362925307, 0.1896709727956238, 0.18948130182282819, 0.18929182052100535, 0.18910252870048436, 0.18891342617178386, 0.18872451274561208, 0.18853578823286646, 0.1883472524446336, 0.18815890519218897, 0.18797074628699678, 0.1877827755407098, 0.18759499276516908, 0.18740739777240392, 0.18721999037463152, 0.1870327703842569, 0.18684573761387263, 0.18665889187625875, 0.1864722329843825, 0.18628576075139813, 0.18609947499064675, 0.1859133755156561, 0.18572746214014044, 0.1855417346780003, 0.1853561929433223, 0.185170836750379, 0.1849856659136286, 0.18480068024771498, 0.18461587956746728, 0.1844312636878998, 0.18424683242421191, 0.1840625855917877, 0.18387852300619592, 0.18369464448318973, 0.18351094983870653, 0.18332743888886782, 0.18314411144997894, 0.18296096733852896, 0.18277800637119043, 0.18259522836481923, 0.18241263313645442, 0.18223022050331797, 0.18204799028281465, 0.18186594229253183, 0.1816840763502393, 0.18150239227388906, 0.18132088988161518, 0.18113956899173356, 0.18095842942274182, 0.1807774709933191, 0.18059669352232577, 0.18041609682880344, 0.18023568073197463, 0.18005544505124266, 0.17987538960619143, 0.17969551421658522, 0.17951581870236863, 0.17933630288366625, 0.1791569665807826, 0.17897780961420182, 0.1787988318045876, 0.17862003297278303, 0.17844141293981025, 0.17826297152687043, 0.17808470855534356, 0.1779066238467882, 0.17772871722294142, 0.1775509885057185, 0.17737343751721277, 0.17719606407969554, 0.17701886801561584, 0.17684184914760023, 0.17666500729845264, 0.17648834229115418, 0.17631185394886303, 0.17613554209491417, 0.17595940655281925, 0.17578344714626642, 0.17560766369912015, 0.17543205603542103, 0.1752566239793856, 0.17508136735540622, 0.1749062859880508, 0.17473137970206276, 0.1745566483223607, 0.17438209167403834, 0.1742077095823643, 0.17403350187278194, 0.17385946837090915, 0.17368560890253826, 0.1735119232936357, 0.1733384113703421, 0.17316507295897174, 0.17299190788601276, 0.17281891597812676, 0.17264609706214865, 0.17247345096508648, 0.1723009775141214, 0.1721286765366073, 0.1719565478600707, 0.17178459131221063, 0.17161280672089843, 0.17144119391417753, 0.17126975272026335, 0.17109848296754307, 0.17092738448457553, 0.17075645710009096, 0.17058570064299086, 0.17041511494234787, 0.17024469982740553, 0.17007445512757813, 0.16990438067245056, 0.1697344762917781, 0.1695647418154863, 0.16939517707367083, 0.16922578189659715, 0.16905655611470055, 0.16888749955858584, 0.16871861205902725, 0.16854989344696822, 0.16838134355352125, 0.16821296220996773, 0.16804474924775775, 0.16787670449851, 0.1677088277940115, 0.16754111896621748, 0.16737357784725126, 0.16720620426940402, 0.16703899806513461, 0.16687195906706948, 0.16670508710800241, 0.1665383820208944, 0.16637184363887353, 0.16620547179523465, 0.1660392663234394, 0.16587322705711596, 0.16570735383005886, 0.1655416464762288, 0.16537610482975257, 0.16521072872492282, 0.1650455179961979, 0.1648804724782017, 0.1647155920057235, 0.16455087641371777, 0.16438632553730406, 0.16422193921176675, 0.164057717272555, 0.16389365955528246, 0.1637297658957272, 0.16356603612983145, 0.16340247009370162, 0.16323906762360793, 0.16307582855598432, 0.16291275272742833, 0.1627498399747009, 0.16258709013472622, 0.1624245030445915, 0.1622620785415469, 0.16209981646300534, 0.16193771664654233, 0.16177577892989578, 0.16161400315096588, 0.16145238914781493, 0.16129093675866712, 0.16112964582190845, 0.16096851617608654, 0.16080754765991045, 0.16064674011225055, 0.1604860933721383, 0.16032560727876616, 0.1601652816714874, 0.1600051163898159, 0.1598451112734261, 0.15968526616215267, 0.15952558089599053, 0.15936605531509454, 0.15920668925977943, 0.15904748257051965, 0.15888843508794914, 0.15872954665286118, 0.15857081710620832, 0.1584122462891021, 0.158253834042813, 0.1580955802087702, 0.15793748462856144, 0.15777954714393289, 0.15762176759678895, 0.15746414582919216, 0.15730668168336295, 0.15714937500167958, 0.1569922256266779, 0.1568352334010512, 0.15667839816765017, 0.1565217197694825, 0.15636519804971302, 0.15620883285166332, 0.15605262401881165, 0.15589657139479285, 0.15574067482339807, 0.15558493414857466, 0.15542934921442608, 0.15527391986521166, 0.15511864594534644, 0.1549635272994011, 0.1548085637721017, 0.1546537552083296, 0.1544991014531213, 0.15434460235166816, 0.1541902577493165, 0.15403606749156717, 0.1538820314240756, 0.15372814939265153, 0.15357442124325887, 0.15342084682201562, 0.1532674259751936, 0.15311415854921842, 0.1529610443906692, 0.15280808334627854, 0.15265527526293227, 0.15250261998766934, 0.15235011736768167, 0.15219776725031398, 0.15204556948306366, 0.1518935239135806, 0.151741630389667, 0.15158988875927734, 0.15143829887051807, 0.15128686057164756, 0.15113557371107592, 0.15098443813736484, 0.1508334536992275, 0.15068262024552825, 0.15053193762528272, 0.15038140568765743, 0.15023102428196977, 0.1500807932576878, 0.14993071246443013, 0.14978078175196569, 0.14963100097021373, 0.14948136996924352, 0.14933188859927427, 0.14918255671067499, 0.1490333741539643, 0.14888434077981036, 0.14873545643903055, 0.1485867209825915, 0.14843813426160893, 0.14828969612734733, 0.14814140643121998, 0.14799326502478877, 0.14784527175976397, 0.1476974264880042, 0.1475497290615162, 0.14740217933245467, 0.1472547771531222, 0.14710752237596908, 0.14696041485359312, 0.14681345443873953, 0.1466666409843008, 0.14651997434331648, 0.14637345436897317, 0.1462270809146042, 0.1460808538336896, 0.1459347729798559, 0.14578883820687605, 0.14564304936866918, 0.1454974063193005, 0.1453519089129812, 0.1452065570040682, 0.14506135044706414, 0.14491628909661708, 0.14477137280752045, 0.14462660143471293, 0.1444819748332782, 0.14433749285844494, 0.1441931553655865, 0.1440489622102209, 0.1439049132480107, 0.14376100833476269, 0.14361724732642792, 0.1434736300791015, 0.1433301564490224, 0.14318682629257337, 0.1430436394662808, 0.14290059582681452, 0.14275769523098772, 0.14261493753575674, 0.14247232259822099, 0.14232985027562275, 0.14218752042534713, 0.14204533290492177, 0.14190328757201684, 0.14176138428444482, 0.14161962290016036, 0.1414780032772602, 0.14133652527398294, 0.14119518874870896, 0.14105399355996023, 0.14091293956640027, 0.14077202662683388, 0.14063125460020706, 0.14049062334560686, 0.14035013272226124, 0.14020978258953898, 0.14006957280694943, 0.13992950323414247, 0.13978957373090833, 0.13964978415717744, 0.13951013437302026, 0.13937062423864724, 0.13923125361440858, 0.13909202236079418, 0.1389529303384334, 0.13881397740809495, 0.13867516343068687, 0.13853648826725617, 0.13839795177898892, 0.13825955382720992, 0.1381212942733827, 0.13798317297910934, 0.13784518980613022, 0.13770734461632408, 0.13756963727170776, 0.13743206763443605, 0.1372946355668016, 0.1371573409312348, 0.13702018359030357, 0.13688316340671328, 0.13674628024330657, 0.13660953396306327, 0.13647292442910022, 0.13633645150467114, 0.13620011505316645, 0.1360639149381133, 0.13592785102317517, 0.135791923172152, 0.13565613124897985, 0.13552047511773088, 0.13538495464261316, 0.13524956968797056, 0.1351143201182826, 0.1349792057981643, 0.13484422659236614, 0.13470938236577376, 0.134574672983408, 0.13444009831042458, 0.13430565821211415, 0.13417135255390203, 0.13403718120134814, 0.1339031440201468, 0.13376924087612665, 0.13363547163525052, 0.13350183616361527, 0.13336833432745165, 0.1332349659931242, 0.13310173102713108, 0.13296862929610395, 0.13283566066680785, 0.13270282500614106, 0.13257012218113493, 0.1324375520589538, 0.13230511450689483, 0.13217280939238793, 0.13204063658299553, 0.13190859594641252, 0.1317766873504661, 0.13164491066311565, 0.13151326575245254, 0.1313817524867001, 0.1312503707342134, 0.13111912036347917, 0.1309880012431157, 0.13085701324187257, 0.1307261562286307, 0.13059543007240207, 0.13046483464232966, 0.13033436980768734, 0.13020403543787964, 0.13007383140244178, 0.12994375757103932, 0.1298138138134683, 0.12968399999965483, 0.12955431599965517, 0.12942476168365552, 0.12929533692197187, 0.1291660415850499, 0.12903687554346485, 0.12890783866792138, 0.12877893082925346, 0.12865015189842421, 0.1285215017465258, 0.12839298024477927, 0.1282645872645345, 0.12813632267726996, 0.12800818635459268, 0.1278801781682381, 0.12775229799006987, 0.12762454569207982, 0.12749692114638775, 0.12736942422524136, 0.1272420548010161, 0.12711481274621508, 0.12698769793346887, 0.1268607102355354, 0.12673384952529987, 0.12660711567577457, 0.1264805085600988, 0.1263540280515387, 0.12622767402348717, 0.1261014463494637, 0.1259753449031142, 0.1258493695582111, 0.1257235201886529, 0.12559779666846424, 0.12547219887179578, 0.12534672667292399, 0.12522137994625107, 0.12509615856630482, 0.12497106240773852, 0.12484609134533078, 0.12472124525398545, 0.12459652400873146, 0.12447192748472273, 0.124347455557238, 0.12422310810168076, 0.12409888499357907, 0.12397478610858549, 0.12385081132247691, 0.12372696051115444, 0.12360323355064327, 0.12347963031709264, 0.12335615068677555, 0.12323279453608878, 0.12310956174155269, 0.12298645217981113, 0.12286346572763132, 0.12274060226190368, 0.12261786165964178, 0.12249524379798214, 0.12237274855418416, 0.12225037580562997, 0.12212812542982435, 0.12200599730439453, 0.12188399130709013, 0.12176210731578303, 0.12164034520846725, 0.12151870486325879, 0.12139718615839554, 0.12127578897223715, 0.12115451318326491, 0.12103335867008165, 0.12091232531141156, 0.12079141298610015, 0.12067062157311405, 0.12054995095154093, 0.1204294010005894, 0.12030897159958881, 0.12018866262798922, 0.12006847396536123, 0.11994840549139586, 0.11982845708590446, 0.11970862862881856, 0.11958892000018975, 0.11946933108018956, 0.11934986174910937, 0.11923051188736027, 0.1191112813754729, 0.11899217009409743, 0.11887317792400333, 0.11875430474607933, 0.11863555044133325, 0.11851691489089192, 0.11839839797600102, 0.11827999957802501, 0.11816171957844698, 0.11804355785886854, 0.11792551430100967, 0.11780758878670866, 0.11768978119792195, 0.11757209141672403, 0.11745451932530732, 0.11733706480598201, 0.11721972774117602, 0.11710250801343484, 0.11698540550542141, 0.11686842009991599, 0.11675155167981607, 0.11663480012813626, 0.11651816532800813, 0.11640164716268012, 0.11628524551551743, 0.11616896027000191, 0.11605279130973191, 0.11593673851842218, 0.11582080177990375, 0.11570498097812384, 0.11558927599714572, 0.11547368672114858, 0.11535821303442743, 0.115242854821393, 0.1151276119665716, 0.11501248435460504, 0.11489747187025043, 0.11478257439838017, 0.11466779182398179, 0.11455312403215781, 0.11443857090812565, 0.11432413233721753, 0.1142098082048803, 0.11409559839667542, 0.11398150279827875, 0.11386752129548047, 0.11375365377418499, 0.11363990012041081, 0.1135262602202904, 0.11341273396007011, 0.11329932122611004, 0.11318602190488393, 0.11307283588297905, 0.11295976304709607, 0.11284680328404897, 0.11273395648076492, 0.11262122252428416, 0.11250860130175988, 0.11239609270045813, 0.11228369660775767, 0.1121714129111499, 0.11205924149823876, 0.11194718225674052, 0.11183523507448379, 0.11172339983940931, 0.1116116764395699, 0.11150006476313033, 0.1113885646983672, 0.11127717613366885, 0.11116589895753518, 0.11105473305857765, 0.11094367832551907, 0.11083273464719355, 0.11072190191254636, 0.1106111800106338, 0.11050056883062317, 0.11039006826179255, 0.11027967819353077, 0.11016939851533723, 0.1100592291168219, 0.10994916988770508, 0.10983922071781738, 0.10972938149709956, 0.10961965211560246, 0.10951003246348685, 0.10940052243102337, 0.10929112190859235, 0.10918183078668375, 0.10907264895589706, 0.10896357630694117, 0.10885461273063424, 0.1087457581179036, 0.10863701235978569, 0.1085283753474259, 0.10841984697207847, 0.1083114271251064, 0.10820311569798129, 0.1080949125822833, 0.10798681766970103, 0.10787883085203133, 0.1077709520211793, 0.10766318106915812, 0.10755551788808897, 0.10744796237020088, 0.10734051440783068, 0.10723317389342285, 0.10712594071952942, 0.1070188147788099, 0.10691179596403108, 0.10680488416806705, 0.10669807928389899, 0.10659138120461509, 0.10648478982341048, 0.10637830503358707, 0.10627192672855348, 0.10616565480182492, 0.1060594891470231, 0.10595342965787607, 0.1058474762282182, 0.10574162875198999, 0.105635887123238, 0.10553025123611476, 0.10542472098487864, 0.10531929626389376, 0.10521397696762987, 0.10510876299066224, 0.10500365422767158, 0.1048986505734439, 0.10479375192287045, 0.10468895817094757, 0.10458426921277662, 0.10447968494356384, 0.10437520525862028, 0.10427083005336166, 0.1041665592233083, 0.10406239266408499, 0.1039583302714209, 0.10385437194114948, 0.10375051756920833, 0.10364676705163912, 0.10354312028458748, 0.1034395771643029, 0.1033361375871386, 0.10323280144955145, 0.1031295686481019, 0.10302643907945379, 0.10292341264037433, 0.10282048922773396, 0.10271766873850623, 0.10261495106976772, 0.10251233611869795, 0.10240982378257925, 0.10230741395879667, 0.10220510654483787, 0.10210290143829304, 0.10200079853685474, 0.10189879773831789, 0.10179689894057957, 0.101695102041639, 0.10159340693959736, 0.10149181353265775, 0.1013903217191251, 0.10128893139740597, 0.10118764246600856, 0.10108645482354255, 0.100985368368719, 0.10088438300035028, 0.10078349861734993, 0.10068271511873259, 0.10058203240361385, 0.10048145037121024, 0.10038096892083903, 0.10028058795191819, 0.10018030736396627, 0.1000801270566023, 0.0999800469295457, 0.09988006688261615, 0.09978018681573353, 0.09968040662891779, 0.09958072622228888, 0.09948114549606658, 0.09938166435057051, 0.09928228268621994, 0.09918300040353373, 0.0990838174031302, 0.09898473358572707, 0.09888574885214134, 0.0987868631032892, 0.09868807624018591, 0.09858938816394573, 0.09849079877578179, 0.098392307977006, 0.098293915669029, 0.09819562175335997, 0.0980974261316066, 0.097999328705475, 0.09790132937676951, 0.09780342804739274, 0.09770562461934534, 0.097607918994726, 0.09751031107573127, 0.09741280076465554, 0.09731538796389089, 0.09721807257592699, 0.09712085450335106, 0.09702373364884771, 0.09692670991519886, 0.09682978320528367, 0.09673295342207838, 0.0966362204686563, 0.09653958424818765, 0.09644304466393946, 0.09634660161927552, 0.09625025501765624, 0.09615400476263859, 0.09605785075787596, 0.09596179290711808, 0.09586583111421096, 0.09576996528309675, 0.09567419531781365, 0.09557852112249585, 0.09548294260137336, 0.09538745965877198, 0.0952920721991132, 0.09519678012691409, 0.09510158334678717, 0.09500648176344038, 0.09491147528167694, 0.09481656380639526, 0.09472174724258886, 0.09462702549534627, 0.09453239846985093, 0.09443786607138108, 0.09434342820530969, 0.09424908477710438, 0.09415483569232727, 0.09406068085663494, 0.0939666201757783, 0.09387265355560252, 0.09377878090204692, 0.09368500212114488, 0.09359131711902373, 0.0934977258019047, 0.0934042280761028, 0.09331082384802669, 0.09321751302417866, 0.09312429551115448, 0.09303117121564332, 0.09293814004442767, 0.09284520190438325, 0.09275235670247886, 0.09265960434577639, 0.09256694474143061, 0.09247437779668918, 0.09238190341889249, 0.0922895215154736, 0.09219723199395811, 0.09210503476196416, 0.0920129297272022, 0.091920916797475, 0.09182899588067751, 0.09173716688479684, 0.09164542971791205, 0.09155378428819413, 0.09146223050390594, 0.09137076827340203, 0.09127939750512863, 0.0911881181076235, 0.09109692998951588, 0.09100583305952636, 0.09091482722646684, 0.09082391239924037, 0.09073308848684113, 0.09064235539835429, 0.09055171304295594, 0.09046116132991298, 0.09037070016858308, 0.0902803294684145, 0.09019004913894609, 0.09009985908980714, 0.09000975923071733, 0.0899197494714866, 0.08982982972201511, 0.0897399998922931, 0.0896502598924008, 0.0895606096325084, 0.08947104902287589, 0.08938157797385302, 0.08929219639587917, 0.08920290419948329, 0.0891137012952838, 0.08902458759398851, 0.08893556300639452, 0.08884662744338813, 0.08875778081594474, 0.08866902303512879, 0.08858035401209366, 0.08849177365808157, 0.08840328188442349, 0.08831487860253907, 0.08822656372393653, 0.08813833716021259, 0.08805019882305237, 0.08796214862422932, 0.08787418647560509, 0.08778631228912949, 0.08769852597684036, 0.08761082745086352, 0.08752321662341266, 0.08743569340678924, 0.08734825771338245, 0.08726090945566907, 0.0871736485462134, 0.08708647489766719, 0.08699938842276952, 0.08691238903434675, 0.08682547664531241, 0.0867386511686671, 0.08665191251749843, 0.08656526060498093, 0.08647869534437595, 0.08639221664903157, 0.08630582443238254, 0.08621951860795016, 0.08613329908934221, 0.08604716579025287, 0.08596111862446262, 0.08587515750583816, 0.08578928234833232, 0.08570349306598399, 0.085617789572918, 0.08553217178334509, 0.08544663961156174, 0.08536119297195018, 0.08527583177897823, 0.08519055594719925, 0.08510536539125205, 0.0850202600258608, 0.08493523976583493, 0.08485030452606909, 0.08476545422154302, 0.08468068876732147, 0.08459600807855415, 0.08451141207047559, 0.08442690065840512, 0.08434247375774671, 0.08425813128398897, 0.08417387315270498, 0.08408969927955227, 0.08400560958027273, 0.08392160397069245, 0.08383768236672176, 0.08375384468435504, 0.08367009083967068, 0.083586420748831, 0.08350283432808217, 0.08341933149375409, 0.08333591216226034, 0.08325257625009808, 0.08316932367384798, 0.08308615435017414, 0.08300306819582397, 0.08292006512762815, 0.08283714506250052, 0.08275430791743801, 0.08267155360952058, 0.08258888205591106, 0.08250629317385515, 0.08242378688068129, 0.0823413630938006, 0.0822590217307068, 0.0821767627089761, 0.08209458594626712, 0.08201249136032085, 0.08193047886896053, 0.08184854839009156, 0.08176669984170147, 0.08168493314185978, 0.08160324820871792, 0.0815216449605092, 0.0814401233155487, 0.08135868319223315, 0.08127732450904092, 0.08119604718453188, 0.08111485113734736, 0.08103373628621001, 0.0809527025499238, 0.08087174984737387, 0.0807908780975265, 0.08071008721942897, 0.08062937713220955, 0.08054874775507734, 0.08046819900732226, 0.08038773080831493, 0.08030734307750662, 0.0802270357344291, 0.08014680869869467, 0.08006666188999598, 0.07998659522810599, 0.07990660863287788, 0.079826702024245, 0.07974687532222074, 0.07966712844689852, 0.07958746131845162, 0.07950787385713318, 0.07942836598327604, 0.07934893761729277, 0.07926958867967547, 0.07919031909099579, 0.07911112877190479, 0.07903201764313289, 0.07895298562548976, 0.07887403263986427, 0.0787951586072244, 0.07871636344861717, 0.07863764708516856, 0.07855900943808339, 0.07848045042864531, 0.07840196997821666, 0.07832356800823845, 0.0782452444402302, 0.07816699919578997, 0.07808883219659418, 0.07801074336439759, 0.07793273262103319, 0.07785479988841215, 0.07777694508852374, 0.07769916814343522, 0.07762146897529179, 0.0775438475063165, 0.07746630365881019, 0.07738883735515138, 0.07731144851779623, 0.07723413706927842, 0.07715690293220914, 0.07707974602927693, 0.07700266628324766, 0.07692566361696442, 0.07684873795334746, 0.07677188921539412, 0.07669511732617872, 0.07661842220885254, 0.07654180378664369, 0.07646526198285704, 0.07638879672087417, 0.0763124079241533, 0.07623609551622915, 0.07615985942071292, 0.07608369956129221, 0.07600761586173092, 0.0759316082458692, 0.07585567663762333, 0.0757798209609857, 0.07570404114002471, 0.07562833709888468, 0.0755527087617858, 0.075477156053024, 0.07540167889697098, 0.07532627721807401, 0.07525095094085595, 0.07517569998991509, 0.07510052428992518, 0.07502542376563526, 0.07495039834186962, 0.07487544794352775, 0.07480057249558422, 0.07472577192308864, 0.07465104615116555, 0.07457639510501439, 0.07450181870990938, 0.07442731689119947, 0.07435288957430827, 0.07427853668473397, 0.07420425814804923, 0.07413005388990118, 0.07405592383601128, 0.07398186791217527, 0.0739078860442631, 0.07383397815821884, 0.07376014418006062, 0.07368638403588056, 0.07361269765184468, 0.07353908495419284, 0.07346554586923865, 0.07339208032336941, 0.07331868824304605, 0.073245369554803, 0.0731721241852482, 0.07309895206106296, 0.07302585310900189, 0.07295282725589289, 0.072879874428637, 0.07280699455420836, 0.07273418755965415, 0.0726614533720945, 0.0725887919187224, 0.07251620312680368, 0.07244368692367688, 0.0723712432367532, 0.07229887199351645, 0.07222657312152293, 0.07215434654840142, 0.07208219220185301, 0.07201011000965116, 0.0719380998996415, 0.07186616179974187, 0.07179429563794212, 0.07172250134230418, 0.07165077884096187, 0.07157912806212091, 0.07150754893405879, 0.07143604138512473, 0.0713646053437396, 0.07129324073839587, 0.07122194749765746, 0.0711507255501598, 0.07107957482460965, 0.07100849524978504, 0.07093748675453526, 0.07086654926778073, 0.07079568271851294, 0.07072488703579442, 0.07065416214875862, 0.07058350798660987, 0.07051292447862326, 0.07044241155414463, 0.07037196914259049, 0.0703015971734479, 0.07023129557627446, 0.07016106428069818, 0.07009090321641748, 0.07002081231320106, 0.06995079150088786, 0.06988084070938697, 0.06981095986867758, 0.0697411489088089, 0.06967140775990009, 0.06960173635214019, 0.06953213461578805, 0.06946260248117227, 0.0693931398786911, 0.0693237467388124, 0.0692544229920736, 0.06918516856908152, 0.06911598340051245, 0.06904686741711194, 0.06897782054969483, 0.06890884272914513, 0.06883993388641599, 0.06877109395252957, 0.06870232285857704, 0.06863362053571846, 0.06856498691518274, 0.06849642192826756, 0.06842792550633929, 0.06835949758083296, 0.06829113808325213, 0.06822284694516888, 0.0681546240982237, 0.06808646947412549, 0.06801838300465136, 0.06795036462164672, 0.06788241425702507, 0.06781453184276805, 0.06774671731092528, 0.06767897059361436, 0.06761129162302074, 0.06754368033139771, 0.06747613665106632, 0.06740866051441526, 0.06734125185390084, 0.06727391060204695, 0.0672066366914449, 0.06713943005475345, 0.0670722906246987, 0.06700521833407401, 0.06693821311573994, 0.0668712749026242, 0.06680440362772158, 0.06673759922409386, 0.06667086162486976, 0.06660419076324489, 0.06653758657248164, 0.06647104898590916, 0.06640457793692325, 0.06633817335898633, 0.06627183518562733, 0.06620556335044171, 0.06613935778709128, 0.06607321842930419, 0.06600714521087489, 0.06594113806566401, 0.06587519692759834, 0.06580932173067075, 0.06574351240894008, 0.06567776889653114, 0.06561209112763461, 0.06554647903650697, 0.06548093255747046, 0.065415451624913, 0.06535003617328808, 0.06528468613711479, 0.06521940145097767, 0.0651541820495267, 0.06508902786747717, 0.06502393883960969, 0.06495891490077008, 0.0648939559858693, 0.06482906202988344, 0.06476423296785355, 0.0646994687348857, 0.06463476926615082, 0.06457013449688467, 0.06450556436238779, 0.0644410587980254, 0.06437661773922738, 0.06431224112148816, 0.06424792888036666, 0.0641836809514863, 0.06411949727053481, 0.06405537777326428, 0.06399132239549102, 0.06392733107309553, 0.06386340374202244, 0.06379954033828042, 0.06373574079794214, 0.0636720050571442, 0.06360833305208705, 0.06354472471903495, 0.06348117999431592, 0.0634176988143216, 0.06335428111550728, 0.06329092683439178, 0.06322763590755738, 0.06316440827164982, 0.06310124386337818, 0.06303814261951479, 0.06297510447689528, 0.06291212937241838, 0.06284921724304597, 0.06278636802580292, 0.06272358165777712, 0.06266085807611935, 0.06259819721804323, 0.06253559902082519, 0.06247306342180436, 0.062410590358382555, 0.06234817976802417, 0.062285831588256145, 0.062223545756667886, 0.06216132221091122, 0.06209916088870031, 0.06203706172781161, 0.061975024666083796, 0.061913049641417715, 0.061851136591776296, 0.06178928545518452, 0.061727496169729335, 0.06166576867355961, 0.06160410290488605, 0.06154249880198116, 0.06148095630317918, 0.061419475346876, 0.06135805587152913, 0.0612966978156576, 0.061235401117841946, 0.061174165716724106, 0.061112991551007384, 0.061051878559456374, 0.06099082668089692, 0.060929835854216026, 0.06086890601836181, 0.06080803711234345, 0.060747229075231106, 0.060686481846155875, 0.06062579536430972, 0.06056516956894541, 0.06050460439937646, 0.060444099794977085, 0.06038365569518211, 0.060323272039486925, 0.060262948767447436, 0.06020268581867999, 0.06014248313286131, 0.06008234064972845, 0.06002225830907872, 0.05996223605076965, 0.059902273814718875, 0.05984237154090415, 0.05978252916936325, 0.059722746640193884, 0.05966302389355369, 0.05960336086966014, 0.05954375750879048, 0.059484213751281684, 0.059424729537530405, 0.059365304807992875, 0.059305939503184885, 0.0592466335636817, 0.05918738693011802, 0.059128199543187904, 0.05906907134364472, 0.05901000227230107, 0.05895099227002877, 0.05889204127775874, 0.05883314923648098, 0.0587743160872445, 0.05871554177115726, 0.0586568262293861, 0.058598169403156715, 0.05853957123375356, 0.058481031662519806, 0.05842255063085729, 0.05836412808022643, 0.058305763952146206, 0.05824745818819406, 0.058189210730005866, 0.05813102151927586, 0.05807289049775659, 0.05801481760725883, 0.05795680278965157, 0.057898845986861916, 0.05784094714087505, 0.057783106193734175, 0.05772532308754044, 0.057667597764452905, 0.05760993016668845, 0.057552320236521765, 0.057494767916285244, 0.05743727314836896, 0.05737983587522059, 0.05732245603934537, 0.057265133583306024, 0.05720786844972272, 0.057150660581272994, 0.05709350992069172, 0.05703641641077103, 0.05697937999436026, 0.056922400614365896, 0.05686547821375153, 0.05680861273553778, 0.056751804122802244, 0.05669505231867944, 0.05663835726636076, 0.0565817189090944, 0.05652513719018531, 0.056468612052995124, 0.05641214344094213, 0.05635573129750118, 0.05629937556620368, 0.056243076190637474, 0.05618683311444684, 0.056130646281332394, 0.05607451563505106, 0.05601844111941601, 0.05596242267829659, 0.055906460255618295, 0.055850553795362676, 0.055794703241567316, 0.05573890853832575, 0.05568316962978742, 0.05562748646015763, 0.05557185897369747, 0.05551628711472378, 0.05546077082760905, 0.05540531005678144, 0.05534990474672466, 0.055294554841977935, 0.05523926028713596, 0.05518402102684882, 0.055128837005821975, 0.055073708168816154, 0.05501863446064734, 0.05496361582618669, 0.0549086522103605, 0.05485374355815014, 0.05479888981459199, 0.054744090924777396, 0.05468934683385262, 0.05463465748701877, 0.05458002282953175, 0.05452544280670222, 0.05447091736389552, 0.054416446446531624, 0.05436203000008509, 0.054307667970085, 0.05425336030211492, 0.054199106941812805, 0.05414490783487099, 0.05409076292703612, 0.05403667216410909, 0.05398263549194498, 0.053928652856453034, 0.05387472420359658, 0.05382084947939299, 0.053767028629913595, 0.05371326160128368, 0.053659548339682395, 0.05360588879134271, 0.05355228290255137, 0.05349873061964881, 0.053445231889029166, 0.05339178665714014, 0.053338394870482995, 0.05328505647561251, 0.053231771419136896, 0.05317853964771776, 0.05312536110807004, 0.053072235746961974, 0.05301916351121501, 0.052966144347703796, 0.052913178203356094, 0.05286026502515274, 0.05280740476012759, 0.05275459735536746, 0.05270184275801209, 0.05264914091525408, 0.052596491774338824, 0.052543895282564486, 0.05249135138728192, 0.05243886003589464, 0.05238642117585875, 0.05233403475468289, 0.0522817007199282, 0.05222941901920827, 0.052177189600189064, 0.052125012410588874, 0.05207288739817829, 0.05202081451078011, 0.05196879369626933, 0.051916824902573065, 0.05186490807767049, 0.05181304316959282, 0.05176123012642323, 0.05170946889629681, 0.051657759427400515, 0.051606101667973116, 0.05155449556630514, 0.051502941070738835, 0.0514514381296681, 0.05139998669153843, 0.05134858670484689, 0.05129723811814205, 0.051245940880023905, 0.05119469493914388, 0.051143500244204734, 0.05109235674396053, 0.05104126438721657, 0.05099022312282935, 0.050939232899706526, 0.05088829366680682, 0.050837405373140014, 0.05078656796776687, 0.050735781399799104, 0.0506850456183993, 0.0506343605727809, 0.05058372621220812, 0.05053314248599591, 0.05048260934350992, 0.05043212673416641, 0.05038169460743224, 0.05033131291282481, 0.050280981599911984, 0.05023070061831207, 0.05018046991769376, 0.05013028944777607, 0.050080159158328294, 0.05003007899916997, 0.0499800489201708, 0.04993006887125063, 0.049880138802379376, 0.049830258663576994, 0.04978042840491342, 0.0497306479765085, 0.04968091732853199, 0.04963123641120346, 0.04958160517479226, 0.049532023569617466, 0.04948249154604785, 0.0494330090545018, 0.0493835760454473, 0.04933419246940185, 0.04928485827693245, 0.04923557341865552, 0.04918633784523686, 0.049137151507391626, 0.04908801435588423, 0.049038926341528344, 0.04898988741518682, 0.04894089752777163, 0.04889195663024386, 0.048843064673613615, 0.04879422160894, 0.048745427387331064, 0.048696681959943734, 0.04864798527798379, 0.04859933729270581, 0.048550737955413106, 0.04850218721745769, 0.04845368503024024, 0.04840523134521, 0.04835682611386479, 0.04830846928775093, 0.048260160818463176, 0.04821190065764471, 0.048163688756987066, 0.04811552506823008, 0.04806740954316185, 0.048019342133618685, 0.04797132279148507, 0.04792335146869359, 0.047875428117224894, 0.04782755268910767, 0.04777972513641856, 0.04773194541128214, 0.04768421346587086, 0.04763652925240499, 0.04758889272315259, 0.047541303830429434, 0.047493762526599, 0.0474462687640724, 0.04739882249530833, 0.047351423672813024, 0.04730407224914021, 0.04725676817689107, 0.047209511408714176, 0.04716230189730546, 0.04711513959540816, 0.047068024455812756, 0.047020956431356946, 0.046973935474925586, 0.04692696153945066, 0.04688003457791121, 0.046833154543333304, 0.04678632138878997, 0.04673953506740118, 0.046692795532333776, 0.04664610273680144, 0.04659945663406464, 0.04655285717743057, 0.04650630432025314, 0.04645979801593289, 0.04641333821791696, 0.04636692487969905, 0.04632055795481935, 0.04627423739686453, 0.046227963159467665, 0.0461817351963082, 0.046135553461111894, 0.04608941790765078, 0.04604332848974313, 0.045997285161253385, 0.04595128787609213, 0.045905336588216036, 0.04585943125162782, 0.045813571820376195, 0.04576775824855582, 0.045721990490307264, 0.04567626849981696, 0.045630592231317144, 0.045584961639085826, 0.04553937667744674, 0.045493837300769294, 0.04544834346346852, 0.04540289512000505, 0.04535749222488505, 0.045312134732660166, 0.045266822597927504, 0.045221555775329575, 0.04517633421955425, 0.04513115788533469, 0.04508602672744936, 0.04504094070072191, 0.04499589976002119, 0.04495090386026117, 0.04490595295640091, 0.04486104700344451, 0.04481618595644107, 0.044771369770484626, 0.04472659840071414, 0.04468187180231343, 0.04463718993051111, 0.044592552740580604, 0.044547960187840026, 0.04450341222765219, 0.04445890881542454, 0.044414449906609116, 0.044370035456702504, 0.0443256654212458, 0.04428133975582456, 0.04423705841606873, 0.044192821357652665, 0.04414862853629501, 0.04410447990775872, 0.04406037542785096, 0.04401631505242311, 0.043972298737370685, 0.043928326438633314, 0.04388439811219468, 0.043840513714082485, 0.043796673200368404, 0.043752876527168034, 0.04370912365064086, 0.04366541452699022, 0.043621749112463234, 0.043578127363350774, 0.04353454923598742, 0.043491014686751435, 0.04344752367206468, 0.04340407614839262, 0.04336067207224423, 0.04331731140017198, 0.04327399408877181, 0.04323072009468304, 0.043187489374588356, 0.043144301885213766, 0.04310115758332855, 0.04305805642574522, 0.043014998369319477, 0.04297198337095016, 0.04292901138757921, 0.042886082376191625, 0.04284319629381543, 0.042800353097521615, 0.042757552744424096, 0.04271479519167967, 0.04267208039648799, 0.0426294083160915, 0.04258677890777541, 0.04254419212886763, 0.042501647936738766, 0.04245914628880203, 0.042416687142513225, 0.04237427045537071, 0.04233189618491534, 0.04228956428873042, 0.042247274724441695, 0.042205027449717256, 0.042162822422267536, 0.04212065959984527, 0.04207853894024542, 0.042036460401305174, 0.04199442394090387, 0.041952429516962965, 0.041910477087446, 0.04186856661035856, 0.0418266980437482, 0.04178487134570445, 0.041743086474358745, 0.041701343387884386, 0.0416596420444965, 0.04161798240245201, 0.041576364420049555, 0.041534788055629504, 0.041493253267573874, 0.041451760014306296, 0.04141030825429199, 0.0413688979460377, 0.041327529048091664, 0.041286201519043574, 0.04124491531752453, 0.041203670402207, 0.04116246673180479, 0.04112130426507299, 0.04108018296080792, 0.041039102777847114, 0.040998063675069266, 0.04095706561139419, 0.0409161085457828, 0.040875192437237015, 0.04083431724479978, 0.04079348292755498, 0.04075268944462743, 0.0407119367551828, 0.040671224818427616, 0.04063055359360919, 0.04058992304001558, 0.04054933311697557, 0.040508783783858596, 0.04046827500007474, 0.040427806725074664, 0.04038737891834959, 0.04034699153943124, 0.04030664454789181, 0.04026633790334392, 0.04022607156544058, 0.04018584549387514, 0.040145659648381266, 0.04010551398873288, 0.04006540847474415, 0.040025343066269405, 0.039985317723203136, 0.039945332405479934, 0.03990538707307446, 0.03986548168600138, 0.03982561620431538, 0.03978579058811106, 0.03974600479752295, 0.03970625879272543, 0.039666552533932704, 0.03962688598139877, 0.03958725909541737, 0.03954767183632195, 0.039508124164485625, 0.03946861604032114, 0.03942914742428082, 0.039389718276856535, 0.03935032855857968, 0.0393109782300211, 0.039271667251791084, 0.039232395584539295, 0.03919316318895476, 0.0391539700257658, 0.039114816055740034, 0.0390757012396843, 0.039036625538444614, 0.03899758891290617, 0.038958591323993264, 0.03891963273266927, 0.0388807130999366, 0.03884183238683666, 0.03880299055444982, 0.03876418756389537, 0.038725423376331475, 0.038686697952955144, 0.03864801125500219, 0.03860936324374719, 0.03857075388050344, 0.03853218312662294, 0.03849365094349631, 0.03845515729255282, 0.038416702135260265, 0.038378285433125006, 0.03833990714769188, 0.03830156724054419, 0.03826326567330365, 0.03822500240763034, 0.03818677740522271, 0.03814859062781748, 0.03811044203718966, 0.03807233159515247, 0.038034259263557316, 0.03799622500429376, 0.03795822877928947, 0.03792027055051018, 0.03788235027995967, 0.03784446792967971, 0.03780662346175003, 0.03776881683828828, 0.03773104802145, 0.03769331697342855, 0.03765562365645512, 0.03761796803279866, 0.037580350064765865, 0.0375427697147011, 0.0375052269449864, 0.037467721718041413, 0.037430253996323375, 0.03739282374232705, 0.037355430918584724, 0.03731807548766614, 0.03728075741217848, 0.0372434766547663, 0.03720623317811154, 0.037169026944933424, 0.03713185791798849, 0.0370947260600705, 0.03705763133401043, 0.03702057370267642, 0.036983553128973744, 0.03694656957584477, 0.036909623006268925, 0.03687271338326266, 0.0368358406698794, 0.03679900482920952, 0.036762205824380306, 0.036725443618555925, 0.03668871817493737, 0.036652029456762436, 0.036615377427305675, 0.036578762049878366, 0.03654218328782849, 0.03650564110454066, 0.036469135463436116, 0.03643266632797268, 0.036396233661644704, 0.03635983742798306, 0.03632347759055508, 0.03628715411296452, 0.03625086695885156, 0.03621461609189271, 0.036178401475800814, 0.03614222307432501, 0.03610608085125069, 0.036069974770399436, 0.03603390479562904, 0.03599787089083341, 0.035961873019942574, 0.03592591114692263, 0.03588998523577571, 0.03585409525053993, 0.03581824115528939, 0.0357824229141341, 0.03574664049121997, 0.03571089385072875, 0.03567518295687802, 0.03563950777392114, 0.03560386826614722, 0.03556826439788107, 0.03553269613348319, 0.03549716343734971, 0.03546166627391236, 0.03542620460763845, 0.03539077840303081, 0.035355387624627775, 0.03532003223700315, 0.035284712204766144, 0.03524942749256138, 0.03521417806506882, 0.03517896388700375, 0.03514378492311675, 0.03510864113819363, 0.035073532497055436, 0.03503845896455838, 0.035003420505593824, 0.03496841708508823, 0.034933448668003145, 0.03489851521933514, 0.0348636167041158, 0.034828753087411686, 0.034793924334324274, 0.03475913040998995, 0.03472437127957996, 0.03468964690830038, 0.034654957261392075, 0.034620302304130685, 0.03458568200182655, 0.034551096319824726, 0.0345165452235049, 0.034482028678281394, 0.03444754664960311, 0.03441309910295351, 0.03437868600385056, 0.034344307317846705, 0.03430996301052886, 0.03427565304751833, 0.034241377394470814, 0.03420713601707634, 0.034172928881059265, 0.034138755952178204, 0.034104617196226025, 0.0340705125790298, 0.03403644206645077, 0.034002405624384315, 0.03396840321875993, 0.03393443481554117, 0.033900500380725625, 0.0338665998803449, 0.03383273328046455, 0.03379890054718409, 0.0337651016466369, 0.03373133654499027, 0.03369760520844528, 0.033663907603236835, 0.033630243695633597, 0.033596613451937964, 0.033563016838486025, 0.033529453821647535, 0.03349592436782589, 0.033462428443458064, 0.033428966015014605, 0.03339553704899959, 0.03336214151195059, 0.03332877937043864, 0.033295450591068206, 0.03326215514047714, 0.03322889298533666, 0.03319566409235133, 0.03316246842825898, 0.03312930595983072, 0.033096176653870886, 0.03306308047721702, 0.0330300173967398, 0.03299698737934306, 0.03296399039196372, 0.03293102640157175, 0.03289809537517018, 0.03286519727979501, 0.032832332082515216, 0.0327994997504327, 0.03276670025068226, 0.03273393355043158, 0.03270119961688115, 0.03266849841726427, 0.032635829918847004, 0.03260319408892816, 0.03257059089483923, 0.032538020303944384, 0.03250548228364044, 0.0324729768013568, 0.03244050382455545, 0.032408063320730894, 0.032375655257410166, 0.032343279602152754, 0.0323109363225506, 0.032278625386228055, 0.03224634676084183, 0.03221410041408099, 0.032181886313666905, 0.03214970442735324, 0.032117554722925885, 0.03208543716820296, 0.032053351731034754, 0.03202129837930372, 0.031989277080924416, 0.03195728780384349, 0.03192533051603965, 0.03189340518552361, 0.03186151178033809, 0.031829650268557746, 0.03179782061828919, 0.0317660227976709, 0.03173425677487323, 0.03170252251809836, 0.03167081999558026, 0.03163914917558468, 0.031607510026409096, 0.03157590251638269, 0.03154432661386631, 0.03151278228725244, 0.03148126950496519, 0.03144978823546022, 0.03141833844722476, 0.031386920108777534, 0.03135553318866876, 0.03132417765548009, 0.03129285347782461, 0.03126156062434678, 0.031230299063722437, 0.031199068764658715, 0.031167869695894055, 0.03113670182619816, 0.031105565124371962, 0.03107445955924759, 0.031043385099688344, 0.031012341714588654, 0.030981329372874067, 0.03095034804350119, 0.03091939769545769, 0.030888478297762232, 0.03085758981946447, 0.030826732229645007, 0.03079590549741536, 0.030765109591917944, 0.030734344482326027, 0.0307036101378437, 0.030672906527705858, 0.030642233621178152, 0.030611591387556973, 0.030580979796169416, 0.030550398816373246, 0.030519848417556873, 0.030489328569139315, 0.030458839240570176, 0.030428380401329606, 0.030397952020928275, 0.030367554068907347, 0.030337186514838438, 0.030306849328323598, 0.030276542478995274, 0.03024626593651628, 0.030216019670579762, 0.03018580365090918, 0.030155617847258273, 0.030125462229411013, 0.030095336767181603, 0.030065241430414422, 0.03003517618898401, 0.030005141012795025, 0.02997513587178223, 0.02994516073591045, 0.02991521557517454, 0.029885300359599364, 0.029855415059239766, 0.029825559644180526, 0.029795734084536347, 0.029765938350451812, 0.02973617241210136, 0.02970643623968926, 0.029676729803449573, 0.029647053073646124, 0.029617406020572477, 0.029587788614551903, 0.02955820082593735, 0.02952864262511141, 0.0294991139824863, 0.029469614868503816, 0.02944014525363531, 0.029410705108381677, 0.029381294403273295, 0.02935191310887002, 0.02932256119576115, 0.02929323863456539, 0.029263945395930822, 0.029234681450534893, 0.029205446769084358, 0.029176241322315274, 0.02914706508099296, 0.029117918015911966, 0.029088800097896054, 0.029059711297798156, 0.029030651586500356, 0.029001620934913857, 0.02897261931397894, 0.02894364669466496, 0.028914703047970294, 0.028885788344922322, 0.0288569025565774, 0.02882804565402082, 0.0287992176083668, 0.02877041839075843, 0.028741647972367675, 0.028712906324395306, 0.02868419341807091, 0.02865550922465284, 0.028626853715428186, 0.028598226861712758, 0.028569628634851046, 0.028541059006216195, 0.028512517947209978, 0.028484005429262767, 0.028455521423833504, 0.02842706590240967, 0.02839863883650726, 0.028370240197670753, 0.028341869957473082, 0.02831352808751561, 0.028285214559428094, 0.028256929344868665, 0.028228672415523796, 0.02820044374310827, 0.028172243299365164, 0.028144071056065798, 0.028115926985009733, 0.028087811058024725, 0.0280597232469667, 0.028031663523719733, 0.028003631860196013, 0.027975628228335818, 0.02794765260010748, 0.027919704947507375, 0.027891785242559867, 0.027863893457317306, 0.027836029563859988, 0.027808193534296127, 0.02778038534076183, 0.02775260495542107, 0.027724852350465647, 0.027697127498115183, 0.027669430370617067, 0.027641760940246448, 0.0276141191793062, 0.027586505060126894, 0.02755891855506677, 0.027531359636511703, 0.02750382827687519, 0.027476324448598315, 0.027448848124149716, 0.027421399276025566, 0.02739397787674954, 0.027366583898872792, 0.02733921731497392, 0.027311878097658948, 0.02728456621956129, 0.02725728165334173, 0.027230024371688387, 0.0272027943473167, 0.02717559155296938, 0.02714841596141641, 0.027121267545454995, 0.02709414627790954, 0.02706705213163163, 0.0270399850795]\n"
          ]
        },
        {
          "output_type": "display_data",
          "data": {
            "image/png": "[encoded data removed]",
            "text/plain": [
              "<Figure size 432x288 with 1 Axes>"
            ]
          },
          "metadata": {
            "needs_background": "light"
          }
        }
      ]
    },
    {
      "cell_type": "code",
      "metadata": {
        "id": "zg_efvyykjR9"
      },
      "source": [
        ""
      ],
      "execution_count": null,
      "outputs": []
    },
    {
      "cell_type": "code",
      "metadata": {
        "id": "OPxMG0B_ze9K"
      },
      "source": [
        ""
      ],
      "execution_count": null,
      "outputs": []
    },
    {
      "cell_type": "code",
      "metadata": {
        "id": "JzOXebYGxLUI"
      },
      "source": [
        ""
      ],
      "execution_count": null,
      "outputs": []
    },
    {
      "cell_type": "code",
      "metadata": {
        "id": "oV-DAa0bs7dU"
      },
      "source": [
        " "
      ],
      "execution_count": null,
      "outputs": []
    },
    {
      "cell_type": "code",
      "metadata": {
        "id": "sWOHM4J3pceX"
      },
      "source": [
        ""
      ],
      "execution_count": null,
      "outputs": []
    },
    {
      "cell_type": "code",
      "metadata": {
        "id": "8laqG4y1x4ch"
      },
      "source": [
        ""
      ],
      "execution_count": null,
      "outputs": []
    },
    {
      "cell_type": "code",
      "metadata": {
        "id": "tIBZkJzEVYVw"
      },
      "source": [
        ""
      ],
      "execution_count": null,
      "outputs": []
    },
    {
      "cell_type": "code",
      "metadata": {
        "id": "EbDsfl7QVoAv"
      },
      "source": [
        ""
      ],
      "execution_count": null,
      "outputs": []
    },
    {
      "cell_type": "code",
      "metadata": {
        "id": "Bn8RjFbFzBvi"
      },
      "source": [
        "\n"
      ],
      "execution_count": null,
      "outputs": []
    },
    {
      "cell_type": "code",
      "metadata": {
        "id": "IVJgKgrX0BiF"
      },
      "source": [
        ""
      ],
      "execution_count": null,
      "outputs": []
    }
  ]
}