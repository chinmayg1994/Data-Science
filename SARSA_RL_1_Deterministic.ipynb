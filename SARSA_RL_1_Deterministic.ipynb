{
  "nbformat": 4,
  "nbformat_minor": 0,
  "metadata": {
    "colab": {
      "name": "SARSA_RL_1/Deterministic.ipynb",
      "provenance": [],
      "collapsed_sections": []
    },
    "kernelspec": {
      "name": "python3",
      "display_name": "Python 3"
    },
    "language_info": {
      "name": "python"
    }
  },
  "cells": [
    {
      "cell_type": "code",
      "metadata": {
        "id": "MwJwyVLMFMUh",
        "colab": {
          "base_uri": "https://localhost:8080/"
        },
        "outputId": "10dcd645-ba6f-4f6b-9e2a-c75e46668d06"
      },
      "source": [
        "#Importing gym environment\n",
        "! pip install gym"
      ],
      "execution_count": 1,
      "outputs": [
        {
          "output_type": "stream",
          "name": "stdout",
          "text": [
            "Requirement already satisfied: gym in /usr/local/lib/python3.7/dist-packages (0.17.3)\n",
            "Requirement already satisfied: cloudpickle<1.7.0,>=1.2.0 in /usr/local/lib/python3.7/dist-packages (from gym) (1.3.0)\n",
            "Requirement already satisfied: scipy in /usr/local/lib/python3.7/dist-packages (from gym) (1.4.1)\n",
            "Requirement already satisfied: numpy>=1.10.4 in /usr/local/lib/python3.7/dist-packages (from gym) (1.19.5)\n",
            "Requirement already satisfied: pyglet<=1.5.0,>=1.4.0 in /usr/local/lib/python3.7/dist-packages (from gym) (1.5.0)\n",
            "Requirement already satisfied: future in /usr/local/lib/python3.7/dist-packages (from pyglet<=1.5.0,>=1.4.0->gym) (0.16.0)\n"
          ]
        }
      ]
    },
    {
      "cell_type": "code",
      "metadata": {
        "id": "wkMVZppfXbbY"
      },
      "source": [
        "#Importing all the required libraries\n",
        "import numpy as np\n",
        "import matplotlib.pyplot as plt\n",
        "import gym\n",
        "from gym import spaces\n",
        "import time"
      ],
      "execution_count": 2,
      "outputs": []
    },
    {
      "cell_type": "code",
      "metadata": {
        "colab": {
          "base_uri": "https://localhost:8080/",
          "height": 283
        },
        "id": "xcn6Dml_Xbuv",
        "outputId": "ea60e950-3e6a-43d7-c9a9-9e9718e7a630"
      },
      "source": [
        "#Defining a 10*10 grid along with start and terminal positions\n",
        "grid  =  np.zeros((6,6))\n",
        "start_pos = [0,0]\n",
        "terminal_pos = [5, 5]\n",
        "grid[tuple(start_pos)] = 2\n",
        "grid[tuple(terminal_pos)] = 4\n",
        "agent_pos = [0,0]\n",
        "plt.imshow(grid)\n",
        "\n",
        "\n"
      ],
      "execution_count": 3,
      "outputs": [
        {
          "output_type": "execute_result",
          "data": {
            "text/plain": [
              "<matplotlib.image.AxesImage at 0x7ff0f7a4f7d0>"
            ]
          },
          "metadata": {},
          "execution_count": 3
        },
        {
          "output_type": "display_data",
          "data": {
            "image/png": "[encoded data removed]",
            "text/plain": [
              "<Figure size 432x288 with 1 Axes>"
            ]
          },
          "metadata": {
            "needs_background": "light"
          }
        }
      ]
    },
    {
      "cell_type": "code",
      "metadata": {
        "id": "js1tVyXsY4to"
      },
      "source": [
        "class Gridworld (gym.Env):\n",
        "  def __init__(self):\n",
        "    self.action_space = spaces.Discrete(4)\n",
        "    self.observation_space = spaces.Discrete(36)\n",
        "    self.max_timesteps = 50\n",
        "    self.agent_pos = [0,0]\n",
        "    self.start_pos = [0,0]\n",
        "    self.terminal_pos = [5,5]\n",
        "    self.reward_pos_1 = [5,4]\n",
        "    self.reward_pos_2 = [3,3]\n",
        "    self.reward_pos_3 = [2,2]\n",
        "\n",
        "  def step(self, action):\n",
        "    self.reward = 0\n",
        "  #Defining all the possible actions\n",
        "    if action == 0:\n",
        "      self.agent_pos[0] += 1\n",
        "    if action == 1:\n",
        "      self.agent_pos[0] -= 1\n",
        "    if action == 2:\n",
        "      self.agent_pos[1] += 1\n",
        "    if action == 3:\n",
        "      self.agent_pos[1] -= 1\n",
        "    if action == 4:\n",
        "      self.agent_pos[1] += 1 \n",
        "      self.agent_pos[0] += 1\n",
        "    self.agent_pos = np.clip(self.agent_pos, 0, 5) \n",
        "    self.state = np.zeros((6,6))\n",
        "    #Defining the start and end positions for agent along with reward and penalty positions\n",
        "    #Assigning colors to agent position, terminal position, rewards and penalties\n",
        "    self.state[tuple(self.agent_pos)] = 1\n",
        "    self.state[tuple(self.terminal_pos)] = 0.5 \n",
        "    self.reward_pos_1 = [5,4]\n",
        "    self.reward_pos_2 = [3,3]\n",
        "    self.reward_pos_3 = [2,2]\n",
        "    self.state[5,4] = 0.3\n",
        "    self.state[3,3] = 0.8\n",
        "    self.state[2,2] = 0.4  \n",
        "    #Defining the reward values\n",
        "    if (self.agent_pos == [2,2]).all():\n",
        "      if self.timesteps < 25 :\n",
        "        self.reward = 25\n",
        "    if (self.agent_pos == [5,4]).all():\n",
        "      if self.timesteps < 20 :\n",
        "        self.reward = 15\n",
        "    if (self.agent_pos == [3,3]).all():\n",
        "      if self.timesteps < 20:\n",
        "        self.reward = 25\n",
        "    #Defining and assigning terminal state reward \n",
        "    if (self.agent_pos == self.terminal_pos).all():\n",
        "      if self.timesteps < 35 :\n",
        "        self.reward = 40\n",
        "    \n",
        "\n",
        "    return self.reward, self.agent_pos\n",
        "#Rendering environment\n",
        "  def render(self):\n",
        "    plt.imshow(self.state)\n",
        "#Defining reset fuunction \n",
        "  def reset(self):\n",
        "    self.timesteps = 0\n",
        "    self.agent_pos = [0, 0]\n",
        "    self.terminal_pos = [5,5]\n",
        "    self.reward_pos_1 = [5,4]\n",
        "    self.reward_pos_2 = [3,3]\n",
        "    self.reward_pos_3 = [2,2]\n",
        "    self.state = np.zeros((6,6))\n",
        "    self.state[tuple(self.agent_pos)] = 1\n",
        "    self.state[tuple(self.terminal_pos)] = 0.5\n",
        "    observation = self.state.flatten()\n",
        "    self.reward = 0\n",
        "    return observation\n",
        "\n"
      ],
      "execution_count": 9,
      "outputs": []
    },
    {
      "cell_type": "code",
      "metadata": {
        "id": "U-9HGYeaZON6",
        "colab": {
          "base_uri": "https://localhost:8080/"
        },
        "outputId": "4bd0e8cd-a949-449c-b892-eed0ba29337e"
      },
      "source": [
        "import random\n",
        "random.seed(10)\n",
        "env = Gridworld()\n",
        "obs = env.reset()\n",
        "#Generating random episodes for agent training\n",
        "def Episodes_Q():\n",
        "  env.reset()\n",
        "  episode = {}\n",
        "  episode[0] = [([0,0],0)]\n",
        "  start_pos = [0,0]\n",
        "  for i in range(1):   \n",
        "     x = (start_pos == env.terminal_pos)\n",
        "     while x == False :\n",
        "        action = np.random.randint(0,5)\n",
        "        reward,position = env.step(action)\n",
        "        position = np.clip(position, 0, 5)\n",
        "        episode[0].append((position,reward))\n",
        "        if (position == env.terminal_pos).all():\n",
        "          x = True\n",
        "          break\n",
        "  return episode\n",
        "#Possible states which can visited\n",
        "def Possible_Actions(current_s):\n",
        "    next_states = []\n",
        "    org_value = list(current_s)\n",
        "    org_value[0] += 1\n",
        "    org_value = np.clip(org_value, 0, 5) \n",
        "    next_states.append(list(org_value))\n",
        "    org_value = list(current_s)\n",
        "    org_value[0] -= 1\n",
        "    org_value = np.clip(org_value, 0, 5) \n",
        "    next_states.append(list(org_value))\n",
        "    org_value = list(current_s)\n",
        "    org_value[1] += 1\n",
        "    org_value = np.clip(org_value, 0, 5) \n",
        "    next_states.append(list(org_value))\n",
        "    org_value = list(current_s)\n",
        "    org_value[1] -= 1\n",
        "    org_value = np.clip(org_value, 0, 5) \n",
        "    next_states.append(list(org_value))\n",
        "    org_value = list(current_s)\n",
        "    org_value[0] += 1\n",
        "    org_value[1] += 1\n",
        "    org_value = np.clip(org_value, 0, 5) \n",
        "    next_states.append(list(org_value))\n",
        "    return next_states\n",
        "#Creating a q-table with 0 values as required\n",
        "def start_q_values():\n",
        "      final_q_table = {}\n",
        "      for i in range(6):\n",
        "          for j in range(6):\n",
        "              final_q_table[(i,j)] = np.zeros(5)\n",
        "      return final_q_table\n",
        "#created a fucntion to calculate q value \n",
        "def get_my_qvalue(q_table,given_state,r,e):\n",
        "    if r > e:\n",
        "        value = max(q_table.get(tuple(given_state[0])))\n",
        "    else:\n",
        "        rand_action = np.random.randint(0,5)\n",
        "        value = q_table.get(tuple(given_state[0]))[rand_action]\n",
        "    return value\n",
        "\n",
        "# Main function which calculates q-value and rewards \n",
        "def SARSA_learning():\n",
        "  q_store = start_q_values()\n",
        "  plot_reward = []\n",
        "  e = 0.6\n",
        "  e_graph = []\n",
        "  for i in range(1000):\n",
        "      for_graph = 0\n",
        "      episode = Episodes_Q()\n",
        "      e = e * 0.998\n",
        "      for i in range(len(episode[0])-1):\n",
        "\n",
        "            threshold = np.random.uniform(0,1)\n",
        "    \n",
        "            if  (list(episode[0][i][0]) != env.terminal_pos):\n",
        "                old_value_q = get_my_qvalue(q_store,episode[0][i],threshold,e)\n",
        "                action = q_store.get(tuple(episode[0][i][0])).tolist().index(old_value_q)\n",
        "            else:\n",
        "                old_value_q = 0\n",
        "                action = 0\n",
        "            threshold = np.random.uniform(0,1)\n",
        "            if (episode[0][i+1][0] != env.terminal_pos).all():\n",
        "                q_new = get_my_qvalue(q_store,episode[0][i+1],threshold,e)\n",
        "            else:\n",
        "                q_new = 0\n",
        "            latest_reward = episode[0][i+1][1]\n",
        "            for_graph += latest_reward\n",
        "            alpha = 0.15\n",
        "            gamma = 0.7\n",
        "            new_value_q = old_value_q + alpha*(latest_reward + gamma*(q_new) - old_value_q )\n",
        "            q_store[tuple(episode[0][i][0])][action] = new_value_q\n",
        "      plot_reward.append(for_graph)\n",
        "      e_graph.append(e) \n",
        "  return q_store,plot_reward, e_graph\n",
        "        \n",
        "finaltable, sarsa_reward, decay = SARSA_learning()\n",
        "optimal = finaltable.values()\n",
        "#Getting max values and getting optimal policy\n",
        "def get_max():\n",
        "   action = []\n",
        "   state = []\n",
        "   for item in finaltable.items():\n",
        "       action.append(tuple(item[1]).index(max(tuple(item[1]))))\n",
        "   return action\n",
        "\n",
        "optimal_action = get_max()\n",
        "print(optimal_action)\n",
        "\n"
      ],
      "execution_count": 22,
      "outputs": [
        {
          "output_type": "stream",
          "name": "stdout",
          "text": [
            "[3, 4, 2, 0, 2, 2, 1, 2, 0, 0, 2, 2, 3, 3, 0, 4, 2, 3, 3, 0, 0, 3, 1, 0, 2, 4, 1, 4, 2, 0, 0, 0, 4, 1, 4, 0]\n"
          ]
        }
      ]
    },
    {
      "cell_type": "code",
      "metadata": {
        "id": "gwJ6SseqAVaa",
        "colab": {
          "base_uri": "https://localhost:8080/",
          "height": 304
        },
        "outputId": "106c9002-f894-4a63-9550-fbf993abba13"
      },
      "source": [
        "#rendering environment and showing how agent performs with optimal policy\n",
        "env = Gridworld()\n",
        "obs = env.reset()\n",
        "cumulative_reward = 0\n",
        "from google.colab import widgets\n",
        "output_grid = widgets.Grid(1,1)\n",
        "#Running the code for maximum time-steps\n",
        "for i in range(len(optimal_action)):\n",
        "  action = optimal_action[i]\n",
        "  grid = np.zeros((6,6))\n",
        "  reward,position  = env.step(action)\n",
        "  cumulative_reward += reward\n",
        "  env.timesteps += 1\n",
        "  with output_grid.output_to(0,0):\n",
        "    output_grid.clear_cell()\n",
        "    env.render()\n",
        "  time.sleep(0.5)\n",
        "  if (position == terminal_pos).all():\n",
        "    break \n",
        "print(env.timesteps)\n",
        "print(cumulative_reward)"
      ],
      "execution_count": 23,
      "outputs": [
        {
          "output_type": "display_data",
          "data": {
            "text/html": [
              "<style>\n",
              "       table#id12, #id12 > tbody > tr > th, #id12 > tbody > tr > td {\n",
              "         border: 1px solid lightgray;\n",
              "         border-collapse:collapse;\n",
              "         \n",
              "        }</style>"
            ],
            "text/plain": [
              "<IPython.core.display.HTML object>"
            ]
          },
          "metadata": {}
        },
        {
          "output_type": "display_data",
          "data": {
            "text/html": [
              "<table id=id12><tr><td id=id12-0-0></td></tr></table>"
            ],
            "text/plain": [
              "<IPython.core.display.HTML object>"
            ]
          },
          "metadata": {}
        },
        {
          "output_type": "display_data",
          "data": {
            "application/javascript": [
              "window[\"730f46d8-24b0-11ec-a1fd-0242ac1c0002\"] = google.colab.output.getActiveOutputArea();\n",
              "//# sourceURL=js_15cecaf627"
            ],
            "text/plain": [
              "<IPython.core.display.Javascript object>"
            ]
          },
          "metadata": {}
        },
        {
          "output_type": "display_data",
          "data": {
            "application/javascript": [
              "window[\"730fb8d4-24b0-11ec-a1fd-0242ac1c0002\"] = document.querySelector(\"#id12-0-0\");\n",
              "//# sourceURL=js_6b36877dd0"
            ],
            "text/plain": [
              "<IPython.core.display.Javascript object>"
            ]
          },
          "metadata": {}
        },
        {
          "output_type": "display_data",
          "data": {
            "application/javascript": [
              "window[\"73101694-24b0-11ec-a1fd-0242ac1c0002\"] = google.colab.output.setActiveOutputArea(window[\"730fb8d4-24b0-11ec-a1fd-0242ac1c0002\"]);\n",
              "//# sourceURL=js_a03ab83b3b"
            ],
            "text/plain": [
              "<IPython.core.display.Javascript object>"
            ]
          },
          "metadata": {}
        },
        {
          "output_type": "display_data",
          "data": {
            "application/javascript": [
              "window[\"7326943c-24b0-11ec-a1fd-0242ac1c0002\"] = google.colab.output.setActiveOutputArea(window[\"730f46d8-24b0-11ec-a1fd-0242ac1c0002\"]);\n",
              "//# sourceURL=js_10a33b4f76"
            ],
            "text/plain": [
              "<IPython.core.display.Javascript object>"
            ]
          },
          "metadata": {}
        },
        {
          "output_type": "display_data",
          "data": {
            "application/javascript": [
              "window[\"737716aa-24b0-11ec-a1fd-0242ac1c0002\"] = google.colab.output.getActiveOutputArea();\n",
              "//# sourceURL=js_858653a80b"
            ],
            "text/plain": [
              "<IPython.core.display.Javascript object>"
            ]
          },
          "metadata": {}
        },
        {
          "output_type": "display_data",
          "data": {
            "application/javascript": [
              "window[\"7377c4e2-24b0-11ec-a1fd-0242ac1c0002\"] = document.querySelector(\"#id12-0-0\");\n",
              "//# sourceURL=js_ae5821d67f"
            ],
            "text/plain": [
              "<IPython.core.display.Javascript object>"
            ]
          },
          "metadata": {}
        },
        {
          "output_type": "display_data",
          "data": {
            "application/javascript": [
              "window[\"73786802-24b0-11ec-a1fd-0242ac1c0002\"] = google.colab.output.setActiveOutputArea(window[\"7377c4e2-24b0-11ec-a1fd-0242ac1c0002\"]);\n",
              "//# sourceURL=js_326dee7efd"
            ],
            "text/plain": [
              "<IPython.core.display.Javascript object>"
            ]
          },
          "metadata": {}
        },
        {
          "output_type": "display_data",
          "data": {
            "application/javascript": [
              "window[\"738f0da0-24b0-11ec-a1fd-0242ac1c0002\"] = google.colab.output.setActiveOutputArea(window[\"737716aa-24b0-11ec-a1fd-0242ac1c0002\"]);\n",
              "//# sourceURL=js_69b5a06e8a"
            ],
            "text/plain": [
              "<IPython.core.display.Javascript object>"
            ]
          },
          "metadata": {}
        },
        {
          "output_type": "display_data",
          "data": {
            "application/javascript": [
              "window[\"73dd7e18-24b0-11ec-a1fd-0242ac1c0002\"] = google.colab.output.getActiveOutputArea();\n",
              "//# sourceURL=js_587b78506a"
            ],
            "text/plain": [
              "<IPython.core.display.Javascript object>"
            ]
          },
          "metadata": {}
        },
        {
          "output_type": "display_data",
          "data": {
            "application/javascript": [
              "window[\"73de299e-24b0-11ec-a1fd-0242ac1c0002\"] = document.querySelector(\"#id12-0-0\");\n",
              "//# sourceURL=js_05b159d6c6"
            ],
            "text/plain": [
              "<IPython.core.display.Javascript object>"
            ]
          },
          "metadata": {}
        },
        {
          "output_type": "display_data",
          "data": {
            "application/javascript": [
              "window[\"73dea2b6-24b0-11ec-a1fd-0242ac1c0002\"] = google.colab.output.setActiveOutputArea(window[\"73de299e-24b0-11ec-a1fd-0242ac1c0002\"]);\n",
              "//# sourceURL=js_b77d5f7e6e"
            ],
            "text/plain": [
              "<IPython.core.display.Javascript object>"
            ]
          },
          "metadata": {}
        },
        {
          "output_type": "display_data",
          "data": {
            "application/javascript": [
              "window[\"73f8432e-24b0-11ec-a1fd-0242ac1c0002\"] = google.colab.output.setActiveOutputArea(window[\"73dd7e18-24b0-11ec-a1fd-0242ac1c0002\"]);\n",
              "//# sourceURL=js_7fbe723e4e"
            ],
            "text/plain": [
              "<IPython.core.display.Javascript object>"
            ]
          },
          "metadata": {}
        },
        {
          "output_type": "display_data",
          "data": {
            "application/javascript": [
              "window[\"7446d804-24b0-11ec-a1fd-0242ac1c0002\"] = google.colab.output.getActiveOutputArea();\n",
              "//# sourceURL=js_a5b623ac25"
            ],
            "text/plain": [
              "<IPython.core.display.Javascript object>"
            ]
          },
          "metadata": {}
        },
        {
          "output_type": "display_data",
          "data": {
            "application/javascript": [
              "window[\"744759a0-24b0-11ec-a1fd-0242ac1c0002\"] = document.querySelector(\"#id12-0-0\");\n",
              "//# sourceURL=js_8a607898bb"
            ],
            "text/plain": [
              "<IPython.core.display.Javascript object>"
            ]
          },
          "metadata": {}
        },
        {
          "output_type": "display_data",
          "data": {
            "application/javascript": [
              "window[\"7447bf58-24b0-11ec-a1fd-0242ac1c0002\"] = google.colab.output.setActiveOutputArea(window[\"744759a0-24b0-11ec-a1fd-0242ac1c0002\"]);\n",
              "//# sourceURL=js_a57c64a35e"
            ],
            "text/plain": [
              "<IPython.core.display.Javascript object>"
            ]
          },
          "metadata": {}
        },
        {
          "output_type": "display_data",
          "data": {
            "application/javascript": [
              "window[\"745dda2c-24b0-11ec-a1fd-0242ac1c0002\"] = google.colab.output.setActiveOutputArea(window[\"7446d804-24b0-11ec-a1fd-0242ac1c0002\"]);\n",
              "//# sourceURL=js_f19438a555"
            ],
            "text/plain": [
              "<IPython.core.display.Javascript object>"
            ]
          },
          "metadata": {}
        },
        {
          "output_type": "display_data",
          "data": {
            "application/javascript": [
              "window[\"74ac5b34-24b0-11ec-a1fd-0242ac1c0002\"] = google.colab.output.getActiveOutputArea();\n",
              "//# sourceURL=js_231e5baed1"
            ],
            "text/plain": [
              "<IPython.core.display.Javascript object>"
            ]
          },
          "metadata": {}
        },
        {
          "output_type": "display_data",
          "data": {
            "application/javascript": [
              "window[\"74acd47e-24b0-11ec-a1fd-0242ac1c0002\"] = document.querySelector(\"#id12-0-0\");\n",
              "//# sourceURL=js_71e132754e"
            ],
            "text/plain": [
              "<IPython.core.display.Javascript object>"
            ]
          },
          "metadata": {}
        },
        {
          "output_type": "display_data",
          "data": {
            "application/javascript": [
              "window[\"74ad4170-24b0-11ec-a1fd-0242ac1c0002\"] = google.colab.output.setActiveOutputArea(window[\"74acd47e-24b0-11ec-a1fd-0242ac1c0002\"]);\n",
              "//# sourceURL=js_154c8c83cd"
            ],
            "text/plain": [
              "<IPython.core.display.Javascript object>"
            ]
          },
          "metadata": {}
        },
        {
          "output_type": "display_data",
          "data": {
            "application/javascript": [
              "window[\"74ce3b0a-24b0-11ec-a1fd-0242ac1c0002\"] = google.colab.output.setActiveOutputArea(window[\"74ac5b34-24b0-11ec-a1fd-0242ac1c0002\"]);\n",
              "//# sourceURL=js_45d6991d25"
            ],
            "text/plain": [
              "<IPython.core.display.Javascript object>"
            ]
          },
          "metadata": {}
        },
        {
          "output_type": "display_data",
          "data": {
            "application/javascript": [
              "window[\"751c81a2-24b0-11ec-a1fd-0242ac1c0002\"] = google.colab.output.getActiveOutputArea();\n",
              "//# sourceURL=js_fb7b90bcdd"
            ],
            "text/plain": [
              "<IPython.core.display.Javascript object>"
            ]
          },
          "metadata": {}
        },
        {
          "output_type": "display_data",
          "data": {
            "application/javascript": [
              "window[\"751cebec-24b0-11ec-a1fd-0242ac1c0002\"] = document.querySelector(\"#id12-0-0\");\n",
              "//# sourceURL=js_e6b4d42653"
            ],
            "text/plain": [
              "<IPython.core.display.Javascript object>"
            ]
          },
          "metadata": {}
        },
        {
          "output_type": "display_data",
          "data": {
            "application/javascript": [
              "window[\"751d76d4-24b0-11ec-a1fd-0242ac1c0002\"] = google.colab.output.setActiveOutputArea(window[\"751cebec-24b0-11ec-a1fd-0242ac1c0002\"]);\n",
              "//# sourceURL=js_ce0b463f4a"
            ],
            "text/plain": [
              "<IPython.core.display.Javascript object>"
            ]
          },
          "metadata": {}
        },
        {
          "output_type": "display_data",
          "data": {
            "application/javascript": [
              "window[\"75348856-24b0-11ec-a1fd-0242ac1c0002\"] = google.colab.output.setActiveOutputArea(window[\"751c81a2-24b0-11ec-a1fd-0242ac1c0002\"]);\n",
              "//# sourceURL=js_7cbd11321f"
            ],
            "text/plain": [
              "<IPython.core.display.Javascript object>"
            ]
          },
          "metadata": {}
        },
        {
          "output_type": "display_data",
          "data": {
            "application/javascript": [
              "window[\"7584357c-24b0-11ec-a1fd-0242ac1c0002\"] = google.colab.output.getActiveOutputArea();\n",
              "//# sourceURL=js_883bf38aae"
            ],
            "text/plain": [
              "<IPython.core.display.Javascript object>"
            ]
          },
          "metadata": {}
        },
        {
          "output_type": "display_data",
          "data": {
            "application/javascript": [
              "window[\"7584f764-24b0-11ec-a1fd-0242ac1c0002\"] = document.querySelector(\"#id12-0-0\");\n",
              "//# sourceURL=js_31cfd2cb94"
            ],
            "text/plain": [
              "<IPython.core.display.Javascript object>"
            ]
          },
          "metadata": {}
        },
        {
          "output_type": "display_data",
          "data": {
            "application/javascript": [
              "window[\"7585b190-24b0-11ec-a1fd-0242ac1c0002\"] = google.colab.output.setActiveOutputArea(window[\"7584f764-24b0-11ec-a1fd-0242ac1c0002\"]);\n",
              "//# sourceURL=js_d8e11985db"
            ],
            "text/plain": [
              "<IPython.core.display.Javascript object>"
            ]
          },
          "metadata": {}
        },
        {
          "output_type": "display_data",
          "data": {
            "application/javascript": [
              "window[\"759be136-24b0-11ec-a1fd-0242ac1c0002\"] = google.colab.output.setActiveOutputArea(window[\"7584357c-24b0-11ec-a1fd-0242ac1c0002\"]);\n",
              "//# sourceURL=js_026fb6d074"
            ],
            "text/plain": [
              "<IPython.core.display.Javascript object>"
            ]
          },
          "metadata": {}
        },
        {
          "output_type": "display_data",
          "data": {
            "application/javascript": [
              "window[\"75ea300c-24b0-11ec-a1fd-0242ac1c0002\"] = google.colab.output.getActiveOutputArea();\n",
              "//# sourceURL=js_d1adfd5141"
            ],
            "text/plain": [
              "<IPython.core.display.Javascript object>"
            ]
          },
          "metadata": {}
        },
        {
          "output_type": "display_data",
          "data": {
            "application/javascript": [
              "window[\"75ea8a34-24b0-11ec-a1fd-0242ac1c0002\"] = document.querySelector(\"#id12-0-0\");\n",
              "//# sourceURL=js_487f3c471e"
            ],
            "text/plain": [
              "<IPython.core.display.Javascript object>"
            ]
          },
          "metadata": {}
        },
        {
          "output_type": "display_data",
          "data": {
            "application/javascript": [
              "window[\"75eadc1e-24b0-11ec-a1fd-0242ac1c0002\"] = google.colab.output.setActiveOutputArea(window[\"75ea8a34-24b0-11ec-a1fd-0242ac1c0002\"]);\n",
              "//# sourceURL=js_0a3f06d1f8"
            ],
            "text/plain": [
              "<IPython.core.display.Javascript object>"
            ]
          },
          "metadata": {}
        },
        {
          "output_type": "display_data",
          "data": {
            "application/javascript": [
              "window[\"7601606a-24b0-11ec-a1fd-0242ac1c0002\"] = google.colab.output.setActiveOutputArea(window[\"75ea300c-24b0-11ec-a1fd-0242ac1c0002\"]);\n",
              "//# sourceURL=js_60c768c909"
            ],
            "text/plain": [
              "<IPython.core.display.Javascript object>"
            ]
          },
          "metadata": {}
        },
        {
          "output_type": "display_data",
          "data": {
            "application/javascript": [
              "window[\"76500c74-24b0-11ec-a1fd-0242ac1c0002\"] = google.colab.output.getActiveOutputArea();\n",
              "//# sourceURL=js_1af21351b2"
            ],
            "text/plain": [
              "<IPython.core.display.Javascript object>"
            ]
          },
          "metadata": {}
        },
        {
          "output_type": "display_data",
          "data": {
            "application/javascript": [
              "window[\"7650c146-24b0-11ec-a1fd-0242ac1c0002\"] = document.querySelector(\"#id12-0-0\");\n",
              "//# sourceURL=js_b82ae5995e"
            ],
            "text/plain": [
              "<IPython.core.display.Javascript object>"
            ]
          },
          "metadata": {}
        },
        {
          "output_type": "display_data",
          "data": {
            "application/javascript": [
              "window[\"76516e5c-24b0-11ec-a1fd-0242ac1c0002\"] = google.colab.output.setActiveOutputArea(window[\"7650c146-24b0-11ec-a1fd-0242ac1c0002\"]);\n",
              "//# sourceURL=js_99b613c7a0"
            ],
            "text/plain": [
              "<IPython.core.display.Javascript object>"
            ]
          },
          "metadata": {}
        },
        {
          "output_type": "display_data",
          "data": {
            "application/javascript": [
              "window[\"766a41a2-24b0-11ec-a1fd-0242ac1c0002\"] = google.colab.output.setActiveOutputArea(window[\"76500c74-24b0-11ec-a1fd-0242ac1c0002\"]);\n",
              "//# sourceURL=js_0283adaf4e"
            ],
            "text/plain": [
              "<IPython.core.display.Javascript object>"
            ]
          },
          "metadata": {}
        },
        {
          "output_type": "display_data",
          "data": {
            "application/javascript": [
              "window[\"76ba07a0-24b0-11ec-a1fd-0242ac1c0002\"] = google.colab.output.getActiveOutputArea();\n",
              "//# sourceURL=js_43812965ed"
            ],
            "text/plain": [
              "<IPython.core.display.Javascript object>"
            ]
          },
          "metadata": {}
        },
        {
          "output_type": "display_data",
          "data": {
            "application/javascript": [
              "window[\"76bac992-24b0-11ec-a1fd-0242ac1c0002\"] = document.querySelector(\"#id12-0-0\");\n",
              "//# sourceURL=js_ab2570e7d4"
            ],
            "text/plain": [
              "<IPython.core.display.Javascript object>"
            ]
          },
          "metadata": {}
        },
        {
          "output_type": "display_data",
          "data": {
            "application/javascript": [
              "window[\"76bb9192-24b0-11ec-a1fd-0242ac1c0002\"] = google.colab.output.setActiveOutputArea(window[\"76bac992-24b0-11ec-a1fd-0242ac1c0002\"]);\n",
              "//# sourceURL=js_48f8f05591"
            ],
            "text/plain": [
              "<IPython.core.display.Javascript object>"
            ]
          },
          "metadata": {}
        },
        {
          "output_type": "display_data",
          "data": {
            "application/javascript": [
              "window[\"76d2ee1e-24b0-11ec-a1fd-0242ac1c0002\"] = google.colab.output.setActiveOutputArea(window[\"76ba07a0-24b0-11ec-a1fd-0242ac1c0002\"]);\n",
              "//# sourceURL=js_fb75db395e"
            ],
            "text/plain": [
              "<IPython.core.display.Javascript object>"
            ]
          },
          "metadata": {}
        },
        {
          "output_type": "display_data",
          "data": {
            "application/javascript": [
              "window[\"77217c64-24b0-11ec-a1fd-0242ac1c0002\"] = google.colab.output.getActiveOutputArea();\n",
              "//# sourceURL=js_fb98735f0b"
            ],
            "text/plain": [
              "<IPython.core.display.Javascript object>"
            ]
          },
          "metadata": {}
        },
        {
          "output_type": "display_data",
          "data": {
            "application/javascript": [
              "window[\"7721dcea-24b0-11ec-a1fd-0242ac1c0002\"] = document.querySelector(\"#id12-0-0\");\n",
              "//# sourceURL=js_68d8724287"
            ],
            "text/plain": [
              "<IPython.core.display.Javascript object>"
            ]
          },
          "metadata": {}
        },
        {
          "output_type": "display_data",
          "data": {
            "application/javascript": [
              "window[\"772242c0-24b0-11ec-a1fd-0242ac1c0002\"] = google.colab.output.setActiveOutputArea(window[\"7721dcea-24b0-11ec-a1fd-0242ac1c0002\"]);\n",
              "//# sourceURL=js_50abed7fcd"
            ],
            "text/plain": [
              "<IPython.core.display.Javascript object>"
            ]
          },
          "metadata": {}
        },
        {
          "output_type": "display_data",
          "data": {
            "application/javascript": [
              "window[\"77384214-24b0-11ec-a1fd-0242ac1c0002\"] = google.colab.output.setActiveOutputArea(window[\"77217c64-24b0-11ec-a1fd-0242ac1c0002\"]);\n",
              "//# sourceURL=js_775c5115ec"
            ],
            "text/plain": [
              "<IPython.core.display.Javascript object>"
            ]
          },
          "metadata": {}
        },
        {
          "output_type": "display_data",
          "data": {
            "application/javascript": [
              "window[\"77868e06-24b0-11ec-a1fd-0242ac1c0002\"] = google.colab.output.getActiveOutputArea();\n",
              "//# sourceURL=js_e71b9ad1db"
            ],
            "text/plain": [
              "<IPython.core.display.Javascript object>"
            ]
          },
          "metadata": {}
        },
        {
          "output_type": "display_data",
          "data": {
            "application/javascript": [
              "window[\"7786e914-24b0-11ec-a1fd-0242ac1c0002\"] = document.querySelector(\"#id12-0-0\");\n",
              "//# sourceURL=js_e6ea2ad63f"
            ],
            "text/plain": [
              "<IPython.core.display.Javascript object>"
            ]
          },
          "metadata": {}
        },
        {
          "output_type": "display_data",
          "data": {
            "application/javascript": [
              "window[\"778740a8-24b0-11ec-a1fd-0242ac1c0002\"] = google.colab.output.setActiveOutputArea(window[\"7786e914-24b0-11ec-a1fd-0242ac1c0002\"]);\n",
              "//# sourceURL=js_7847d52ad9"
            ],
            "text/plain": [
              "<IPython.core.display.Javascript object>"
            ]
          },
          "metadata": {}
        },
        {
          "output_type": "display_data",
          "data": {
            "application/javascript": [
              "window[\"779e796c-24b0-11ec-a1fd-0242ac1c0002\"] = google.colab.output.setActiveOutputArea(window[\"77868e06-24b0-11ec-a1fd-0242ac1c0002\"]);\n",
              "//# sourceURL=js_9808fafc71"
            ],
            "text/plain": [
              "<IPython.core.display.Javascript object>"
            ]
          },
          "metadata": {}
        },
        {
          "output_type": "display_data",
          "data": {
            "application/javascript": [
              "window[\"77ec9f0c-24b0-11ec-a1fd-0242ac1c0002\"] = google.colab.output.getActiveOutputArea();\n",
              "//# sourceURL=js_453749e8aa"
            ],
            "text/plain": [
              "<IPython.core.display.Javascript object>"
            ]
          },
          "metadata": {}
        },
        {
          "output_type": "display_data",
          "data": {
            "application/javascript": [
              "window[\"77ecea70-24b0-11ec-a1fd-0242ac1c0002\"] = document.querySelector(\"#id12-0-0\");\n",
              "//# sourceURL=js_dabeea4729"
            ],
            "text/plain": [
              "<IPython.core.display.Javascript object>"
            ]
          },
          "metadata": {}
        },
        {
          "output_type": "display_data",
          "data": {
            "application/javascript": [
              "window[\"77ed438a-24b0-11ec-a1fd-0242ac1c0002\"] = google.colab.output.setActiveOutputArea(window[\"77ecea70-24b0-11ec-a1fd-0242ac1c0002\"]);\n",
              "//# sourceURL=js_e80d2b613b"
            ],
            "text/plain": [
              "<IPython.core.display.Javascript object>"
            ]
          },
          "metadata": {}
        },
        {
          "output_type": "display_data",
          "data": {
            "application/javascript": [
              "window[\"780386b8-24b0-11ec-a1fd-0242ac1c0002\"] = google.colab.output.setActiveOutputArea(window[\"77ec9f0c-24b0-11ec-a1fd-0242ac1c0002\"]);\n",
              "//# sourceURL=js_809a63aaf0"
            ],
            "text/plain": [
              "<IPython.core.display.Javascript object>"
            ]
          },
          "metadata": {}
        },
        {
          "output_type": "display_data",
          "data": {
            "application/javascript": [
              "window[\"7852221e-24b0-11ec-a1fd-0242ac1c0002\"] = google.colab.output.getActiveOutputArea();\n",
              "//# sourceURL=js_59125ee49d"
            ],
            "text/plain": [
              "<IPython.core.display.Javascript object>"
            ]
          },
          "metadata": {}
        },
        {
          "output_type": "display_data",
          "data": {
            "application/javascript": [
              "window[\"7852ae0a-24b0-11ec-a1fd-0242ac1c0002\"] = document.querySelector(\"#id12-0-0\");\n",
              "//# sourceURL=js_70a83394e4"
            ],
            "text/plain": [
              "<IPython.core.display.Javascript object>"
            ]
          },
          "metadata": {}
        },
        {
          "output_type": "display_data",
          "data": {
            "application/javascript": [
              "window[\"78540480-24b0-11ec-a1fd-0242ac1c0002\"] = google.colab.output.setActiveOutputArea(window[\"7852ae0a-24b0-11ec-a1fd-0242ac1c0002\"]);\n",
              "//# sourceURL=js_3965ff2fe7"
            ],
            "text/plain": [
              "<IPython.core.display.Javascript object>"
            ]
          },
          "metadata": {}
        },
        {
          "output_type": "display_data",
          "data": {
            "application/javascript": [
              "window[\"786ce45a-24b0-11ec-a1fd-0242ac1c0002\"] = google.colab.output.setActiveOutputArea(window[\"7852221e-24b0-11ec-a1fd-0242ac1c0002\"]);\n",
              "//# sourceURL=js_83ec7381ee"
            ],
            "text/plain": [
              "<IPython.core.display.Javascript object>"
            ]
          },
          "metadata": {}
        },
        {
          "output_type": "display_data",
          "data": {
            "application/javascript": [
              "window[\"78bb7dd6-24b0-11ec-a1fd-0242ac1c0002\"] = google.colab.output.getActiveOutputArea();\n",
              "//# sourceURL=js_d5781b73e5"
            ],
            "text/plain": [
              "<IPython.core.display.Javascript object>"
            ]
          },
          "metadata": {}
        },
        {
          "output_type": "display_data",
          "data": {
            "application/javascript": [
              "window[\"78bbef00-24b0-11ec-a1fd-0242ac1c0002\"] = document.querySelector(\"#id12-0-0\");\n",
              "//# sourceURL=js_85b3a78187"
            ],
            "text/plain": [
              "<IPython.core.display.Javascript object>"
            ]
          },
          "metadata": {}
        },
        {
          "output_type": "display_data",
          "data": {
            "application/javascript": [
              "window[\"78bc4982-24b0-11ec-a1fd-0242ac1c0002\"] = google.colab.output.setActiveOutputArea(window[\"78bbef00-24b0-11ec-a1fd-0242ac1c0002\"]);\n",
              "//# sourceURL=js_02ee35f6f3"
            ],
            "text/plain": [
              "<IPython.core.display.Javascript object>"
            ]
          },
          "metadata": {}
        },
        {
          "output_type": "display_data",
          "data": {
            "application/javascript": [
              "window[\"78d3f4b0-24b0-11ec-a1fd-0242ac1c0002\"] = google.colab.output.setActiveOutputArea(window[\"78bb7dd6-24b0-11ec-a1fd-0242ac1c0002\"]);\n",
              "//# sourceURL=js_124ab74a24"
            ],
            "text/plain": [
              "<IPython.core.display.Javascript object>"
            ]
          },
          "metadata": {}
        },
        {
          "output_type": "display_data",
          "data": {
            "application/javascript": [
              "window[\"7923364c-24b0-11ec-a1fd-0242ac1c0002\"] = google.colab.output.getActiveOutputArea();\n",
              "//# sourceURL=js_ec055813a5"
            ],
            "text/plain": [
              "<IPython.core.display.Javascript object>"
            ]
          },
          "metadata": {}
        },
        {
          "output_type": "display_data",
          "data": {
            "application/javascript": [
              "window[\"7923c27e-24b0-11ec-a1fd-0242ac1c0002\"] = document.querySelector(\"#id12-0-0\");\n",
              "//# sourceURL=js_a9978128ad"
            ],
            "text/plain": [
              "<IPython.core.display.Javascript object>"
            ]
          },
          "metadata": {}
        },
        {
          "output_type": "display_data",
          "data": {
            "application/javascript": [
              "window[\"79244500-24b0-11ec-a1fd-0242ac1c0002\"] = google.colab.output.setActiveOutputArea(window[\"7923c27e-24b0-11ec-a1fd-0242ac1c0002\"]);\n",
              "//# sourceURL=js_9f46d606cd"
            ],
            "text/plain": [
              "<IPython.core.display.Javascript object>"
            ]
          },
          "metadata": {}
        },
        {
          "output_type": "display_data",
          "data": {
            "application/javascript": [
              "window[\"793dc638-24b0-11ec-a1fd-0242ac1c0002\"] = google.colab.output.setActiveOutputArea(window[\"7923364c-24b0-11ec-a1fd-0242ac1c0002\"]);\n",
              "//# sourceURL=js_082c2598bb"
            ],
            "text/plain": [
              "<IPython.core.display.Javascript object>"
            ]
          },
          "metadata": {}
        },
        {
          "output_type": "display_data",
          "data": {
            "application/javascript": [
              "window[\"798e473e-24b0-11ec-a1fd-0242ac1c0002\"] = google.colab.output.getActiveOutputArea();\n",
              "//# sourceURL=js_d5dc595603"
            ],
            "text/plain": [
              "<IPython.core.display.Javascript object>"
            ]
          },
          "metadata": {}
        },
        {
          "output_type": "display_data",
          "data": {
            "application/javascript": [
              "window[\"798f168c-24b0-11ec-a1fd-0242ac1c0002\"] = document.querySelector(\"#id12-0-0\");\n",
              "//# sourceURL=js_3b188169ec"
            ],
            "text/plain": [
              "<IPython.core.display.Javascript object>"
            ]
          },
          "metadata": {}
        },
        {
          "output_type": "display_data",
          "data": {
            "application/javascript": [
              "window[\"798fd946-24b0-11ec-a1fd-0242ac1c0002\"] = google.colab.output.setActiveOutputArea(window[\"798f168c-24b0-11ec-a1fd-0242ac1c0002\"]);\n",
              "//# sourceURL=js_07993311b7"
            ],
            "text/plain": [
              "<IPython.core.display.Javascript object>"
            ]
          },
          "metadata": {}
        },
        {
          "output_type": "display_data",
          "data": {
            "image/png": "[encoded data removed]",
            "text/plain": [
              "<Figure size 432x288 with 1 Axes>"
            ]
          },
          "metadata": {
            "needs_background": "light"
          }
        },
        {
          "output_type": "display_data",
          "data": {
            "application/javascript": [
              "window[\"79a79ebe-24b0-11ec-a1fd-0242ac1c0002\"] = google.colab.output.setActiveOutputArea(window[\"798e473e-24b0-11ec-a1fd-0242ac1c0002\"]);\n",
              "//# sourceURL=js_06599f7b97"
            ],
            "text/plain": [
              "<IPython.core.display.Javascript object>"
            ]
          },
          "metadata": {}
        },
        {
          "output_type": "stream",
          "name": "stdout",
          "text": [
            "17\n",
            "105\n"
          ]
        }
      ]
    },
    {
      "cell_type": "code",
      "metadata": {
        "colab": {
          "base_uri": "https://localhost:8080/",
          "height": 283
        },
        "id": "M_ws8XNW7Tt0",
        "outputId": "455775d3-5803-458c-f06b-5de88e7536b9"
      },
      "source": [
        "plt.plot(range(1000), decay)"
      ],
      "execution_count": 24,
      "outputs": [
        {
          "output_type": "execute_result",
          "data": {
            "text/plain": [
              "[<matplotlib.lines.Line2D at 0x7ff0f6993a10>]"
            ]
          },
          "metadata": {},
          "execution_count": 24
        },
        {
          "output_type": "display_data",
          "data": {
            "image/png": "[encoded data removed]",
            "text/plain": [
              "<Figure size 432x288 with 1 Axes>"
            ]
          },
          "metadata": {
            "needs_background": "light"
          }
        }
      ]
    },
    {
      "cell_type": "code",
      "metadata": {
        "id": "fo2gY7PhrDzP",
        "colab": {
          "base_uri": "https://localhost:8080/",
          "height": 265
        },
        "outputId": "8faaf7e2-dd1b-4ef1-ec8f-69ef8b530cb1"
      },
      "source": [
        "import numpy as np\n",
        "import matplotlib.pyplot as plt\n",
        "plt.plot(range(1000), sarsa_reward)"
      ],
      "execution_count": 27,
      "outputs": [
        {
          "output_type": "display_data",
          "data": {
            "image/png": "[encoded data removed]",
            "text/plain": [
              "<Figure size 432x288 with 1 Axes>"
            ]
          },
          "metadata": {
            "needs_background": "light"
          }
        }
      ]
    },
    {
      "cell_type": "code",
      "metadata": {
        "id": "3FVVkYeaFbrO"
      },
      "source": [
        ""
      ],
      "execution_count": null,
      "outputs": []
    }
  ]
}