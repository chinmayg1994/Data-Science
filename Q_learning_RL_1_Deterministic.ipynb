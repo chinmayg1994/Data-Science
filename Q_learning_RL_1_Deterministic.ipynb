{
  "nbformat": 4,
  "nbformat_minor": 0,
  "metadata": {
    "colab": {
      "name": "Q-learning_RL_1/Deterministic.ipynb",
      "provenance": [],
      "collapsed_sections": []
    },
    "kernelspec": {
      "name": "python3",
      "display_name": "Python 3"
    },
    "language_info": {
      "name": "python"
    }
  },
  "cells": [
    {
      "cell_type": "code",
      "metadata": {
        "id": "MwJwyVLMFMUh",
        "colab": {
          "base_uri": "https://localhost:8080/"
        },
        "outputId": "c22e5bc7-7f77-4374-e2b6-2bb84a49587d"
      },
      "source": [
        "#Importing gym environment\n",
        "! pip install gym"
      ],
      "execution_count": 6,
      "outputs": [
        {
          "output_type": "stream",
          "name": "stdout",
          "text": [
            "Requirement already satisfied: gym in /usr/local/lib/python3.7/dist-packages (0.17.3)\n",
            "Requirement already satisfied: scipy in /usr/local/lib/python3.7/dist-packages (from gym) (1.4.1)\n",
            "Requirement already satisfied: cloudpickle<1.7.0,>=1.2.0 in /usr/local/lib/python3.7/dist-packages (from gym) (1.3.0)\n",
            "Requirement already satisfied: numpy>=1.10.4 in /usr/local/lib/python3.7/dist-packages (from gym) (1.19.5)\n",
            "Requirement already satisfied: pyglet<=1.5.0,>=1.4.0 in /usr/local/lib/python3.7/dist-packages (from gym) (1.5.0)\n",
            "Requirement already satisfied: future in /usr/local/lib/python3.7/dist-packages (from pyglet<=1.5.0,>=1.4.0->gym) (0.16.0)\n"
          ]
        }
      ]
    },
    {
      "cell_type": "code",
      "metadata": {
        "id": "wkMVZppfXbbY"
      },
      "source": [
        "#Importing all the required libraries\n",
        "import numpy as np\n",
        "import matplotlib.pyplot as plt\n",
        "import gym\n",
        "from gym import spaces\n",
        "import time"
      ],
      "execution_count": 17,
      "outputs": []
    },
    {
      "cell_type": "code",
      "metadata": {
        "colab": {
          "base_uri": "https://localhost:8080/",
          "height": 283
        },
        "id": "xcn6Dml_Xbuv",
        "outputId": "d3271e54-2c11-48fa-9686-1e693b3a38d5"
      },
      "source": [
        "#Defining a 10*10 grid along with start and terminal positions\n",
        "grid  =  np.zeros((6,6))\n",
        "start_pos = [0,0]\n",
        "terminal_pos = [5, 5]\n",
        "grid[tuple(start_pos)] = 2\n",
        "grid[tuple(terminal_pos)] = 4\n",
        "agent_pos = [0,0]\n",
        "reward_pos_1 = [5,4]\n",
        "reward_pos_2 = [3,3]\n",
        "reward_pos_3 = [2,2]\n",
        "grid[tuple(reward_pos_1)] = 5\n",
        "grid[tuple(reward_pos_2)] = 6\n",
        "grid[tuple(reward_pos_3)] = 7\n",
        "\n",
        "plt.imshow(grid)\n",
        "\n",
        "\n"
      ],
      "execution_count": 156,
      "outputs": [
        {
          "output_type": "execute_result",
          "data": {
            "text/plain": [
              "<matplotlib.image.AxesImage at 0x7fa036739bd0>"
            ]
          },
          "metadata": {},
          "execution_count": 156
        },
        {
          "output_type": "display_data",
          "data": {
            "image/png": "[encoded data removed]",
            "text/plain": [
              "<Figure size 432x288 with 1 Axes>"
            ]
          },
          "metadata": {
            "needs_background": "light"
          }
        }
      ]
    },
    {
      "cell_type": "code",
      "metadata": {
        "id": "js1tVyXsY4to"
      },
      "source": [
        "class Gridworld (gym.Env):\n",
        "  def __init__(self):\n",
        "    self.action_space = spaces.Discrete(4)\n",
        "    self.observation_space = spaces.Discrete(36)\n",
        "    self.max_timesteps = 50\n",
        "    #self.q_value = np.zeros((36,5))\n",
        "    self.agent_pos = [0,0]\n",
        "    self.start_pos = [0,0]\n",
        "    self.terminal_pos = [5, 5]\n",
        "    self.reward_pos_1 = [5,4]\n",
        "    self.reward_pos_2 = [3,3]\n",
        "    self.reward_pos_3 = [2,2]\n",
        "\n",
        "  def step(self, action):\n",
        "    self.reward = 0\n",
        "  #Defining all the possible actions\n",
        "    if action == 0:\n",
        "      self.agent_pos[0] += 1\n",
        "    if action == 1:\n",
        "      self.agent_pos[0] -= 1\n",
        "    if action == 2:\n",
        "      self.agent_pos[1] += 1\n",
        "    if action == 3:\n",
        "      self.agent_pos[1] -= 1\n",
        "    if action == 4:\n",
        "      self.agent_pos[1] += 1 \n",
        "      self.agent_pos[0] += 1\n",
        "    self.agent_pos = np.clip(self.agent_pos, 0, 5) \n",
        "    self.state = np.zeros((6,6))\n",
        "    #Defining the start and end positions for agent along with reward and penalty positions\n",
        "    #Assigning colors to agent position, terminal position, rewards and penalties\n",
        "    self.state[tuple(self.agent_pos)] = 1\n",
        "    self.state[tuple(self.terminal_pos)] = 0.5 \n",
        "    self.reward_pos_1 = [5,4]\n",
        "    self.reward_pos_2 = [3,3]\n",
        "    self.reward_pos_3 = [2,2]\n",
        "    self.state[5,4] = 0.3\n",
        "    self.state[3,3] = 0.8\n",
        "    self.state[2,2] = 0.4  \n",
        "    #Defining the reward values\n",
        "    if (self.agent_pos == [2,2]).all():\n",
        "      if self.timesteps < 15 :\n",
        "        self.reward = 25\n",
        "    if (self.agent_pos == [5,4]).all():\n",
        "      if self.timesteps < 17 :\n",
        "        self.reward = 15\n",
        "    if (self.agent_pos == [3,3]).all():\n",
        "      if self.timesteps < 10 :\n",
        "        self.reward = 25\n",
        "    #Defining and assigning terminal state reward \n",
        "    if (self.agent_pos == self.terminal_pos).all():\n",
        "      if self.timesteps < 20 :\n",
        "        self.reward = 40\n",
        "    \n",
        "\n",
        "    return self.reward, self.agent_pos\n",
        "\n",
        "  def render(self):\n",
        "    plt.imshow(self.state)\n",
        "  def reset(self):\n",
        "    self.timesteps = 0\n",
        "    self.agent_pos = [0, 0]\n",
        "    self.terminal_pos = [5,5]\n",
        "    self.reward_pos_3 = [2,2]\n",
        "    self.reward_pos_1 = [5,4]\n",
        "    self.reward_pos_2 = [3,3]\n",
        "    self.state = np.zeros((6,6))\n",
        "    self.state[tuple(self.agent_pos)] = 1\n",
        "    self.state[tuple(self.terminal_pos)] = 0.5\n",
        "    observation = self.state.flatten()\n",
        "    self.reward = 0\n",
        "    return observation\n",
        "\n"
      ],
      "execution_count": 134,
      "outputs": []
    },
    {
      "cell_type": "code",
      "metadata": {
        "id": "U-9HGYeaZON6"
      },
      "source": [
        "import random\n",
        "random.seed(100)\n",
        "env = Gridworld()\n",
        "obs = env.reset()\n",
        "def Episodes_Q():\n",
        "  env.reset()\n",
        "  episode = {}\n",
        "  episode[0] = [([0,0],0)]\n",
        "  start_pos = [0,0]\n",
        "  for i in range(1):   \n",
        "     x = (start_pos == env.terminal_pos)\n",
        "     while x == False :\n",
        "        env.reward = 0\n",
        "        action = np.random.randint(0,5)\n",
        "        reward,position = env.step(action)\n",
        "        position = np.clip(position, 0, 5)\n",
        "        episode[0].append((position,reward))\n",
        "        if (position == env.terminal_pos).all():\n",
        "          x = True\n",
        "          break\n",
        "  return episode\n",
        "def Possible_Actions(current_s):\n",
        "    next_states = []\n",
        "    org_value = list(current_s)\n",
        "    org_value[0] += 1\n",
        "    org_value = np.clip(org_value, 0, 5) \n",
        "    next_states.append(list(org_value))\n",
        "    org_value = list(current_s)\n",
        "    org_value[0] -= 1\n",
        "    org_value = np.clip(org_value, 0, 5) \n",
        "    next_states.append(list(org_value))\n",
        "    org_value = list(current_s)\n",
        "    org_value[1] += 1\n",
        "    org_value = np.clip(org_value, 0, 5) \n",
        "    next_states.append(list(org_value))\n",
        "    org_value = list(current_s)\n",
        "    org_value[1] -= 1\n",
        "    org_value = np.clip(org_value, 0, 5) \n",
        "    next_states.append(list(org_value))\n",
        "    org_value = list(current_s)\n",
        "    org_value[0] += 1\n",
        "    org_value[1] += 1\n",
        "    org_value = np.clip(org_value, 0, 5) \n",
        "    next_states.append(list(org_value))\n",
        "    return next_states\n",
        "def start_q_values():\n",
        "      final_q_table = {}\n",
        "      for i in range(6):\n",
        "          for j in range(6):\n",
        "              final_q_table[(i,j)] = np.zeros(5)\n",
        "      return final_q_table\n",
        "\n",
        "\n",
        "def Q_learning(iteration,e,decay_factor,alpha,gamma):\n",
        "  q_store = start_q_values()\n",
        "  plot_reward = []\n",
        "  e_graph = []\n",
        "  for i in range(iteration):\n",
        "      for_graph = 0\n",
        "      e = e * decay_factor\n",
        "      episode = Episodes_Q()\n",
        "      for i in range(len(episode[0])-1):\n",
        "            threshold = np.random.uniform(0,1)\n",
        "            expected_transitions = Possible_Actions(list(episode[0][i][0]))\n",
        "            action = expected_transitions.index(list(episode[0][i+1][0]))\n",
        "            old_value_q = q_store.get((tuple(episode[0][i][0])))[action]\n",
        "            if threshold > e:\n",
        "                maximum_of_q_new = max(q_store.get(tuple(episode[0][i+1][0])))\n",
        "            else:\n",
        "                maximum_of_q_new = np.random.choice(q_store.get(tuple(episode[0][i+1][0])))\n",
        "            latest_reward = episode[0][i+1][1]\n",
        "            for_graph += latest_reward\n",
        "            new_value_q = old_value_q + alpha*(latest_reward + gamma*(maximum_of_q_new) - old_value_q )\n",
        "            q_store[tuple(episode[0][i][0])][action] = new_value_q\n",
        "      plot_reward.append(for_graph)\n",
        "      e_graph.append(e)     \n",
        "  return q_store, plot_reward, e_graph\n",
        "        \n",
        "\n",
        "def get_max():\n",
        "   action = []\n",
        "   state = []\n",
        "   for item in finaltable.items():\n",
        "       action.append(tuple(item[1]).index(max(tuple(item[1]))))\n",
        "   return action\n",
        "\n"
      ],
      "execution_count": 135,
      "outputs": []
    },
    {
      "cell_type": "code",
      "metadata": {
        "colab": {
          "base_uri": "https://localhost:8080/"
        },
        "id": "VpUlsa0mZCfW",
        "outputId": "e713ad44-d340-432d-c88d-45090da87984"
      },
      "source": [
        "np.random.seed(200)\n",
        "finaltable, reward_graph, graph_e = Q_learning(1000,0.3,0.999,0.4,0.9)   \n",
        "optimal = finaltable.values()\n",
        "optimal_action = get_max()\n",
        "print(optimal_action)\n"
      ],
      "execution_count": 157,
      "outputs": [
        {
          "output_type": "stream",
          "name": "stdout",
          "text": [
            "[4, 4, 0, 0, 0, 0, 4, 4, 0, 0, 3, 0, 2, 2, 4, 3, 3, 3, 1, 2, 1, 1, 3, 3, 1, 1, 1, 1, 1, 3, 1, 1, 1, 1, 0, 0]\n"
          ]
        }
      ]
    },
    {
      "cell_type": "code",
      "metadata": {
        "id": "gwJ6SseqAVaa",
        "colab": {
          "base_uri": "https://localhost:8080/",
          "height": 304
        },
        "outputId": "f9541f9d-4318-4385-d01c-87e420dae252"
      },
      "source": [
        "env = Gridworld()\n",
        "obs = env.reset()\n",
        "cumulative_reward = 0\n",
        "from google.colab import widgets\n",
        "output_grid = widgets.Grid(1,1)\n",
        "for i in range(len(optimal_action)):\n",
        "  action = optimal_action[i]\n",
        "  grid = np.zeros((6,6))\n",
        "  reward,position  = env.step(action)\n",
        "  cumulative_reward += reward\n",
        "  env.timesteps += 1\n",
        "  with output_grid.output_to(0,0):\n",
        "    output_grid.clear_cell()\n",
        "    env.render()\n",
        "  time.sleep(0.5)\n",
        "  if (position == terminal_pos).all():\n",
        "    break \n",
        "print(env.timesteps)\n",
        "print(cumulative_reward)"
      ],
      "execution_count": 162,
      "outputs": [
        {
          "output_type": "display_data",
          "data": {
            "text/html": [
              "<style>\n",
              "       table#id74, #id74 > tbody > tr > th, #id74 > tbody > tr > td {\n",
              "         border: 1px solid lightgray;\n",
              "         border-collapse:collapse;\n",
              "         \n",
              "        }</style>"
            ],
            "text/plain": [
              "<IPython.core.display.HTML object>"
            ]
          },
          "metadata": {}
        },
        {
          "output_type": "display_data",
          "data": {
            "text/html": [
              "<table id=id74><tr><td id=id74-0-0></td></tr></table>"
            ],
            "text/plain": [
              "<IPython.core.display.HTML object>"
            ]
          },
          "metadata": {}
        },
        {
          "output_type": "display_data",
          "data": {
            "application/javascript": [
              "window[\"f3cbe930-24b9-11ec-80a8-0242ac1c0002\"] = google.colab.output.getActiveOutputArea();\n",
              "//# sourceURL=js_c1d3fd26fa"
            ],
            "text/plain": [
              "<IPython.core.display.Javascript object>"
            ]
          },
          "metadata": {}
        },
        {
          "output_type": "display_data",
          "data": {
            "application/javascript": [
              "window[\"f3cc7e0e-24b9-11ec-80a8-0242ac1c0002\"] = document.querySelector(\"#id74-0-0\");\n",
              "//# sourceURL=js_b351621348"
            ],
            "text/plain": [
              "<IPython.core.display.Javascript object>"
            ]
          },
          "metadata": {}
        },
        {
          "output_type": "display_data",
          "data": {
            "application/javascript": [
              "window[\"f3cd19fe-24b9-11ec-80a8-0242ac1c0002\"] = google.colab.output.setActiveOutputArea(window[\"f3cc7e0e-24b9-11ec-80a8-0242ac1c0002\"]);\n",
              "//# sourceURL=js_2d88727088"
            ],
            "text/plain": [
              "<IPython.core.display.Javascript object>"
            ]
          },
          "metadata": {}
        },
        {
          "output_type": "display_data",
          "data": {
            "application/javascript": [
              "window[\"f3f772ee-24b9-11ec-80a8-0242ac1c0002\"] = google.colab.output.setActiveOutputArea(window[\"f3cbe930-24b9-11ec-80a8-0242ac1c0002\"]);\n",
              "//# sourceURL=js_cb929ea00e"
            ],
            "text/plain": [
              "<IPython.core.display.Javascript object>"
            ]
          },
          "metadata": {}
        },
        {
          "output_type": "display_data",
          "data": {
            "application/javascript": [
              "window[\"f4468eba-24b9-11ec-80a8-0242ac1c0002\"] = google.colab.output.getActiveOutputArea();\n",
              "//# sourceURL=js_d7a741b3a6"
            ],
            "text/plain": [
              "<IPython.core.display.Javascript object>"
            ]
          },
          "metadata": {}
        },
        {
          "output_type": "display_data",
          "data": {
            "application/javascript": [
              "window[\"f4470246-24b9-11ec-80a8-0242ac1c0002\"] = document.querySelector(\"#id74-0-0\");\n",
              "//# sourceURL=js_ee6d53e6ef"
            ],
            "text/plain": [
              "<IPython.core.display.Javascript object>"
            ]
          },
          "metadata": {}
        },
        {
          "output_type": "display_data",
          "data": {
            "application/javascript": [
              "window[\"f4478edc-24b9-11ec-80a8-0242ac1c0002\"] = google.colab.output.setActiveOutputArea(window[\"f4470246-24b9-11ec-80a8-0242ac1c0002\"]);\n",
              "//# sourceURL=js_3d8533eaeb"
            ],
            "text/plain": [
              "<IPython.core.display.Javascript object>"
            ]
          },
          "metadata": {}
        },
        {
          "output_type": "display_data",
          "data": {
            "application/javascript": [
              "window[\"f460106a-24b9-11ec-80a8-0242ac1c0002\"] = google.colab.output.setActiveOutputArea(window[\"f4468eba-24b9-11ec-80a8-0242ac1c0002\"]);\n",
              "//# sourceURL=js_28b07f1131"
            ],
            "text/plain": [
              "<IPython.core.display.Javascript object>"
            ]
          },
          "metadata": {}
        },
        {
          "output_type": "display_data",
          "data": {
            "application/javascript": [
              "window[\"f4af5d50-24b9-11ec-80a8-0242ac1c0002\"] = google.colab.output.getActiveOutputArea();\n",
              "//# sourceURL=js_a3ce9f8d06"
            ],
            "text/plain": [
              "<IPython.core.display.Javascript object>"
            ]
          },
          "metadata": {}
        },
        {
          "output_type": "display_data",
          "data": {
            "application/javascript": [
              "window[\"f4b01a10-24b9-11ec-80a8-0242ac1c0002\"] = document.querySelector(\"#id74-0-0\");\n",
              "//# sourceURL=js_1363b4a930"
            ],
            "text/plain": [
              "<IPython.core.display.Javascript object>"
            ]
          },
          "metadata": {}
        },
        {
          "output_type": "display_data",
          "data": {
            "application/javascript": [
              "window[\"f4b0ccbc-24b9-11ec-80a8-0242ac1c0002\"] = google.colab.output.setActiveOutputArea(window[\"f4b01a10-24b9-11ec-80a8-0242ac1c0002\"]);\n",
              "//# sourceURL=js_e81cd3cd34"
            ],
            "text/plain": [
              "<IPython.core.display.Javascript object>"
            ]
          },
          "metadata": {}
        },
        {
          "output_type": "display_data",
          "data": {
            "application/javascript": [
              "window[\"f4c9a0d4-24b9-11ec-80a8-0242ac1c0002\"] = google.colab.output.setActiveOutputArea(window[\"f4af5d50-24b9-11ec-80a8-0242ac1c0002\"]);\n",
              "//# sourceURL=js_db7d15a923"
            ],
            "text/plain": [
              "<IPython.core.display.Javascript object>"
            ]
          },
          "metadata": {}
        },
        {
          "output_type": "display_data",
          "data": {
            "application/javascript": [
              "window[\"f5180544-24b9-11ec-80a8-0242ac1c0002\"] = google.colab.output.getActiveOutputArea();\n",
              "//# sourceURL=js_dd26d3cfa0"
            ],
            "text/plain": [
              "<IPython.core.display.Javascript object>"
            ]
          },
          "metadata": {}
        },
        {
          "output_type": "display_data",
          "data": {
            "application/javascript": [
              "window[\"f5185134-24b9-11ec-80a8-0242ac1c0002\"] = document.querySelector(\"#id74-0-0\");\n",
              "//# sourceURL=js_fb2b4fe672"
            ],
            "text/plain": [
              "<IPython.core.display.Javascript object>"
            ]
          },
          "metadata": {}
        },
        {
          "output_type": "display_data",
          "data": {
            "application/javascript": [
              "window[\"f51897a2-24b9-11ec-80a8-0242ac1c0002\"] = google.colab.output.setActiveOutputArea(window[\"f5185134-24b9-11ec-80a8-0242ac1c0002\"]);\n",
              "//# sourceURL=js_80bec8b856"
            ],
            "text/plain": [
              "<IPython.core.display.Javascript object>"
            ]
          },
          "metadata": {}
        },
        {
          "output_type": "display_data",
          "data": {
            "application/javascript": [
              "window[\"f5324184-24b9-11ec-80a8-0242ac1c0002\"] = google.colab.output.setActiveOutputArea(window[\"f5180544-24b9-11ec-80a8-0242ac1c0002\"]);\n",
              "//# sourceURL=js_b7b5bd28b6"
            ],
            "text/plain": [
              "<IPython.core.display.Javascript object>"
            ]
          },
          "metadata": {}
        },
        {
          "output_type": "display_data",
          "data": {
            "application/javascript": [
              "window[\"f580d0ce-24b9-11ec-80a8-0242ac1c0002\"] = google.colab.output.getActiveOutputArea();\n",
              "//# sourceURL=js_0963ac9629"
            ],
            "text/plain": [
              "<IPython.core.display.Javascript object>"
            ]
          },
          "metadata": {}
        },
        {
          "output_type": "display_data",
          "data": {
            "application/javascript": [
              "window[\"f5813d34-24b9-11ec-80a8-0242ac1c0002\"] = document.querySelector(\"#id74-0-0\");\n",
              "//# sourceURL=js_2a7dd74ffc"
            ],
            "text/plain": [
              "<IPython.core.display.Javascript object>"
            ]
          },
          "metadata": {}
        },
        {
          "output_type": "display_data",
          "data": {
            "application/javascript": [
              "window[\"f5819fe0-24b9-11ec-80a8-0242ac1c0002\"] = google.colab.output.setActiveOutputArea(window[\"f5813d34-24b9-11ec-80a8-0242ac1c0002\"]);\n",
              "//# sourceURL=js_9ba24a769f"
            ],
            "text/plain": [
              "<IPython.core.display.Javascript object>"
            ]
          },
          "metadata": {}
        },
        {
          "output_type": "display_data",
          "data": {
            "application/javascript": [
              "window[\"f59c132a-24b9-11ec-80a8-0242ac1c0002\"] = google.colab.output.setActiveOutputArea(window[\"f580d0ce-24b9-11ec-80a8-0242ac1c0002\"]);\n",
              "//# sourceURL=js_8107b98dc6"
            ],
            "text/plain": [
              "<IPython.core.display.Javascript object>"
            ]
          },
          "metadata": {}
        },
        {
          "output_type": "display_data",
          "data": {
            "application/javascript": [
              "window[\"f5ec9714-24b9-11ec-80a8-0242ac1c0002\"] = google.colab.output.getActiveOutputArea();\n",
              "//# sourceURL=js_5b4d767eb1"
            ],
            "text/plain": [
              "<IPython.core.display.Javascript object>"
            ]
          },
          "metadata": {}
        },
        {
          "output_type": "display_data",
          "data": {
            "application/javascript": [
              "window[\"f5ed7508-24b9-11ec-80a8-0242ac1c0002\"] = document.querySelector(\"#id74-0-0\");\n",
              "//# sourceURL=js_6915744202"
            ],
            "text/plain": [
              "<IPython.core.display.Javascript object>"
            ]
          },
          "metadata": {}
        },
        {
          "output_type": "display_data",
          "data": {
            "application/javascript": [
              "window[\"f5ee4f14-24b9-11ec-80a8-0242ac1c0002\"] = google.colab.output.setActiveOutputArea(window[\"f5ed7508-24b9-11ec-80a8-0242ac1c0002\"]);\n",
              "//# sourceURL=js_4d79edb98f"
            ],
            "text/plain": [
              "<IPython.core.display.Javascript object>"
            ]
          },
          "metadata": {}
        },
        {
          "output_type": "display_data",
          "data": {
            "application/javascript": [
              "window[\"f6076666-24b9-11ec-80a8-0242ac1c0002\"] = google.colab.output.setActiveOutputArea(window[\"f5ec9714-24b9-11ec-80a8-0242ac1c0002\"]);\n",
              "//# sourceURL=js_e1bcd40e30"
            ],
            "text/plain": [
              "<IPython.core.display.Javascript object>"
            ]
          },
          "metadata": {}
        },
        {
          "output_type": "display_data",
          "data": {
            "application/javascript": [
              "window[\"f657f8d8-24b9-11ec-80a8-0242ac1c0002\"] = google.colab.output.getActiveOutputArea();\n",
              "//# sourceURL=js_ecb7985c08"
            ],
            "text/plain": [
              "<IPython.core.display.Javascript object>"
            ]
          },
          "metadata": {}
        },
        {
          "output_type": "display_data",
          "data": {
            "application/javascript": [
              "window[\"f658bf34-24b9-11ec-80a8-0242ac1c0002\"] = document.querySelector(\"#id74-0-0\");\n",
              "//# sourceURL=js_92018fa840"
            ],
            "text/plain": [
              "<IPython.core.display.Javascript object>"
            ]
          },
          "metadata": {}
        },
        {
          "output_type": "display_data",
          "data": {
            "application/javascript": [
              "window[\"f65976e0-24b9-11ec-80a8-0242ac1c0002\"] = google.colab.output.setActiveOutputArea(window[\"f658bf34-24b9-11ec-80a8-0242ac1c0002\"]);\n",
              "//# sourceURL=js_84e728e9bc"
            ],
            "text/plain": [
              "<IPython.core.display.Javascript object>"
            ]
          },
          "metadata": {}
        },
        {
          "output_type": "display_data",
          "data": {
            "application/javascript": [
              "window[\"f672e382-24b9-11ec-80a8-0242ac1c0002\"] = google.colab.output.setActiveOutputArea(window[\"f657f8d8-24b9-11ec-80a8-0242ac1c0002\"]);\n",
              "//# sourceURL=js_2ee6cafb58"
            ],
            "text/plain": [
              "<IPython.core.display.Javascript object>"
            ]
          },
          "metadata": {}
        },
        {
          "output_type": "display_data",
          "data": {
            "application/javascript": [
              "window[\"f6c36050-24b9-11ec-80a8-0242ac1c0002\"] = google.colab.output.getActiveOutputArea();\n",
              "//# sourceURL=js_477e05d105"
            ],
            "text/plain": [
              "<IPython.core.display.Javascript object>"
            ]
          },
          "metadata": {}
        },
        {
          "output_type": "display_data",
          "data": {
            "application/javascript": [
              "window[\"f6c40f46-24b9-11ec-80a8-0242ac1c0002\"] = document.querySelector(\"#id74-0-0\");\n",
              "//# sourceURL=js_4a273ac01d"
            ],
            "text/plain": [
              "<IPython.core.display.Javascript object>"
            ]
          },
          "metadata": {}
        },
        {
          "output_type": "display_data",
          "data": {
            "application/javascript": [
              "window[\"f6c46fae-24b9-11ec-80a8-0242ac1c0002\"] = google.colab.output.setActiveOutputArea(window[\"f6c40f46-24b9-11ec-80a8-0242ac1c0002\"]);\n",
              "//# sourceURL=js_f239d406db"
            ],
            "text/plain": [
              "<IPython.core.display.Javascript object>"
            ]
          },
          "metadata": {}
        },
        {
          "output_type": "display_data",
          "data": {
            "application/javascript": [
              "window[\"f6df1930-24b9-11ec-80a8-0242ac1c0002\"] = google.colab.output.setActiveOutputArea(window[\"f6c36050-24b9-11ec-80a8-0242ac1c0002\"]);\n",
              "//# sourceURL=js_92fa6a41fc"
            ],
            "text/plain": [
              "<IPython.core.display.Javascript object>"
            ]
          },
          "metadata": {}
        },
        {
          "output_type": "display_data",
          "data": {
            "application/javascript": [
              "window[\"f73016a0-24b9-11ec-80a8-0242ac1c0002\"] = google.colab.output.getActiveOutputArea();\n",
              "//# sourceURL=js_c224f30f48"
            ],
            "text/plain": [
              "<IPython.core.display.Javascript object>"
            ]
          },
          "metadata": {}
        },
        {
          "output_type": "display_data",
          "data": {
            "application/javascript": [
              "window[\"f730de1e-24b9-11ec-80a8-0242ac1c0002\"] = document.querySelector(\"#id74-0-0\");\n",
              "//# sourceURL=js_42e37c808a"
            ],
            "text/plain": [
              "<IPython.core.display.Javascript object>"
            ]
          },
          "metadata": {}
        },
        {
          "output_type": "display_data",
          "data": {
            "application/javascript": [
              "window[\"f73191c4-24b9-11ec-80a8-0242ac1c0002\"] = google.colab.output.setActiveOutputArea(window[\"f730de1e-24b9-11ec-80a8-0242ac1c0002\"]);\n",
              "//# sourceURL=js_d1414f857b"
            ],
            "text/plain": [
              "<IPython.core.display.Javascript object>"
            ]
          },
          "metadata": {}
        },
        {
          "output_type": "display_data",
          "data": {
            "application/javascript": [
              "window[\"f74ae53e-24b9-11ec-80a8-0242ac1c0002\"] = google.colab.output.setActiveOutputArea(window[\"f73016a0-24b9-11ec-80a8-0242ac1c0002\"]);\n",
              "//# sourceURL=js_f0ea0f0d90"
            ],
            "text/plain": [
              "<IPython.core.display.Javascript object>"
            ]
          },
          "metadata": {}
        },
        {
          "output_type": "display_data",
          "data": {
            "application/javascript": [
              "window[\"f79b8fe8-24b9-11ec-80a8-0242ac1c0002\"] = google.colab.output.getActiveOutputArea();\n",
              "//# sourceURL=js_851e9269a5"
            ],
            "text/plain": [
              "<IPython.core.display.Javascript object>"
            ]
          },
          "metadata": {}
        },
        {
          "output_type": "display_data",
          "data": {
            "application/javascript": [
              "window[\"f79c5b80-24b9-11ec-80a8-0242ac1c0002\"] = document.querySelector(\"#id74-0-0\");\n",
              "//# sourceURL=js_ea6c66ac02"
            ],
            "text/plain": [
              "<IPython.core.display.Javascript object>"
            ]
          },
          "metadata": {}
        },
        {
          "output_type": "display_data",
          "data": {
            "application/javascript": [
              "window[\"f79d242a-24b9-11ec-80a8-0242ac1c0002\"] = google.colab.output.setActiveOutputArea(window[\"f79c5b80-24b9-11ec-80a8-0242ac1c0002\"]);\n",
              "//# sourceURL=js_a7fce2a08e"
            ],
            "text/plain": [
              "<IPython.core.display.Javascript object>"
            ]
          },
          "metadata": {}
        },
        {
          "output_type": "display_data",
          "data": {
            "application/javascript": [
              "window[\"f7b51526-24b9-11ec-80a8-0242ac1c0002\"] = google.colab.output.setActiveOutputArea(window[\"f79b8fe8-24b9-11ec-80a8-0242ac1c0002\"]);\n",
              "//# sourceURL=js_12ccd40e4c"
            ],
            "text/plain": [
              "<IPython.core.display.Javascript object>"
            ]
          },
          "metadata": {}
        },
        {
          "output_type": "display_data",
          "data": {
            "application/javascript": [
              "window[\"f80361f4-24b9-11ec-80a8-0242ac1c0002\"] = google.colab.output.getActiveOutputArea();\n",
              "//# sourceURL=js_b130ed741d"
            ],
            "text/plain": [
              "<IPython.core.display.Javascript object>"
            ]
          },
          "metadata": {}
        },
        {
          "output_type": "display_data",
          "data": {
            "application/javascript": [
              "window[\"f804466e-24b9-11ec-80a8-0242ac1c0002\"] = document.querySelector(\"#id74-0-0\");\n",
              "//# sourceURL=js_ea04efb5a7"
            ],
            "text/plain": [
              "<IPython.core.display.Javascript object>"
            ]
          },
          "metadata": {}
        },
        {
          "output_type": "display_data",
          "data": {
            "application/javascript": [
              "window[\"f804fc80-24b9-11ec-80a8-0242ac1c0002\"] = google.colab.output.setActiveOutputArea(window[\"f804466e-24b9-11ec-80a8-0242ac1c0002\"]);\n",
              "//# sourceURL=js_18ecb7ef70"
            ],
            "text/plain": [
              "<IPython.core.display.Javascript object>"
            ]
          },
          "metadata": {}
        },
        {
          "output_type": "display_data",
          "data": {
            "application/javascript": [
              "window[\"f81debc8-24b9-11ec-80a8-0242ac1c0002\"] = google.colab.output.setActiveOutputArea(window[\"f80361f4-24b9-11ec-80a8-0242ac1c0002\"]);\n",
              "//# sourceURL=js_c393c91981"
            ],
            "text/plain": [
              "<IPython.core.display.Javascript object>"
            ]
          },
          "metadata": {}
        },
        {
          "output_type": "display_data",
          "data": {
            "application/javascript": [
              "window[\"f86c9ad4-24b9-11ec-80a8-0242ac1c0002\"] = google.colab.output.getActiveOutputArea();\n",
              "//# sourceURL=js_a0cc17947d"
            ],
            "text/plain": [
              "<IPython.core.display.Javascript object>"
            ]
          },
          "metadata": {}
        },
        {
          "output_type": "display_data",
          "data": {
            "application/javascript": [
              "window[\"f86d06fe-24b9-11ec-80a8-0242ac1c0002\"] = document.querySelector(\"#id74-0-0\");\n",
              "//# sourceURL=js_aeaa07810e"
            ],
            "text/plain": [
              "<IPython.core.display.Javascript object>"
            ]
          },
          "metadata": {}
        },
        {
          "output_type": "display_data",
          "data": {
            "application/javascript": [
              "window[\"f86d5d2a-24b9-11ec-80a8-0242ac1c0002\"] = google.colab.output.setActiveOutputArea(window[\"f86d06fe-24b9-11ec-80a8-0242ac1c0002\"]);\n",
              "//# sourceURL=js_b833d8a13e"
            ],
            "text/plain": [
              "<IPython.core.display.Javascript object>"
            ]
          },
          "metadata": {}
        },
        {
          "output_type": "display_data",
          "data": {
            "application/javascript": [
              "window[\"f8898acc-24b9-11ec-80a8-0242ac1c0002\"] = google.colab.output.setActiveOutputArea(window[\"f86c9ad4-24b9-11ec-80a8-0242ac1c0002\"]);\n",
              "//# sourceURL=js_231e17422f"
            ],
            "text/plain": [
              "<IPython.core.display.Javascript object>"
            ]
          },
          "metadata": {}
        },
        {
          "output_type": "display_data",
          "data": {
            "application/javascript": [
              "window[\"f8d83122-24b9-11ec-80a8-0242ac1c0002\"] = google.colab.output.getActiveOutputArea();\n",
              "//# sourceURL=js_af30fbbc52"
            ],
            "text/plain": [
              "<IPython.core.display.Javascript object>"
            ]
          },
          "metadata": {}
        },
        {
          "output_type": "display_data",
          "data": {
            "application/javascript": [
              "window[\"f8d884f6-24b9-11ec-80a8-0242ac1c0002\"] = document.querySelector(\"#id74-0-0\");\n",
              "//# sourceURL=js_90de525a0d"
            ],
            "text/plain": [
              "<IPython.core.display.Javascript object>"
            ]
          },
          "metadata": {}
        },
        {
          "output_type": "display_data",
          "data": {
            "application/javascript": [
              "window[\"f8d95e30-24b9-11ec-80a8-0242ac1c0002\"] = google.colab.output.setActiveOutputArea(window[\"f8d884f6-24b9-11ec-80a8-0242ac1c0002\"]);\n",
              "//# sourceURL=js_b770d7fd21"
            ],
            "text/plain": [
              "<IPython.core.display.Javascript object>"
            ]
          },
          "metadata": {}
        },
        {
          "output_type": "display_data",
          "data": {
            "application/javascript": [
              "window[\"f8f1932e-24b9-11ec-80a8-0242ac1c0002\"] = google.colab.output.setActiveOutputArea(window[\"f8d83122-24b9-11ec-80a8-0242ac1c0002\"]);\n",
              "//# sourceURL=js_ec2a339dda"
            ],
            "text/plain": [
              "<IPython.core.display.Javascript object>"
            ]
          },
          "metadata": {}
        },
        {
          "output_type": "display_data",
          "data": {
            "application/javascript": [
              "window[\"f9401738-24b9-11ec-80a8-0242ac1c0002\"] = google.colab.output.getActiveOutputArea();\n",
              "//# sourceURL=js_3286bc8df3"
            ],
            "text/plain": [
              "<IPython.core.display.Javascript object>"
            ]
          },
          "metadata": {}
        },
        {
          "output_type": "display_data",
          "data": {
            "application/javascript": [
              "window[\"f940e71c-24b9-11ec-80a8-0242ac1c0002\"] = document.querySelector(\"#id74-0-0\");\n",
              "//# sourceURL=js_40ef9541b4"
            ],
            "text/plain": [
              "<IPython.core.display.Javascript object>"
            ]
          },
          "metadata": {}
        },
        {
          "output_type": "display_data",
          "data": {
            "application/javascript": [
              "window[\"f9415a94-24b9-11ec-80a8-0242ac1c0002\"] = google.colab.output.setActiveOutputArea(window[\"f940e71c-24b9-11ec-80a8-0242ac1c0002\"]);\n",
              "//# sourceURL=js_bf8fc873c3"
            ],
            "text/plain": [
              "<IPython.core.display.Javascript object>"
            ]
          },
          "metadata": {}
        },
        {
          "output_type": "display_data",
          "data": {
            "image/png": "[encoded data removed]",
            "text/plain": [
              "<Figure size 432x288 with 1 Axes>"
            ]
          },
          "metadata": {
            "needs_background": "light"
          }
        },
        {
          "output_type": "display_data",
          "data": {
            "application/javascript": [
              "window[\"f959967c-24b9-11ec-80a8-0242ac1c0002\"] = google.colab.output.setActiveOutputArea(window[\"f9401738-24b9-11ec-80a8-0242ac1c0002\"]);\n",
              "//# sourceURL=js_5e0d9a8e1b"
            ],
            "text/plain": [
              "<IPython.core.display.Javascript object>"
            ]
          },
          "metadata": {}
        },
        {
          "output_type": "stream",
          "name": "stdout",
          "text": [
            "14\n",
            "125\n"
          ]
        }
      ]
    },
    {
      "cell_type": "code",
      "metadata": {
        "id": "fo2gY7PhrDzP",
        "colab": {
          "base_uri": "https://localhost:8080/",
          "height": 283
        },
        "outputId": "a69a5bd3-1226-4118-9e70-bb79099507f3"
      },
      "source": [
        "import numpy as np\n",
        "import matplotlib.pyplot as plt\n",
        "plt.plot(range(1000), graph_e)"
      ],
      "execution_count": 160,
      "outputs": [
        {
          "output_type": "execute_result",
          "data": {
            "text/plain": [
              "[<matplotlib.lines.Line2D at 0x7fa03646d750>]"
            ]
          },
          "metadata": {},
          "execution_count": 160
        },
        {
          "output_type": "display_data",
          "data": {
            "image/png": "[encoded data removed]",
            "text/plain": [
              "<Figure size 432x288 with 1 Axes>"
            ]
          },
          "metadata": {
            "needs_background": "light"
          }
        }
      ]
    },
    {
      "cell_type": "code",
      "metadata": {
        "colab": {
          "base_uri": "https://localhost:8080/",
          "height": 303
        },
        "id": "S_hT7kOzef1I",
        "outputId": "4590acb3-eff7-4a22-d326-01b82d4176c0"
      },
      "source": [
        "plt.plot(range(1000), reward_graph)\n",
        "print(reward_graph)"
      ],
      "execution_count": 161,
      "outputs": [
        {
          "output_type": "stream",
          "name": "stdout",
          "text": [
            "[85, 30, 100, 175, 25, 90, 0, 105, 25, 120, 0, 55, 50, 40, 90, 75, 15, 0, 50, 0, 15, 50, 105, 45, 190, 75, 0, 75, 65, 25, 50, 15, 40, 45, 25, 115, 30, 15, 120, 115, 90, 40, 75, 0, 25, 25, 25, 65, 30, 75, 50, 140, 15, 55, 75, 70, 50, 65, 15, 15, 100, 25, 50, 120, 75, 50, 55, 75, 50, 0, 95, 80, 50, 50, 40, 65, 90, 80, 125, 75, 65, 95, 125, 25, 45, 25, 135, 60, 70, 50, 210, 0, 90, 50, 0, 50, 65, 45, 230, 40, 205, 0, 0, 25, 15, 25, 25, 100, 40, 190, 75, 15, 15, 50, 50, 65, 125, 0, 140, 15, 80, 0, 205, 30, 115, 120, 0, 40, 15, 75, 0, 15, 180, 150, 60, 50, 50, 30, 45, 15, 25, 40, 15, 45, 80, 65, 100, 0, 50, 40, 25, 115, 125, 40, 25, 40, 50, 55, 15, 125, 115, 15, 50, 0, 200, 0, 50, 65, 50, 65, 25, 0, 95, 125, 80, 50, 115, 75, 150, 50, 15, 125, 30, 30, 50, 55, 15, 100, 25, 190, 50, 65, 125, 25, 265, 75, 45, 25, 65, 40, 125, 100, 0, 15, 25, 0, 65, 30, 70, 0, 115, 205, 50, 15, 0, 65, 75, 115, 225, 50, 15, 0, 175, 80, 80, 15, 65, 175, 15, 50, 115, 25, 120, 120, 25, 0, 40, 0, 25, 25, 75, 115, 90, 75, 0, 130, 50, 90, 25, 115, 90, 100, 0, 25, 15, 0, 75, 70, 25, 25, 25, 65, 30, 40, 65, 75, 0, 15, 0, 65, 125, 95, 40, 0, 65, 155, 50, 80, 125, 65, 0, 25, 135, 140, 15, 0, 65, 90, 85, 0, 30, 15, 90, 30, 15, 0, 0, 75, 100, 120, 45, 25, 25, 0, 145, 0, 15, 75, 115, 40, 75, 15, 50, 140, 50, 0, 230, 100, 75, 15, 0, 15, 100, 0, 75, 0, 55, 240, 25, 75, 65, 0, 150, 30, 0, 25, 50, 175, 15, 115, 95, 25, 115, 15, 30, 50, 65, 65, 30, 40, 265, 15, 65, 25, 65, 50, 65, 30, 80, 60, 40, 100, 15, 50, 15, 165, 50, 170, 175, 50, 0, 125, 50, 65, 190, 65, 0, 65, 25, 15, 40, 15, 80, 75, 40, 50, 140, 65, 0, 40, 0, 40, 0, 0, 25, 25, 75, 15, 75, 50, 40, 50, 65, 25, 55, 105, 25, 30, 130, 45, 0, 95, 0, 15, 55, 25, 90, 15, 15, 50, 15, 155, 135, 15, 55, 15, 80, 65, 55, 150, 105, 100, 40, 15, 50, 15, 90, 25, 50, 70, 125, 90, 15, 50, 65, 15, 90, 100, 120, 85, 0, 40, 80, 95, 90, 50, 15, 25, 50, 65, 90, 75, 50, 25, 30, 75, 45, 50, 125, 40, 40, 0, 15, 50, 120, 0, 0, 15, 0, 25, 15, 50, 50, 0, 15, 15, 40, 100, 0, 25, 45, 75, 40, 0, 15, 15, 75, 90, 0, 0, 75, 65, 50, 0, 90, 15, 25, 125, 25, 30, 140, 110, 15, 0, 75, 100, 75, 25, 75, 45, 40, 25, 55, 40, 75, 15, 75, 55, 15, 0, 25, 0, 75, 50, 50, 25, 25, 0, 0, 50, 0, 125, 40, 50, 150, 80, 30, 0, 125, 155, 55, 125, 50, 65, 65, 0, 50, 0, 75, 130, 150, 15, 25, 120, 100, 100, 145, 75, 65, 40, 115, 0, 165, 15, 125, 0, 100, 40, 75, 55, 150, 70, 65, 45, 25, 110, 50, 80, 95, 140, 40, 25, 50, 105, 165, 25, 15, 25, 95, 40, 75, 15, 65, 40, 40, 60, 125, 125, 15, 0, 0, 0, 0, 220, 0, 90, 120, 0, 30, 75, 40, 275, 15, 40, 100, 25, 50, 0, 75, 25, 125, 40, 75, 0, 95, 40, 25, 75, 75, 50, 55, 25, 40, 100, 0, 0, 55, 15, 40, 0, 25, 125, 0, 130, 30, 50, 110, 50, 75, 25, 50, 90, 25, 50, 50, 50, 30, 70, 70, 110, 30, 0, 75, 15, 65, 50, 45, 70, 115, 105, 0, 75, 50, 170, 25, 25, 75, 25, 75, 25, 50, 115, 15, 40, 150, 30, 65, 15, 140, 65, 50, 110, 25, 80, 15, 25, 0, 40, 90, 75, 95, 175, 65, 90, 25, 25, 50, 100, 15, 25, 50, 0, 115, 165, 140, 65, 25, 95, 25, 75, 100, 15, 50, 15, 90, 65, 0, 65, 55, 75, 185, 70, 55, 245, 0, 80, 100, 0, 30, 120, 40, 0, 0, 25, 15, 55, 25, 25, 40, 55, 65, 0, 65, 75, 25, 55, 135, 0, 0, 0, 65, 40, 70, 30, 90, 50, 0, 125, 150, 215, 0, 120, 70, 50, 0, 15, 25, 75, 30, 0, 65, 40, 65, 80, 25, 65, 70, 75, 50, 25, 25, 15, 115, 95, 40, 115, 25, 40, 100, 90, 40, 75, 125, 180, 85, 30, 65, 115, 15, 0, 25, 15, 130, 25, 90, 100, 25, 95, 80, 15, 15, 40, 65, 65, 25, 0, 0, 15, 15, 25, 125, 40, 15, 100, 50, 25, 15, 55, 50, 25, 50, 175, 30, 225, 50, 40, 65, 100, 240, 25, 115, 50, 160, 0, 125, 15, 115, 65, 45, 75, 105, 80, 25, 25, 100, 0, 40, 105, 40, 15, 80, 0, 50, 0, 55, 15, 50, 0, 75, 45, 75, 115, 50, 50, 0, 15, 0, 15, 125, 40, 0, 0, 65, 40, 100, 50, 50, 30, 25, 65, 50, 45, 15, 115, 75, 45, 50, 50, 75, 50, 90, 25, 0, 75, 50, 30, 45, 65, 0, 40, 30, 140, 70, 40, 15, 25, 0, 90, 40, 25, 65, 0, 100, 0, 0, 65, 100, 40, 65, 0, 15, 95, 50, 180, 55, 50, 70, 90, 55, 90, 125, 40, 115, 65, 0, 30, 0, 80, 80, 15, 15, 75, 25, 40, 40, 50, 15, 50, 50, 25, 50, 80, 125, 115, 130, 55, 65, 270, 75, 115, 0, 25, 115, 75, 65, 40, 0, 0, 90, 15]\n"
          ]
        },
        {
          "output_type": "display_data",
          "data": {
            "image/png": "[encoded data removed]",
            "text/plain": [
              "<Figure size 432x288 with 1 Axes>"
            ]
          },
          "metadata": {
            "needs_background": "light"
          }
        }
      ]
    },
    {
      "cell_type": "code",
      "metadata": {
        "id": "d37q3AmNzDoB"
      },
      "source": [
        ""
      ],
      "execution_count": null,
      "outputs": []
    }
  ]
}