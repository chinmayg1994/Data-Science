{
  "nbformat": 4,
  "nbformat_minor": 0,
  "metadata": {
    "colab": {
      "name": "RL_1/Deterministic.ipynb",
      "provenance": [],
      "collapsed_sections": []
    },
    "kernelspec": {
      "name": "python3",
      "display_name": "Python 3"
    },
    "language_info": {
      "name": "python"
    }
  },
  "cells": [
    {
      "cell_type": "code",
      "metadata": {
        "id": "MwJwyVLMFMUh",
        "colab": {
          "base_uri": "https://localhost:8080/"
        },
        "outputId": "563d5bf8-fd5b-43d4-b23c-3b7f600641d5"
      },
      "source": [
        "#Importing gym environment\n",
        "! pip install gym"
      ],
      "execution_count": null,
      "outputs": [
        {
          "output_type": "stream",
          "name": "stdout",
          "text": [
            "Requirement already satisfied: gym in /usr/local/lib/python3.7/dist-packages (0.17.3)\n",
            "Requirement already satisfied: numpy>=1.10.4 in /usr/local/lib/python3.7/dist-packages (from gym) (1.19.5)\n",
            "Requirement already satisfied: pyglet<=1.5.0,>=1.4.0 in /usr/local/lib/python3.7/dist-packages (from gym) (1.5.0)\n",
            "Requirement already satisfied: scipy in /usr/local/lib/python3.7/dist-packages (from gym) (1.4.1)\n",
            "Requirement already satisfied: cloudpickle<1.7.0,>=1.2.0 in /usr/local/lib/python3.7/dist-packages (from gym) (1.3.0)\n",
            "Requirement already satisfied: future in /usr/local/lib/python3.7/dist-packages (from pyglet<=1.5.0,>=1.4.0->gym) (0.16.0)\n"
          ]
        }
      ]
    },
    {
      "cell_type": "code",
      "metadata": {
        "id": "wkMVZppfXbbY"
      },
      "source": [
        "#Importing all the required libraries\n",
        "import numpy as np\n",
        "import matplotlib.pyplot as plt\n",
        "import gym\n",
        "from gym import spaces\n",
        "import time"
      ],
      "execution_count": null,
      "outputs": []
    },
    {
      "cell_type": "code",
      "metadata": {
        "colab": {
          "base_uri": "https://localhost:8080/",
          "height": 282
        },
        "id": "xcn6Dml_Xbuv",
        "outputId": "a4c2545d-4b70-4948-9d49-da3901ebcc6f"
      },
      "source": [
        "#Defining a 10*10 grid along with start and terminal positions\n",
        "grid  =  np.zeros((10,10))\n",
        "start_pos = [0,0]\n",
        "terminal_pos = [9, 9]\n",
        "grid[tuple(start_pos)] = 2\n",
        "grid[tuple(terminal_pos)] = 4\n",
        "agent_pos = [0,0]\n",
        "plt.imshow(grid)\n",
        "\n",
        "\n"
      ],
      "execution_count": null,
      "outputs": [
        {
          "output_type": "execute_result",
          "data": {
            "text/plain": [
              "<matplotlib.image.AxesImage at 0x7f490f737d10>"
            ]
          },
          "metadata": {},
          "execution_count": 3
        },
        {
          "output_type": "display_data",
          "data": {
            "image/png": "[encoded data removed]",
            "text/plain": [
              "<Figure size 432x288 with 1 Axes>"
            ]
          },
          "metadata": {
            "needs_background": "light"
          }
        }
      ]
    },
    {
      "cell_type": "code",
      "metadata": {
        "id": "js1tVyXsY4to"
      },
      "source": [
        "class Gridworld (gym.Env):\n",
        "  def __init__(self):\n",
        "    self.action_space = spaces.Discrete(4)\n",
        "    self.observation_space = spaces.Discrete(100)\n",
        "    self.max_timesteps = 15\n",
        "\n",
        "  def step(self, action):\n",
        "  #Defining all the possible actions\n",
        "    if action == 0:\n",
        "      self.agent_pos[0] += 1\n",
        "    if action == 1:\n",
        "      self.agent_pos[0] -= 1\n",
        "    if action == 2:\n",
        "      self.agent_pos[1] += 1\n",
        "    if action == 3:\n",
        "      self.agent_pos[1] -= 1\n",
        "    if action == 4:\n",
        "      self.agent_pos[1] += 1 \n",
        "      self.agent_pos[0] += 1\n",
        "    self.agent_pos = np.clip(self.agent_pos, 0, 9) \n",
        "    self.state = np.zeros((10,10))\n",
        "    #Defining the start and end positions for agent along with reward and penalty positions\n",
        "    #Assigning colors to agent position, terminal position, rewards and penalties\n",
        "    self.state[tuple(self.agent_pos)] = 1\n",
        "    self.state[tuple(self.terminal_pos)] = 0.5 \n",
        "    self.reward_pos_1 = [9,4]\n",
        "    self.reward_pos_2 = [4,4]\n",
        "    self.reward_pos_3 = [6,8]\n",
        "    self.state[9,4] = 0.3\n",
        "    self.state[4,4] = 0.8\n",
        "    self.state[6,8] = 0.4  \n",
        "    #Defining the reward values\n",
        "    if (self.agent_pos == [6,8]).all():\n",
        "      self.reward += 5\n",
        "    if (self.agent_pos == [9,4]).all():\n",
        "      self.reward += 5\n",
        "    if (self.agent_pos == [4,4]).all():\n",
        "      self.reward += 2\n",
        "    #Defining and assigning terminal state reward \n",
        "    if (self.agent_pos == self.terminal_pos).all():\n",
        "      self.reward += 10\n",
        "    self.timesteps += 1\n",
        "\n",
        "    return self.reward, self.agent_pos\n",
        "\n",
        "  def render(self):\n",
        "    plt.imshow(self.state)\n",
        "  def reset(self):\n",
        "    self.timesteps = 0\n",
        "    self.agent_pos = [0, 0]\n",
        "    self.terminal_pos = [9,9]\n",
        "    self.reward_pos_3 = [6,8]\n",
        "    self.reward_pos_1 = [9,4]\n",
        "    self.reward_pos_2 = [4,4]\n",
        "    self.state = np.zeros((10,10))\n",
        "    self.state[tuple(self.agent_pos)] = 1\n",
        "    self.state[tuple(self.terminal_pos)] = 0.5\n",
        "    observation = self.state.flatten()\n",
        "    self.reward = 0\n",
        "    return observation\n",
        "\n"
      ],
      "execution_count": null,
      "outputs": []
    },
    {
      "cell_type": "code",
      "metadata": {
        "id": "U-9HGYeaZON6"
      },
      "source": [
        ""
      ],
      "execution_count": null,
      "outputs": []
    },
    {
      "cell_type": "code",
      "metadata": {
        "colab": {
          "base_uri": "https://localhost:8080/",
          "height": 487
        },
        "id": "gwJ6SseqAVaa",
        "outputId": "5e46cb3f-8ad2-4305-b1d4-62a4da08ccac"
      },
      "source": [
        "from google.colab import widgets\n",
        "env = Gridworld()\n",
        "obs = env.reset()\n",
        "output_grid = widgets.Grid(1,1)\n",
        "\n",
        "for i in range(100):\n",
        "  action = np.random.randint(0,5)\n",
        "  grid = np.zeros((10,10))\n",
        "  reward, position  = env.step(action)\n",
        "  with output_grid.output_to(0,0):\n",
        "    output_grid.clear_cell()\n",
        "    env.render()\n",
        "  time.sleep(0.5)\n",
        "  if (position == terminal_pos).all():\n",
        "    break \n",
        "print(env.timesteps)\n",
        "print(reward)"
      ],
      "execution_count": null,
      "outputs": [
        {
          "output_type": "display_data",
          "data": {
            "text/html": [
              "<style>\n",
              "       table#id10, #id10 > tbody > tr > th, #id10 > tbody > tr > td {\n",
              "         border: 1px solid lightgray;\n",
              "         border-collapse:collapse;\n",
              "         \n",
              "        }</style>"
            ],
            "text/plain": [
              "<IPython.core.display.HTML object>"
            ]
          },
          "metadata": {}
        },
        {
          "output_type": "display_data",
          "data": {
            "text/html": [
              "<table id=id10><tr><td id=id10-0-0></td></tr></table>"
            ],
            "text/plain": [
              "<IPython.core.display.HTML object>"
            ]
          },
          "metadata": {}
        },
        {
          "output_type": "display_data",
          "data": {
            "application/javascript": [
              "window[\"d6852ff0-19a4-11ec-a3ab-0242ac1c0002\"] = google.colab.output.getActiveOutputArea();\n",
              "//# sourceURL=js_42077f9f6a"
            ],
            "text/plain": [
              "<IPython.core.display.Javascript object>"
            ]
          },
          "metadata": {}
        },
        {
          "output_type": "display_data",
          "data": {
            "application/javascript": [
              "window[\"d685a2d2-19a4-11ec-a3ab-0242ac1c0002\"] = document.querySelector(\"#id10-0-0\");\n",
              "//# sourceURL=js_2112103556"
            ],
            "text/plain": [
              "<IPython.core.display.Javascript object>"
            ]
          },
          "metadata": {}
        },
        {
          "output_type": "display_data",
          "data": {
            "application/javascript": [
              "window[\"d6860a4c-19a4-11ec-a3ab-0242ac1c0002\"] = google.colab.output.setActiveOutputArea(window[\"d685a2d2-19a4-11ec-a3ab-0242ac1c0002\"]);\n",
              "//# sourceURL=js_3f022e0f3f"
            ],
            "text/plain": [
              "<IPython.core.display.Javascript object>"
            ]
          },
          "metadata": {}
        },
        {
          "output_type": "display_data",
          "data": {
            "application/javascript": [
              "window[\"d6a96082-19a4-11ec-a3ab-0242ac1c0002\"] = google.colab.output.setActiveOutputArea(window[\"d6852ff0-19a4-11ec-a3ab-0242ac1c0002\"]);\n",
              "//# sourceURL=js_b2c32f81ba"
            ],
            "text/plain": [
              "<IPython.core.display.Javascript object>"
            ]
          },
          "metadata": {}
        },
        {
          "output_type": "display_data",
          "data": {
            "application/javascript": [
              "window[\"d6f7e0d6-19a4-11ec-a3ab-0242ac1c0002\"] = google.colab.output.getActiveOutputArea();\n",
              "//# sourceURL=js_652ced88ad"
            ],
            "text/plain": [
              "<IPython.core.display.Javascript object>"
            ]
          },
          "metadata": {}
        },
        {
          "output_type": "display_data",
          "data": {
            "application/javascript": [
              "window[\"d6f85f2a-19a4-11ec-a3ab-0242ac1c0002\"] = document.querySelector(\"#id10-0-0\");\n",
              "//# sourceURL=js_0e19f8cad4"
            ],
            "text/plain": [
              "<IPython.core.display.Javascript object>"
            ]
          },
          "metadata": {}
        },
        {
          "output_type": "display_data",
          "data": {
            "application/javascript": [
              "window[\"d6f8d216-19a4-11ec-a3ab-0242ac1c0002\"] = google.colab.output.setActiveOutputArea(window[\"d6f85f2a-19a4-11ec-a3ab-0242ac1c0002\"]);\n",
              "//# sourceURL=js_0a9601eebc"
            ],
            "text/plain": [
              "<IPython.core.display.Javascript object>"
            ]
          },
          "metadata": {}
        },
        {
          "output_type": "display_data",
          "data": {
            "application/javascript": [
              "window[\"d71080d2-19a4-11ec-a3ab-0242ac1c0002\"] = google.colab.output.setActiveOutputArea(window[\"d6f7e0d6-19a4-11ec-a3ab-0242ac1c0002\"]);\n",
              "//# sourceURL=js_3829748687"
            ],
            "text/plain": [
              "<IPython.core.display.Javascript object>"
            ]
          },
          "metadata": {}
        },
        {
          "output_type": "display_data",
          "data": {
            "application/javascript": [
              "window[\"d75f2ca0-19a4-11ec-a3ab-0242ac1c0002\"] = google.colab.output.getActiveOutputArea();\n",
              "//# sourceURL=js_f4d6b1e117"
            ],
            "text/plain": [
              "<IPython.core.display.Javascript object>"
            ]
          },
          "metadata": {}
        },
        {
          "output_type": "display_data",
          "data": {
            "application/javascript": [
              "window[\"d75fb9c2-19a4-11ec-a3ab-0242ac1c0002\"] = document.querySelector(\"#id10-0-0\");\n",
              "//# sourceURL=js_a9c0b31c92"
            ],
            "text/plain": [
              "<IPython.core.display.Javascript object>"
            ]
          },
          "metadata": {}
        },
        {
          "output_type": "display_data",
          "data": {
            "application/javascript": [
              "window[\"d76038e8-19a4-11ec-a3ab-0242ac1c0002\"] = google.colab.output.setActiveOutputArea(window[\"d75fb9c2-19a4-11ec-a3ab-0242ac1c0002\"]);\n",
              "//# sourceURL=js_b8b281266c"
            ],
            "text/plain": [
              "<IPython.core.display.Javascript object>"
            ]
          },
          "metadata": {}
        },
        {
          "output_type": "display_data",
          "data": {
            "application/javascript": [
              "window[\"d7774a24-19a4-11ec-a3ab-0242ac1c0002\"] = google.colab.output.setActiveOutputArea(window[\"d75f2ca0-19a4-11ec-a3ab-0242ac1c0002\"]);\n",
              "//# sourceURL=js_9086f39fa8"
            ],
            "text/plain": [
              "<IPython.core.display.Javascript object>"
            ]
          },
          "metadata": {}
        },
        {
          "output_type": "display_data",
          "data": {
            "application/javascript": [
              "window[\"d7c7cfd0-19a4-11ec-a3ab-0242ac1c0002\"] = google.colab.output.getActiveOutputArea();\n",
              "//# sourceURL=js_b073ffec71"
            ],
            "text/plain": [
              "<IPython.core.display.Javascript object>"
            ]
          },
          "metadata": {}
        },
        {
          "output_type": "display_data",
          "data": {
            "application/javascript": [
              "window[\"d7c87480-19a4-11ec-a3ab-0242ac1c0002\"] = document.querySelector(\"#id10-0-0\");\n",
              "//# sourceURL=js_7949608c93"
            ],
            "text/plain": [
              "<IPython.core.display.Javascript object>"
            ]
          },
          "metadata": {}
        },
        {
          "output_type": "display_data",
          "data": {
            "application/javascript": [
              "window[\"d7c91f84-19a4-11ec-a3ab-0242ac1c0002\"] = google.colab.output.setActiveOutputArea(window[\"d7c87480-19a4-11ec-a3ab-0242ac1c0002\"]);\n",
              "//# sourceURL=js_c7a8ff7547"
            ],
            "text/plain": [
              "<IPython.core.display.Javascript object>"
            ]
          },
          "metadata": {}
        },
        {
          "output_type": "display_data",
          "data": {
            "application/javascript": [
              "window[\"d7e056f4-19a4-11ec-a3ab-0242ac1c0002\"] = google.colab.output.setActiveOutputArea(window[\"d7c7cfd0-19a4-11ec-a3ab-0242ac1c0002\"]);\n",
              "//# sourceURL=js_4ab86865b5"
            ],
            "text/plain": [
              "<IPython.core.display.Javascript object>"
            ]
          },
          "metadata": {}
        },
        {
          "output_type": "display_data",
          "data": {
            "application/javascript": [
              "window[\"d82f9034-19a4-11ec-a3ab-0242ac1c0002\"] = google.colab.output.getActiveOutputArea();\n",
              "//# sourceURL=js_4420ae7a06"
            ],
            "text/plain": [
              "<IPython.core.display.Javascript object>"
            ]
          },
          "metadata": {}
        },
        {
          "output_type": "display_data",
          "data": {
            "application/javascript": [
              "window[\"d82fe796-19a4-11ec-a3ab-0242ac1c0002\"] = document.querySelector(\"#id10-0-0\");\n",
              "//# sourceURL=js_771051f9c1"
            ],
            "text/plain": [
              "<IPython.core.display.Javascript object>"
            ]
          },
          "metadata": {}
        },
        {
          "output_type": "display_data",
          "data": {
            "application/javascript": [
              "window[\"d83042c2-19a4-11ec-a3ab-0242ac1c0002\"] = google.colab.output.setActiveOutputArea(window[\"d82fe796-19a4-11ec-a3ab-0242ac1c0002\"]);\n",
              "//# sourceURL=js_359c283a79"
            ],
            "text/plain": [
              "<IPython.core.display.Javascript object>"
            ]
          },
          "metadata": {}
        },
        {
          "output_type": "display_data",
          "data": {
            "application/javascript": [
              "window[\"d8475a3e-19a4-11ec-a3ab-0242ac1c0002\"] = google.colab.output.setActiveOutputArea(window[\"d82f9034-19a4-11ec-a3ab-0242ac1c0002\"]);\n",
              "//# sourceURL=js_c9d975335c"
            ],
            "text/plain": [
              "<IPython.core.display.Javascript object>"
            ]
          },
          "metadata": {}
        },
        {
          "output_type": "display_data",
          "data": {
            "application/javascript": [
              "window[\"d895d254-19a4-11ec-a3ab-0242ac1c0002\"] = google.colab.output.getActiveOutputArea();\n",
              "//# sourceURL=js_11b1480f6d"
            ],
            "text/plain": [
              "<IPython.core.display.Javascript object>"
            ]
          },
          "metadata": {}
        },
        {
          "output_type": "display_data",
          "data": {
            "application/javascript": [
              "window[\"d8963154-19a4-11ec-a3ab-0242ac1c0002\"] = document.querySelector(\"#id10-0-0\");\n",
              "//# sourceURL=js_2f6ae64430"
            ],
            "text/plain": [
              "<IPython.core.display.Javascript object>"
            ]
          },
          "metadata": {}
        },
        {
          "output_type": "display_data",
          "data": {
            "application/javascript": [
              "window[\"d896a940-19a4-11ec-a3ab-0242ac1c0002\"] = google.colab.output.setActiveOutputArea(window[\"d8963154-19a4-11ec-a3ab-0242ac1c0002\"]);\n",
              "//# sourceURL=js_3a94231979"
            ],
            "text/plain": [
              "<IPython.core.display.Javascript object>"
            ]
          },
          "metadata": {}
        },
        {
          "output_type": "display_data",
          "data": {
            "application/javascript": [
              "window[\"d8af1c96-19a4-11ec-a3ab-0242ac1c0002\"] = google.colab.output.setActiveOutputArea(window[\"d895d254-19a4-11ec-a3ab-0242ac1c0002\"]);\n",
              "//# sourceURL=js_72927352e0"
            ],
            "text/plain": [
              "<IPython.core.display.Javascript object>"
            ]
          },
          "metadata": {}
        },
        {
          "output_type": "display_data",
          "data": {
            "application/javascript": [
              "window[\"d8fda33e-19a4-11ec-a3ab-0242ac1c0002\"] = google.colab.output.getActiveOutputArea();\n",
              "//# sourceURL=js_c06a78916e"
            ],
            "text/plain": [
              "<IPython.core.display.Javascript object>"
            ]
          },
          "metadata": {}
        },
        {
          "output_type": "display_data",
          "data": {
            "application/javascript": [
              "window[\"d8fdff64-19a4-11ec-a3ab-0242ac1c0002\"] = document.querySelector(\"#id10-0-0\");\n",
              "//# sourceURL=js_25c9e29f70"
            ],
            "text/plain": [
              "<IPython.core.display.Javascript object>"
            ]
          },
          "metadata": {}
        },
        {
          "output_type": "display_data",
          "data": {
            "application/javascript": [
              "window[\"d8fe67d8-19a4-11ec-a3ab-0242ac1c0002\"] = google.colab.output.setActiveOutputArea(window[\"d8fdff64-19a4-11ec-a3ab-0242ac1c0002\"]);\n",
              "//# sourceURL=js_c56a3f072c"
            ],
            "text/plain": [
              "<IPython.core.display.Javascript object>"
            ]
          },
          "metadata": {}
        },
        {
          "output_type": "display_data",
          "data": {
            "application/javascript": [
              "window[\"d915a100-19a4-11ec-a3ab-0242ac1c0002\"] = google.colab.output.setActiveOutputArea(window[\"d8fda33e-19a4-11ec-a3ab-0242ac1c0002\"]);\n",
              "//# sourceURL=js_6284fc1b7d"
            ],
            "text/plain": [
              "<IPython.core.display.Javascript object>"
            ]
          },
          "metadata": {}
        },
        {
          "output_type": "display_data",
          "data": {
            "application/javascript": [
              "window[\"d9641074-19a4-11ec-a3ab-0242ac1c0002\"] = google.colab.output.getActiveOutputArea();\n",
              "//# sourceURL=js_4135960827"
            ],
            "text/plain": [
              "<IPython.core.display.Javascript object>"
            ]
          },
          "metadata": {}
        },
        {
          "output_type": "display_data",
          "data": {
            "application/javascript": [
              "window[\"d964569c-19a4-11ec-a3ab-0242ac1c0002\"] = document.querySelector(\"#id10-0-0\");\n",
              "//# sourceURL=js_58a3d23e6c"
            ],
            "text/plain": [
              "<IPython.core.display.Javascript object>"
            ]
          },
          "metadata": {}
        },
        {
          "output_type": "display_data",
          "data": {
            "application/javascript": [
              "window[\"d964986e-19a4-11ec-a3ab-0242ac1c0002\"] = google.colab.output.setActiveOutputArea(window[\"d964569c-19a4-11ec-a3ab-0242ac1c0002\"]);\n",
              "//# sourceURL=js_e401be8ed6"
            ],
            "text/plain": [
              "<IPython.core.display.Javascript object>"
            ]
          },
          "metadata": {}
        },
        {
          "output_type": "display_data",
          "data": {
            "image/png": "[encoded data removed]",
            "text/plain": [
              "<Figure size 432x288 with 1 Axes>"
            ]
          },
          "metadata": {
            "needs_background": "light"
          }
        },
        {
          "output_type": "display_data",
          "data": {
            "application/javascript": [
              "window[\"d97d86e4-19a4-11ec-a3ab-0242ac1c0002\"] = google.colab.output.setActiveOutputArea(window[\"d9641074-19a4-11ec-a3ab-0242ac1c0002\"]);\n",
              "//# sourceURL=js_c4067207ed"
            ],
            "text/plain": [
              "<IPython.core.display.Javascript object>"
            ]
          },
          "metadata": {}
        },
        {
          "output_type": "error",
          "ename": "KeyboardInterrupt",
          "evalue": "ignored",
          "traceback": [
            "\u001b[0;31m---------------------------------------------------------------------------\u001b[0m",
            "\u001b[0;31mKeyboardInterrupt\u001b[0m                         Traceback (most recent call last)",
            "\u001b[0;32m<ipython-input-9-a20c92d507a0>\u001b[0m in \u001b[0;36m<module>\u001b[0;34m()\u001b[0m\n\u001b[1;32m     11\u001b[0m     \u001b[0moutput_grid\u001b[0m\u001b[0;34m.\u001b[0m\u001b[0mclear_cell\u001b[0m\u001b[0;34m(\u001b[0m\u001b[0;34m)\u001b[0m\u001b[0;34m\u001b[0m\u001b[0;34m\u001b[0m\u001b[0m\n\u001b[1;32m     12\u001b[0m     \u001b[0menv\u001b[0m\u001b[0;34m.\u001b[0m\u001b[0mrender\u001b[0m\u001b[0;34m(\u001b[0m\u001b[0;34m)\u001b[0m\u001b[0;34m\u001b[0m\u001b[0;34m\u001b[0m\u001b[0m\n\u001b[0;32m---> 13\u001b[0;31m   \u001b[0mtime\u001b[0m\u001b[0;34m.\u001b[0m\u001b[0msleep\u001b[0m\u001b[0;34m(\u001b[0m\u001b[0;36m0.5\u001b[0m\u001b[0;34m)\u001b[0m\u001b[0;34m\u001b[0m\u001b[0;34m\u001b[0m\u001b[0m\n\u001b[0m\u001b[1;32m     14\u001b[0m   \u001b[0;32mif\u001b[0m \u001b[0;34m(\u001b[0m\u001b[0mposition\u001b[0m \u001b[0;34m==\u001b[0m \u001b[0mterminal_pos\u001b[0m\u001b[0;34m)\u001b[0m\u001b[0;34m.\u001b[0m\u001b[0mall\u001b[0m\u001b[0;34m(\u001b[0m\u001b[0;34m)\u001b[0m\u001b[0;34m:\u001b[0m\u001b[0;34m\u001b[0m\u001b[0;34m\u001b[0m\u001b[0m\n\u001b[1;32m     15\u001b[0m     \u001b[0;32mbreak\u001b[0m\u001b[0;34m\u001b[0m\u001b[0;34m\u001b[0m\u001b[0m\n",
            "\u001b[0;31mKeyboardInterrupt\u001b[0m: "
          ]
        }
      ]
    },
    {
      "cell_type": "code",
      "metadata": {
        "id": "fo2gY7PhrDzP"
      },
      "source": [
        ""
      ],
      "execution_count": null,
      "outputs": []
    }
  ]
}